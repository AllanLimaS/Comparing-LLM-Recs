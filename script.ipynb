{
 "cells": [
  {
   "cell_type": "markdown",
   "metadata": {},
   "source": [
    "## Configuração inicial"
   ]
  },
  {
   "cell_type": "code",
   "execution_count": 1,
   "metadata": {},
   "outputs": [],
   "source": [
    "import pickle\n",
    "import pandas as pd\n",
    "\n",
    "from Utils import templates, utils, recommender"
   ]
  },
  {
   "cell_type": "code",
   "execution_count": 2,
   "metadata": {},
   "outputs": [
    {
     "name": "stdout",
     "output_type": "stream",
     "text": [
      "Quantidade de Usuários: 943\n"
     ]
    }
   ],
   "source": [
    "## Configurações base\n",
    "\n",
    "wandb_key = \"b9d02b504b9d57ae7801f351e79da0162387f010\"\n",
    "\n",
    "config = {\n",
    "    #\"runtime\": \"ROCm llama.cpp v1.23.0\", \n",
    "    #\"runtime\": \"CPU llama.cpp v1.22.2\", # performance ruim\n",
    "    \"runtime\": \"Vulkan llama.cpp v1.23.0\", # melhor opção\n",
    "    \"dataset\": \"ml_100k\",\n",
    "    \"nsu\" : 12,     # número de usuários para filtragem colaborativa\n",
    "    \"nci\" :19,      # número de itens para filtragem colaborativa\n",
    "    \"lenlimit\" :8,  # limite de tamanho para a lista filmes assistidos \n",
    "    \"test_run\" : 5, # define a quantidade de recomendações, '0' para todos\n",
    "    \"obs\": \"testando template de prompt\"\n",
    "}\n",
    "\n",
    "## define o prompt template\n",
    "prompt_template = templates.PROMPT_TEMPLATE_2\n",
    "config.update({\"prompt_template\": prompt_template})\n",
    "\n",
    "## define o prompt para formatar a resposta final \n",
    "#prompt_format = templates.PROMPT_TEMPLATE_ESTRUCTURE\n",
    "prompt_format = \"\"\n",
    "config.update({\"prompt_format\": prompt_format})\n",
    "\n",
    "# load movie lens 100k dataset\n",
    "dataset = utils.read_json(\"Data/ML100K_clean.json\")\n",
    "print(f'Quantidade de Usuários: {len(dataset)}')"
   ]
  },
  {
   "cell_type": "markdown",
   "metadata": {},
   "source": [
    "---------   \n",
    "## Escolha do modelo"
   ]
  },
  {
   "cell_type": "markdown",
   "metadata": {},
   "source": [
    "### gemma-3-4b-it"
   ]
  },
  {
   "cell_type": "code",
   "execution_count": 3,
   "metadata": {},
   "outputs": [],
   "source": [
    "config.update({\n",
    "    \"model_name\" :\"gemma-3-4b-it\",\n",
    "    \"Arch\" : \"gemma3\",\n",
    "    \"Quantization\" : \"Q4_K_M\",\n",
    "    \"Temperature\": 0.1,\n",
    "    \"max_tokens\" : 4096,\n",
    "    \"GPU Offload\": 34,\n",
    "    \"CPU Thread Pool Size\": 6,\n",
    "    \"Evaluation Batch Size\": 512,\n",
    "    \"Flash Attention\": False, # não vi vantagem no uso \n",
    "})"
   ]
  },
  {
   "cell_type": "markdown",
   "metadata": {},
   "source": [
    "### meta-llama-3.1-8b-instruct"
   ]
  },
  {
   "cell_type": "code",
   "execution_count": null,
   "metadata": {},
   "outputs": [],
   "source": [
    "config.update({\n",
    "    \"model_name\" :\"meta-llama-3.1-8b-instruct\",\n",
    "    \"Arch\" : \"llama\",\n",
    "    \"Quantization\" : \"Q4_K_M\",\n",
    "    \"Temperature\": 0.1,\n",
    "    \"max_tokens\" : 4096,\n",
    "    \"GPU Offload\": 34,\n",
    "    \"CPU Thread Pool Size\": 6,\n",
    "    \"Evaluation Batch Size\": 512,\n",
    "    \"Flash Attention\": False,\n",
    "})"
   ]
  },
  {
   "cell_type": "markdown",
   "metadata": {},
   "source": [
    "### llama-3.2-3b-instruct"
   ]
  },
  {
   "cell_type": "code",
   "execution_count": null,
   "metadata": {},
   "outputs": [],
   "source": [
    "config.update({\n",
    "    \"model_name\" :\"llama-3.2-3b-instruct\",\n",
    "    \"Arch\" : \"llama\",\n",
    "    \"Quantization\" : \"Q8_0\",\n",
    "    \"Temperature\": 0.1,\n",
    "    \"max_tokens\" : 4096,\n",
    "    \"GPU Offload\": 34,\n",
    "    \"CPU Thread Pool Size\": 6,\n",
    "    \"Evaluation Batch Size\": 512,\n",
    "    \"Flash Attention\": False,\n",
    "})"
   ]
  },
  {
   "cell_type": "markdown",
   "metadata": {},
   "source": [
    "## Execução"
   ]
  },
  {
   "cell_type": "code",
   "execution_count": 4,
   "metadata": {},
   "outputs": [
    {
     "data": {
      "application/vnd.jupyter.widget-view+json": {
       "model_id": "7c3bdf0c84b640ac92c5bbf121c7e669",
       "version_major": 2,
       "version_minor": 0
      },
      "text/plain": [
       "Processando:   0%|          | 0/5 [00:00<?, ?it/s]"
      ]
     },
     "metadata": {},
     "output_type": "display_data"
    }
   ],
   "source": [
    "result_pkl = recommender.recommendation_workflow(config         = config,\n",
    "                                                 wandb_key      = wandb_key,\n",
    "                                                 dataset        = dataset,\n",
    "                                                 prompt_template= prompt_template,\n",
    "                                                 prompt_format  = prompt_format,\n",
    "                                                 run_wandb      = False)"
   ]
  },
  {
   "cell_type": "markdown",
   "metadata": {},
   "source": [
    "## Resultados"
   ]
  },
  {
   "cell_type": "code",
   "execution_count": 5,
   "metadata": {},
   "outputs": [],
   "source": [
    "#arq_name = 'ml_100k-zs-nir-su12-ci19-llama-3.2-3b-instruct.pkl'\n",
    "\n",
    "with open(f'{result_pkl}', 'rb') as f:\n",
    "    data = pickle.load(f)\n",
    "\n",
    "#data"
   ]
  },
  {
   "cell_type": "code",
   "execution_count": 6,
   "metadata": {},
   "outputs": [
    {
     "data": {
      "application/vnd.microsoft.datawrangler.viewer.v0+json": {
       "columns": [
        {
         "name": "index",
         "rawType": "int64",
         "type": "integer"
        },
        {
         "name": "Candidates",
         "rawType": "object",
         "type": "unknown"
        },
        {
         "name": "Ground Truth",
         "rawType": "object",
         "type": "string"
        },
        {
         "name": "gt_in_candidate_set",
         "rawType": "object",
         "type": "string"
        },
        {
         "name": "Input 3",
         "rawType": "object",
         "type": "string"
        },
        {
         "name": "Predictions 3",
         "rawType": "object",
         "type": "string"
        },
        {
         "name": "Recommendations",
         "rawType": "object",
         "type": "string"
        },
        {
         "name": "Hit",
         "rawType": "int64",
         "type": "integer"
        },
        {
         "name": "Precision",
         "rawType": "float64",
         "type": "float"
        },
        {
         "name": "Recall",
         "rawType": "float64",
         "type": "float"
        },
        {
         "name": "NDCG",
         "rawType": "float64",
         "type": "float"
        }
       ],
       "conversionMethod": "pd.DataFrame",
       "ref": "d7cd43bc-9979-4c2c-9b20-6cdbc093bef9",
       "rows": [
        [
         "0",
         "['Clueless', 'Mrs. Doubtfire', 'Batman', 'Heat', 'Interview with the Vampire', 'Scream', 'Air Force One', 'True Lies', 'E.T. the Extra-Terrestrial', 'Mission: Impossible', 'That Thing You Do!', 'Speed', \"One Flew Over the Cuckoo's Nest\", 'Stand by Me', 'Liar Liar', \"Schindler's List\", 'Heathers', 'Die Hard: With a Vengeance', 'Executive Decision']",
         "Aristocats",
         "no",
         "\n\n    ### CANDIDATE MOVIE SET: Clueless, Mrs. Doubtfire, Batman, Heat, Interview with the Vampire, Scream, Air Force One, True Lies, E.T. the Extra-Terrestrial, Mission: Impossible, That Thing You Do!, Speed, One Flew Over the Cuckoo's Nest, Stand by Me, Liar Liar, Schindler's List, Heathers, Die Hard: With a Vengeance, Executive Decision.\n\n    ### MY WATCHED MOVIES LIST: Postino, Il, Godfather: Part II, Manon of the Spring (Manon des sources), Dead Poets Society, Reservoir Dogs, Jean de Florette, Empire Strikes Back, Monty Python and the Holy Grail.\n\n    ### MY MOVIE PREFERENCES: Based on your movie list, it seems you’re drawn to films with a blend of thoughtful storytelling, strong character development, and often a touch of melancholy or artistic beauty. You appreciate dramas like *Dead Poets Society* and *Il*, alongside crime thrillers such as *Reservoir Dogs* and epic stories like *The Godfather: Part II*. There's also an evident fondness for visually stunning films like *Manon of the Spring* and *Empire Strikes Back*, suggesting you value aesthetic quality..\n\n    ### MY FIVE MOST FEATURED MOVIES: Okay, based on your listed preferences for thoughtful storytelling, strong characters, melancholy beauty, and visual appeal, here’s a list of the top 5 films from your watched movies, in order:\n\n1.  **The Godfather: Part II:** This film perfectly aligns with your appreciation for epic stories and complex character development – a cornerstone of your viewing tastes.\n2.  **Dead Poets Society:** You've clearly enjoyed films that explore themes of intellectualism, personal struggle, and inspiring moments, as seen in *Dead Poets Society*.\n3.  **Il:** This film’s focus on character relationships and emotional depth strongly matches your preference for thoughtful storytelling.\n4.  **Manon of the Spring:** Your enjoyment of visually stunning films is reflected here, alongside its artistic beauty and melancholic tone.\n5.  **Postino:** A romantic drama with strong characters and a contemplative mood fits well within your preferred cinematic style.\n\nDo you want to explore any of these films in more detail, or perhaps discuss why I made this selection?.\n\n    ### INSTRUCTIONS:\n    Recommend exactly **10 movies** from the \"Candidate Movie Set\" that are most similar to my \"Five Most Featured Movies\".  \n    The output must be **STRICTLY formatted** as follows:\n\n    1. Movie Title  \n    2. Movie Title  \n    3. Movie Title  \n    4. Movie Title  \n    5. Movie Title  \n    6. Movie Title  \n    7. Movie Title  \n    8. Movie Title  \n    9. Movie Title  \n    10. Movie Title  \n\n    Do not include any extra text before or after the list \n    \n    ### QUESTION:  \n    What are your top 10 movie recommendations?  \n\n    ### ANSWER:\n",
         "1.  Mrs. Doubtfire\n2.  Stand by Me\n3.  One Flew Over the Cuckoo’s Nest\n4.  E.T. the Extra-Terrestrial\n5.  Interview with the Vampire\n6.  Heathers\n7.  Liar Liar\n8.  Schindler's List\n9.  Clueless\n10. Air Force One",
         "",
         "0",
         "0.0",
         "0.0",
         "0.0"
        ],
        [
         "1",
         "['Lone Star', 'Courage Under Fire', 'Sleepers', 'Everyone Says I Love You', 'Big Night', 'Cape Fear', 'River Wild', 'Game', 'Twelve Monkeys', 'That Thing You Do!', 'Trainspotting', 'Chasing Amy', 'Conspiracy Theory', 'Independence Day (ID4)', 'Murder at 1600', 'Rock', 'Primal Fear', 'Mission: Impossible', 'Usual Suspects']",
         "River Wild",
         "yes",
         "\n\n    ### CANDIDATE MOVIE SET: Lone Star, Courage Under Fire, Sleepers, Everyone Says I Love You, Big Night, Cape Fear, River Wild, Game, Twelve Monkeys, That Thing You Do!, Trainspotting, Chasing Amy, Conspiracy Theory, Independence Day (ID4), Murder at 1600, Rock, Primal Fear, Mission: Impossible, Usual Suspects.\n\n    ### MY WATCHED MOVIES LIST: Rosewood, In & Out, Midnight in the Garden of Good and Evil, Scream, Devil's Advocate, Ice Storm, Contact, English Patient.\n\n    ### MY MOVIE PREFERENCES: Based on your movie list – *Rosewood*, *In & Out*, *Midnight in the Garden of Good and Evil*, *Scream*, *Devil’s Advocate*, *Ice Storm*, *Contact*, and *The English Patient* – it seems you appreciate movies with a blend of **mystery, suspense, character-driven stories, and potentially historical or atmospheric elements.** \n\nYou seem drawn to films that explore darker themes, psychological complexities, and often have a strong sense of place or time. The inclusion of thrillers like *Scream* alongside dramas like *The English Patient* suggests you enjoy movies with varying levels of intensity and emotional depth..\n\n    ### MY FIVE MOST FEATURED MOVIES: Okay, based on your listed preferences for mystery, suspense, character-driven stories, and atmospheric elements, here’s a list of the five most relevant films from your watched movies:\n\n1.  **Midnight in the Garden of Good and Evil:** This film perfectly aligns with your appreciation for atmosphere, a compelling central mystery, and strong character development set within a specific time and place (Savannah, Georgia).\n2.  **Scream:** As you noted, you enjoy thrillers, and *Scream* delivers on suspense, mystery, and a focus on psychological elements.\n3.  **Ice Storm:** This film leans heavily into the \"darker themes\" and “psychological complexities” that seem to resonate with your taste, alongside its atmospheric setting.\n4.  **Devil’s Advocate:** The exploration of moral dilemmas and psychological tension fits well within your preference for character-driven stories with a suspenseful element.\n5.  **Contact:** This film combines elements of mystery (the search for extraterrestrial life) with a strong focus on the protagonist's journey and intellectual challenges, aligning with your interest in thought-provoking narratives.\n\nDo you want me to elaborate on why I chose these films or perhaps suggest some similar movies based on this selection?.\n\n    ### INSTRUCTIONS:\n    Recommend exactly **10 movies** from the \"Candidate Movie Set\" that are most similar to my \"Five Most Featured Movies\".  \n    The output must be **STRICTLY formatted** as follows:\n\n    1. Movie Title  \n    2. Movie Title  \n    3. Movie Title  \n    4. Movie Title  \n    5. Movie Title  \n    6. Movie Title  \n    7. Movie Title  \n    8. Movie Title  \n    9. Movie Title  \n    10. Movie Title  \n\n    Do not include any extra text before or after the list \n    \n    ### QUESTION:  \n    What are your top 10 movie recommendations?  \n\n    ### ANSWER:\n",
         "1.  Lone Star\n2.  Sleepers\n3.  Cape Fear\n4.  River Wild\n5.  Game\n6.  Twelve Monkeys\n7.  Chasing Amy\n8.  Conspiracy Theory\n9.  Trainspotting\n10. Murder at 1600",
         "",
         "1",
         "0.1",
         "1.0",
         "0.3562071871080222"
        ],
        [
         "2",
         "['Titanic', 'George of the Jungle', 'Full Monty', 'English Patient', 'Evita', 'Seven Years in Tibet', 'Apt Pupil', 'Rosewood', 'Rainmaker', \"Eve's Bayou\", 'Amistad', 'Money Talks', 'In & Out', 'Volcano', 'Peacemaker', 'I Know What You Did Last Summer', 'Kull the Conqueror', 'Saint', 'Ice Storm']",
         "Paradise Lost: The Child Murders at Robin Hood Hills",
         "no",
         "\n\n    ### CANDIDATE MOVIE SET: Titanic, George of the Jungle, Full Monty, English Patient, Evita, Seven Years in Tibet, Apt Pupil, Rosewood, Rainmaker, Eve's Bayou, Amistad, Money Talks, In & Out, Volcano, Peacemaker, I Know What You Did Last Summer, Kull the Conqueror, Saint, Ice Storm.\n\n    ### MY WATCHED MOVIES LIST: Deconstructing Harry, Ulee's Gold, House of Yes, Chasing Amy, Apostle, Game, L.A. Confidential, Air Force One.\n\n    ### MY MOVIE PREFERENCES: Based on your movie list – *Deconstructing Harry*, *Ulee’s Gold*, *House of Yes*, *Chasing Amy*, *Apostle*, *Game*, *L.A. Confidential*, and *Air Force One* – it seems you are drawn to character-driven stories with strong emotional impact. You appreciate films that explore complex human relationships, often dealing with themes of struggle, redemption, and sometimes darker aspects of society (as seen in *Apostle* and *L.A. Confidential*). There’s also an interest in independent or character-focused dramas like *Ulee's Gold*, *Chasing Amy*, and *Deconstructing Harry*. \n\nEssentially, you value movies that prioritize substance over spectacle and offer a thoughtful look at the human condition..\n\n    ### MY FIVE MOST FEATURED MOVIES: Okay, based on your stated preferences for character-driven stories with emotional impact, exploring struggle, redemption, and a focus on substance over spectacle, here’s a list of the five most relevant films from your watched movies list:\n\n1.  *Ulee's Gold*: This film is almost perfectly aligned with your preference for emotionally resonant dramas about struggle and redemption.\n2.  *Deconstructing Harry*: A character-focused exploration of identity and relationships fits directly within your stated interests.\n3.  *Chasing Amy*: As a character-driven romantic drama, it aligns well with your appreciation for films that delve into complex human connections.\n4.  *L.A. Confidential*: The neo-noir crime drama’s focus on corruption and morally ambiguous characters matches your interest in darker aspects of society.\n5.  *Game*: This film explores themes of obsession and the dark side of human relationships, aligning with your preference for complex character studies.\n\nDo you want me to elaborate on why I chose these films or perhaps suggest some similar titles?.\n\n    ### INSTRUCTIONS:\n    Recommend exactly **10 movies** from the \"Candidate Movie Set\" that are most similar to my \"Five Most Featured Movies\".  \n    The output must be **STRICTLY formatted** as follows:\n\n    1. Movie Title  \n    2. Movie Title  \n    3. Movie Title  \n    4. Movie Title  \n    5. Movie Title  \n    6. Movie Title  \n    7. Movie Title  \n    8. Movie Title  \n    9. Movie Title  \n    10. Movie Title  \n\n    Do not include any extra text before or after the list \n    \n    ### QUESTION:  \n    What are your top 10 movie recommendations?  \n\n    ### ANSWER:\n",
         "1.  Ulee's Gold\n2.  Deconstructing Harry\n3.  Chasing Amy\n4.  L.A. Confidential\n5.  Seven Years in Tibet\n6.  Eve’s Bayou\n7.  Rainmaker\n8.  Full Monty\n9.  Rosewood\n10. Apostle",
         "",
         "0",
         "0.0",
         "0.0",
         "0.0"
        ],
        [
         "3",
         "['G.I. Jane', 'Game', 'I Know What You Did Last Summer', \"Devil's Advocate\", 'Murder at 1600', 'Money Talks', 'Evita', 'English Patient', 'Saint', 'L.A. Confidential', 'Kiss the Girls', 'Edge', 'Volcano', 'U Turn', \"Dante's Peak\", 'Full Monty', 'Chasing Amy', 'Love Jones', 'Kull the Conqueror']",
         "Seven (Se7en)",
         "no",
         "\n\n    ### CANDIDATE MOVIE SET: G.I. Jane, Game, I Know What You Did Last Summer, Devil's Advocate, Murder at 1600, Money Talks, Evita, English Patient, Saint, L.A. Confidential, Kiss the Girls, Edge, Volcano, U Turn, Dante's Peak, Full Monty, Chasing Amy, Love Jones, Kull the Conqueror.\n\n    ### MY WATCHED MOVIES LIST: Cop Land, Desperate Measures, Ulee's Gold, Starship Troopers, Conspiracy Theory, Air Force One, Scream, Contact.\n\n    ### MY MOVIE PREFERENCES: Based on your movie list, it seems you’re drawn to films with strong character stories and realistic portrayals of difficult situations – particularly those involving work or personal struggles. You also appreciate a blend of genres, enjoying crime dramas like *Cop Land* and *Scream*, as well as more character-driven narratives such as *Ulee's Gold* and *Desperate Measures*. There’s an interest in thought-provoking themes (like *Contact*) and action/sci-fi elements (*Starship Troopers*, *Air Force One*) – but the core of your choices leans towards emotionally resonant stories..\n\n    ### MY FIVE MOST FEATURED MOVIES: Okay, based on your stated preferences for character-driven stories with realistic struggles and a blend of genres, here’s a list of the top 5 films from your watched movies list, prioritizing those that align most closely with what you seem to enjoy:\n\n1.  **Ulee's Gold:** This film is almost entirely focused on a deeply personal and emotionally resonant story about a man confronting his past and reconnecting with his estranged son. It perfectly matches your preference for character-driven narratives.\n2.  **Cop Land:** A crime drama with strong characters and realistic portrayals of moral dilemmas, aligning with your appreciation for films like *Cop Land*.\n3.  **Desperate Measures:** This film combines elements of a crime thriller with personal struggles, fitting within your interest in complex situations and character development.\n4.  **Contact:** Your preference for thought-provoking themes is well represented by this movie which explores science, faith, and the human condition.\n5.  **Starship Troopers:** While an action/sci-fi film, it still contains strong characters and a somewhat realistic (though stylized) depiction of conflict, satisfying your desire for a blend of genres.\n\nWould you like me to elaborate on why I chose these films or perhaps suggest some similar movies based on this selection?.\n\n    ### INSTRUCTIONS:\n    Recommend exactly **10 movies** from the \"Candidate Movie Set\" that are most similar to my \"Five Most Featured Movies\".  \n    The output must be **STRICTLY formatted** as follows:\n\n    1. Movie Title  \n    2. Movie Title  \n    3. Movie Title  \n    4. Movie Title  \n    5. Movie Title  \n    6. Movie Title  \n    7. Movie Title  \n    8. Movie Title  \n    9. Movie Title  \n    10. Movie Title  \n\n    Do not include any extra text before or after the list \n    \n    ### QUESTION:  \n    What are your top 10 movie recommendations?  \n\n    ### ANSWER:\n",
         "1. Ulee’s Gold\n2. Cop Land\n3. Desperate Measures\n4. English Patient\n5. Devil's Advocate\n6. L.A. Confidential\n7. Saint\n8. Money Talks\n9. Volcano\n10. Evita",
         "",
         "0",
         "0.0",
         "0.0",
         "0.0"
        ],
        [
         "4",
         "['Scream', 'Terminator', 'Usual Suspects', 'Ace Ventura: Pet Detective', 'Conan the Barbarian', 'Seven (Se7en)', 'Apollo 13', 'Raising Arizona', 'Terminator 2: Judgment Day', 'Stand by Me', 'Braveheart', 'Pulp Fiction', 'Chasing Amy', 'Groundhog Day', 'Lion King', 'Shawshank Redemption', 'Die Hard: With a Vengeance', 'Get Shorty', 'Cape Fear']",
         "Beverly Hills Cop III",
         "no",
         "\n\n    ### CANDIDATE MOVIE SET: Scream, Terminator, Usual Suspects, Ace Ventura: Pet Detective, Conan the Barbarian, Seven (Se7en), Apollo 13, Raising Arizona, Terminator 2: Judgment Day, Stand by Me, Braveheart, Pulp Fiction, Chasing Amy, Groundhog Day, Lion King, Shawshank Redemption, Die Hard: With a Vengeance, Get Shorty, Cape Fear.\n\n    ### MY WATCHED MOVIES LIST: Fifth Element, Men in Black, Mission: Impossible, Sudden Death, Independence Day (ID4), Jackie Chan's First Strike, Star Trek: First Contact, unknown.\n\n    ### MY MOVIE PREFERENCES: Based on your movie list, it seems you’re drawn to action-packed films with a blend of science fiction and adventure. Specifically, you enjoy big-budget spectacle like *Independence Day* and *The Fifth Element*, alongside more grounded action sequences seen in *Men in Black*, *Mission: Impossible*, and *Jackie Chan's First Strike*. You also appreciate sci-fi narratives as demonstrated by *Star Trek: First Contact*..\n\n    ### MY FIVE MOST FEATURED MOVIES: Okay, based on your listed movies and stated preferences for action, spectacle, sci-fi adventure, here’s a list of the top 5 most relevant films:\n\n1.  *Independence Day (ID4)* – You clearly enjoy big-budget spectacles and this film embodies that perfectly.\n2.  *The Fifth Element* – This aligns strongly with your interest in science fiction and large-scale action.\n3.  *Mission: Impossible* – Your preference for grounded action sequences is well represented here.\n4.  *Men in Black* - Similar to Mission: Impossible, this film offers a blend of action and sci-fi that you seem to appreciate.\n5.  *Star Trek: First Contact* – This fits your interest in science fiction narratives..\n\n    ### INSTRUCTIONS:\n    Recommend exactly **10 movies** from the \"Candidate Movie Set\" that are most similar to my \"Five Most Featured Movies\".  \n    The output must be **STRICTLY formatted** as follows:\n\n    1. Movie Title  \n    2. Movie Title  \n    3. Movie Title  \n    4. Movie Title  \n    5. Movie Title  \n    6. Movie Title  \n    7. Movie Title  \n    8. Movie Title  \n    9. Movie Title  \n    10. Movie Title  \n\n    Do not include any extra text before or after the list \n    \n    ### QUESTION:  \n    What are your top 10 movie recommendations?  \n\n    ### ANSWER:\n",
         "1. Independence Day (ID4)\n2. The Fifth Element\n3. Mission: Impossible\n4. Men in Black\n5. Star Trek: First Contact\n6. Terminator 2: Judgment Day\n7. Apollo 13\n8. Die Hard: With a Vengeance\n9. Ace Ventura: Pet Detective\n10. Raise Arizona",
         "",
         "0",
         "0.0",
         "0.0",
         "0.0"
        ]
       ],
       "shape": {
        "columns": 10,
        "rows": 5
       }
      },
      "text/html": [
       "<div>\n",
       "<style scoped>\n",
       "    .dataframe tbody tr th:only-of-type {\n",
       "        vertical-align: middle;\n",
       "    }\n",
       "\n",
       "    .dataframe tbody tr th {\n",
       "        vertical-align: top;\n",
       "    }\n",
       "\n",
       "    .dataframe thead th {\n",
       "        text-align: right;\n",
       "    }\n",
       "</style>\n",
       "<table border=\"1\" class=\"dataframe\">\n",
       "  <thead>\n",
       "    <tr style=\"text-align: right;\">\n",
       "      <th></th>\n",
       "      <th>Candidates</th>\n",
       "      <th>Ground Truth</th>\n",
       "      <th>gt_in_candidate_set</th>\n",
       "      <th>Input 3</th>\n",
       "      <th>Predictions 3</th>\n",
       "      <th>Recommendations</th>\n",
       "      <th>Hit</th>\n",
       "      <th>Precision</th>\n",
       "      <th>Recall</th>\n",
       "      <th>NDCG</th>\n",
       "    </tr>\n",
       "  </thead>\n",
       "  <tbody>\n",
       "    <tr>\n",
       "      <th>0</th>\n",
       "      <td>[Clueless, Mrs. Doubtfire, Batman, Heat, Inter...</td>\n",
       "      <td>Aristocats</td>\n",
       "      <td>no</td>\n",
       "      <td>\\n\\n    ### CANDIDATE MOVIE SET: Clueless, Mrs...</td>\n",
       "      <td>1.  Mrs. Doubtfire\\n2.  Stand by Me\\n3.  One F...</td>\n",
       "      <td></td>\n",
       "      <td>0</td>\n",
       "      <td>0.0</td>\n",
       "      <td>0.0</td>\n",
       "      <td>0.000000</td>\n",
       "    </tr>\n",
       "    <tr>\n",
       "      <th>1</th>\n",
       "      <td>[Lone Star, Courage Under Fire, Sleepers, Ever...</td>\n",
       "      <td>River Wild</td>\n",
       "      <td>yes</td>\n",
       "      <td>\\n\\n    ### CANDIDATE MOVIE SET: Lone Star, Co...</td>\n",
       "      <td>1.  Lone Star\\n2.  Sleepers\\n3.  Cape Fear\\n4....</td>\n",
       "      <td></td>\n",
       "      <td>1</td>\n",
       "      <td>0.1</td>\n",
       "      <td>1.0</td>\n",
       "      <td>0.356207</td>\n",
       "    </tr>\n",
       "    <tr>\n",
       "      <th>2</th>\n",
       "      <td>[Titanic, George of the Jungle, Full Monty, En...</td>\n",
       "      <td>Paradise Lost: The Child Murders at Robin Hood...</td>\n",
       "      <td>no</td>\n",
       "      <td>\\n\\n    ### CANDIDATE MOVIE SET: Titanic, Geor...</td>\n",
       "      <td>1.  Ulee's Gold\\n2.  Deconstructing Harry\\n3. ...</td>\n",
       "      <td></td>\n",
       "      <td>0</td>\n",
       "      <td>0.0</td>\n",
       "      <td>0.0</td>\n",
       "      <td>0.000000</td>\n",
       "    </tr>\n",
       "    <tr>\n",
       "      <th>3</th>\n",
       "      <td>[G.I. Jane, Game, I Know What You Did Last Sum...</td>\n",
       "      <td>Seven (Se7en)</td>\n",
       "      <td>no</td>\n",
       "      <td>\\n\\n    ### CANDIDATE MOVIE SET: G.I. Jane, Ga...</td>\n",
       "      <td>1. Ulee’s Gold\\n2. Cop Land\\n3. Desperate Meas...</td>\n",
       "      <td></td>\n",
       "      <td>0</td>\n",
       "      <td>0.0</td>\n",
       "      <td>0.0</td>\n",
       "      <td>0.000000</td>\n",
       "    </tr>\n",
       "    <tr>\n",
       "      <th>4</th>\n",
       "      <td>[Scream, Terminator, Usual Suspects, Ace Ventu...</td>\n",
       "      <td>Beverly Hills Cop III</td>\n",
       "      <td>no</td>\n",
       "      <td>\\n\\n    ### CANDIDATE MOVIE SET: Scream, Termi...</td>\n",
       "      <td>1. Independence Day (ID4)\\n2. The Fifth Elemen...</td>\n",
       "      <td></td>\n",
       "      <td>0</td>\n",
       "      <td>0.0</td>\n",
       "      <td>0.0</td>\n",
       "      <td>0.000000</td>\n",
       "    </tr>\n",
       "  </tbody>\n",
       "</table>\n",
       "</div>"
      ],
      "text/plain": [
       "                                          Candidates  \\\n",
       "0  [Clueless, Mrs. Doubtfire, Batman, Heat, Inter...   \n",
       "1  [Lone Star, Courage Under Fire, Sleepers, Ever...   \n",
       "2  [Titanic, George of the Jungle, Full Monty, En...   \n",
       "3  [G.I. Jane, Game, I Know What You Did Last Sum...   \n",
       "4  [Scream, Terminator, Usual Suspects, Ace Ventu...   \n",
       "\n",
       "                                        Ground Truth gt_in_candidate_set  \\\n",
       "0                                         Aristocats                  no   \n",
       "1                                         River Wild                 yes   \n",
       "2  Paradise Lost: The Child Murders at Robin Hood...                  no   \n",
       "3                                      Seven (Se7en)                  no   \n",
       "4                              Beverly Hills Cop III                  no   \n",
       "\n",
       "                                             Input 3  \\\n",
       "0  \\n\\n    ### CANDIDATE MOVIE SET: Clueless, Mrs...   \n",
       "1  \\n\\n    ### CANDIDATE MOVIE SET: Lone Star, Co...   \n",
       "2  \\n\\n    ### CANDIDATE MOVIE SET: Titanic, Geor...   \n",
       "3  \\n\\n    ### CANDIDATE MOVIE SET: G.I. Jane, Ga...   \n",
       "4  \\n\\n    ### CANDIDATE MOVIE SET: Scream, Termi...   \n",
       "\n",
       "                                       Predictions 3 Recommendations  Hit  \\\n",
       "0  1.  Mrs. Doubtfire\\n2.  Stand by Me\\n3.  One F...                    0   \n",
       "1  1.  Lone Star\\n2.  Sleepers\\n3.  Cape Fear\\n4....                    1   \n",
       "2  1.  Ulee's Gold\\n2.  Deconstructing Harry\\n3. ...                    0   \n",
       "3  1. Ulee’s Gold\\n2. Cop Land\\n3. Desperate Meas...                    0   \n",
       "4  1. Independence Day (ID4)\\n2. The Fifth Elemen...                    0   \n",
       "\n",
       "   Precision  Recall      NDCG  \n",
       "0        0.0     0.0  0.000000  \n",
       "1        0.1     1.0  0.356207  \n",
       "2        0.0     0.0  0.000000  \n",
       "3        0.0     0.0  0.000000  \n",
       "4        0.0     0.0  0.000000  "
      ]
     },
     "execution_count": 6,
     "metadata": {},
     "output_type": "execute_result"
    }
   ],
   "source": [
    "results = []\n",
    "for key, value in data.items():\n",
    "    if isinstance(key, int) and isinstance(value, dict):  # Pegando apenas os experimentos\n",
    "        results.append({\n",
    "            'Candidates': value.get('candidate_set', ''),\n",
    "            'Ground Truth': value.get('ground_truth', ''),\n",
    "            'gt_in_candidate_set': value.get('gt_in_candidate_set', ''),\n",
    "            #'Input 1': value.get('input_1', ''),\n",
    "            #'Predictions 1': value.get('predictions_1', ''),\n",
    "            #'Input 2': value.get('input_2', ''),\n",
    "            #'Predictions 2': value.get('predictions_2', ''),\n",
    "            'Input 3': value.get('input_3', ''),\n",
    "            'Predictions 3': value.get('predictions_3', ''),\n",
    "            'Recommendations': value.get('recommendations', ''),\n",
    "            'Hit': value.get('hit', ''),\n",
    "            'Precision': value.get('precision', ''),\n",
    "            'Recall': value.get('recall', ''),\n",
    "            'NDCG': value.get('ndcg', '')\n",
    "        })\n",
    "\n",
    "df_results = pd.DataFrame(results)\n",
    "\n",
    "df_results\n"
   ]
  },
  {
   "cell_type": "code",
   "execution_count": null,
   "metadata": {},
   "outputs": [],
   "source": [
    "df_results['Predictions 3'][0]"
   ]
  }
 ],
 "metadata": {
  "kernelspec": {
   "display_name": ".venv",
   "language": "python",
   "name": "python3"
  },
  "language_info": {
   "codemirror_mode": {
    "name": "ipython",
    "version": 3
   },
   "file_extension": ".py",
   "mimetype": "text/x-python",
   "name": "python",
   "nbconvert_exporter": "python",
   "pygments_lexer": "ipython3",
   "version": "3.12.3"
  }
 },
 "nbformat": 4,
 "nbformat_minor": 2
}
