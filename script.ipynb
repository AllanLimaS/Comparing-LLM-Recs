{
 "cells": [
  {
   "cell_type": "markdown",
   "metadata": {},
   "source": [
    "## Configuração inicial"
   ]
  },
  {
   "cell_type": "code",
   "execution_count": 1,
   "metadata": {},
   "outputs": [],
   "source": [
    "import pickle\n",
    "import pandas as pd\n",
    "\n",
    "from Utils import templates, utils, recommender"
   ]
  },
  {
   "cell_type": "code",
   "execution_count": null,
   "metadata": {},
   "outputs": [
    {
     "name": "stdout",
     "output_type": "stream",
     "text": [
      "Quantidade de Usuários: 943\n"
     ]
    }
   ],
   "source": [
    "## Configurações base\n",
    "\n",
    "wandb_key = \"b9d02b504b9d57ae7801f351e79da0162387f010\"\n",
    "\n",
    "config = {\n",
    "    #\"runtime\": \"ROCm llama.cpp v1.23.0\", \n",
    "    #\"runtime\": \"CPU llama.cpp v1.22.2\", # performance ruim\n",
    "    \"LLM_runtime\": \"Vulkan llama.cpp v1.23.0\", # melhor opção\n",
    "    \"dataset\": \"ml_100k\",\n",
    "    \"nsu\" : 18,     # número de usuários para filtragem colaborativa    | Default :12\n",
    "    \"nci\" :24,      # número de itens para filtragem colaborativa       | Default :19\n",
    "    \"lenlimit\" : 24,  # limite de tamanho para a lista filmes assistidos  | Default : 8 | fazer o teste com o numero maximo de filmes \n",
    "    \"test_run\" : 20, # define a quantidade de recomendações, '0' para todos\n",
    "    \"obs\": \"nada\"\n",
    "}\n",
    "\n",
    "## define o prompt template\n",
    "prompt_template = templates.PROMPT_TEMPLATE_2\n",
    "config.update({\"prompt_template\": prompt_template})\n",
    "\n",
    "## define o prompt para formatar a resposta final \n",
    "#prompt_format = templates.PROMPT_TEMPLATE_ESTRUCTURE\n",
    "prompt_format = \"\" # para não utilizar \n",
    "config.update({\"prompt_format\": prompt_format})\n",
    "\n",
    "# load movie lens 100k dataset\n",
    "dataset = utils.read_json(\"Data/ML100K_clean.json\")\n",
    "print(f'Quantidade de Usuários: {len(dataset)}')"
   ]
  },
  {
   "cell_type": "markdown",
   "metadata": {},
   "source": [
    "---------   \n",
    "## Escolha do modelo"
   ]
  },
  {
   "cell_type": "markdown",
   "metadata": {},
   "source": [
    "### gemma-3-4b-it"
   ]
  },
  {
   "cell_type": "code",
   "execution_count": 3,
   "metadata": {},
   "outputs": [],
   "source": [
    "config.update({\n",
    "    \"model_name\" :\"gemma-3-4b-it\",\n",
    "    \"Arch\" : \"gemma3\",\n",
    "    \"Quantization\" : \"Q4_K_M\",\n",
    "    \"Temperature\": 0.1,\n",
    "    \"max_tokens\" : -1,  # Default : 4096\n",
    "    \"GPU Offload\": 34,\n",
    "    \"CPU Thread Pool Size\": 6,\n",
    "    \"Evaluation Batch Size\": 512,\n",
    "    \"Flash Attention\": False, # não vi vantagem no uso \n",
    "})"
   ]
  },
  {
   "cell_type": "markdown",
   "metadata": {},
   "source": [
    "### meta-llama-3.1-8b-instruct"
   ]
  },
  {
   "cell_type": "code",
   "execution_count": null,
   "metadata": {},
   "outputs": [],
   "source": [
    "config.update({\n",
    "    \"model_name\" :\"meta-llama-3.1-8b-instruct\",\n",
    "    \"Arch\" : \"llama\",\n",
    "    \"Quantization\" : \"Q4_K_M\",\n",
    "    \"Temperature\": 0.1,\n",
    "    \"max_tokens\" : 4096,\n",
    "    \"GPU Offload\": 34,\n",
    "    \"CPU Thread Pool Size\": 6,\n",
    "    \"Evaluation Batch Size\": 512,\n",
    "    \"Flash Attention\": False,\n",
    "})"
   ]
  },
  {
   "cell_type": "markdown",
   "metadata": {},
   "source": [
    "### llama-3.2-3b-instruct"
   ]
  },
  {
   "cell_type": "code",
   "execution_count": null,
   "metadata": {},
   "outputs": [],
   "source": [
    "config.update({\n",
    "    \"model_name\" :\"llama-3.2-3b-instruct\",\n",
    "    \"Arch\" : \"llama\",\n",
    "    \"Quantization\" : \"Q8_0\",\n",
    "    \"Temperature\": 0,\n",
    "    \"max_tokens\" : -1, #Default :4096\n",
    "    \"GPU Offload\": 34,\n",
    "    \"CPU Thread Pool Size\": 6,\n",
    "    \"Evaluation Batch Size\": 512,\n",
    "    \"Flash Attention\": False,\n",
    "})"
   ]
  },
  {
   "cell_type": "code",
   "execution_count": null,
   "metadata": {},
   "outputs": [],
   "source": [
    "# retorna apenas o usuários que tem o gt no candidatos.\n",
    "# implementar sobre o pipeline do projeto \n",
    "\n",
    "def get_candidate_ids_list(data, id_list, user_matrix_sim, num_u, num_i):\n",
    "    cand_ids = []\n",
    "    for i in id_list:\n",
    "        watched_movies = data[i][0].split(' | ')\n",
    "        candidate_items = utils.sort_user_filtering_items(data, watched_movies, user_matrix_sim[i], num_u, num_i)\n",
    "        if data[i][-1] in candidate_items:\n",
    "            cand_ids.append(i)\n",
    "    return cand_ids"
   ]
  },
  {
   "cell_type": "code",
   "execution_count": null,
   "metadata": {},
   "outputs": [],
   "source": [
    "id_list = list(range(0, len(dataset)))\n",
    "#assert(len(id_list) == 943) # aqui é verificado se a lista possue exatamente essa quantidade\n",
    "\n",
    "# Building indexes and similarity matrices for users and movies.\n",
    "movie_idx = utils.build_moviename_index_dict(dataset)\n",
    "user_sim_matrix = utils.build_user_similarity_matrix(dataset, movie_idx)\n",
    "\n",
    "\n",
    "# para fazer a filtragem sobre os filmes \n",
    "#pop_dict = utils.build_movie_popularity_dict(dataset) \n",
    "#item_sim_matrix = utils.build_item_similarity_matrix(dataset)"
   ]
  },
  {
   "cell_type": "code",
   "execution_count": null,
   "metadata": {},
   "outputs": [],
   "source": []
  },
  {
   "cell_type": "markdown",
   "metadata": {},
   "source": [
    "## Execução"
   ]
  },
  {
   "cell_type": "code",
   "execution_count": 4,
   "metadata": {},
   "outputs": [
    {
     "data": {
      "application/vnd.jupyter.widget-view+json": {
       "model_id": "9c496a528fc74598831142b731b50716",
       "version_major": 2,
       "version_minor": 0
      },
      "text/plain": [
       "Processando:   0%|          | 0/20 [00:00<?, ?it/s]"
      ]
     },
     "metadata": {},
     "output_type": "display_data"
    },
    {
     "name": "stdout",
     "output_type": "stream",
     "text": [
      "\n",
      "\n",
      "teste : 8\n",
      "GT: Casablanca\n",
      "Predictions: 1. Braveheart\n",
      "2. Schindler’s List\n",
      "3. Chinatown\n",
      "4. Amadeus\n",
      "5. Casablanca\n",
      "6. Vertigo\n",
      "7. Fargo\n",
      "8. Pulp Fiction\n",
      "9. Taxi Driver\n",
      "10. Citizen Kane\n",
      "Query: 1. Braveheart\n",
      "2. Schindler’s List\n",
      "3. Chinatown\n",
      "4. Amadeus\n",
      "5. Casablanca\n",
      "6. Vertigo\n",
      "7. Fargo\n",
      "8. Pulp Fiction\n",
      "9. Taxi Driver\n",
      "10. Citizen Kane\n",
      "Relevants: Casablanca\n",
      "recommendations_set: {'AMADEUS', 'CITIZEN KANE', 'TAXI DRIVER', 'SCHINDLER’S LIST', 'FARGO', 'CHINATOWN', 'BRAVEHEART', 'PULP FICTION', 'VERTIGO', 'CASABLANCA'}\n",
      "ground_truth_set: {'CASABLANCA'}\n",
      "recommendations_set: {'AMADEUS', 'CITIZEN KANE', 'TAXI DRIVER', 'SCHINDLER’S LIST', 'FARGO', 'CHINATOWN', 'BRAVEHEART', 'PULP FICTION', 'VERTIGO', 'CASABLANCA'}\n",
      "ground_truth_set: {'CASABLANCA'}\n",
      "Metrics for @5 and @10: {'hit@5': 0, 'precision@5': 0.0, 'recall@5': 0.0, 'ndcg@5': 0.0, 'hit@10': 1, 'precision@10': 0.1, 'recall@10': 1.0, 'ndcg@10': 0.2890648263178879}\n",
      "\n",
      "\n",
      "teste : 11\n",
      "GT: Sleepless in Seattle\n",
      "Predictions: 1.  The Usual Suspects\n",
      "2.  Die Hard\n",
      "3.  Alien\n",
      "4.  Cape Fear\n",
      "5.  Fargo\n",
      "6.  Stand by Me\n",
      "7.  Mrs. Doubtfire\n",
      "8.  Contact\n",
      "9.  Forrest Gump\n",
      "10. Braveheart\n",
      "Query: 1.  The Usual Suspects\n",
      "2.  Die Hard\n",
      "3.  Alien\n",
      "4.  Cape Fear\n",
      "5.  Fargo\n",
      "6.  Stand by Me\n",
      "7.  Mrs. Doubtfire\n",
      "8.  Contact\n",
      "9.  Forrest Gump\n",
      "10. Braveheart\n",
      "Relevants: Sleepless in Seattle\n",
      "recommendations_set: {'STAND BY ME', 'FORREST GUMP', 'THE USUAL SUSPECTS', 'CONTACT', 'DIE HARD', 'ALIEN', 'MRS. DOUBTFIRE', 'FARGO', 'CAPE FEAR', 'BRAVEHEART'}\n",
      "ground_truth_set: {'SLEEPLESS IN SEATTLE'}\n",
      "recommendations_set: {'STAND BY ME', 'FORREST GUMP', 'THE USUAL SUSPECTS', 'CONTACT', 'DIE HARD', 'ALIEN', 'MRS. DOUBTFIRE', 'FARGO', 'CAPE FEAR', 'BRAVEHEART'}\n",
      "ground_truth_set: {'SLEEPLESS IN SEATTLE'}\n",
      "Metrics for @5 and @10: {'hit@5': 0, 'precision@5': 0.0, 'recall@5': 0.0, 'ndcg@5': 0.0, 'hit@10': 0, 'precision@10': 0.0, 'recall@10': 0.0, 'ndcg@10': 0.0}\n",
      "\n",
      "\n",
      "teste : 16\n",
      "GT: Courage Under Fire\n",
      "Predictions: 1.  Dead Man Walking\n",
      "2.  Leaving Las Vegas\n",
      "3.  Twelve Monkeys\n",
      "4.  Trainspotting\n",
      "5.  Air Force One\n",
      "6.  L.A. Confidential\n",
      "7.  Chasing Amy\n",
      "8.  Emma\n",
      "9.  Time to Kill\n",
      "10. Ransom\n",
      "Query: 1.  Dead Man Walking\n",
      "2.  Leaving Las Vegas\n",
      "3.  Twelve Monkeys\n",
      "4.  Trainspotting\n",
      "5.  Air Force One\n",
      "6.  L.A. Confidential\n",
      "7.  Chasing Amy\n",
      "8.  Emma\n",
      "9.  Time to Kill\n",
      "10. Ransom\n",
      "Relevants: Courage Under Fire\n",
      "recommendations_set: {'DEAD MAN WALKING', 'TWELVE MONKEYS', 'RANSOM', 'LEAVING LAS VEGAS', 'L.A. CONFIDENTIAL', 'EMMA', 'CHASING AMY', 'AIR FORCE ONE', 'TRAINSPOTTING', 'TIME TO KILL'}\n",
      "ground_truth_set: {'COURAGE UNDER FIRE'}\n",
      "recommendations_set: {'DEAD MAN WALKING', 'TWELVE MONKEYS', 'RANSOM', 'LEAVING LAS VEGAS', 'L.A. CONFIDENTIAL', 'EMMA', 'CHASING AMY', 'AIR FORCE ONE', 'TRAINSPOTTING', 'TIME TO KILL'}\n",
      "ground_truth_set: {'COURAGE UNDER FIRE'}\n",
      "Metrics for @5 and @10: {'hit@5': 0, 'precision@5': 0.0, 'recall@5': 0.0, 'ndcg@5': 0.0, 'hit@10': 0, 'precision@10': 0.0, 'recall@10': 0.0, 'ndcg@10': 0.0}\n",
      "\n",
      "\n",
      "teste : 17\n",
      "GT: Shawshank Redemption\n",
      "Predictions: 1.  Silence of the Lambs\n",
      "2.  When Harry Met Sally...\n",
      "3.  One Flew Over the Cuckoo’s Nest\n",
      "4.  North by Northwest\n",
      "5.  To Kill a Mockingbird\n",
      "6.  Cape Fear\n",
      "7.  Rear Window\n",
      "8.  Grifters\n",
      "9.  Lawrence of Arabia\n",
      "10. Manchurian Candidate\n",
      "Query: 1.  Silence of the Lambs\n",
      "2.  When Harry Met Sally...\n",
      "3.  One Flew Over the Cuckoo’s Nest\n",
      "4.  North by Northwest\n",
      "5.  To Kill a Mockingbird\n",
      "6.  Cape Fear\n",
      "7.  Rear Window\n",
      "8.  Grifters\n",
      "9.  Lawrence of Arabia\n",
      "10. Manchurian Candidate\n",
      "Relevants: Shawshank Redemption\n",
      "recommendations_set: {'TO KILL A MOCKINGBIRD', 'REAR WINDOW', 'SILENCE OF THE LAMBS', 'MANCHURIAN CANDIDATE', 'NORTH BY NORTHWEST', 'ONE FLEW OVER THE CUCKOO’S NEST', 'LAWRENCE OF ARABIA', 'WHEN HARRY MET SALLY...', 'CAPE FEAR', 'GRIFTERS'}\n",
      "ground_truth_set: {'SHAWSHANK REDEMPTION'}\n",
      "recommendations_set: {'TO KILL A MOCKINGBIRD', 'REAR WINDOW', 'SILENCE OF THE LAMBS', 'MANCHURIAN CANDIDATE', 'NORTH BY NORTHWEST', 'ONE FLEW OVER THE CUCKOO’S NEST', 'LAWRENCE OF ARABIA', 'WHEN HARRY MET SALLY...', 'CAPE FEAR', 'GRIFTERS'}\n",
      "ground_truth_set: {'SHAWSHANK REDEMPTION'}\n",
      "Metrics for @5 and @10: {'hit@5': 0, 'precision@5': 0.0, 'recall@5': 0.0, 'ndcg@5': 0.0, 'hit@10': 0, 'precision@10': 0.0, 'recall@10': 0.0, 'ndcg@10': 0.0}\n",
      "\n",
      "\n",
      "teste : 19\n",
      "GT: Back to the Future\n",
      "Predictions: 1. Raiders of the Lost Ark\n",
      "2. Indiana Jones and the Last Crusade\n",
      "3. Star Wars\n",
      "4. Beauty and the Beast\n",
      "5. Forrest Gump\n",
      "6. Groundhog Day\n",
      "7. Die Hard\n",
      "8. Aliens\n",
      "9. Independence Day (ID4)\n",
      "10. Back to the Future\n",
      "Query: 1. Raiders of the Lost Ark\n",
      "2. Indiana Jones and the Last Crusade\n",
      "3. Star Wars\n",
      "4. Beauty and the Beast\n",
      "5. Forrest Gump\n",
      "6. Groundhog Day\n",
      "7. Die Hard\n",
      "8. Aliens\n",
      "9. Independence Day (ID4)\n",
      "10. Back to the Future\n",
      "Relevants: Back to the Future\n",
      "recommendations_set: {'GROUNDHOG DAY', 'FORREST GUMP', 'ALIENS', 'BEAUTY AND THE BEAST', 'BACK TO THE FUTURE', 'RAIDERS OF THE LOST ARK', 'STAR WARS', 'INDIANA JONES AND THE LAST CRUSADE', 'DIE HARD', 'INDEPENDENCE DAY (ID4)'}\n",
      "ground_truth_set: {'BACK TO THE FUTURE'}\n",
      "recommendations_set: {'GROUNDHOG DAY', 'FORREST GUMP', 'ALIENS', 'BEAUTY AND THE BEAST', 'BACK TO THE FUTURE', 'RAIDERS OF THE LOST ARK', 'STAR WARS', 'INDIANA JONES AND THE LAST CRUSADE', 'DIE HARD', 'INDEPENDENCE DAY (ID4)'}\n",
      "ground_truth_set: {'BACK TO THE FUTURE'}\n",
      "Metrics for @5 and @10: {'hit@5': 1, 'precision@5': 0.2, 'recall@5': 1.0, 'ndcg@5': 0.38685280723454163, 'hit@10': 1, 'precision@10': 0.1, 'recall@10': 1.0, 'ndcg@10': 0.38685280723454163}\n"
     ]
    }
   ],
   "source": [
    "result_pkl = recommender.recommendation_workflow(config         = config,\n",
    "                                                 wandb_key      = wandb_key,\n",
    "                                                 dataset        = dataset,\n",
    "                                                 prompt_template= prompt_template,\n",
    "                                                 prompt_format  = prompt_format,\n",
    "                                                 run_wandb      = False)"
   ]
  },
  {
   "cell_type": "markdown",
   "metadata": {},
   "source": [
    "## Resultados"
   ]
  },
  {
   "cell_type": "code",
   "execution_count": null,
   "metadata": {},
   "outputs": [],
   "source": [
    "with open(f'{result_pkl}', 'rb') as f:\n",
    "    data = pickle.load(f)"
   ]
  },
  {
   "cell_type": "code",
   "execution_count": null,
   "metadata": {},
   "outputs": [],
   "source": [
    "results = []\n",
    "for key, value in data.items():\n",
    "    if isinstance(key, int) and isinstance(value, dict):  # Pegando apenas os experimentos\n",
    "        results.append({\n",
    "            'Candidates': value.get('candidate_set', ''),\n",
    "            'Ground Truth': value.get('ground_truth', ''),\n",
    "            'gt_in_candidate_set': value.get('gt_in_candidate_set', ''),\n",
    "            #'Input 1': value.get('input_1', ''),\n",
    "            #'Predictions 1': value.get('predictions_1', ''),\n",
    "            #'Input 2': value.get('input_2', ''),\n",
    "            #'Predictions 2': value.get('predictions_2', ''),\n",
    "            'Input 3': value.get('input_3', ''),\n",
    "            'Predictions 3': value.get('predictions_3', ''),\n",
    "            #'Recommendations': value.get('recommendations', ''),\n",
    "            'rec_HitRate@10': value.get('rec_HitRate@10', ''),\n",
    "            #'Precision': value.get('precision', ''),\n",
    "            #'Recall': value.get('recall', ''),\n",
    "            'rec_NDCG@10': value.get('rec_NDCG@10', '')\n",
    "        })\n",
    "\n",
    "df_results = pd.DataFrame(results)\n",
    "\n",
    "df_results"
   ]
  }
 ],
 "metadata": {
  "kernelspec": {
   "display_name": ".venv",
   "language": "python",
   "name": "python3"
  },
  "language_info": {
   "codemirror_mode": {
    "name": "ipython",
    "version": 3
   },
   "file_extension": ".py",
   "mimetype": "text/x-python",
   "name": "python",
   "nbconvert_exporter": "python",
   "pygments_lexer": "ipython3",
   "version": "3.12.3"
  }
 },
 "nbformat": 4,
 "nbformat_minor": 2
}
