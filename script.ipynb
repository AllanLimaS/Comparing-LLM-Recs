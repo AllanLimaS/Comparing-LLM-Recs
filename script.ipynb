{
 "cells": [
  {
   "cell_type": "markdown",
   "metadata": {},
   "source": [
    "## Configuração inicial"
   ]
  },
  {
   "cell_type": "code",
   "execution_count": 1,
   "metadata": {},
   "outputs": [],
   "source": [
    "import pickle\n",
    "import pandas as pd\n",
    "\n",
    "from Utils import templates, utils, recommender"
   ]
  },
  {
   "cell_type": "code",
   "execution_count": null,
   "metadata": {},
   "outputs": [
    {
     "name": "stdout",
     "output_type": "stream",
     "text": [
      "Quantidade de Usuários: 943\n"
     ]
    }
   ],
   "source": [
    "## Configurações base\n",
    "\n",
    "config = {\n",
    "    #\"runtime\": \"ROCm llama.cpp v1.23.0\", \n",
    "    #\"runtime\": \"CPU llama.cpp v1.22.2\", # performance ruim\n",
    "    \"LLM_runtime\": \"Vulkan llama.cpp v1.23.0\", # melhor opção\n",
    "    \"dataset\": \"ml_100k\",\n",
    "    \"nsu\" : 12,     # número de usuários para filtragem colaborativa        | SSBD :12  | Default :18   |            | Best = 19\n",
    "    \"nci\" :19,      # número de itens para filtragem colaborativa           | SSBD :19  | Default :24   | Max : 1682 |\n",
    "    \"lenlimit\" : 8,  # limite de tamanho para a lista filmes assistidos     | SSBD : 8  | Default :24   | Max : 1682 | Best = 8\n",
    "    \"test_run\" : 0, # define a quantidade de recomendações,                 |           | Default :0    | Max : 943 \n",
    "    \"obs\": \"teste prompt3 novo\"\n",
    "}\n",
    "\n",
    "## define o prompt template\n",
    "prompt_template = templates.PROMPT_TEMPLATE_2\n",
    "config.update({\"prompt_template\": prompt_template})\n",
    "\n",
    "## define o prompt para formatar a resposta final \n",
    "#prompt_format = templates.PROMPT_TEMPLATE_ESTRUCTURE\n",
    "prompt_format = \"\" # para não utilizar \n",
    "config.update({\"prompt_format\": prompt_format})\n",
    "\n",
    "# load movie lens 100k dataset\n",
    "dataset = utils.read_json(\"Data/ML100K_clean.json\")\n",
    "print(f'Quantidade de Usuários: {len(dataset)}')"
   ]
  },
  {
   "cell_type": "markdown",
   "metadata": {},
   "source": [
    "---------   \n",
    "## Escolha do modelo"
   ]
  },
  {
   "cell_type": "markdown",
   "metadata": {},
   "source": [
    "### llama 3 finetunado"
   ]
  },
  {
   "cell_type": "code",
   "execution_count": 3,
   "metadata": {},
   "outputs": [],
   "source": [
    "config.update({\n",
    "    \"model_name\" :\"llama3_fn\",\n",
    "    \"Arch\" : \"llama\",\n",
    "    \"Quantization\" : \"Q4_K_M\",\n",
    "    \"Temperature\": 0.0,\n",
    "    \"max_tokens\" : -1,  # Default : 4096\n",
    "    \"GPU Offload\": 34,\n",
    "    \"CPU Thread Pool Size\": 6,\n",
    "    \"Evaluation Batch Size\": 512,\n",
    "    \"Flash Attention\": False, # não vi vantagem no uso \n",
    "})"
   ]
  },
  {
   "cell_type": "markdown",
   "metadata": {},
   "source": [
    "### mistral-7b-instruct-v0.3"
   ]
  },
  {
   "cell_type": "code",
   "execution_count": null,
   "metadata": {},
   "outputs": [],
   "source": [
    "config.update({\n",
    "    \"model_name\" :\"mistral-7b-instruct-v0.3\",\n",
    "    \"Arch\" : \"llama\",\n",
    "    \"Quantization\" : \"Q4_K_M\",\n",
    "    \"Temperature\": 0.1,\n",
    "    \"max_tokens\" : -1,  # Default : 4096\n",
    "    \"GPU Offload\": 34,\n",
    "    \"CPU Thread Pool Size\": 6,\n",
    "    \"Evaluation Batch Size\": 512,\n",
    "    \"Flash Attention\": False, # não vi vantagem no uso \n",
    "})"
   ]
  },
  {
   "cell_type": "markdown",
   "metadata": {},
   "source": [
    "### gemma-3-4b-it"
   ]
  },
  {
   "cell_type": "code",
   "execution_count": null,
   "metadata": {},
   "outputs": [],
   "source": [
    "config.update({\n",
    "    \"model_name\" :\"gemma-3-4b-it\",\n",
    "    \"Arch\" : \"gemma3\",\n",
    "    \"Quantization\" : \"Q4_K_M\",\n",
    "    \"Temperature\": 0.1,\n",
    "    \"max_tokens\" : -1,  # Default : 4096\n",
    "    \"GPU Offload\": 34,\n",
    "    \"CPU Thread Pool Size\": 6,\n",
    "    \"Evaluation Batch Size\": 512,\n",
    "    \"Flash Attention\": False, # não vi vantagem no uso \n",
    "})"
   ]
  },
  {
   "cell_type": "markdown",
   "metadata": {},
   "source": [
    "### meta-llama-3.1-8b-instruct"
   ]
  },
  {
   "cell_type": "code",
   "execution_count": null,
   "metadata": {},
   "outputs": [],
   "source": [
    "config.update({\n",
    "    \"model_name\" :\"meta-llama-3.1-8b-instruct\",\n",
    "    \"Arch\" : \"llama\",\n",
    "    \"Quantization\" : \"Q4_K_M\",\n",
    "    \"Temperature\": 0.1,\n",
    "    \"max_tokens\" : 4096,\n",
    "    \"GPU Offload\": 34,\n",
    "    \"CPU Thread Pool Size\": 6,\n",
    "    \"Evaluation Batch Size\": 512,\n",
    "    \"Flash Attention\": False,\n",
    "})"
   ]
  },
  {
   "cell_type": "markdown",
   "metadata": {},
   "source": [
    "### llama-3.2-3b-instruct"
   ]
  },
  {
   "cell_type": "code",
   "execution_count": null,
   "metadata": {},
   "outputs": [],
   "source": [
    "config.update({\n",
    "    \"model_name\" :\"llama-3.2-3b-instruct\",\n",
    "    \"Arch\" : \"llama\",\n",
    "    \"Quantization\" : \"Q8_0\",\n",
    "    \"Temperature\": 0,\n",
    "    \"max_tokens\" : -1, #Default :4096\n",
    "    \"GPU Offload\": 34,\n",
    "    \"CPU Thread Pool Size\": 6,\n",
    "    \"Evaluation Batch Size\": 512,\n",
    "    \"Flash Attention\": False,\n",
    "})"
   ]
  },
  {
   "cell_type": "code",
   "execution_count": null,
   "metadata": {},
   "outputs": [],
   "source": [
    "# retorna apenas o usuários que tem o gt no candidatos.\n",
    "# implementar sobre o pipeline do projeto \n",
    "\n",
    "def get_candidate_ids_list(data, id_list, user_matrix_sim, num_u, num_i):\n",
    "    cand_ids = []\n",
    "    for i in id_list:\n",
    "        watched_movies = data[i][0].split(' | ')\n",
    "        candidate_items = utils.sort_user_filtering_items(data, watched_movies, user_matrix_sim[i], num_u, num_i)\n",
    "        if data[i][-1] in candidate_items:\n",
    "            cand_ids.append(i)\n",
    "    return cand_ids"
   ]
  },
  {
   "cell_type": "code",
   "execution_count": null,
   "metadata": {},
   "outputs": [],
   "source": [
    "id_list = list(range(0, len(dataset)))\n",
    "#assert(len(id_list) == 943) # aqui é verificado se a lista possue exatamente essa quantidade\n",
    "\n",
    "# Building indexes and similarity matrices for users and movies.\n",
    "movie_idx = utils.build_moviename_index_dict(dataset)\n",
    "user_sim_matrix = utils.build_user_similarity_matrix(dataset, movie_idx)\n",
    "\n",
    "\n",
    "# para fazer a filtragem sobre os filmes \n",
    "#pop_dict = utils.build_movie_popularity_dict(dataset) \n",
    "#item_sim_matrix = utils.build_item_similarity_matrix(dataset)"
   ]
  },
  {
   "cell_type": "code",
   "execution_count": null,
   "metadata": {},
   "outputs": [],
   "source": []
  },
  {
   "cell_type": "markdown",
   "metadata": {},
   "source": [
    "## Execução"
   ]
  },
  {
   "cell_type": "code",
   "execution_count": 4,
   "metadata": {},
   "outputs": [
    {
     "data": {
      "application/vnd.jupyter.widget-view+json": {
       "model_id": "a66b2741c3f84f18875bdbf43e9cf521",
       "version_major": 2,
       "version_minor": 0
      },
      "text/plain": [
       "Processando:   0%|          | 0/943 [00:00<?, ?it/s]"
      ]
     },
     "metadata": {},
     "output_type": "display_data"
    }
   ],
   "source": [
    "result_pkl = recommender.recommendation_workflow(config         = config,\n",
    "                                                 dataset        = dataset,\n",
    "                                                 prompt_template= prompt_template,\n",
    "                                                 prompt_format  = prompt_format)"
   ]
  },
  {
   "cell_type": "markdown",
   "metadata": {},
   "source": [
    "## execução varias configs"
   ]
  },
  {
   "cell_type": "code",
   "execution_count": null,
   "metadata": {},
   "outputs": [
    {
     "name": "stdout",
     "output_type": "stream",
     "text": [
      "Quantidade de Usuários: 943\n",
      "Rodando configuração 0 de 1\n"
     ]
    },
    {
     "data": {
      "application/vnd.jupyter.widget-view+json": {
       "model_id": "7856f8fff5594f97aa7508eafa0c254f",
       "version_major": 2,
       "version_minor": 0
      },
      "text/plain": [
       "Processando:   0%|          | 0/943 [00:00<?, ?it/s]"
      ]
     },
     "metadata": {},
     "output_type": "display_data"
    },
    {
     "name": "stdout",
     "output_type": "stream",
     "text": [
      "Configuração 0 de 1 finalizada\n",
      "Quantidade de Usuários: 943\n",
      "Rodando configuração 0 de 1\n"
     ]
    },
    {
     "data": {
      "application/vnd.jupyter.widget-view+json": {
       "model_id": "38fd81d1d37f43edaaef62d75db2e243",
       "version_major": 2,
       "version_minor": 0
      },
      "text/plain": [
       "Processando:   0%|          | 0/943 [00:00<?, ?it/s]"
      ]
     },
     "metadata": {},
     "output_type": "display_data"
    },
    {
     "name": "stdout",
     "output_type": "stream",
     "text": [
      "Configuração 0 de 1 finalizada\n"
     ]
    }
   ],
   "source": [
    "import pickle\n",
    "import pandas as pd\n",
    "\n",
    "from Utils import templates, utils, recommender\n",
    "\n",
    "## PROMPT 2 \n",
    "\n",
    "config = {}\n",
    "\n",
    "## define o prompt template\n",
    "prompt_template = templates.PROMPT_TEMPLATE_2\n",
    "config.update({\"prompt_template\": prompt_template})\n",
    "\n",
    "## define o prompt para formatar a resposta final \n",
    "#prompt_format = templates.PROMPT_TEMPLATE_ESTRUCTURE\n",
    "prompt_format = \"\" # para não utilizar \n",
    "config.update({\"prompt_format\": prompt_format})\n",
    "\n",
    "# load movie lens 100k dataset\n",
    "dataset = utils.read_json(\"Data/ML100K_clean.json\")\n",
    "print(f'Quantidade de Usuários: {len(dataset)}')\n",
    "\n",
    "config.update({\n",
    "    #\"runtime\": \"ROCm llama.cpp v1.23.0\", \n",
    "    #\"runtime\": \"CPU llama.cpp v1.22.2\", # performance ruim\n",
    "    \"LLM_runtime\": \"Vulkan llama.cpp v1.23.0\", # melhor opção\n",
    "    \"dataset\": \"ml_100k\",\n",
    "    \"nsu\" : 19,     # número de usuários para filtragem colaborativa        | SSBD :12  | Default :18   | \n",
    "    \"nci\" :19,      # número de itens para filtragem colaborativa           | SSBD :19  | Default :24   | Max : 1682\n",
    "    \"lenlimit\" : 8,  # limite de tamanho para a lista filmes assistidos    | SSBD : 8  | Default :24   | Max : 1682\n",
    "    \"test_run\" : 0, # define a quantidade de recomendações,                 |           | Default :0    | Max : 943 \n",
    "    \"obs\": \"testando prompt novo - prompt2\"\n",
    "})\n",
    "\n",
    "config.update({\n",
    "    \"model_name\" :\"gemma-3-4b-it\",\n",
    "    \"Arch\" : \"gemma3\",\n",
    "    \"Quantization\" : \"Q4_K_M\",\n",
    "    \"Temperature\": 0.1,\n",
    "    \"max_tokens\" : -1,  # Default : 4096\n",
    "    \"GPU Offload\": 34,\n",
    "    \"CPU Thread Pool Size\": 6,\n",
    "    \"Evaluation Batch Size\": 512,\n",
    "    \"Flash Attention\": False, # não vi vantagem no uso \n",
    "})\n",
    "\n",
    "config_list = []\n",
    "\n",
    "config1 = config.copy()\n",
    "config_list.append(config1)\n",
    "\n",
    "for i in range(0, len(config_list)):\n",
    "    config = config_list[i]\n",
    "    print(f'Rodando configuração {i} de {len(config_list)}')\n",
    "    try:\n",
    "        result_pkl = recommender.recommendation_workflow(config         = config,\n",
    "                                                         dataset        = dataset,\n",
    "                                                        prompt_template= prompt_template,\n",
    "                                                        prompt_format  = prompt_format)\n",
    "        print(f'Configuração {i} de {len(config_list)} finalizada')\n",
    "    except Exception as e:\n",
    "        print(f'Erro na configuração {i} de {len(config_list)}')\n",
    "        print(e)\n",
    "        continue\n",
    "\n",
    "## PROMPT 3 \n",
    "\n",
    "config = {}\n",
    "\n",
    "## define o prompt template\n",
    "prompt_template = templates.PROMPT_TEMPLATE_3\n",
    "config.update({\"prompt_template\": prompt_template})\n",
    "\n",
    "## define o prompt para formatar a resposta final \n",
    "#prompt_format = templates.PROMPT_TEMPLATE_ESTRUCTURE\n",
    "prompt_format = \"\" # para não utilizar \n",
    "config.update({\"prompt_format\": prompt_format})\n",
    "\n",
    "# load movie lens 100k dataset\n",
    "dataset = utils.read_json(\"Data/ML100K_clean.json\")\n",
    "print(f'Quantidade de Usuários: {len(dataset)}')\n",
    "\n",
    "config.update({\n",
    "    #\"runtime\": \"ROCm llama.cpp v1.23.0\", \n",
    "    #\"runtime\": \"CPU llama.cpp v1.22.2\", # performance ruim\n",
    "    \"LLM_runtime\": \"Vulkan llama.cpp v1.23.0\", # melhor opção\n",
    "    \"dataset\": \"ml_100k\",\n",
    "    \"nsu\" : 12,     # número de usuários para filtragem colaborativa        | SSBD :12  | Default :18   | \n",
    "    \"nci\" :19,      # número de itens para filtragem colaborativa           | SSBD :19  | Default :24   | Max : 1682\n",
    "    \"lenlimit\" : 8,  # limite de tamanho para a lista filmes assistidos    | SSBD : 8  | Default :24   | Max : 1682\n",
    "    \"test_run\" : 0, # define a quantidade de recomendações,                 |           | Default :0    | Max : 943 \n",
    "    \"obs\": \"testando prompt novo - prompt3\"\n",
    "})\n",
    "\n",
    "config.update({\n",
    "    \"model_name\" :\"gemma-3-4b-it\",\n",
    "    \"Arch\" : \"gemma3\",\n",
    "    \"Quantization\" : \"Q4_K_M\",\n",
    "    \"Temperature\": 0.1,\n",
    "    \"max_tokens\" : -1,  # Default : 4096\n",
    "    \"GPU Offload\": 34,\n",
    "    \"CPU Thread Pool Size\": 6,\n",
    "    \"Evaluation Batch Size\": 512,\n",
    "    \"Flash Attention\": False, # não vi vantagem no uso \n",
    "})\n",
    "\n",
    "config_list = []\n",
    "\n",
    "config1 = config.copy()\n",
    "config_list.append(config1)\n",
    "\n",
    "for i in range(0, len(config_list)):\n",
    "    config = config_list[i]\n",
    "    print(f'Rodando configuração {i} de {len(config_list)}')\n",
    "    try:\n",
    "        result_pkl = recommender.recommendation_workflow(config         = config,\n",
    "                                                         dataset        = dataset,\n",
    "                                                        prompt_template= prompt_template,\n",
    "                                                        prompt_format  = prompt_format)\n",
    "        print(f'Configuração {i} de {len(config_list)} finalizada')\n",
    "    except Exception as e:\n",
    "        print(f'Erro na configuração {i} de {len(config_list)}')\n",
    "        print(e)\n",
    "        continue"
   ]
  },
  {
   "cell_type": "code",
   "execution_count": null,
   "metadata": {},
   "outputs": [],
   "source": [
    "for i in range(0, len(config_list)):\n",
    "    config = config_list[i]\n",
    "    print(config)"
   ]
  },
  {
   "cell_type": "markdown",
   "metadata": {},
   "source": [
    "## Resultados"
   ]
  },
  {
   "cell_type": "code",
   "execution_count": null,
   "metadata": {},
   "outputs": [],
   "source": [
    "with open(f'{result_pkl}', 'rb') as f:\n",
    "    data = pickle.load(f)"
   ]
  },
  {
   "cell_type": "code",
   "execution_count": null,
   "metadata": {},
   "outputs": [],
   "source": [
    "results = []\n",
    "for key, value in data.items():\n",
    "    if isinstance(key, int) and isinstance(value, dict):  # Pegando apenas os experimentos\n",
    "        results.append({\n",
    "            'Candidates': value.get('candidate_set', ''),\n",
    "            'Ground Truth': value.get('ground_truth', ''),\n",
    "            'gt_in_candidate_set': value.get('gt_in_candidate_set', ''),\n",
    "            #'Input 1': value.get('input_1', ''),\n",
    "            #'Predictions 1': value.get('predictions_1', ''),\n",
    "            #'Input 2': value.get('input_2', ''),\n",
    "            #'Predictions 2': value.get('predictions_2', ''),\n",
    "            'Input 3': value.get('input_3', ''),\n",
    "            'Predictions 3': value.get('predictions_3', ''),\n",
    "            #'Recommendations': value.get('recommendations', ''),\n",
    "            'rec_HitRate@10': value.get('rec_HitRate@10', ''),\n",
    "            #'Precision': value.get('precision', ''),\n",
    "            #'Recall': value.get('recall', ''),\n",
    "            'rec_NDCG@10': value.get('rec_NDCG@10', '')\n",
    "        })\n",
    "\n",
    "df_results = pd.DataFrame(results)\n",
    "\n",
    "df_results"
   ]
  },
  {
   "cell_type": "markdown",
   "metadata": {},
   "source": [
    "# Preparar dataset"
   ]
  },
  {
   "cell_type": "code",
   "execution_count": 1,
   "metadata": {},
   "outputs": [
    {
     "name": "stdout",
     "output_type": "stream",
     "text": [
      "nsu: 12 \n",
      "nci: 19 \n",
      "Qnt de usuários do dataset: 943 \n",
      "Qnt de usuários com gt no candidate: 152\n"
     ]
    }
   ],
   "source": [
    "import random\n",
    "import pandas as pd\n",
    "from Utils import templates, utils\n",
    "\n",
    "nsu = 12\n",
    "nci = 19\n",
    "\n",
    "dataset = utils.read_json(\"Data/ML100K_clean.json\")\n",
    "movie_idx = utils.build_moviename_index_dict(dataset)\n",
    "user_sim_matrix = utils.build_user_similarity_matrix(dataset, movie_idx)\n",
    "id_list = list(range(0, len(dataset)))\n",
    "\n",
    "data_list = []\n",
    "id_list_com_gt_no_candidate=[]\n",
    "\n",
    "for i in id_list:\n",
    "\n",
    "  watched_mv = dataset[i][0].split(' | ')[::-1]\n",
    "  groundTruth = dataset[i][-1]\n",
    "  candidate_items = utils.sort_collaborative_user_filtering(target_user_id=i,\n",
    "                                                                    dataset=dataset,\n",
    "                                                                    user_similarity_matrix=user_sim_matrix,\n",
    "                                                                    num_users=nsu,\n",
    "                                                                    num_items=nci,\n",
    "                                                                    include_similar_user_GT=False,\n",
    "                                                                    debug=False)\n",
    "  random.shuffle(candidate_items)\n",
    "\n",
    "  # verifica se o ground_truth está no candidate_set\n",
    "  gt_in_candidate_set = True if any(groundTruth.lower() in candidate.lower() for candidate in candidate_items) else False\n",
    "\n",
    "  if gt_in_candidate_set == True:\n",
    "    id_list_com_gt_no_candidate.append(i)\n",
    "\n",
    "  data_list.append({\n",
    "        'user_id': i,\n",
    "        'watched_movies': watched_mv,\n",
    "        'ground_truth': groundTruth,\n",
    "        'candidate_items': candidate_items,\n",
    "        'gt_in_candidate_set': gt_in_candidate_set\n",
    "  })\n",
    "\n",
    "df = pd.DataFrame(data_list)\n",
    "\n",
    "print(f'nsu: {nsu} \\nnci: {nci} \\nQnt de usuários do dataset: {len(dataset)} \\nQnt de usuários com gt no candidate: {len(id_list_com_gt_no_candidate)}')"
   ]
  },
  {
   "cell_type": "code",
   "execution_count": 8,
   "metadata": {},
   "outputs": [
    {
     "name": "stdout",
     "output_type": "stream",
     "text": [
      "Tamanho do conjunto de treino: 121\n",
      "Tamanho do conjunto de teste: 31\n"
     ]
    }
   ],
   "source": [
    "# Define a proporção de divisão\n",
    "train_ratio = 0.8\n",
    "test_ratio = 0.2\n",
    "\n",
    "# Embaralha os IDs para garantir aleatoriedade\n",
    "random.shuffle(id_list_com_gt_no_candidate)\n",
    "\n",
    "# Calcula o tamanho de cada conjunto\n",
    "total_ids = len(id_list_com_gt_no_candidate)\n",
    "train_size = int(train_ratio * total_ids)\n",
    "test_size = total_ids - train_size\n",
    "\n",
    "# Separa os IDs em conjuntos\n",
    "train_ids = id_list_com_gt_no_candidate[:train_size]\n",
    "test_ids = id_list_com_gt_no_candidate[train_size:]\n",
    "\n",
    "# Imprime o tamanho de cada conjunto para verificação\n",
    "print(f\"Tamanho do conjunto de treino: {len(train_ids)}\")\n",
    "print(f\"Tamanho do conjunto de teste: {len(test_ids)}\")\n",
    "\n",
    "train_dataset = []\n",
    "\n",
    "# configs \n",
    "model_name = \"gemma-3-4b-it\"\n",
    "temperature = 0\n",
    "prompt_template = templates.PROMPT_TEMPLATE_2\n",
    "system_prompt = \"YYou are a movie expert provide the answer for the question based on the given context. Your answer must be short \" \n",
    "max_tokens = -1\n",
    "lenlimit = 8\n",
    "\n",
    "for id in train_ids:\n",
    "    filtered = df[df['user_id'] == id]\n",
    "    if not filtered.empty:\n",
    "        candidate_items = filtered['candidate_items'].iloc[0]\n",
    "        ground_truth = filtered['ground_truth'].iloc[0]\n",
    "        watched_movies = filtered['watched_movies'].iloc[0]\n",
    "    else:\n",
    "        continue \n",
    "\n",
    "    input_prompt = prompt_template['Preference'].format(', '.join(candidate_items),', '.join(watched_movies))\n",
    "    response = utils.query_lm_studio(model_name,0.0,system_prompt,input_prompt,max_tokens)\n",
    "    movie_preference = response\n",
    "\n",
    "    input_prompt = prompt_template['Featured_movies'].format(', '.join(watched_mv[-lenlimit:]), movie_preference)\n",
    "    response = utils.query_lm_studio(model_name,0.0,system_prompt,input_prompt,max_tokens)\n",
    "    most_featured = response\n",
    "\n",
    "    input = templates.TRAIN_TEMPLATE['INPUT'].format(', '.join(candidate_items),', '.join(watched_movies),movie_preference,most_featured )\n",
    "    output= templates.TRAIN_TEMPLATE['OUTPUT'].format(ground_truth)\n",
    "\n",
    "    train_dataset.append({\n",
    "        'input': input,\n",
    "        'output': output\n",
    "  })\n",
    "\n"
   ]
  },
  {
   "cell_type": "code",
   "execution_count": null,
   "metadata": {},
   "outputs": [
    {
     "data": {
      "application/vnd.microsoft.datawrangler.viewer.v0+json": {
       "columns": [
        {
         "name": "index",
         "rawType": "int64",
         "type": "integer"
        },
        {
         "name": "input",
         "rawType": "object",
         "type": "string"
        },
        {
         "name": "output",
         "rawType": "object",
         "type": "string"
        }
       ],
       "conversionMethod": "pd.DataFrame",
       "ref": "917ace31-556a-4b32-b628-b9d47d511436",
       "rows": [
        [
         "0",
         "\n\n    ### CANDIDATE MOVIE SET: Starship Troopers, Boogie Nights, Full Monty, Eve's Bayou, Ulee's Gold, Money Talks, G.I. Jane, Evita, Tomorrow Never Dies, Liar Liar, As Good As It Gets, Kiss the Girls, Rosewood, Everyone Says I Love You, Saint, Good Will Hunting, Chasing Amy, Seven Years in Tibet, Murder at 1600.\n\n    ### MY WATCHED MOVIES LIST: Wag the Dog, U Turn, Air Force One, Game, Conspiracy Theory, Scream, Deconstructing Harry, Replacement Killers, Contact, Dark City, Sweet Hereafter, Amistad, Ice Storm, Jackie Brown, Gattaca, Switchback, English Patient, In & Out, Devil's Advocate, Fly Away Home, Mother, L.A. Confidential, Apt Pupil, Titanic, Rainmaker.\n\n    ### MY MOVIE PREFERENCES: You seem drawn to character-driven dramas and stories exploring themes of ambition, identity, and relationships, with a preference for both serious and slightly quirky narratives..\n\n    ### MY FIVE MOST FEATURED MOVIES: Here’s your top 5 based on your preferences:\n\n1.  Godfather\n2.  Bottle Rocket\n3.  Fargo\n4.  Shawshank Redemption\n5.  People vs. Larry Flynt.\n\n    ### INSTRUCTIONS:\n    Recommend exactly **1 movie** from the \"Candidate Movie Set\" that are most similar to my \"Five Most Featured Movies\".\n    The output must be **STRICTLY formatted** as follows:\n\n    1. Movie Title\n\n    Do not include any extra text before or after the list\n\n    ### QUESTION:\n    What are your top 1 movie recommendations?\n\n    ### ANSWER:\n",
         " 1.Chasing Amy "
        ],
        [
         "1",
         "\n\n    ### CANDIDATE MOVIE SET: Absolute Power, Chasing Amy, Stand by Me, Godfather, Firm, Hudsucker Proxy, Scream, Executive Decision, Cape Fear, Dances with Wolves, Ulee's Gold, Jurassic Park, Crying Game, Jaws, Babe, Time to Kill, Abyss, Back to the Future, Die Hard 2.\n\n    ### MY WATCHED MOVIES LIST: Indiana Jones and the Last Crusade, When Harry Met Sally..., In the Line of Fire, Short Cuts, GoldenEye, Perfect World, Real Genius, Highlander, Last of the Mohicans, Crow, Clockwork Orange, Aliens, Boys on the Side, Full Metal Jacket, Vertigo, Batman, Much Ado About Nothing, GoodFellas, Rear Window, Shallow Grave, Romeo Is Bleeding, Seven (Se7en), Spy Hard, Multiplicity, Chain Reaction, Beverly Hills Ninja, Fierce Creatures, Dragonheart, Phantom, First Wives Club, Jack, Kids in the Hall: Brain Candy, Broken Arrow, Nutty Professor, Eraser, Rock, Mighty Aphrodite, Ghost and the Darkness, Jerry Maguire, Long Kiss Goodnight, Beavis and Butt-head Do America, Jackie Chan's First Strike, Star Trek: First Contact, Rumble in the Bronx, Sleepers, Mission: Impossible, 2 Days in the Valley, Heat, Frighteners, Mars Attacks!, Courage Under Fire, Ransom, Phenomenon, Welcome to the Dollhouse, Pump Up the Volume, Braveheart, Terminator, Philadelphia Story, Swimming with Sharks, Amateur, Unbearable Lightness of Being, Primal Fear, Freeway, Bronx Tale, Fugitive, Twelve Monkeys, Natural Born Killers, Top Gun, Like Water For Chocolate (Como agua para chocolate), Hamlet, Big Night, Independence Day (ID4), Crimson Tide, 2001: A Space Odyssey, City of Lost Children, Sleepless in Seattle, Lone Star, Clerks, Forrest Gump, Terminator 2: Judgment Day, Emma, This Is Spinal Tap, True Romance, Die Hard, Close Shave, Alien, William Shakespeare's Romeo and Juliet, Blues Brothers, Quiz Show, Star Trek: The Wrath of Khan, To Kill a Mockingbird, Usual Suspects, Raising Arizona, Sense and Sensibility, Taxi Driver, Sex, Lies, and Videotape, Reservoir Dogs, Last Supper, Dead Man Walking, Sling Blade, Monty Python and the Holy Grail, Fargo, Nikita (La Femme Nikita), Professional, Casablanca, Wallace & Gromit: The Best of Aardman Animation, Microcosmos: Le peuple de l'herbe, Raiders of the Lost Ark, Sum of Us, Strange Days, Sneakers, Schindler's List, Braindead, Speed, Beauty and the Beast, Trust, Silence of the Lambs, Princess Bride, Blade Runner, North by Northwest, Toy Story, Shawshank Redemption, Pulp Fiction, Amadeus, Menace II Society, E.T. the Extra-Terrestrial, Unforgiven, Groundhog Day, Get Shorty, One Flew Over the Cuckoo's Nest, Remains of the Day, In the Name of the Father, Brazil, Apollo 13, Empire Strikes Back, Wrong Trousers, Devil's Own, Return of the Jedi, Lost World: Jurassic Park, Private Parts, Bound, Hercules, Austin Powers: International Man of Mystery, Con Air, My Best Friend's Wedding, Men in Black, Face/Off, Star Wars, Grosse Pointe Blank, Fifth Element, Saint, Liar Liar, Starship Troopers, Game, Cop Land, Air Force One, Deceiver, L.A. Confidential, Kolya, Contact.\n\n    ### MY MOVIE PREFERENCES: You seem to enjoy a mix of thrillers, dramas, and classics with strong character stories – particularly those exploring themes of suspense, action, and human relationships..\n\n    ### MY FIVE MOST FEATURED MOVIES: Here’s a list of five films from your watch list that align with your preferences:\n\n1.  Godfather\n2.  Fargo\n3.  Raiders of the Lost Ark\n4.  Apollo 13\n5.  Shawshank Redemption.\n\n    ### INSTRUCTIONS:\n    Recommend exactly **1 movie** from the \"Candidate Movie Set\" that are most similar to my \"Five Most Featured Movies\".\n    The output must be **STRICTLY formatted** as follows:\n\n    1. Movie Title\n\n    Do not include any extra text before or after the list\n\n    ### QUESTION:\n    What are your top 1 movie recommendations?\n\n    ### ANSWER:\n",
         " 1.Cape Fear "
        ],
        [
         "2",
         "\n\n    ### CANDIDATE MOVIE SET: Eraser, Volcano, Chasing Amy, Long Kiss Goodnight, Mission: Impossible, Conspiracy Theory, Dragonheart, Time to Kill, Primal Fear, Broken Arrow, Money Talks, Saint, Executive Decision, Multiplicity, Happy Gilmore, Star Trek: First Contact, River Wild, Independence Day (ID4), Jerry Maguire.\n\n    ### MY WATCHED MOVIES LIST: Ghost and the Darkness, Twister, Kingpin, Father of the Bride Part II, Twelve Monkeys, Sleepers, Birdcage, Ransom, Toy Story, Fargo, Rock, Phenomenon, Rumble in the Bronx, Courage Under Fire, Heat, Star Wars, Dead Man Walking, Return of the Jedi, Contact, McHale's Navy, Dante's Peak, I Know What You Did Last Summer, Crash, Liar Liar, Scream, Edge, Game, Devil's Own.\n\n    ### MY MOVIE PREFERENCES: Action, suspense, and thrillers with a touch of adventure and some quirky comedies seem to be your favorites..\n\n    ### MY FIVE MOST FEATURED MOVIES: Here’s a list of 5 films from your watch list that align with your preference for action, suspense, thrillers, adventure, and quirky comedies:\n\n1.  Raiders of the Lost Ark\n2.  Apollo 13\n3.  Fargo\n4.  Godfather\n5.  People vs. Larry Flynt.\n\n    ### INSTRUCTIONS:\n    Recommend exactly **1 movie** from the \"Candidate Movie Set\" that are most similar to my \"Five Most Featured Movies\".\n    The output must be **STRICTLY formatted** as follows:\n\n    1. Movie Title\n\n    Do not include any extra text before or after the list\n\n    ### QUESTION:\n    What are your top 1 movie recommendations?\n\n    ### ANSWER:\n",
         " 1.Jerry Maguire "
        ],
        [
         "3",
         "\n\n    ### CANDIDATE MOVIE SET: Phenomenon, Eraser, Kingpin, Money Talks, Ghost and the Darkness, Dead Man Walking, Chasing Amy, Dragonheart, Scream, Broken Arrow, Donnie Brasco, Heat, Leaving Las Vegas, Game, Long Kiss Goodnight, Time to Kill, River Wild, Fargo, Twelve Monkeys.\n\n    ### MY WATCHED MOVIES LIST: Courage Under Fire, Mission: Impossible, Star Trek: First Contact, Con Air, Jerry Maguire, Primal Fear, Independence Day (ID4), Star Wars, Men in Black, Rock, Thousand Acres, Shadow Conspiracy, Devil's Own, Conspiracy Theory, Kiss the Girls, Twister, Father of the Bride Part II, Rumble in the Bronx, Mirror Has Two Faces, Sense and Sensibility, Face/Off, Return of the Jedi, Godfather, Ransom, Toy Story, Volcano, Dante's Peak, Liar Liar, Saint, Contact, Air Force One.\n\n    ### MY MOVIE PREFERENCES: You seem drawn to crime dramas, thrillers with strong narratives, and films exploring complex characters and moral dilemmas – often with an action or suspense element..\n\n    ### MY FIVE MOST FEATURED MOVIES: Here’s a list of five movies aligning with your preferences, based on your watch history:\n\n1.  People vs. Larry Flynt \n2.  Godfather\n3.  Fargo\n4.  Apollo 13\n5.  Shawshank Redemption.\n\n    ### INSTRUCTIONS:\n    Recommend exactly **1 movie** from the \"Candidate Movie Set\" that are most similar to my \"Five Most Featured Movies\".\n    The output must be **STRICTLY formatted** as follows:\n\n    1. Movie Title\n\n    Do not include any extra text before or after the list\n\n    ### QUESTION:\n    What are your top 1 movie recommendations?\n\n    ### ANSWER:\n",
         " 1.River Wild "
        ],
        [
         "4",
         "\n\n    ### CANDIDATE MOVIE SET: Omen, 20,000 Leagues Under the Sea, Die Hard: With a Vengeance, Shining, Magnificent Seven, Grifters, Hunt for Red October, Clear and Present Danger, Nightmare Before Christmas, Pretty Woman, Rear Window, E.T. the Extra-Terrestrial, Scream, Last of the Mohicans, Batman, Die Hard 2, True Lies, 12 Angry Men, Jurassic Park.\n\n    ### MY WATCHED MOVIES LIST: Adventures of Robin Hood, Charade, Misérables, Les, Candidate, Star Trek: The Wrath of Khan, Circle of Friends, Cat on a Hot Tin Roof, Roman Holiday, Paris, Texas, Top Hat, Bob Roberts, Breakfast at Tiffany's, Little Women, Casino, Spellbound, Pinocchio, Dr. Strangelove or: How I Learned to Stop Worrying and Love the Bomb, Philadelphia, Strange Days, Field of Dreams, Paths of Glory, Manchurian Candidate, Unforgiven, What's Love Got to Do with It, Platoon, Death and the Maiden, American in Paris, Backbeat, True Romance, Kids, Rebel Without a Cause, North by Northwest, Higher Learning, Full Metal Jacket, In the Name of the Father, For Whom the Bell Tolls, Immortal Beloved, Meet Me in St. Louis, Abyss, Graduate, Highlander, Clockers, Terminator, Shallow Grave, Braveheart, William Shakespeare's Romeo and Juliet, Glory, Koyaanisqatsi, Alien, Deer Hunter, Rebecca, Ben-Hur, Fugitive, Somewhere in Time, Amadeus, Mary Poppins, Gone with the Wind, Apollo 13, Christmas Carol, Crying Game, Fried Green Tomatoes, Village of the Damned, Body Snatchers, Jaws 3-D, Heavenly Creatures, Copycat, City Slickers II: The Legend of Curly's Gold, Weekend at Bernie's, Bio-Dome, Tin Men, Up in Smoke, Joe's Apartment, Roommates, Victor/Victoria, Grease, Mask, Clueless, Jeffrey, Paris Is Burning, To Wong Foo, Thanks for Everything! Julie Newmar, Ref, Mrs. Doubtfire, Spanking the Monkey, Santa Clause, To Die For, Get Shorty, American President, Heathers, When Harry Met Sally..., Ed Wood, Real Genius, Blues Brothers, Maverick, Stand by Me, Groundhog Day, My Favorite Year, Indiana Jones and the Last Crusade, Sleeper, Dave, Bananas, Strictly Ballroom, Butch Cassidy and the Sundance Kid, Sleepless in Seattle, This Is Spinal Tap, Sneakers, Return of the Pink Panther, Young Frankenstein, Sting, Manhattan, Ruling Class, Naked, Sirens, Mediterraneo, Cook the Thief His Wife & Her Lover, Adventures of Priscilla, Queen of the Desert, Four Weddings and a Funeral, Barcelona, Piano, Remains of the Day, Tin Drum, The (Blechtrommel, Die), Muriel's Wedding, Secret of Roan Inish, Brothers McMullen, Madness of King George, Farewell My Concubine, Belle de jour, Henry V, Unbearable Lightness of Being, Rosencrantz and Guildenstern Are Dead, Nikita (La Femme Nikita), Room with a View, Heavy Metal, Alice in Wonderland, Three Caballeros, Aladdin, Fantasia, Cinderella, Lion King, Snow White and the Seven Dwarfs, Dumbo, Beauty and the Beast, Jaws 2, Congo, Stephen King's The Langoliers, Wolf, Mary Shelley's Frankenstein, Interview with the Vampire, Serial Mom, Bram Stoker's Dracula, Body Snatchers, Blob, Natural Born Killers, Alien 3, Cat People, Candyman, Carrie, Nightmare on Elm Street, Birds, Nosferatu (Nosferatu, eine Symphonie des Grauens), Army of Darkness, Bride of Frankenstein, Cape Fear, Jaws, American Werewolf in London, Monty Python's Life of Brian, Psycho, Pulp Fiction, Secrets & Lies, Brazil, Empire Strikes Back, Lawrence of Arabia, Ran, Schindler's List, Hoop Dreams, My Left Foot, Dial M for Murder, Cable Guy, Mirror Has Two Faces, Father of the Bride Part II, Multiplicity, Mars Attacks!, River Wild, Mission: Impossible, Ghost and the Darkness, Arrival, Phantom, Escape from L.A., White Squall, Four Rooms, Independence Day (ID4), Nutty Professor, Frighteners, Kansas City, First Wives Club, Mulholland Falls, Restoration, Birdcage, Jerry Maguire, Beavis and Butt-head Do America, Hunchback of Notre Dame, Mr. Holland's Opus, Willy Wonka and the Chocolate Factory, That Thing You Do!, Rumble in the Bronx, Kingpin, Time to Kill, Tin Cup, Mighty Aphrodite, Phenomenon, Sabrina, Bound, Basquiat, I Shot Andy Warhol, Dragonheart, Family Thing, People vs. Larry Flynt, Othello, Postino, Il, Celluloid Closet, Rock, Leaving Las Vegas, Menace II Society, Swingers, Forrest Gump, Clockwork Orange, Back to the Future, 8 1/2, Lost Horizon, Quiz Show, Return of Martin Guerre, The (Retour de Martin Guerre, Le), City of Lost Children, Harold and Maude, Princess Bride, Dances with Wolves, Crumb, Lone Star, Dead Poets Society, Once Were Warriors, Some Like It Hot, Short Cuts, Old Man and the Sea, Silence of the Lambs, Cyrano de Bergerac, Taxi Driver, Terminator 2: Judgment Day, Seven (Se7en), Angels and Insects, It Happened One Night, Killing Fields, Great Dictator, Blade Runner, Rudy, Microcosmos: Le peuple de l'herbe, Being There, Forbidden Planet, Smoke, Wonderful, Horrible Life of Leni Riefenstahl, High Noon, Laura, My Family, Red Rock West, Gigi, To Catch a Thief, Sophie's Choice, Apartment, Haunted World of Edward D. Wood Jr., Benny & Joon, One Flew Over the Cuckoo's Nest, My Life as a Dog (Mitt liv som hund), Raise the Red Lantern, Toy Story, Priest, Casablanca, Fargo, Primal Fear, Cool Hand Luke, Day the Earth Stood Still, Reservoir Dogs, Sense and Sensibility, M*A*S*H, Clerks, Sound of Music, Singin' in the Rain, To Kill a Mockingbird, Godfather: Part II, Star Wars, Usual Suspects, East of Eden, Bonnie and Clyde, Return of the Jedi, Bridge on the River Kwai, Ruby in Paradise, Searching for Bobby Fischer, Raiders of the Lost Ark, Six Degrees of Separation, Right Stuff, Vertigo, Dead Man Walking, My Fair Lady, Streetcar Named Desire, Great Escape, Akira, Star Trek: First Contact, GoodFellas, Richard III, Maybe, Maybe Not (Bewegte Mann, Der), 2001: A Space Odyssey, Twelve Monkeys, Patton, All About Eve, Monty Python and the Holy Grail, Sunset Blvd., Apocalypse Now, Cinema Paradiso, Gandhi, Like Water For Chocolate (Como agua para chocolate), Babe, Annie Hall, Welcome to the Dollhouse, Chinatown, Fish Called Wanda, Mr. Smith Goes to Washington, Die Hard, Shine, Raising Arizona, Aliens, Wild Bunch, Wizard of Oz, Citizen Kane, Shawshank Redemption, Duck Soup, Godfather, Third Man, Philadelphia Story, African Queen, Treasure of the Sierra Madre, Boot, Das, It's a Wonderful Life, English Patient, Liar Liar, Evita.\n\n    ### MY MOVIE PREFERENCES: You enjoy a mix of action, suspense, adventure, and classic thrillers with some fantastical elements..\n\n    ### MY FIVE MOST FEATURED MOVIES: Here’s your top 5 based on your preferences:\n\n1.  Raiders of the Lost Ark (Adventure, Action)\n2.  Godfather (Thriller, Classic)\n3.  Fargo (Suspense, Thriller)\n4.  Apollo 13 (Suspense, Adventure)\n5.  Return of the Jedi (Action, Fantasy).\n\n    ### INSTRUCTIONS:\n    Recommend exactly **1 movie** from the \"Candidate Movie Set\" that are most similar to my \"Five Most Featured Movies\".\n    The output must be **STRICTLY formatted** as follows:\n\n    1. Movie Title\n\n    Do not include any extra text before or after the list\n\n    ### QUESTION:\n    What are your top 1 movie recommendations?\n\n    ### ANSWER:\n",
         " 1.Grifters "
        ],
        [
         "5",
         "\n\n    ### CANDIDATE MOVIE SET: Schindler's List, Graduate, Clockwork Orange, Psycho, Cape Fear, Bonnie and Clyde, Wizard of Oz, Stand by Me, Amadeus, To Kill a Mockingbird, Lawrence of Arabia, Shawshank Redemption, GoodFellas, Dead Poets Society, North by Northwest, Blade Runner, Usual Suspects, Sabrina, Body Snatchers.\n\n    ### MY WATCHED MOVIES LIST: Right Stuff, Annie Hall, Pulp Fiction, Indiana Jones and the Last Crusade, Kids, Citizen Kane, Young Frankenstein, Gone with the Wind, Jaws, Raising Arizona, Short Cuts, Seven (Se7en), Hoop Dreams, Forrest Gump, Crumb, It Happened One Night, Evil Dead II, 12 Angry Men, Godfather: Part II, Raiders of the Lost Ark, Sting, Shining, Brazil, Empire Strikes Back, Fugitive, Babe, Chinatown, Deer Hunter, Six Degrees of Separation, In the Name of the Father, Back to the Future, E.T. the Extra-Terrestrial, Clerks, Star Wars, Casablanca, Terminator 2: Judgment Day, M*A*S*H, Glory, Silence of the Lambs, Real Genius, Braveheart, Dr. Strangelove or: How I Learned to Stop Worrying and Love the Bomb, Alien, Patton, One Flew Over the Cuckoo's Nest, African Queen, Taxi Driver, Godfather, Scream, Stag.\n\n    ### MY MOVIE PREFERENCES: You seem drawn to dramas and thrillers with strong narratives, historical epics, and a mix of classic and critically acclaimed films – often exploring themes of morality, societal issues, and human experience..\n\n    ### MY FIVE MOST FEATURED MOVIES: Here’s your top 5 based on your preferences:\n\n1.  Godfather\n2.  Fargo\n3.  Raiders of the Lost Ark\n4.  Shawshank Redemption\n5.  People vs. Larry Flynt.\n\n    ### INSTRUCTIONS:\n    Recommend exactly **1 movie** from the \"Candidate Movie Set\" that are most similar to my \"Five Most Featured Movies\".\n    The output must be **STRICTLY formatted** as follows:\n\n    1. Movie Title\n\n    Do not include any extra text before or after the list\n\n    ### QUESTION:\n    What are your top 1 movie recommendations?\n\n    ### ANSWER:\n",
         " 1.Usual Suspects "
        ],
        [
         "6",
         "\n\n    ### CANDIDATE MOVIE SET: Godfather, Liar Liar, Frighteners, River Wild, Ulee's Gold, Phenomenon, L.A. Confidential, Swingers, Trainspotting, Eraser, Scream, Nixon, Star Trek: First Contact, Chasing Amy, Game, Full Monty, Conspiracy Theory, Mars Attacks!, That Thing You Do!.\n\n    ### MY WATCHED MOVIES LIST: Breaking the Waves, Toy Story, Contact, Donnie Brasco, Jerry Maguire, Mr. Holland's Opus, English Patient, Rock, Heat, My Best Friend's Wedding, Dragonheart, Independence Day (ID4), Mission: Impossible, Tin Cup, Welcome to the Dollhouse, Beautiful Girls, Rumble in the Bronx, Sabrina, Birdcage, Bed of Roses, James and the Giant Peach, Saint, Ransom, Long Kiss Goodnight, Extreme Measures, Love Jones, Primal Fear, Willy Wonka and the Chocolate Factory, Family Thing, Sleepers, Time to Kill, 2 Days in the Valley, Return of the Jedi, Bound, Star Wars, I Shot Andy Warhol, Out to Sea, Unforgettable, Once Upon a Time... When We Were Colored, Freeway, People vs. Larry Flynt, Truth About Cats & Dogs, Men in Black, Secrets & Lies, Private Parts, Leaving Las Vegas, Fargo, Lone Star, Chungking Express, Courage Under Fire, Twelve Monkeys, Big Night, Dead Man Walking.\n\n    ### MY MOVIE PREFERENCES: You seem drawn to dramas and thrillers with strong character studies, alongside some action and quirky comedies – a mix of serious storytelling and entertainment..\n\n    ### MY FIVE MOST FEATURED MOVIES: Here’s your top 5 based on your preferences:\n\n1.  Godfather\n2.  Fargo\n3.  Return of the Jedi\n4.  Shawshank Redemption\n5.  People vs. Larry Flynt.\n\n    ### INSTRUCTIONS:\n    Recommend exactly **1 movie** from the \"Candidate Movie Set\" that are most similar to my \"Five Most Featured Movies\".\n    The output must be **STRICTLY formatted** as follows:\n\n    1. Movie Title\n\n    Do not include any extra text before or after the list\n\n    ### QUESTION:\n    What are your top 1 movie recommendations?\n\n    ### ANSWER:\n",
         " 1.L.A. Confidential "
        ],
        [
         "7",
         "\n\n    ### CANDIDATE MOVIE SET: Phenomenon, Multiplicity, Nutty Professor, Twelve Monkeys, Toy Story, Heat, Liar Liar, Star Trek: First Contact, Dead Man Walking, That Thing You Do!, Fly Away Home, Executive Decision, City Hall, Courage Under Fire, Murder at 1600, Scream, Contact, Cape Fear, Tin Cup.\n\n    ### MY WATCHED MOVIES LIST: River Wild, Ghost and the Darkness, Time to Kill, White Squall, Truth About Cats & Dogs, Cold Comfort Farm, Jane Eyre, Ransom, Primal Fear, Mr. Holland's Opus, Secrets & Lies, Birdcage, Family Thing, Cry, the Beloved Country, Star Wars, Return of the Jedi, Spitfire Grill, Jerry Maguire, Fargo, English Patient, Titanic, Twister, Independence Day (ID4), Jack, Moll Flanders, Dante's Peak, Preacher's Wife, Two if by Sea, Juror, Selena, Fan, Mission: Impossible, Up Close and Personal, First Wives Club, Grumpier Old Men, Michael, Bed of Roses, Eraser, Heaven's Prisoners, Broken Arrow, Rock, Godfather, Shine, Funeral, Father of the Bride Part II, Sabrina.\n\n    ### MY MOVIE PREFERENCES: You seem to enjoy a mix of sci-fi/thrillers (Star Trek, Twelve Monkeys, Scream), comedies with quirky elements (Nutty Professor, Liar Liar, Toy Story), and dramas with strong themes (Dead Man Walking, Courage Under Fire)..\n\n    ### MY FIVE MOST FEATURED MOVIES: Here’s a list of 5 films from your watch list that align best with your preferences:\n\n1.  *Bottle Rocket* (Quirky comedy)\n2.  *Fargo* (Strong themes, crime drama)\n3.  *Apollo 13* (Sci-fi/Thriller)\n4.  *Raiders of the Lost Ark* (Adventure/Action - aligns with sci-fi interest)\n5.  *Shawshank Redemption* (Drama with a powerful theme).\n\n    ### INSTRUCTIONS:\n    Recommend exactly **1 movie** from the \"Candidate Movie Set\" that are most similar to my \"Five Most Featured Movies\".\n    The output must be **STRICTLY formatted** as follows:\n\n    1. Movie Title\n\n    Do not include any extra text before or after the list\n\n    ### QUESTION:\n    What are your top 1 movie recommendations?\n\n    ### ANSWER:\n",
         " 1.Courage Under Fire "
        ],
        [
         "8",
         "\n\n    ### CANDIDATE MOVIE SET: Lone Star, People vs. Larry Flynt, Volcano, Contact, Scream, Conspiracy Theory, Everyone Says I Love You, Evita, Ice Storm, Twelve Monkeys, Chasing Amy, L.A. Confidential, Air Force One, Trainspotting, Rock, Ulee's Gold, Liar Liar, Jerry Maguire, Big Night.\n\n    ### MY WATCHED MOVIES LIST: Leave It to Beaver, Starship Troopers, Kolya, Full Monty, Game, Firestorm, Hard Rain, Prophecy II, Oscar & Lucinda, Mother, Toy Story, Man of the Year, In & Out, Fly Away Home, Postman, Celluloid Closet, French Twist (Gazon maudit), Shall We Dance?, Leaving Las Vegas, Donnie Brasco, Bound, It's My Party, Austin Powers: International Man of Mystery, Secrets & Lies, Godfather, Star Wars, Dead Man Walking, Postino, Il, Close Shave, Return of the Jedi, Beautiful Thing, English Patient.\n\n    ### MY MOVIE PREFERENCES: You seem drawn to character-driven dramas and thrillers with strong narratives, exploring themes of family, obsession, and societal issues – often with a touch of dark humor or suspense..\n\n    ### MY FIVE MOST FEATURED MOVIES: Here’s your top 5 based on your preferences:\n\n1.  Godfather\n2.  Bottle Rocket\n3.  Fargo\n4.  People vs. Larry Flynt\n5.  Shawshank Redemption.\n\n    ### INSTRUCTIONS:\n    Recommend exactly **1 movie** from the \"Candidate Movie Set\" that are most similar to my \"Five Most Featured Movies\".\n    The output must be **STRICTLY formatted** as follows:\n\n    1. Movie Title\n\n    Do not include any extra text before or after the list\n\n    ### QUESTION:\n    What are your top 1 movie recommendations?\n\n    ### ANSWER:\n",
         " 1.Contact "
        ],
        [
         "9",
         "\n\n    ### CANDIDATE MOVIE SET: Dead Poets Society, Chinatown, GoodFellas, Cool Hand Luke, Young Frankenstein, Right Stuff, M*A*S*H, African Queen, Taxi Driver, Clockwork Orange, 2001: A Space Odyssey, Jerry Maguire, Sabrina, Usual Suspects, Birdcage, Sound of Music, Pulp Fiction, Amadeus, Field of Dreams.\n\n    ### MY WATCHED MOVIES LIST: Piano, Raiders of the Lost Ark, Antonia's Line, Hamlet, Jaws, On Golden Pond, Christmas Carol, Lion King, Deer Hunter, Hunt for Red October, Butch Cassidy and the Sundance Kid, Some Like It Hot, Philadelphia, Quiz Show, Raging Bull, Secret of Roan Inish, Giant, Glory, Graduate, Blade Runner, Empire Strikes Back, Dances with Wolves, Fargo, Cape Fear, One Flew Over the Cuckoo's Nest, Rob Roy, Raise the Red Lantern, Much Ado About Nothing, Beauty and the Beast, Shawshank Redemption, Anne Frank Remembered, Home for the Holidays, Dolores Claiborne, Forrest Gump, Postino, Il, Sling Blade, Leaving Las Vegas, Braveheart, Roman Holiday, Sense and Sensibility, Cinema Paradiso, Casablanca, Queen Margot (Reine Margot, La), Dead Man Walking, Henry V, Silence of the Lambs, To Kill a Mockingbird, Shine, Streetcar Named Desire, Boot, Das, Alien, Princess Bride, Apocalypse Now, Star Wars, Monty Python and the Holy Grail, Wizard of Oz, Man Who Would Be King, Emma, Bridge on the River Kwai, Godfather, Godfather: Part II, Psycho, Like Water For Chocolate (Como agua para chocolate), Schindler's List, Room with a View, Enchanted April, Volcano, Evita, Fly Away Home, Dante's Peak, Beautician and the Beast, Rosewood, Mrs. Brown (Her Majesty, Mrs. Brown), English Patient.\n\n    ### MY MOVIE PREFERENCES: You appreciate character-driven dramas with strong themes – exploring human nature, societal issues, and often featuring intense performances and complex narratives..\n\n    ### MY FIVE MOST FEATURED MOVIES: Here’s a list of five films from your watch list that align with your preference for character-driven dramas:\n\n1.  Godfather\n2.  People vs. Larry Flynt\n3.  Bottle Rocket\n4.  Fargo\n5.  Shawshank Redemption.\n\n    ### INSTRUCTIONS:\n    Recommend exactly **1 movie** from the \"Candidate Movie Set\" that are most similar to my \"Five Most Featured Movies\".\n    The output must be **STRICTLY formatted** as follows:\n\n    1. Movie Title\n\n    Do not include any extra text before or after the list\n\n    ### QUESTION:\n    What are your top 1 movie recommendations?\n\n    ### ANSWER:\n",
         " 1.Amadeus "
        ],
        [
         "10",
         "\n\n    ### CANDIDATE MOVIE SET: Raising Arizona, Sabrina, Field of Dreams, When Harry Met Sally..., Forrest Gump, Shining, E.T. the Extra-Terrestrial, Right Stuff, Full Metal Jacket, Clear and Present Danger, Return of the Jedi, Blues Brothers, Four Weddings and a Funeral, Indiana Jones and the Last Crusade, Cape Fear, Wizard of Oz, M*A*S*H, Dead Poets Society, Get Shorty.\n\n    ### MY WATCHED MOVIES LIST: Endless Summer 2, Bronx Tale, Killing Fields, 2001: A Space Odyssey, Young Frankenstein, North by Northwest, Shawshank Redemption, Taxi Driver, Gandhi, Monty Python and the Holy Grail, Cinema Paradiso, Amadeus, Chinatown, Brothers McMullen, Rear Window, Princess Bride, Dances with Wolves, Grease, Duck Soup, Deer Hunter, 12 Angry Men, Jaws, Pink Floyd - The Wall, Bob Roberts, Silence of the Lambs, In the Name of the Father, Snow White and the Seven Dwarfs, Back to the Future, Miller's Crossing, Beauty and the Beast, Sting, Pocahontas, GoldenEye, Nikita (La Femme Nikita), Fugitive, Menace II Society, To Kill a Mockingbird, GoodFellas, Pulp Fiction, Apocalypse Now, Apollo 13, Winnie the Pooh and the Blustery Day, Seven (Se7en), Raiders of the Lost Ark, Schindler's List, Clockwork Orange, Graduate, Butch Cassidy and the Sundance Kid, Usual Suspects, Annie Hall, Bonnie and Clyde, Psycho, Hunt for Red October, This Is Spinal Tap, One Flew Over the Cuckoo's Nest, Blade Runner, Godfather, Godfather: Part II, Star Wars, Aliens, Glory, Dr. Strangelove or: How I Learned to Stop Worrying and Love the Bomb, Raging Bull, Citizen Kane, Braveheart, Patton, Empire Strikes Back, Hoop Dreams, Hoodlum, Cop Land.\n\n    ### MY MOVIE PREFERENCES: You seem drawn to heartwarming stories, nostalgic classics, and films with strong character development – a mix of comedy, drama, and adventure..\n\n    ### MY FIVE MOST FEATURED MOVIES: Here’s your top 5 based on your preferences:\n\n1.  Shawshank Redemption (Heartwarming & Character-Driven)\n2.  Return of the Jedi (Nostalgic Classic & Adventure)\n3.  Raiders of the Lost Ark (Adventure & Nostalgia)\n4.  Godfather (Strong Character Development & Drama)\n5.  Fargo (Nostalgic Classic & Character Driven).\n\n    ### INSTRUCTIONS:\n    Recommend exactly **1 movie** from the \"Candidate Movie Set\" that are most similar to my \"Five Most Featured Movies\".\n    The output must be **STRICTLY formatted** as follows:\n\n    1. Movie Title\n\n    Do not include any extra text before or after the list\n\n    ### QUESTION:\n    What are your top 1 movie recommendations?\n\n    ### ANSWER:\n",
         " 1.Return of the Jedi "
        ],
        [
         "11",
         "\n\n    ### CANDIDATE MOVIE SET: Fugitive, Aliens, Speed, Dead Poets Society, Back to the Future, Cape Fear, Shawshank Redemption, Seven (Se7en), Raiders of the Lost Ark, Face/Off, Phenomenon, Get Shorty, Empire Strikes Back, Fargo, Quiz Show, Contact, Twelve Monkeys, Chasing Amy, Alien.\n\n    ### MY WATCHED MOVIES LIST: Terminator 2: Judgment Day, Roman Holiday, Forrest Gump, Silence of the Lambs, M*A*S*H, Die Hard, Jaws, Speed 2: Cruise Control, Lost World: Jurassic Park, Twister, Spitfire Grill, Courage Under Fire, Star Wars, Air Force One, In & Out, Pulp Fiction, Liar Liar, Mission: Impossible, My Best Friend's Wedding, Godfather, Rock, Gandhi, Fifth Element, Men in Black, Return of the Jedi, Star Trek: First Contact, Rumble in the Bronx, Independence Day (ID4).\n\n    ### MY MOVIE PREFERENCES: You seem to enjoy a mix of action, suspense, and thought-provoking dramas with elements of sci-fi and adventure..\n\n    ### MY FIVE MOST FEATURED MOVIES: Here’s your top 5 based on your preferences:\n\n1.  Raiders of the Lost Ark (Adventure, Action)\n2.  Apollo 13 (Suspense, Sci-Fi)\n3.  Fargo (Drama, Suspense)\n4.  Godfather (Drama)\n5.  Return of the Jedi (Sci-Fi, Adventure).\n\n    ### INSTRUCTIONS:\n    Recommend exactly **1 movie** from the \"Candidate Movie Set\" that are most similar to my \"Five Most Featured Movies\".\n    The output must be **STRICTLY formatted** as follows:\n\n    1. Movie Title\n\n    Do not include any extra text before or after the list\n\n    ### QUESTION:\n    What are your top 1 movie recommendations?\n\n    ### ANSWER:\n",
         " 1.Back to the Future "
        ],
        [
         "12",
         "\n\n    ### CANDIDATE MOVIE SET: L.A. Confidential, Field of Dreams, Sneakers, Godfather: Part II, Liar Liar, Grease, Heavenly Creatures, Bullets Over Broadway, Beauty and the Beast, Dumbo, Parent Trap, Ghost, Courage Under Fire, Chasing Amy, 2001: A Space Odyssey, William Shakespeare's Romeo and Juliet, Titanic, Conspiracy Theory, Die Hard.\n\n    ### MY WATCHED MOVIES LIST: Magnificent Seven, Raiders of the Lost Ark, Henry V, My Own Private Idaho, Monty Python and the Holy Grail, Back to the Future, Gaslight, Passion Fish, Gandhi, Rock, Barcelona, E.T. the Extra-Terrestrial, Philadelphia, So I Married an Axe Murderer, Indiana Jones and the Last Crusade, 2 Days in the Valley, Big Night, Better Off Dead..., Schindler's List, Bram Stoker's Dracula, Bridges of Madison County, Scream, Everyone Says I Love You, Dumb & Dumber, Jumanji, Friday, Conan the Barbarian, Some Kind of Wonderful, Dirty Dancing, I'll Do Anything, Return of the Pink Panther, Bean, Jimmy Hollywood, GoldenEye, 101 Dalmatians, Program, Star Trek: Generations, Quick and the Dead, Candyman, Mask, James and the Giant Peach, Casper, Mimic, Howling, Wolf, With Honors, Sirens, Santa Clause, Maverick, Candyman: Farewell to the Flesh, Alien 3, Sword in the Stone, Renaissance Man, Kingpin, Dragonheart, Hackers, Executive Decision, Wyatt Earp, Amityville II: The Possession, Very Brady Sequel, Up Close and Personal, Indian Summer, Pagemaster, Mixed Nuts, Cape Fear, Stargate, Homeward Bound II: Lost in San Francisco, Die Hard: With a Vengeance, In & Out, Ref, Tank Girl, Higher Learning, Space Jam, Mission: Impossible, Fog, Dangerous Minds, Joe's Apartment, Reality Bites, Clean Slate, Under Siege 2: Dark Territory, Victor/Victoria, Pretty Woman, Broken Arrow, Phantom, Shaggy Dog, Robin Hood: Prince of Thieves, Scout, Madness of King George, Judgment Night, Spawn, Speed 2: Cruise Control, Terminator 2: Judgment Day, Happy Gilmore, Time to Kill, Mars Attacks!, Perez Family, 20,000 Leagues Under the Sea, She's the One, Crimson Tide, Client, Demolition Man, Harold and Maude, Addicted to Love, Mr. Holland's Opus, Money Train, Miracle on 34th Street, True Lies, Hour of the Pig, Sleepless in Seattle, Sex, Lies, and Videotape, Bulletproof, Grosse Pointe Blank, Willy Wonka and the Chocolate Factory, Craft, Escape to Witch Mountain, Nutty Professor, Amityville Horror, Nightmare on Elm Street, Natural Born Killers, Beautiful Girls, Cobb, Four Rooms, Apple Dumpling Gang, Jack, Short Cuts, Fluke, Rebel Without a Cause, Father of the Bride Part II, Ransom, Nick of Time, Mrs. Parker and the Vicious Circle, Hot Shots! Part Deux, Nell, Like Water For Chocolate (Como agua para chocolate), Heavy Metal, Interview with the Vampire, Austin Powers: International Man of Mystery, Private Benjamin, American in Paris, Jackie Chan's First Strike, Casino, Speechless, Snow White and the Seven Dwarfs, Adventures of Priscilla, Queen of the Desert, 8 Seconds, Grumpier Old Men, Grifters, Jaws, Full Metal Jacket, Cook the Thief His Wife & Her Lover, Truth About Cats & Dogs, Ghosts of Mississippi, Kids, Muppet Treasure Island, Star Trek: The Wrath of Khan, Miami Rhapsody, Cape Fear, Clueless, Princess Caraboo, Michael Collins, Death and the Maiden, Pump Up the Volume, Frighteners, Tin Cup, Usual Suspects, Supercop, Four Weddings and a Funeral, That Thing You Do!, Strange Days, On Golden Pond, Little Lord Fauntleroy, While You Were Sleeping, Clear and Present Danger, Fifth Element, Top Hat, Night of the Living Dead, Shining, Fierce Creatures, Romy and Michele's High School Reunion, Brothers McMullen, Tombstone, Forrest Gump, Somewhere in Time, Absolute Power, Rumble in the Bronx, Crumb, Nightmare Before Christmas, Army of Darkness, Homeward Bound: The Incredible Journey, Cool Runnings, Babe, Powder, Apartment, Con Air, What's Eating Gilbert Grape, Basquiat, Dolores Claiborne, American Werewolf in London, Vanya on 42nd Street, Dances with Wolves, Independence Day (ID4), Die Hard 2, Face/Off, Twister, Romeo Is Bleeding, Men in Black, Jurassic Park, Pinocchio, Real Genius, Restoration, Cinderella, Hunt for Red October, Sabrina, Contact, Mr. Smith Goes to Washington, North by Northwest, Benny & Joon, Hamlet, Tie Me Up! Tie Me Down!, Age of Innocence, Basic Instinct, Man Without a Face, River Wild, Escape from New York, Bridge on the River Kwai, Omen, Psycho, Star Trek IV: The Voyage Home, Birdcage, Private Parts, Stripes, Crow, Manhattan Murder Mystery, Farewell My Concubine, Brassed Off, Last of the Mohicans, Star Trek VI: The Undiscovered Country, Top Gun, Up in Smoke, Batman, Muriel's Wedding, In the Line of Fire, Dave, Bob Roberts, Long Kiss Goodnight, Young Guns, Speed, Basketball Diaries, Heathers, Groundhog Day, Sound of Music, Christmas Carol, Hunchback of Notre Dame, Sleepers, Fargo, Rebecca, Toy Story, Secret Garden, Mrs. Doubtfire, Rob Roy, Cyrano de Bergerac, Party Girl, Shine, Citizen Kane, Panther, Sting, Lion King, Firm, Unforgiven, True Romance, Get Shorty, Kalifornia, Thin Man, Wallace & Gromit: The Best of Aardman Animation, Primal Fear, Gone with the Wind, One Flew Over the Cuckoo's Nest, Apollo 13, Butch Cassidy and the Sundance Kid, Wizard of Oz, Star Trek III: The Search for Spock, Raging Bull, Clerks, Under Siege, Laura, It Could Happen to You, Looking for Richard, Twelve Monkeys, People vs. Larry Flynt, Swingers, To Kill a Mockingbird, Bananas, Aliens, Chinatown, Leaving Las Vegas, Lawrence of Arabia, Perfect World, Terminator, Star Trek: First Contact, Orlando, Frankie Starlight, Batman Returns, Alien, Abyss, Assassins, Heat, Seven (Se7en), Apocalypse Now, Swimming with Sharks, Fantasia, Six Degrees of Separation, Stand by Me, Trees Lounge, Evil Dead II, Vertigo, Being There, Around the World in 80 Days, Don Juan DeMarco, Blues Brothers, Donnie Brasco, Mary Poppins, Joy Luck Club, Right Stuff, Strictly Ballroom, My Life as a Dog (Mitt liv som hund), Annie Hall, Fugitive, Taxi Driver, Crying Game, Hudsucker Proxy, Streetcar Named Desire, Birds, My Fair Lady, Bronx Tale, Air Force One, Much Ado About Nothing, Blade Runner, Emma, Welcome to the Dollhouse, Empire Strikes Back, Rosencrantz and Guildenstern Are Dead, American President, Eat Drink Man Woman, Quiz Show, When Harry Met Sally..., M*A*S*H, Fish Called Wanda, Bound, Good, The Bad and The Ugly, Amadeus, Bride of Frankenstein, Bonnie and Clyde, Killing Fields, Sling Blade, Mystery Science Theater 3000: The Movie, Dead Poets Society, Aladdin, Clockwork Orange, Murder in the First, Man Who Would Be King, Piano, This Is Spinal Tap, Ed Wood, Menace II Society, Adventures of Robin Hood, Reservoir Dogs, Maltese Falcon, Platoon, Rudy, Hoop Dreams, Singin' in the Rain, Cat on a Hot Tin Roof, Boogie Nights, Return of the Jedi, Highlander, Rear Window, Red Rock West, Professional, GoodFellas, Casablanca, Searching for Bobby Fischer, Dial M for Murder, Jean de Florette, Lone Star, African Queen, Manon of the Spring (Manon des sources), Glory, 12 Angry Men, Fly Away Home, Young Frankenstein, Graduate, Braveheart, Shawshank Redemption, Some Like It Hot, Monty Python's Life of Brian, Pulp Fiction, It's a Wonderful Life, Sense and Sensibility, Great Escape, Godfather, Trainspotting, Remains of the Day, Duck Soup, Star Wars, Pink Floyd - The Wall, Jerry Maguire, Raising Arizona, Cinema Paradiso, Silence of the Lambs, Princess Bride, Free Willy 3: The Rescue, Mother, Devil's Advocate.\n\n    ### MY MOVIE PREFERENCES: You seem to enjoy a mix of crime thrillers, classics, and films with strong character stories – particularly those exploring themes of deception, ambition, and romance..\n\n    ### MY FIVE MOST FEATURED MOVIES: Here’s a list of five movies from your watch list that align with your preferences:\n\n1.  Godfather\n2.  People vs. Larry Flynt\n3.  Fargo\n4.  Bottle Rocket\n5.  Shawshank Redemption.\n\n    ### INSTRUCTIONS:\n    Recommend exactly **1 movie** from the \"Candidate Movie Set\" that are most similar to my \"Five Most Featured Movies\".\n    The output must be **STRICTLY formatted** as follows:\n\n    1. Movie Title\n\n    Do not include any extra text before or after the list\n\n    ### QUESTION:\n    What are your top 1 movie recommendations?\n\n    ### ANSWER:\n",
         " 1.Die Hard "
        ],
        [
         "13",
         "\n\n    ### CANDIDATE MOVIE SET: Cape Fear, Amadeus, Usual Suspects, Twelve Monkeys, Silence of the Lambs, Citizen Kane, Apollo 13, Star Wars, Lone Star, Ulee's Gold, Pulp Fiction, Clockwork Orange, Evita, Graduate, When Harry Met Sally..., Ice Storm, Secrets & Lies, Return of the Jedi, Vertigo.\n\n    ### MY WATCHED MOVIES LIST: Sense and Sensibility, Everyone Says I Love You, Mad City, Remains of the Day, Grand Day Out, Close Shave, Nixon, Bottle Rocket, Tin Cup, Trainspotting, Leaving Las Vegas, Willy Wonka and the Chocolate Factory, That Thing You Do!, Phenomenon, Toy Story, My Best Friend's Wedding, Singin' in the Rain, English Patient, To Kill a Mockingbird, Jerry Maguire, Titanic, Rainmaker, Go Fish, Fish Called Wanda, Contact, Chasing Amy, Nikita (La Femme Nikita), Schindler's List, Umbrellas of Cherbourg, The (Parapluies de Cherbourg, Les), Star Trek: First Contact, Fifth Element, Raging Bull, Postino, Il, Bed of Roses, River Wild, Bound, Sgt. Bilko, Richard III, Angels and Insects, I'm Not Rappaport, George of the Jungle, Liar Liar, Cook the Thief His Wife & Her Lover, Tie Me Up! Tie Me Down!, Men in Black, Before the Rain (Pred dozhdot), Piano, Four Weddings and a Funeral, Unbearable Lightness of Being, Tin Drum, The (Blechtrommel, Die), My Life as a Dog (Mitt liv som hund), Like Water For Chocolate (Como agua para chocolate), My Left Foot, Wings of Desire, Diva, Cinema Paradiso, Room with a View, Henry V, Boot, Das, Cold Comfort Farm, Kingpin, Mighty Aphrodite, Fargo.\n\n    ### MY MOVIE PREFERENCES: You appreciate complex narratives, suspenseful thrillers, and character-driven stories with a focus on drama and atmosphere..\n\n    ### MY FIVE MOST FEATURED MOVIES: Here’s your top 5 based on your preferences:\n\n1.  Godfather\n2.  Fargo\n3.  Shawshank Redemption\n4.  People vs. Larry Flynt\n5.  Bottle Rocket.\n\n    ### INSTRUCTIONS:\n    Recommend exactly **1 movie** from the \"Candidate Movie Set\" that are most similar to my \"Five Most Featured Movies\".\n    The output must be **STRICTLY formatted** as follows:\n\n    1. Movie Title\n\n    Do not include any extra text before or after the list\n\n    ### QUESTION:\n    What are your top 1 movie recommendations?\n\n    ### ANSWER:\n",
         " 1.Lone Star "
        ],
        [
         "14",
         "\n\n    ### CANDIDATE MOVIE SET: Seven (Se7en), Toy Story, Cape Fear, Terminator 2: Judgment Day, Usual Suspects, Jaws, Liar Liar, Empire Strikes Back, Speed, Silence of the Lambs, Back to the Future, Face/Off, Die Hard, Terminator, Scream, Shawshank Redemption, Chasing Amy, Broken Arrow, Contact.\n\n    ### MY WATCHED MOVIES LIST: Fugitive, Blade Runner, Raiders of the Lost Ark, Braveheart, Pulp Fiction, Return of the Jedi, Batman & Robin, Volcano, Twister, Eraser, Mission: Impossible, Executive Decision, Speed 2: Cruise Control, Independence Day (ID4), Men in Black, Twelve Monkeys, Rock, Heat, Star Wars, Con Air.\n\n    ### MY MOVIE PREFERENCES: You enjoy thrillers, action, and suspenseful mysteries with a preference for intelligent storytelling and iconic films..\n\n    ### MY FIVE MOST FEATURED MOVIES: Here’s your top 5 based on your preferences:\n\n1.  Godfather\n2.  Fargo\n3.  Raiders of the Lost Ark\n4.  Apollo 13\n5.  Return of the Jedi.\n\n    ### INSTRUCTIONS:\n    Recommend exactly **1 movie** from the \"Candidate Movie Set\" that are most similar to my \"Five Most Featured Movies\".\n    The output must be **STRICTLY formatted** as follows:\n\n    1. Movie Title\n\n    Do not include any extra text before or after the list\n\n    ### QUESTION:\n    What are your top 1 movie recommendations?\n\n    ### ANSWER:\n",
         " 1.Die Hard "
        ],
        [
         "15",
         "\n\n    ### CANDIDATE MOVIE SET: Speed, Jurassic Park, Batman, Terminator 2: Judgment Day, Die Hard 2, Psycho, Die Hard: With a Vengeance, Top Gun, Raiders of the Lost Ark, Cape Fear, GoodFellas, Get Shorty, Young Guns, Silence of the Lambs, Jaws, Aliens, Usual Suspects, Fugitive, Rob Roy.\n\n    ### MY WATCHED MOVIES LIST: Star Trek IV: The Voyage Home, Dances with Wolves, Seven (Se7en), Kids, Robin Hood: Prince of Thieves, Sword in the Stone, Alice in Wonderland, Snow White and the Seven Dwarfs, Aladdin, Lion King, Cinderella, Dumbo, Beauty and the Beast, Mr. Holland's Opus, Hoop Dreams, Time to Kill, Dead Poets Society, Shine, Apollo 13, Pink Floyd - The Wall, Shawshank Redemption, Raging Bull, Godfather: Part II, Casino, Made in America, Evening Star, Nutty Professor, Happy Gilmore, Cable Guy, Something to Talk About, Mars Attacks!, Naked Gun 33 1/3: The Final Insult, So I Married an Axe Murderer, Dave, Maverick, Brady Bunch Movie, Blue in the Face, Don't Be a Menace to South Central While Drinking Your Juice in the Hood, Three Musketeers, Beavis and Butt-head Do America, Mrs. Doubtfire, Vegas Vacation, Hot Shots! Part Deux, My Fellow Americans, Girl 6, Serial Mom, Tommy Boy, Santa Clause, Son in Law, Billy Madison, Addams Family Values, Michael, Home Alone, Dumb & Dumber, Mallrats, Mighty Aphrodite, Dazed and Confused, Grease, Kingpin, Everyone Says I Love You, Quiet Man, Mother, Blues Brothers, Swimming with Sharks, Swingers, Stand by Me, Babe, Young Frankenstein, Clueless, Ed Wood, Heathers, Real Genius, Mask, Butch Cassidy and the Sundance Kid, Flirting With Disaster, Kicking and Screaming, Cool Hand Luke, Four Weddings and a Funeral, Brazil, This Is Spinal Tap, Back to the Future, Friday, People vs. Larry Flynt, Sleepless in Seattle, Clerks, Adventures of Priscilla, Queen of the Desert, Indiana Jones and the Last Crusade, Raising Arizona, Pulp Fiction, Michael Collins, Searching for Bobby Fischer, E.T. the Extra-Terrestrial, Wizard of Oz, Monty Python and the Holy Grail, Apocalypse Now, Taxi Driver, Schindler's List, Akira, Clockwork Orange, Quiz Show, Fantasia, Forrest Gump, Sting, Toy Story, One Flew Over the Cuckoo's Nest, It's a Wonderful Life, Donnie Brasco, Heat, Austin Powers: International Man of Mystery, Fargo, Mystery Science Theater 3000: The Movie, Independence Day (ID4), Return of the Jedi, Chasing Amy, Trainspotting, Amadeus, Braveheart, Groundhog Day, To Kill a Mockingbird, Godfather, Terminator, Blade Runner, Princess Bride, Empire Strikes Back, Vertigo, Jerry Maguire, In the Line of Fire, Hunt for Red October, Star Wars, My Left Foot, Wag the Dog, Jackie Brown, Scream, Apt Pupil.\n\n    ### MY MOVIE PREFERENCES: Action, suspense, and thrillers with strong narratives and iconic moments seem to be your favorites..\n\n    ### MY FIVE MOST FEATURED MOVIES: Here’s a list of five films from your watch list that align with your preference for action, suspense, and thrillers with strong narratives:\n\n1.  Raiders of the Lost Ark \n2.  Apollo 13\n3.  Fargo\n4.  Godfather\n5.  People vs. Larry Flynt.\n\n    ### INSTRUCTIONS:\n    Recommend exactly **1 movie** from the \"Candidate Movie Set\" that are most similar to my \"Five Most Featured Movies\".\n    The output must be **STRICTLY formatted** as follows:\n\n    1. Movie Title\n\n    Do not include any extra text before or after the list\n\n    ### QUESTION:\n    What are your top 1 movie recommendations?\n\n    ### ANSWER:\n",
         " 1.Usual Suspects "
        ],
        [
         "16",
         "\n\n    ### CANDIDATE MOVIE SET: Star Wars, Mission: Impossible, When Harry Met Sally..., Chasing Amy, Usual Suspects, Psycho, Jerry Maguire, Trainspotting, Silence of the Lambs, Contact, Amadeus, Clockwork Orange, Ulee's Gold, Seven (Se7en), Cape Fear, Apt Pupil, Fugitive, Rock, Pulp Fiction.\n\n    ### MY WATCHED MOVIES LIST: Chinatown, Annie Hall, Deer Hunter, GoodFellas, One Flew Over the Cuckoo's Nest, Godfather, Graduate, Crash, Evita, Saint, Angels and Insects, Phenomenon, Crucible, Big Night, Cold Comfort Farm, Leaving Las Vegas, Sense and Sensibility, Swingers, Truth About Cats & Dogs, Secrets & Lies, Fargo, Postino, Il, Lone Star, Mother, Boogie Nights, Mrs. Brown (Her Majesty, Mrs. Brown), Tomorrow Never Dies, Jackie Brown, L.A. Confidential, Titanic, Wings of the Dove, English Patient, Ice Storm.\n\n    ### MY MOVIE PREFERENCES: You seem drawn to thrillers, dramas with complex characters, and films that blend action with substance – like suspenseful mysteries, character-driven stories, and thought-provoking narratives..\n\n    ### MY FIVE MOST FEATURED MOVIES: Here’s a list of five films from your watch list that align with your preferences:\n\n1.  Godfather\n2.  Fargo\n3.  Raiders of the Lost Ark\n4.  Apollo 13\n5.  Shawshank Redemption.\n\n    ### INSTRUCTIONS:\n    Recommend exactly **1 movie** from the \"Candidate Movie Set\" that are most similar to my \"Five Most Featured Movies\".\n    The output must be **STRICTLY formatted** as follows:\n\n    1. Movie Title\n\n    Do not include any extra text before or after the list\n\n    ### QUESTION:\n    What are your top 1 movie recommendations?\n\n    ### ANSWER:\n",
         " 1.Amadeus "
        ],
        [
         "17",
         "\n\n    ### CANDIDATE MOVIE SET: Money Talks, Kiss the Girls, Long Kiss Goodnight, Lone Star, Muppet Treasure Island, Dead Man Walking, Arrival, Multiplicity, Devil's Own, Welcome to the Dollhouse, Ulee's Gold, Frighteners, Cape Fear, Nutty Professor, Fugitive, Mulholland Falls, River Wild, Heat, Things to Do in Denver when You're Dead.\n\n    ### MY WATCHED MOVIES LIST: Private Parts, Return of the Jedi, Leaving Las Vegas, Mr. Holland's Opus, Titanic, Star Wars, L.A. Confidential, Godfather, Fargo, Beverly Hills Ninja, Last Man Standing, Tales from the Crypt Presents: Bordello of Blood, Chain Reaction, Down Periscope, Twister, Sabrina, Lost World: Jurassic Park, Stealing Beauty, Romy and Michele's High School Reunion, First Wives Club, Screamers, Trigger Effect, My Fellow Americans, Anaconda, Cable Guy, Glimmer Man, Absolute Power, Escape from L.A., Eraser, Black Sheep, Vegas Vacation, Basquiat, Austin Powers: International Man of Mystery, I Shot Andy Warhol, My Best Friend's Wedding, Con Air, Ghost and the Darkness, Independence Day (ID4), Rumble in the Bronx, That Thing You Do!, Grosse Pointe Blank, Beavis and Butt-head Do America, Mystery Science Theater 3000: The Movie, Mission: Impossible, Birdcage, Time to Kill, Mighty Aphrodite, Kingpin, Sleepers, Willy Wonka and the Chocolate Factory, Mars Attacks!, Courage Under Fire, Broken Arrow, Spitfire Grill, Executive Decision, Phenomenon, One Fine Day, 2 Days in the Valley, Men in Black, Jackie Chan's First Strike, Tin Cup, Face/Off, Postino, Il, Emma, Truth About Cats & Dogs, Donnie Brasco, Star Trek: First Contact, Cold Comfort Farm, Nixon, People vs. Larry Flynt, Boot, Das, Ransom, Brassed Off, Shiloh, Primal Fear, Chasing Amy, Jerry Maguire, Rock, Trainspotting, Fifth Element, Twelve Monkeys, Swingers, Toy Story, Bound, Rocket Man, Alien: Resurrection, Dante's Peak, Volcano, As Good As It Gets, Murder at 1600, Saint, Liar Liar, Game, Starship Troopers, Conspiracy Theory, Fly Away Home, Mother, Contact, Air Force One, Amistad, Full Monty, Scream, Tomorrow Never Dies, Rosewood, Apt Pupil, English Patient.\n\n    ### MY MOVIE PREFERENCES: You seem drawn to thrillers, dramas with strong character studies, and films exploring themes of justice, survival, and redemption – alongside some lighter fare like comedies and family adventures..\n\n    ### MY FIVE MOST FEATURED MOVIES: Here’s a list of five movies aligning with your preferences:\n\n1.  *Godfather* (Drama, Character Study)\n2.  *Fargo* (Thriller, Justice)\n3.  *Raiders of the Lost Ark* (Adventure, Survival)\n4.  *Apollo 13* (Survival, Drama)\n5.  *Shawshank Redemption* (Redemption, Drama).\n\n    ### INSTRUCTIONS:\n    Recommend exactly **1 movie** from the \"Candidate Movie Set\" that are most similar to my \"Five Most Featured Movies\".\n    The output must be **STRICTLY formatted** as follows:\n\n    1. Movie Title\n\n    Do not include any extra text before or after the list\n\n    ### QUESTION:\n    What are your top 1 movie recommendations?\n\n    ### ANSWER:\n",
         " 1.Dead Man Walking "
        ],
        [
         "18",
         "\n\n    ### CANDIDATE MOVIE SET: Seven Years in Tibet, English Patient, Amistad, Wag the Dog, G.I. Jane, Chasing Amy, Boogie Nights, Starship Troopers, Kiss the Girls, Rainmaker, Conspiracy Theory, Evita, Eve's Bayou, Ice Storm, Jackie Brown, Desperate Measures, Murder at 1600, Ulee's Gold, Fly Away Home.\n\n    ### MY WATCHED MOVIES LIST: Scream, Saint, Thousand Acres, Spice World, Mad City, Liar Liar, Gattaca, Devil's Advocate, Mrs. Brown (Her Majesty, Mrs. Brown), In & Out, Air Force One, Contact, Game, L.A. Confidential, Full Monty, Titanic, Deconstructing Harry, Kundun, Everyone Says I Love You, Good Will Hunting, Apt Pupil.\n\n    ### MY MOVIE PREFERENCES: You seem drawn to historical dramas, character-driven stories, and films exploring complex themes with a mix of serious and slightly quirky elements..\n\n    ### MY FIVE MOST FEATURED MOVIES: Here’s your top 5 based on your preferences:\n\n1.  Godfather\n2.  Fargo\n3.  Raiders of the Lost Ark\n4.  Return of the Jedi\n5.  Shawshank Redemption.\n\n    ### INSTRUCTIONS:\n    Recommend exactly **1 movie** from the \"Candidate Movie Set\" that are most similar to my \"Five Most Featured Movies\".\n    The output must be **STRICTLY formatted** as follows:\n\n    1. Movie Title\n\n    Do not include any extra text before or after the list\n\n    ### QUESTION:\n    What are your top 1 movie recommendations?\n\n    ### ANSWER:\n",
         " 1.Wag the Dog "
        ],
        [
         "19",
         "\n\n    ### CANDIDATE MOVIE SET: Ice Storm, Devil's Advocate, Good Will Hunting, Kull the Conqueror, I Know What You Did Last Summer, Desperate Measures, Kiss the Girls, Seven Years in Tibet, George of the Jungle, Ulee's Gold, Contact, Cop Land, Chasing Amy, L.A. Confidential, G.I. Jane, Mimic, Saint, MatchMaker, Murder at 1600.\n\n    ### MY WATCHED MOVIES LIST: Edge, Bean, Mad City, English Patient, Full Monty, Man Who Knew Too Little, Big Lebowski, Air Force One, Peacemaker, In & Out, Money Talks, Game, Conspiracy Theory, Fly Away Home, Titanic, That Darn Cat!, Volcano, Evita, Picture Perfect, Money Talks, Jungle2Jungle, Dante's Peak, Mother, Scream, Liar Liar.\n\n    ### MY MOVIE PREFERENCES: You seem drawn to character-driven dramas and thrillers with strong emotional elements, alongside some action and adventure films..\n\n    ### MY FIVE MOST FEATURED MOVIES: Here’s a list of five movies aligning with your preferences:\n\n1.  Godfather\n2.  Bottle Rocket\n3.  Fargo\n4.  Shawshank Redemption\n5.  People vs. Larry Flynt.\n\n    ### INSTRUCTIONS:\n    Recommend exactly **1 movie** from the \"Candidate Movie Set\" that are most similar to my \"Five Most Featured Movies\".\n    The output must be **STRICTLY formatted** as follows:\n\n    1. Movie Title\n\n    Do not include any extra text before or after the list\n\n    ### QUESTION:\n    What are your top 1 movie recommendations?\n\n    ### ANSWER:\n",
         " 1.G.I. Jane "
        ],
        [
         "20",
         "\n\n    ### CANDIDATE MOVIE SET: African Queen, Terminator 2: Judgment Day, Casablanca, M*A*S*H, Fugitive, Raising Arizona, Streetcar Named Desire, Blade Runner, Terminator, Lawrence of Arabia, Get Shorty, North by Northwest, Pulp Fiction, Butch Cassidy and the Sundance Kid, Return of the Jedi, Taxi Driver, Young Frankenstein, Empire Strikes Back, Braveheart.\n\n    ### MY WATCHED MOVIES LIST: Jerry Maguire, Marvin's Room, Rainmaker, Miracle on 34th Street, My Left Foot, Aliens, Good Will Hunting, Backbeat, Star Wars, Sex, Lies, and Videotape, Silence of the Lambs, Gigi, Forrest Gump, Bridges of Madison County, Father of the Bride, Little Princess, Blues Brothers, Glengarry Glen Ross, Maltese Falcon, Sting, Sunset Blvd., Cape Fear, Sneakers, Patton, Sabrina, Apollo 13, Fearless, William Shakespeare's Romeo and Juliet, Alien, Mirage, Annie Hall, Fried Green Tomatoes, Jungle Book, Seventh Seal, The (Sjunde inseglet, Det), Psycho, Citizen Kane, Shining, Lost Horizon, Ben-Hur, Christmas Carol, Graduate, Beauty and the Beast, Dial M for Murder, Jaws, E.T. the Extra-Terrestrial, Clockwork Orange, Sound of Music, Bonnie and Clyde, Sophie's Choice, Night of the Living Dead, Schindler's List, Gone with the Wind, Mrs. Doubtfire, Apocalypse Now, Cat on a Hot Tin Roof, Raiders of the Lost Ark, Cool Hand Luke, 2001: A Space Odyssey, When Harry Met Sally..., Breakfast at Tiffany's, Platoon, My Fair Lady, Dances with Wolves, On Golden Pond, Toy Story, Back to the Future, To Kill a Mockingbird, Philadelphia, Indiana Jones and the Last Crusade, Amadeus, Wizard of Oz, One Flew Over the Cuckoo's Nest, Misérables, Les, All About Eve, Field of Dreams, Dead Poets Society, Chinatown, Right Stuff, Godfather: Part II, Gandhi, Mr. Holland's Opus, Sleepers, Craft, 101 Dalmatians, Nixon, Mission: Impossible, Secrets & Lies, Birdcage, Men in Black, River Wild, Selena, Executive Decision, Primal Fear, Godfather, Beautician and the Beast, Crash, Liar Liar, English Patient, Scream, Titanic, Wedding Singer.\n\n    ### MY MOVIE PREFERENCES: You seem to enjoy a mix of classic dramas, action/sci-fi thrillers, and comedies with strong character stories..\n\n    ### MY FIVE MOST FEATURED MOVIES: Here’s your top 5 based on your preferences:\n\n1.  Godfather\n2.  Raiders of the Lost Ark\n3.  Fargo\n4.  Return of the Jedi\n5.  Shawshank Redemption.\n\n    ### INSTRUCTIONS:\n    Recommend exactly **1 movie** from the \"Candidate Movie Set\" that are most similar to my \"Five Most Featured Movies\".\n    The output must be **STRICTLY formatted** as follows:\n\n    1. Movie Title\n\n    Do not include any extra text before or after the list\n\n    ### QUESTION:\n    What are your top 1 movie recommendations?\n\n    ### ANSWER:\n",
         " 1.Taxi Driver "
        ],
        [
         "21",
         "\n\n    ### CANDIDATE MOVIE SET: People vs. Larry Flynt, Phenomenon, Jerry Maguire, Dead Man Walking, Ice Storm, Welcome to the Dollhouse, Emma, Mr. Holland's Opus, Rock, Twelve Monkeys, Tin Cup, Chasing Amy, Contact, Trainspotting, Truth About Cats & Dogs, Mighty Aphrodite, Scream, Star Wars, Independence Day (ID4).\n\n    ### MY WATCHED MOVIES LIST: Ponette, Full Monty, Kolya, Shall We Dance?, Leaving Las Vegas, Secrets & Lies, L.A. Confidential, Titanic, Amistad, Manny & Lo, Breaking the Waves, Ulee's Gold, English Patient, Spitfire Grill, Big Night, Celluloid Closet, Donnie Brasco, Godfather, Antonia's Line, Fargo, Michael Collins, Sense and Sensibility, Toy Story, Marvin's Room, Sabrina, That Thing You Do!, Lone Star, Postino, Il, Grosse Pointe Blank.\n\n    ### MY MOVIE PREFERENCES: You seem drawn to character-driven dramas and thrillers with strong emotional themes – exploring faith, relationships, and societal issues alongside some action/sci-fi elements like *Star Wars* and *Independence Day*..\n\n    ### MY FIVE MOST FEATURED MOVIES: Here’s a list of five films aligning with your preferences, based on your watch history:\n\n1.  Godfather\n2.  People vs. Larry Flynt\n3.  Shawshank Redemption\n4.  Fargo\n5.  Bottle Rocket.\n\n    ### INSTRUCTIONS:\n    Recommend exactly **1 movie** from the \"Candidate Movie Set\" that are most similar to my \"Five Most Featured Movies\".\n    The output must be **STRICTLY formatted** as follows:\n\n    1. Movie Title\n\n    Do not include any extra text before or after the list\n\n    ### QUESTION:\n    What are your top 1 movie recommendations?\n\n    ### ANSWER:\n",
         " 1.Dead Man Walking "
        ],
        [
         "22",
         "\n\n    ### CANDIDATE MOVIE SET: Tomorrow Never Dies, Wag the Dog, Kiss the Girls, Everyone Says I Love You, Kundun, Air Force One, Amistad, Evita, In & Out, Liar Liar, Murder at 1600, Starship Troopers, Game, Devil's Advocate, Scream 2, Money Talks, Saint, Apostle, Conspiracy Theory.\n\n    ### MY WATCHED MOVIES LIST: Fast, Cheap & Out of Control, Good Will Hunting, Gattaca, Rainmaker, Full Monty, Jackie Brown, Apt Pupil, Eve's Bayou, Titanic, Cop Land, Rosewood, G.I. Jane, English Patient, Ulee's Gold, Contact, Devil's Own, Fly Away Home, Seven Years in Tibet, Boogie Nights, Oscar & Lucinda, Chasing Amy, In the Company of Men, Scream, Wedding Singer, Ice Storm, Mrs. Brown (Her Majesty, Mrs. Brown), L.A. Confidential.\n\n    ### MY MOVIE PREFERENCES: You seem drawn to thrillers, dramas with complex characters, and films that explore political or societal issues – alongside some action and comedy..\n\n    ### MY FIVE MOST FEATURED MOVIES: Here’s a list of five movies aligning with your preferences:\n\n1.  People vs. Larry Flynt (Political/Societal)\n2.  Godfather (Drama, Complex Characters)\n3.  Fargo (Thriller, Drama)\n4.  Apollo 13 (Thriller, Drama)\n5.  Shawshank Redemption (Drama, Complex Characters).\n\n    ### INSTRUCTIONS:\n    Recommend exactly **1 movie** from the \"Candidate Movie Set\" that are most similar to my \"Five Most Featured Movies\".\n    The output must be **STRICTLY formatted** as follows:\n\n    1. Movie Title\n\n    Do not include any extra text before or after the list\n\n    ### QUESTION:\n    What are your top 1 movie recommendations?\n\n    ### ANSWER:\n",
         " 1.Apostle "
        ],
        [
         "23",
         "\n\n    ### CANDIDATE MOVIE SET: Usual Suspects, Birds, Speed, Terminator 2: Judgment Day, Godfather, Jaws, Monty Python and the Holy Grail, Cape Fear, Heathers, Godfather: Part II, Terminator, Clockwork Orange, Four Weddings and a Funeral, Field of Dreams, Shawshank Redemption, Empire Strikes Back, Braveheart, Silence of the Lambs, Sound of Music.\n\n    ### MY WATCHED MOVIES LIST: E.T. the Extra-Terrestrial, Unforgiven, Back to the Future, King of New York, Ghost, Face/Off, Mortal Kombat, Volcano, Spawn, Saint, Liar Liar, Rainmaker, Tomorrow Never Dies, Kingpin, To Kill a Mockingbird, Aladdin and the King of Thieves, Mystery Science Theater 3000: The Movie, Gone Fishin', Fifth Element, That Thing You Do!, Contact, Return of the Jedi, Quiz Show, Indiana Jones and the Last Crusade, Dial M for Murder, Sting, Fugitive, Right Stuff, My Fair Lady, Groundhog Day, Cool Hand Luke, Raiders of the Lost Ark, Raising Arizona, Crimson Tide, Forrest Gump, Beauty and the Beast, 39 Steps, Maltese Falcon, 12 Angry Men, Star Wars, Mrs. Doubtfire, Psycho, Much Ado About Nothing, Jurassic Park, Sneakers, Princess Bride, Room with a View, Ben-Hur, Manchurian Candidate, Vertigo, Firm, Pulp Fiction.\n\n    ### MY MOVIE PREFERENCES: You enjoy a mix of suspenseful thrillers (like *Usuals*, *Speed*, *Cape Fear*), action classics (*Terminator*, *Godfather*) and critically acclaimed, diverse films (*Shawshank Redemption*, *Silence of the Lambs*)..\n\n    ### MY FIVE MOST FEATURED MOVIES: Here’s a list of five movies from your watch list that align with your preferences:\n\n1.  Godfather\n2.  Fargo\n3.  Raiders of the Lost Ark\n4.  Apollo 13\n5.  Shawshank Redemption.\n\n    ### INSTRUCTIONS:\n    Recommend exactly **1 movie** from the \"Candidate Movie Set\" that are most similar to my \"Five Most Featured Movies\".\n    The output must be **STRICTLY formatted** as follows:\n\n    1. Movie Title\n\n    Do not include any extra text before or after the list\n\n    ### QUESTION:\n    What are your top 1 movie recommendations?\n\n    ### ANSWER:\n",
         " 1.Monty Python and the Holy Grail "
        ],
        [
         "24",
         "\n\n    ### CANDIDATE MOVIE SET: Ulee's Gold, MatchMaker, Ice Storm, Devil's Advocate, Chasing Amy, I Know What You Did Last Summer, Event Horizon, Saint, Excess Baggage, Game, Kiss the Girls, Rosewood, Desperate Measures, Volcano, Kull the Conqueror, Picture Perfect, Mother, G.I. Jane, Spawn.\n\n    ### MY WATCHED MOVIES LIST: George of the Jungle, Leave It to Beaver, Dante's Peak, Mimic, Alien: Resurrection, Jackal, Smile Like Yours, Anastasia, Starship Troopers, She's So Lovely, Murder at 1600, Evita, Conspiracy Theory, Devil's Own, Fly Away Home, Eve's Bayou, Peacemaker, Love Jones, Cop Land, Everyone Says I Love You, In & Out, Edge, Scream, Wings of the Dove, L.A. Confidential, Hoodlum, Boogie Nights, Contact, Soul Food, Money Talks, English Patient, Rainmaker, Thousand Acres, Full Monty, Air Force One, Seven Years in Tibet, Liar Liar.\n\n    ### MY MOVIE PREFERENCES: You seem drawn to character-driven dramas and thrillers with a blend of suspense, action, and sometimes dark themes – leaning towards independent films and those with strong narratives..\n\n    ### MY FIVE MOST FEATURED MOVIES: Here’s your top 5 based on your preferences:\n\n1.  Godfather\n2.  Fargo\n3.  Bottle Rocket\n4.  People vs. Larry Flynt\n5.  Shawshank Redemption.\n\n    ### INSTRUCTIONS:\n    Recommend exactly **1 movie** from the \"Candidate Movie Set\" that are most similar to my \"Five Most Featured Movies\".\n    The output must be **STRICTLY formatted** as follows:\n\n    1. Movie Title\n\n    Do not include any extra text before or after the list\n\n    ### QUESTION:\n    What are your top 1 movie recommendations?\n\n    ### ANSWER:\n",
         " 1.Saint "
        ],
        [
         "25",
         "\n\n    ### CANDIDATE MOVIE SET: Silence of the Lambs, Gandhi, E.T. the Extra-Terrestrial, Birds, Shining, One Flew Over the Cuckoo's Nest, 2001: A Space Odyssey, Sting, Cool Hand Luke, Blues Brothers, Dances with Wolves, Maltese Falcon, Patton, Young Frankenstein, Dr. Strangelove or: How I Learned to Stop Worrying and Love the Bomb, Forrest Gump, Jaws, Being There, Cape Fear.\n\n    ### MY WATCHED MOVIES LIST: Terminator, Godfather: Part II, Casablanca, Mr. Smith Goes to Washington, Clockwork Orange, Right Stuff, Aliens, Star Trek: The Wrath of Khan, Psycho, Starship Troopers, Hunt for Red October, M*A*S*H, Fish Called Wanda, Blade Runner, Princess Bride, Alien, Notorious, Pink Floyd - The Wall, Contact, Wild Bunch, Wizard of Oz, Henry V, Butch Cassidy and the Sundance Kid, Gone with the Wind, Monty Python and the Holy Grail, Boot, Das, Return of the Jedi, Raiders of the Lost Ark, Manchurian Candidate, Night of the Living Dead, Boogie Nights, Back to the Future, Man Who Would Be King, To Kill a Mockingbird, It Happened One Night, Hamlet, Rear Window, North by Northwest, Chinatown, Indiana Jones and the Last Crusade, Taxi Driver, Empire Strikes Back, Vertigo, Toy Story, Day the Earth Stood Still, Godfather, Star Wars, Lost Highway, English Patient.\n\n    ### MY MOVIE PREFERENCES: You seem drawn to suspenseful thrillers, historical dramas, and films exploring human nature – with a leaning towards iconic stories and thought-provoking themes..\n\n    ### MY FIVE MOST FEATURED MOVIES: Here’s your top 5 based on your preferences:\n\n1.  Godfather\n2.  Fargo\n3.  Raiders of the Lost Ark\n4.  Shawshank Redemption\n5.  People vs. Larry Flynt.\n\n    ### INSTRUCTIONS:\n    Recommend exactly **1 movie** from the \"Candidate Movie Set\" that are most similar to my \"Five Most Featured Movies\".\n    The output must be **STRICTLY formatted** as follows:\n\n    1. Movie Title\n\n    Do not include any extra text before or after the list\n\n    ### QUESTION:\n    What are your top 1 movie recommendations?\n\n    ### ANSWER:\n",
         " 1.Silence of the Lambs "
        ],
        [
         "26",
         "\n\n    ### CANDIDATE MOVIE SET: Wag the Dog, Fargo, Boogie Nights, Money Talks, Four Weddings and a Funeral, Dante's Peak, Midnight in the Garden of Good and Evil, Schindler's List, Cape Fear, Rumble in the Bronx, She's So Lovely, G.I. Jane, Twister, Amistad, Usual Suspects, Titanic, One Fine Day, Good Will Hunting, Cold Comfort Farm.\n\n    ### MY WATCHED MOVIES LIST: I'm Not Rappaport, Devil's Own, Mirror Has Two Faces, Chamber, Broken Arrow, Juror, Diabolique, Down Periscope, Fan, Muppet Treasure Island, First Wives Club, Mars Attacks!, Metisse (Café au Lait), Joe's Apartment, Four Rooms, Mulholland Falls, Lost World: Jurassic Park, Escape from L.A., Multiplicity, Crossing Guard, Men in Black, Marvin's Room, Sleepers, Time to Kill, Frighteners, Mr. Holland's Opus, Things to Do in Denver when You're Dead, Up Close and Personal, Long Kiss Goodnight, Last Supper, Female Perversions, Smilla's Sense of Snow, B*A*P*S, Arrival, James and the Giant Peach, Executive Decision, Independence Day (ID4), Unhook the Stars, Eraser, Talking About Sex, To Gillian on Her 37th Birthday, Nixon, Georgia, White Squall, Angels and Insects, Willy Wonka and the Chocolate Factory, My Fellow Americans, City Hall, Cry, the Beloved Country, Mission: Impossible, Get on the Bus, Breaking the Waves, That Thing You Do!, Maybe, Maybe Not (Bewegte Mann, Der), Con Air, Trees Lounge, Phenomenon, Leaving Las Vegas, Courage Under Fire, Star Trek: First Contact, Once Upon a Time... When We Were Colored, 2 Days in the Valley, Rock, Bound, Beautiful Girls, Ghost and the Darkness, Othello, City of Lost Children, Night Falls on Manhattan, Mystery Science Theater 3000: The Movie, Shanghai Triad (Yao a yao yao dao waipo qiao), Kama Sutra: A Tale of Love, Richard III, Face/Off, Big Night, Heat, Toy Story, Birdcage, Thin Line Between Love and Hate, Swingers, Truth or Consequences, N.M., Mighty Aphrodite, Last Time I Committed Suicide, Kids in the Hall: Brain Candy, Tin Cup, Girl 6, Romy and Michele's High School Reunion, Fear, Young Poisoner's Handbook, People vs. Larry Flynt, Twelve Monkeys, Fifth Element, Hard Eight, Chungking Express, When We Were Kings, Postino, Il, Ransom, Truth About Cats & Dogs, Intimate Relations, My Best Friend's Wedding, Live Nude Girls, Grosse Pointe Blank, Dream With the Fishes, Primal Fear, Breakdown, River Wild, Ulee's Gold, Citizen Ruth, Welcome to the Dollhouse, Jerry Maguire, Brassed Off, French Twist (Gazon maudit), City of Industry, Trainspotting, Star Wars, Shall We Dance?, Family Thing, Sense and Sensibility, Forbidden Christ, The (Cristo proibito, Il), Chasing Amy, Donnie Brasco, Beautiful Thing, Lone Star, Boy's Life 2, Celluloid Closet, Paradise Road, Love and Other Catastrophes, Late Bloomers, Schizopolis, It's My Party, Return of the Jedi, Secrets & Lies, Close Shave, Dead Man Walking, Cement Garden, In the Bleak Midwinter, Godfather, Restoration, Boot, Das, Wild Reeds, Man of the Year, Devil's Advocate, Rosewood, Telling Lies in America, Full Monty, Ulee's Gold, Welcome To Sarajevo, Kiss Me, Guido, Everyone Says I Love You, Air Force One, Life Less Ordinary, Volcano, Peacemaker, Career Girls, Crash, Evita, Lost Highway, Mimic, Murder at 1600, Eve's Bayou, Ice Storm, Saint, Playing God, Liar Liar, Kiss the Girls, Fly Away Home, Scream, Love Jones, Mother, In & Out, Hoodlum, Cop Land, Soul Food, Edge, Chasing Amy, Contact, Gattaca, Jackal, Mrs. Brown (Her Majesty, Mrs. Brown), Kolya, Washington Square, In the Company of Men, L.A. Confidential, Conspiracy Theory, Tango Lesson, Game, English Patient, Seven Years in Tibet.\n\n    ### MY MOVIE PREFERENCES: You seem drawn to a mix of dark comedies, crime thrillers, dramas with strong character studies, and some action/disaster films – leaning towards intelligent and often quirky stories..\n\n    ### MY FIVE MOST FEATURED MOVIES: Here’s a list of five movies from your watch list that align with your preferences:\n\n1.  Godfather \n2.  Fargo\n3.  Bottle Rocket\n4.  People vs. Larry Flynt\n5.  Raiders of the Lost Ark.\n\n    ### INSTRUCTIONS:\n    Recommend exactly **1 movie** from the \"Candidate Movie Set\" that are most similar to my \"Five Most Featured Movies\".\n    The output must be **STRICTLY formatted** as follows:\n\n    1. Movie Title\n\n    Do not include any extra text before or after the list\n\n    ### QUESTION:\n    What are your top 1 movie recommendations?\n\n    ### ANSWER:\n",
         " 1.Fargo "
        ],
        [
         "27",
         "\n\n    ### CANDIDATE MOVIE SET: Usual Suspects, Star Wars, Chasing Amy, E.T. the Extra-Terrestrial, Stephen King's The Langoliers, Alien 3, Jaws 2, Aliens, Shining, Clockwork Orange, Raiders of the Lost Ark, Twister, Terminator, Birds, Psycho, Independence Day (ID4), Contact, Brazil, One Flew Over the Cuckoo's Nest.\n\n    ### MY WATCHED MOVIES LIST: Godfather, Alien, Seven (Se7en), Return of the Jedi, Blade Runner, Terminator 2: Judgment Day, Amityville Horror, Body Snatchers, Mary Shelley's Frankenstein, Wes Craven's New Nightmare, Lord of Illusions, Serial Mom, Howling, Castle Freak, Lawnmower Man, Wolf, Natural Born Killers, Interview with the Vampire, Body Snatchers, Prophecy, Bram Stoker's Dracula, From Dusk Till Dawn, American Werewolf in London, Tales From the Crypt Presents: Demon Knight, Tales from the Crypt Presents: Bordello of Blood, Copycat, Freeway, Carrie, Army of Darkness, Candyman, Cape Fear, Scream, Nightmare on Elm Street, Fargo, Silence of the Lambs, Evil Dead II, Pulp Fiction, Omen, Twelve Monkeys, Jaws, Abyss, Paradise Lost: The Child Murders at Robin Hood Hills, Rosewood, Titanic.\n\n    ### MY MOVIE PREFERENCES: You seem to enjoy a mix of suspenseful thrillers (Alien, The Langoliers, Usual Suspects), sci-fi classics (Star Wars, E.T., Contact, Terminator), and thought-provoking dramas with strong visuals (Brazil, Clockwork Orange, Shining)..\n\n    ### MY FIVE MOST FEATURED MOVIES: Here’s a list of 5 films from your watch list that align with your preferences:\n\n1.  *Fargo* (Suspenseful thriller, strong visuals)\n2.  *Raiders of the Lost Ark* (Sci-fi/Adventure classic)\n3.  *Return of the Jedi* (Sci-fi Classic)\n4.  *Godfather* (Thought-provoking drama)\n5.  *Bottle Rocket* (Unique visual style & character study).\n\n    ### INSTRUCTIONS:\n    Recommend exactly **1 movie** from the \"Candidate Movie Set\" that are most similar to my \"Five Most Featured Movies\".\n    The output must be **STRICTLY formatted** as follows:\n\n    1. Movie Title\n\n    Do not include any extra text before or after the list\n\n    ### QUESTION:\n    What are your top 1 movie recommendations?\n\n    ### ANSWER:\n",
         " 1.Star Wars "
        ],
        [
         "28",
         "\n\n    ### CANDIDATE MOVIE SET: Titanic, Cape Fear, Four Weddings and a Funeral, Chasing Amy, Raiders of the Lost Ark, When Harry Met Sally..., Dances with Wolves, Dead Poets Society, Stand by Me, Clockwork Orange, Twelve Monkeys, Jaws, Back to the Future, Silence of the Lambs, GoodFellas, North by Northwest, Sabrina, Searching for Bobby Fischer, Field of Dreams.\n\n    ### MY WATCHED MOVIES LIST: Cool Hand Luke, Empire Strikes Back, Patton, Taxi Driver, Before Sunrise, Indiana Jones and the Last Crusade, Pulp Fiction, Hamlet, High Noon, Vertigo, It's a Wonderful Life, Jean de Florette, Philadelphia, Walkabout, Citizen Kane, Forrest Gump, Platoon, Lawrence of Arabia, One Flew Over the Cuckoo's Nest, Amadeus, Brazil, Cyrano de Bergerac, Being There, Graduate, Glory, Much Ado About Nothing, Deer Hunter, Raising Arizona, Dr. Strangelove or: How I Learned to Stop Worrying and Love the Bomb, Right Stuff, Terminator 2: Judgment Day, Sling Blade, Sting, Beauty and the Beast, Eat Drink Man Woman, Chinatown, Terminator, Bridge on the River Kwai, Shine, Apollo 13, E.T. the Extra-Terrestrial, Piano, Die Hard, Godfather: Part II, Casablanca, Manon of the Spring (Manon des sources), Shawshank Redemption, Cinema Paradiso, Fugitive, Great Escape, Some Folks Call It a Sling Blade, Return of the Jedi, Get on the Bus, Birdcage, Courage Under Fire, Family Thing, Star Trek: First Contact, Michael Collins, Tin Cup, That Thing You Do!, Starship Troopers, Richard III, Men in Black, Ulee's Gold, Grosse Pointe Blank, Jerry Maguire, Mr. Holland's Opus, Funeral, Big Night, Fargo, Mission: Impossible, Boot, Das, Toy Story, Mighty Aphrodite, Shall We Dance?, Cold Comfort Farm, Secrets & Lies, When We Were Kings, Lone Star, Emma, Brassed Off, Sense and Sensibility, Star Wars, Godfather, Postino, Il, Peacemaker, Mother, Saint, G.I. Jane, Conspiracy Theory, Deceiver, U Turn, Fly Away Home, Kolya, Contact, Mrs. Brown (Her Majesty, Mrs. Brown), FairyTale: A True Story, English Patient, L.A. Confidential, Ulee's Gold, Full Monty.\n\n    ### MY MOVIE PREFERENCES: You seem to enjoy a mix of classic adventure/action films (Raiders, Jaws), dramas with strong characters and emotional depth (Titanic, Dead Poets Society, Silence of the Lambs), and romantic comedies (Four Weddings, When Harry Met Sally...)..\n\n    ### MY FIVE MOST FEATURED MOVIES: Here’s a list of 5 films from your watch list that align with your preferences:\n\n1.  Godfather\n2.  Raiders of the Lost Ark\n3.  Fargo\n4.  Shawshank Redemption\n5.  Return of the Jedi.\n\n    ### INSTRUCTIONS:\n    Recommend exactly **1 movie** from the \"Candidate Movie Set\" that are most similar to my \"Five Most Featured Movies\".\n    The output must be **STRICTLY formatted** as follows:\n\n    1. Movie Title\n\n    Do not include any extra text before or after the list\n\n    ### QUESTION:\n    What are your top 1 movie recommendations?\n\n    ### ANSWER:\n",
         " 1.Raiders of the Lost Ark "
        ],
        [
         "29",
         "\n\n    ### CANDIDATE MOVIE SET: Field of Dreams, Cape Fear, Birdcage, Sabrina, Fugitive, Body Snatchers, Raising Arizona, Clockwork Orange, Bonnie and Clyde, Dances with Wolves, Four Weddings and a Funeral, Fargo, Sound of Music, One Flew Over the Cuckoo's Nest, Psycho, Get Shorty, To Kill a Mockingbird, Right Stuff, Jaws.\n\n    ### MY WATCHED MOVIES LIST: Legends of the Fall, Nobody's Fool, Amadeus, Rock, Star Trek: First Contact, Aliens, Cyrano de Bergerac, Glory, 2001: A Space Odyssey, When Harry Met Sally..., Dead Poets Society, Leaving Las Vegas, Crow, E.T. the Extra-Terrestrial, Heat, Alphaville, Raiders of the Lost Ark, Back to the Future, Dead Man Walking, Star Trek: The Wrath of Khan, Blues Brothers, Silence of the Lambs, Stand by Me, Apollo 13, Beauty and the Beast, My Life as a Dog (Mitt liv som hund), Alien, Highlander, Dr. Strangelove or: How I Learned to Stop Worrying and Love the Bomb, Pulp Fiction, Brazil, Seventh Seal, The (Sjunde inseglet, Det), Forrest Gump, Graduate, Full Metal Jacket, Stalker, Empire Strikes Back, Blade Runner, Manchurian Candidate, Rosencrantz and Guildenstern Are Dead, Nikita (La Femme Nikita), Citizen Kane, Taxi Driver, Fried Green Tomatoes, Hamlet, Swingers, Apocalypse Now, Crimson Tide, Usual Suspects, Trainspotting, Terminator 2: Judgment Day, Wizard of Oz, Diva, Twelve Monkeys, Monty Python and the Holy Grail, Great Dictator, Reservoir Dogs, It's a Wonderful Life, Shawshank Redemption, Seven (Se7en), Indiana Jones and the Last Crusade, GoodFellas, Toy Story, Die Hard, Unforgiven, M*A*S*H, Rear Window, Terminator, Koyaanisqatsi, Braveheart, Schindler's List, African Queen, North by Northwest, Casablanca, Killing Fields, Lawrence of Arabia, Lost World: Jurassic Park, Buddy, Fifth Element, Men in Black, Breakdown, Return of the Jedi, Star Wars, Volcano, Saint, Dante's Peak, Evita, Conspiracy Theory, Liar Liar, Gattaca, Seven Years in Tibet, Air Force One, Contact, English Patient.\n\n    ### MY MOVIE PREFERENCES: You seem drawn to dramas and thrillers with strong character studies, some dark humor, and a mix of classic and critically acclaimed films..\n\n    ### MY FIVE MOST FEATURED MOVIES: Here’s your top 5 based on your preferences:\n\n1.  Godfather\n2.  Fargo\n3.  Raiders of the Lost Ark\n4.  Shawshank Redemption\n5.  People vs. Larry Flynt.\n\n    ### INSTRUCTIONS:\n    Recommend exactly **1 movie** from the \"Candidate Movie Set\" that are most similar to my \"Five Most Featured Movies\".\n    The output must be **STRICTLY formatted** as follows:\n\n    1. Movie Title\n\n    Do not include any extra text before or after the list\n\n    ### QUESTION:\n    What are your top 1 movie recommendations?\n\n    ### ANSWER:\n",
         " 1.Fugitive "
        ],
        [
         "30",
         "\n\n    ### CANDIDATE MOVIE SET: Jackal, I Know What You Did Last Summer, Cop Land, Money Talks, Everyone Says I Love You, Game, Volcano, Mimic, Mad City, Kull the Conqueror, Jackie Brown, Gattaca, Saint, Conspiracy Theory, Starship Troopers, Contact, Scream 2, Eve's Bayou, Rosewood.\n\n    ### MY WATCHED MOVIES LIST: G.I. Jane, As Good As It Gets, Palmetto, Desperate Measures, Ulee's Gold, Apostle, Ice Storm, She's So Lovely, Devil's Advocate, Alien: Resurrection, Gang Related, Flubber, Half Baked, Fallen, Anastasia, Midnight in the Garden of Good and Evil, Evita, Apt Pupil, English Patient, Home Alone 3, Beautician and the Beast, Dante's Peak, Scream, Red Corner, U Turn, Edge, Tomorrow Never Dies, Chasing Amy, Bean, Peacemaker, MatchMaker, Murder at 1600, Wag the Dog, In & Out, Full Monty, Titanic, Kiss the Girls, Boogie Nights, Devil's Own, Jungle2Jungle, Air Force One, George of the Jungle, Excess Baggage, Sweet Hereafter, Rainmaker, Kolya, Spice World, L.A. Confidential, Liar Liar, Life Less Ordinary, Mrs. Dalloway, Good Will Hunting, Amistad, Seven Years in Tibet.\n\n    ### MY MOVIE PREFERENCES: You seem drawn to thrillers, crime dramas, and sci-fi with a touch of suspense and character-driven stories..\n\n    ### MY FIVE MOST FEATURED MOVIES: Here’s your top 5 based on your preferences:\n\n1.  Godfather\n2.  Fargo\n3.  People vs. Larry Flynt\n4.  Apollo 13\n5.  Raiders of the Lost Ark.\n\n    ### INSTRUCTIONS:\n    Recommend exactly **1 movie** from the \"Candidate Movie Set\" that are most similar to my \"Five Most Featured Movies\".\n    The output must be **STRICTLY formatted** as follows:\n\n    1. Movie Title\n\n    Do not include any extra text before or after the list\n\n    ### QUESTION:\n    What are your top 1 movie recommendations?\n\n    ### ANSWER:\n",
         " 1.Starship Troopers "
        ],
        [
         "31",
         "\n\n    ### CANDIDATE MOVIE SET: Kull the Conqueror, Ulee's Gold, Murder at 1600, Contact, Peacemaker, Mimic, L.A. Confidential, Conspiracy Theory, Kiss the Girls, Saint, Devil's Advocate, Dante's Peak, Chasing Amy, Full Monty, In & Out, Wag the Dog, Edge, Money Talks, English Patient.\n\n    ### MY WATCHED MOVIES LIST: Volcano, Liar Liar, Senseless, Half Baked, Event Horizon, Booty Call, Spawn, Alien: Resurrection, Starship Troopers, Scream 2, I Know What You Did Last Summer, Sphere, Hoodlum, Scream, Soul Food, Game, Eve's Bayou, Love Jones, Titanic, Boogie Nights, Rosewood, Jackie Brown, Air Force One.\n\n    ### MY MOVIE PREFERENCES: You seem drawn to character-driven dramas and thrillers with a blend of suspense, social commentary, and occasional action – leaning towards stories that explore complex themes and human relationships..\n\n    ### MY FIVE MOST FEATURED MOVIES: Here’s your top 5 based on your preferences:\n\n1.  Godfather\n2.  Fargo\n3.  Shawshank Redemption\n4.  People vs. Larry Flynt\n5.  Bottle Rocket.\n\n    ### INSTRUCTIONS:\n    Recommend exactly **1 movie** from the \"Candidate Movie Set\" that are most similar to my \"Five Most Featured Movies\".\n    The output must be **STRICTLY formatted** as follows:\n\n    1. Movie Title\n\n    Do not include any extra text before or after the list\n\n    ### QUESTION:\n    What are your top 1 movie recommendations?\n\n    ### ANSWER:\n",
         " 1.Murder at 1600 "
        ],
        [
         "32",
         "\n\n    ### CANDIDATE MOVIE SET: When Harry Met Sally..., Wizard of Oz, Cape Fear, M*A*S*H, Fugitive, Four Weddings and a Funeral, Shawshank Redemption, Dances with Wolves, To Kill a Mockingbird, Sound of Music, Casablanca, Jaws, Dr. Strangelove or: How I Learned to Stop Worrying and Love the Bomb, Usual Suspects, African Queen, Dead Poets Society, Raiders of the Lost Ark, Field of Dreams, Pulp Fiction.\n\n    ### MY WATCHED MOVIES LIST: Conan the Barbarian, Breakfast at Tiffany's, Pink Floyd - The Wall, Penny Serenade, Psycho, Monty Python's Life of Brian, His Girl Friday, Graduate, Christmas Carol, Reservoir Dogs, Mr. Smith Goes to Washington, Somewhere in Time, Sleeper, Patton, Laura, Bringing Up Baby, Sabrina, Muriel's Wedding, Rebel Without a Cause, Brazil, It's a Wonderful Life, Smoke, Cool Hand Luke, Apartment, Tin Drum, The (Blechtrommel, Die), Quiet Man, High Noon, Manchurian Candidate, Chinatown, This Is Spinal Tap, Adventures of Priscilla, Queen of the Desert, Sunset Blvd., Fantasia, Rebecca, Adventures of Robin Hood, 12 Angry Men, Fargo, East of Eden, Killing Fields, Schindler's List, Apocalypse Now, Citizen Kane, All About Eve, Forrest Gump, Braveheart, Sophie's Choice, Angel and the Badman, Quiz Show, Crying Game, Day the Earth Stood Still, It Happened One Night, Right Stuff, Blade Runner, Silence of the Lambs, 2001: A Space Odyssey, Philadelphia, Treasure of the Sierra Madre, Young Frankenstein, Rear Window, Amadeus, Star Wars, Postino, Il, Thin Man, Stand by Me, Godfather: Part II, Indiana Jones and the Last Crusade, Annie Hall, Cinema Paradiso, North by Northwest, Star Trek: First Contact, Butch Cassidy and the Sundance Kid, Princess Bride, Empire Strikes Back, Tango Lesson, English Patient, Full Monty, Good Will Hunting, Apostle, Wag the Dog, L.A. Confidential, Indian Summer, As Good As It Gets, Wedding Singer, George of the Jungle, Murder at 1600, Evita, Air Force One, Boogie Nights, Fly Away Home.\n\n    ### MY MOVIE PREFERENCES: You seem to enjoy a mix of classic dramas, comedies with heart, and thrilling suspense stories – often with strong character development and memorable moments..\n\n    ### MY FIVE MOST FEATURED MOVIES: Here’s your top 5 based on your preferences:\n\n1.  Godfather\n2.  Fargo\n3.  Raiders of the Lost Ark\n4.  Shawshank Redemption\n5.  Return of the Jedi.\n\n    ### INSTRUCTIONS:\n    Recommend exactly **1 movie** from the \"Candidate Movie Set\" that are most similar to my \"Five Most Featured Movies\".\n    The output must be **STRICTLY formatted** as follows:\n\n    1. Movie Title\n\n    Do not include any extra text before or after the list\n\n    ### QUESTION:\n    What are your top 1 movie recommendations?\n\n    ### ANSWER:\n",
         " 1.M*A*S*H "
        ],
        [
         "33",
         "\n\n    ### CANDIDATE MOVIE SET: Titanic, Devil's Advocate, Evita, Full Monty, L.A. Confidential, Ulee's Gold, Volcano, Game, Air Force One, Edge, Money Talks, In & Out, Wag the Dog, Peacemaker, Picture Perfect, Desperate Measures, Murder at 1600, Kull the Conqueror, Chasing Amy.\n\n    ### MY WATCHED MOVIES LIST: Liar Liar, Rosewood, George of the Jungle, I Know What You Did Last Summer, Conspiracy Theory, Scream, Mouse Hunt, Anna Karenina, Seven Years in Tibet, Home Alone 3, Firestorm, Swept from the Sea, Fly Away Home, Rainmaker, Anastasia, Contact, Welcome To Sarajevo, Postman, Amistad, Gattaca, English Patient.\n\n    ### MY MOVIE PREFERENCES: You seem drawn to dramas and thrillers with strong character stories, historical elements, and a mix of serious and somewhat lighter fare – think romance, action, and social commentary..\n\n    ### MY FIVE MOST FEATURED MOVIES: Here’s your top 5 based on your preferences:\n\n1.  Godfather\n2.  Fargo\n3.  Raiders of the Lost Ark\n4.  Shawshank Redemption\n5.  People vs. Larry Flynt.\n\n    ### INSTRUCTIONS:\n    Recommend exactly **1 movie** from the \"Candidate Movie Set\" that are most similar to my \"Five Most Featured Movies\".\n    The output must be **STRICTLY formatted** as follows:\n\n    1. Movie Title\n\n    Do not include any extra text before or after the list\n\n    ### QUESTION:\n    What are your top 1 movie recommendations?\n\n    ### ANSWER:\n",
         " 1.Evita "
        ],
        [
         "34",
         "\n\n    ### CANDIDATE MOVIE SET: Edge, Money Talks, Rosewood, Volcano, Wag the Dog, Full Monty, G.I. Jane, Starship Troopers, Good Will Hunting, Murder at 1600, Ulee's Gold, Contact, Kiss the Girls, Cop Land, Amistad, Hoodlum, Liar Liar, Peacemaker, Kull the Conqueror.\n\n    ### MY WATCHED MOVIES LIST: Dante's Peak, Spawn, Saint, Bean, Mimic, Midnight in the Garden of Good and Evil, Evita, Kiss Me, Guido, Event Horizon, Alien: Resurrection, Scream, In & Out, Devil's Advocate, Boogie Nights, Afterglow, Cats Don't Dance, Conspiracy Theory, Wedding Singer, Everyone Says I Love You, Keys to Tulsa, Jackie Brown, Lost Highway, Game, I Know What You Did Last Summer, Gattaca, English Patient, Mrs. Dalloway, Chasing Amy, Scream 2, Kolya, L.A. Confidential, Titanic, Washington Square, Eve's Bayou, Ice Storm, Wings of the Dove, Air Force One.\n\n    ### MY MOVIE PREFERENCES: You seem drawn to character-driven dramas and action films with strong themes – often exploring social issues or intense personal struggles alongside thrilling sequences..\n\n    ### MY FIVE MOST FEATURED MOVIES: Here’s a list of five movies aligning with your preferences, based on your watch history:\n\n1.  People vs. Larry Flynt \n2.  Godfather\n3.  Bottle Rocket\n4.  Fargo\n5.  Shawshank Redemption.\n\n    ### INSTRUCTIONS:\n    Recommend exactly **1 movie** from the \"Candidate Movie Set\" that are most similar to my \"Five Most Featured Movies\".\n    The output must be **STRICTLY formatted** as follows:\n\n    1. Movie Title\n\n    Do not include any extra text before or after the list\n\n    ### QUESTION:\n    What are your top 1 movie recommendations?\n\n    ### ANSWER:\n",
         " 1.Volcano "
        ],
        [
         "35",
         "\n\n    ### CANDIDATE MOVIE SET: Con Air, Twelve Monkeys, Mighty Aphrodite, Secrets & Lies, Heat, Sleepers, Mission: Impossible, Ice Storm, Apt Pupil, Devil's Advocate, Trainspotting, Scream, Lone Star, Chasing Amy, Rock, Toy Story, Leaving Las Vegas, Everyone Says I Love You, Conspiracy Theory.\n\n    ### MY WATCHED MOVIES LIST: Good Will Hunting, Amistad, Game, As Good As It Gets, English Patient, Dangerous Beauty, Air Force One, Godfather, Sense and Sensibility, In Love and War, Lost World: Jurassic Park, Mirror Has Two Faces, Devil's Own, First Wives Club, Executive Decision, Fierce Creatures, River Wild, That Thing You Do!, Broken Arrow, Face/Off, Phenomenon, Return of the Jedi, My Best Friend's Wedding, Cold Comfort Farm, Star Wars, People vs. Larry Flynt, Ulee's Gold, Fifth Element, Truth About Cats & Dogs, Postino, Il, Donnie Brasco, Emma, Independence Day (ID4), Big Night, Jerry Maguire, Men in Black, Courage Under Fire, Cry, the Beloved Country, Boot, Das, Spitfire Grill, Michael Collins, Fargo, Volcano, Sphere, Fly Away Home, Midnight in the Garden of Good and Evil, Sweet Hereafter, Mrs. Brown (Her Majesty, Mrs. Brown), Seven Years in Tibet, Contact, Fast, Cheap & Out of Control, Blues Brothers 2000, Wag the Dog, Kundun, Apostle, Ulee's Gold, L.A. Confidential, Titanic, Full Monty, Rainmaker.\n\n    ### MY MOVIE PREFERENCES: You seem drawn to thrillers, dramas with complex characters, and films exploring darker themes – often with a touch of suspense or social commentary..\n\n    ### MY FIVE MOST FEATURED MOVIES: Here’s your top 5 based on your preferences:\n\n1.  Godfather\n2.  People vs. Larry Flynt\n3.  Fargo\n4.  Bottle Rocket\n5.  Shawshank Redemption.\n\n    ### INSTRUCTIONS:\n    Recommend exactly **1 movie** from the \"Candidate Movie Set\" that are most similar to my \"Five Most Featured Movies\".\n    The output must be **STRICTLY formatted** as follows:\n\n    1. Movie Title\n\n    Do not include any extra text before or after the list\n\n    ### QUESTION:\n    What are your top 1 movie recommendations?\n\n    ### ANSWER:\n",
         " 1.Apt Pupil "
        ],
        [
         "36",
         "\n\n    ### CANDIDATE MOVIE SET: Jackie Brown, English Patient, Apt Pupil, Money Talks, Evita, Good Will Hunting, Chasing Amy, Kiss the Girls, Ulee's Gold, In & Out, Alien: Resurrection, Edge, Peacemaker, Liar Liar, Tomorrow Never Dies, Volcano, Gattaca, Amistad, L.A. Confidential.\n\n    ### MY WATCHED MOVIES LIST: Event Horizon, Murder at 1600, Dante's Peak, Saint, Lost Highway, Sphere, Devil's Own, Air Force One, Starship Troopers, Wag the Dog, Man Who Knew Too Little, Devil's Advocate, Game, Scream, Conspiracy Theory, Ice Storm, Boogie Nights, Big Lebowski, Titanic, Contact, Full Monty.\n\n    ### MY MOVIE PREFERENCES: You seem drawn to character-driven dramas and thrillers with strong narratives, exploring themes of morality, relationships, and social issues – often with a touch of suspense or historical context..\n\n    ### MY FIVE MOST FEATURED MOVIES: Here’s your top 5 based on your preferences:\n\n1.  Godfather\n2.  People vs. Larry Flynt\n3.  Fargo\n4.  Shawshank Redemption\n5.  Bottle Rocket.\n\n    ### INSTRUCTIONS:\n    Recommend exactly **1 movie** from the \"Candidate Movie Set\" that are most similar to my \"Five Most Featured Movies\".\n    The output must be **STRICTLY formatted** as follows:\n\n    1. Movie Title\n\n    Do not include any extra text before or after the list\n\n    ### QUESTION:\n    What are your top 1 movie recommendations?\n\n    ### ANSWER:\n",
         " 1.Volcano "
        ],
        [
         "37",
         "\n\n    ### CANDIDATE MOVIE SET: Game, Ice Storm, Money Talks, Kiss the Girls, Murder at 1600, As Good As It Gets, Rosewood, Amistad, Boogie Nights, Alien: Resurrection, Ulee's Gold, Midnight in the Garden of Good and Evil, G.I. Jane, Edge, Devil's Advocate, Evita, Chasing Amy, Mimic, Eve's Bayou.\n\n    ### MY WATCHED MOVIES LIST: Saint, Liar Liar, Spawn, Jackal, Lost Highway, Mouse Hunt, Tomorrow Never Dies, Cop Land, Rocket Man, Kolya, Starship Troopers, Everyone Says I Love You, U Turn, Indian Summer, Air Force One, Contact, Conspiracy Theory, Scream, Rainmaker, Titanic, Wag the Dog, Apt Pupil, Good Will Hunting, Gattaca, L.A. Confidential, English Patient.\n\n    ### MY MOVIE PREFERENCES: You seem drawn to dramas and thrillers with strong character studies, historical narratives, and a mix of intense and thought-provoking stories..\n\n    ### MY FIVE MOST FEATURED MOVIES: Here’s your top 5 based on your preferences:\n\n1.  Godfather\n2.  Fargo\n3.  Raiders of the Lost Ark\n4.  Shawshank Redemption\n5.  People vs. Larry Flynt.\n\n    ### INSTRUCTIONS:\n    Recommend exactly **1 movie** from the \"Candidate Movie Set\" that are most similar to my \"Five Most Featured Movies\".\n    The output must be **STRICTLY formatted** as follows:\n\n    1. Movie Title\n\n    Do not include any extra text before or after the list\n\n    ### QUESTION:\n    What are your top 1 movie recommendations?\n\n    ### ANSWER:\n",
         " 1.Midnight in the Garden of Good and Evil "
        ],
        [
         "38",
         "\n\n    ### CANDIDATE MOVIE SET: Terminator, Mary Poppins, American in Paris, Streetcar Named Desire, Duck Soup, Forrest Gump, Jaws, My Fair Lady, Return of the Jedi, Aliens, Apollo 13, Blues Brothers, Alien, Empire Strikes Back, Godfather: Part II, African Queen, Rebel Without a Cause, Raising Arizona, Get Shorty.\n\n    ### MY WATCHED MOVIES LIST: Psycho, Dial M for Murder, Inspector General, Stand by Me, Sting, Patton, Cinderella, Gay Divorcee, To Catch a Thief, Sound of Music, Graduate, Christmas Carol, Once Upon a Time in the West, Citizen Kane, Night of the Living Dead, Dead Poets Society, Taxi Driver, Foreign Correspondent, Rebecca, Ben-Hur, Maltese Falcon, Being There, 2001: A Space Odyssey, Butch Cassidy and the Sundance Kid, Sabrina, Giant, Gigi, Gandhi, Thin Man, North by Northwest, Rear Window, High Noon, Pinocchio, For Whom the Bell Tolls, To Be or Not to Be, M*A*S*H, Mark of Zorro, Fantasia, Bride of Frankenstein, My Man Godfrey, Treasure of the Sierra Madre, Ninotchka, Crossfire, Murder, My Sweet, Monty Python and the Holy Grail, Snow White and the Seven Dwarfs, Harold and Maude, Day the Earth Stood Still, Spellbound, 12 Angry Men, Apartment, Joe's Apartment, It's a Wonderful Life, Touch of Evil, Dr. Strangelove or: How I Learned to Stop Worrying and Love the Bomb, Chinatown, Sunset Blvd., Great Dictator, Philadelphia Story, Some Like It Hot, To Kill a Mockingbird, Silence of the Lambs, Gaslight, Shining, Adventures of Robin Hood, His Girl Friday, Glory, Bridge on the River Kwai, GoodFellas, Cape Fear, Big Sleep, Casablanca, Star Wars, Young Frankenstein, Manchurian Candidate, Arsenic and Old Lace, Fargo, Back to the Future, Amadeus, Mr. Smith Goes to Washington, Meet Me in St. Louis, Wizard of Oz, Bonnie and Clyde, Raiders of the Lost Ark, Schindler's List, All About Eve, Crying Game, Notorious, Blue Angel, The (Blaue Engel, Der), Gone with the Wind, Lawrence of Arabia, Magnificent Seven, Paths of Glory, Father of the Bride, Quiet Man, Singin' in the Rain, East of Eden, Kiss the Girls, Evita, Red Corner.\n\n    ### MY MOVIE PREFERENCES: You seem to enjoy a mix of classic dramas, sci-fi action, and comedies with some historical elements – leaning towards thought-provoking stories and iconic films..\n\n    ### MY FIVE MOST FEATURED MOVIES: Here’s a list of five movies aligning with your preferences, based on your watch history:\n\n1.  Godfather \n2.  Fargo\n3.  Raiders of the Lost Ark\n4.  Return of the Jedi\n5.  Apollo 13.\n\n    ### INSTRUCTIONS:\n    Recommend exactly **1 movie** from the \"Candidate Movie Set\" that are most similar to my \"Five Most Featured Movies\".\n    The output must be **STRICTLY formatted** as follows:\n\n    1. Movie Title\n\n    Do not include any extra text before or after the list\n\n    ### QUESTION:\n    What are your top 1 movie recommendations?\n\n    ### ANSWER:\n",
         " 1.Duck Soup "
        ],
        [
         "39",
         "\n\n    ### CANDIDATE MOVIE SET: Get Shorty, Clueless, When Harry Met Sally..., Shining, Hudsucker Proxy, Groundhog Day, True Romance, Robin Hood: Prince of Thieves, GoldenEye, Sleepless in Seattle, Amadeus, One Flew Over the Cuckoo's Nest, Executive Decision, Psycho, American President, Twelve Monkeys, Birdcage, Contact, Alien.\n\n    ### MY WATCHED MOVIES LIST: Tin Cup, Fugitive, Welcome to the Dollhouse, Sabrina, Tales From the Crypt Presents: Demon Knight, Celluloid Closet, Willy Wonka and the Chocolate Factory, Bushwhacked, Ed Wood, Gandhi, Jeffrey, Bastard Out of Carolina, Jerry Maguire, City of Lost Children, Like Water For Chocolate (Como agua para chocolate), Sabrina, Adventures of Pinocchio, Spanking the Monkey, Fried Green Tomatoes, Clerks, Field of Dreams, Casino, Babe, Michael Collins, Absolute Power, Brothers McMullen, Leaving Las Vegas, Beans of Egypt, Maine, Dead Man Walking, Misérables, Les, People vs. Larry Flynt, Glory, Frisk, Usual Suspects, Johns, Fargo, Bean, Very Brady Sequel, Kid in King Arthur's Court, Rising Sun, Man of the House, Cool Runnings, Hour of the Pig, Lion King, Fish Called Wanda, Tales from the Hood, Herbie Rides Again, Ace Ventura: Pet Detective, Robocop 3, Dumb & Dumber, Drop Zone, Madonna: Truth or Dare, Jade, Congo, Ace Ventura: When Nature Calls, Beverly Hills Cop III, Star Trek V: The Final Frontier, City Slickers II: The Legend of Curly's Gold, Jaws 2, Species, Blob, Robin Hood: Men in Tights, Brady Bunch Movie, So I Married an Axe Murderer, French Kiss, Threesome, Cliffhanger, Batman, Marked for Death, Young Guns, Transformers: The Movie, Flintstones, Casper, Batman Returns, Major Payne, Mask, Assassins, Amazing Panda Adventure, Pump Up the Volume, Jungle Book, Princess Bride, Hoop Dreams, It's a Wonderful Life, Dead Poets Society, Addams Family Values, Phantom, It Could Happen to You, Batman Forever, Surviving the Game, Little Rascals, Doors, Star Trek III: The Search for Spock, Firm, Hot Shots! Part Deux, Lord of Illusions, Home Alone, Hackers, Free Willy, Billy Madison, Stargate, Down Periscope, Dirty Dancing, Money Train, Demolition Man, Virtuosity, Disclosure, Santa Clause, Scarlet Letter, Waterworld, First Knight, American Werewolf in London, Goofy Movie, Miracle on 34th Street, Just Cause, Fantasia, Love Bug, Nine Months, Dave, Alice in Wonderland, Star Trek: The Wrath of Khan, Rock, Crow, With Honors, Rob Roy, Under Siege, Christmas Carol, Dumbo, Winnie the Pooh and the Blustery Day, Pulp Fiction, Godfather, Godfather: Part II, Reality Bites, Robert A. Heinlein's The Puppet Masters, Speed, Naked Gun 33 1/3: The Final Insult, Crimson Tide, Mortal Kombat, Under Siege 2: Dark Territory, Madame Butterfly, Basketball Diaries, Nightmare on Elm Street, Alien 3, Mary Shelley's Frankenstein, Dangerous Minds, Natural Born Killers, 101 Dalmatians, Sliver, Vampire in Brooklyn, Star Trek: Generations, Net, Die Hard: With a Vengeance, Black Beauty, Benny & Joon, Prophecy, Nightmare Before Christmas, Copycat, Apocalypse Now, Fear, Quiz Show, Desperado, Highlander, Clear and Present Danger, Tombstone, Star Trek VI: The Undiscovered Country, Jumanji, Immortal Beloved, Pink Floyd - The Wall, Pinocchio, Grease, Boys of St. Vincent, Sound of Music, Endless Summer 2, Cape Fear, True Lies, Conan the Barbarian, Sneakers, Abyss, Client, Jurassic Park, Philadelphia, Star Trek IV: The Voyage Home, Star Trek: First Contact, Unforgiven, Top Gun, Ghost, Clockwork Orange, Rebel Without a Cause, Die Hard 2, Stand by Me, Strange Days, Full Metal Jacket, Heathers, Snow White and the Seven Dwarfs, In the Line of Fire, Aristocats, Seven (Se7en), Apollo 13, Rudy, Adventures of Priscilla, Queen of the Desert, Menace II Society, Interview with the Vampire, E.T. the Extra-Terrestrial, Pocahontas, Cape Fear, Homeward Bound: The Incredible Journey, Maverick, Swiss Family Robinson, Cinderella, Operation Dumbo Drop, Dazed and Confused, Stonewall, Mrs. Doubtfire, Higher Learning, Piano, Kids, Mary Poppins, Wizard of Oz, Monty Python's Life of Brian, Jaws, Supercop, Priest, Dances with Wolves, Fox and the Hound, Ben-Hur, While You Were Sleeping, Professional, Outbreak, Aladdin, Star Wars, Sling Blade, Shine, Beauty and the Beast, Silence of the Lambs, Last of the Mohicans, Braveheart, Indiana Jones and the Last Crusade, Hunt for Red October, Monty Python and the Holy Grail, Die Hard, Return of the Jedi, Blues Brothers, Terminator, Brazil, Schindler's List, GoodFellas, Paradise Lost: The Child Murders at Robin Hood Hills, Empire Strikes Back, Reservoir Dogs, Better Off Dead..., Three Musketeers, Shawshank Redemption, M. Butterfly, Raiders of the Lost Ark, Real Genius, Aliens, Raising Arizona, Back to the Future, Terminator 2: Judgment Day, Forrest Gump, Platoon, Wallace & Gromit: The Best of Aardman Animation, Night of the Living Dead, Lawrence of Arabia, Spy Hard, Wild America, Substitute, Metro, Arrival, Craft, Turbulence, Screamers, Great White Hype, Independence Day (ID4), Twister, Broken Arrow, Ghost and the Darkness, Eraser, Breakdown, Rumble in the Bronx, Space Jam, Jackie Chan's First Strike, Tales from the Crypt Presents: Bordello of Blood, Happy Gilmore, Mars Attacks!, Ransom, Mr. Holland's Opus, It's My Party, Trainspotting, Frighteners, Cry, the Beloved Country, Time to Kill, That Thing You Do!, Sleepers, Courage Under Fire, White Squall, Toy Story, Heat, Chasing Amy, Long Kiss Goodnight, Mission: Impossible, Primal Fear, Things to Do in Denver when You're Dead, Beautiful Thing, Alien: Resurrection, Mortal Kombat: Annihilation, Boogie Nights, Mimic, Dante's Peak, Stag, Conspiracy Theory, Evita, Chasing Amy, Devil's Advocate, Kiss the Girls, Red Corner, In & Out, Scream, L.A. Confidential.\n\n    ### MY MOVIE PREFERENCES: You seem to enjoy a mix of romantic comedies, dramas, and action/thrillers with some quirky elements – think smart stories, character-driven narratives, and potentially visually stylish films..\n\n    ### MY FIVE MOST FEATURED MOVIES: Here’s a list of five movies from your watch list that align with your preferences:\n\n1.  Godfather \n2.  Fargo\n3.  Raiders of the Lost Ark\n4.  Shawshank Redemption\n5.  Bottle Rocket.\n\n    ### INSTRUCTIONS:\n    Recommend exactly **1 movie** from the \"Candidate Movie Set\" that are most similar to my \"Five Most Featured Movies\".\n    The output must be **STRICTLY formatted** as follows:\n\n    1. Movie Title\n\n    Do not include any extra text before or after the list\n\n    ### QUESTION:\n    What are your top 1 movie recommendations?\n\n    ### ANSWER:\n",
         " 1.GoldenEye "
        ],
        [
         "40",
         "\n\n    ### CANDIDATE MOVIE SET: Chasing Amy, Money Talks, Devil's Advocate, I Know What You Did Last Summer, Liar Liar, Conspiracy Theory, In & Out, Game, Volcano, Cop Land, Edge, Kull the Conqueror, L.A. Confidential, Kiss the Girls, Rosewood, Scream, Dante's Peak, Hoodlum, Contact.\n\n    ### MY WATCHED MOVIES LIST: Ice Storm, Jungle2Jungle, Event Horizon, Bean, Beautician and the Beast, Devil's Own, Mimic, Evita, Seven Years in Tibet, Boogie Nights, Murder at 1600, Leave It to Beaver, George of the Jungle, Crash, Rocket Man, Saint, Anastasia, Mad City, Starship Troopers, Anna Karenina, Fly Away Home, Mother, Air Bud, Wings of the Dove, Red Corner, Eve's Bayou, Air Force One, Mrs. Brown (Her Majesty, Mrs. Brown), Ulee's Gold, Full Monty, Kolya, English Patient.\n\n    ### MY MOVIE PREFERENCES: You seem drawn to a mix of romantic comedies, thrillers, and action-oriented films with some dark humor – leaning towards suspenseful stories and character-driven narratives..\n\n    ### MY FIVE MOST FEATURED MOVIES: Here’s a list of 5 movies from your watch list that align with your preferences:\n\n1.  Godfather\n2.  Fargo\n3.  Raiders of the Lost Ark\n4.  Return of the Jedi\n5.  Shawshank Redemption.\n\n    ### INSTRUCTIONS:\n    Recommend exactly **1 movie** from the \"Candidate Movie Set\" that are most similar to my \"Five Most Featured Movies\".\n    The output must be **STRICTLY formatted** as follows:\n\n    1. Movie Title\n\n    Do not include any extra text before or after the list\n\n    ### QUESTION:\n    What are your top 1 movie recommendations?\n\n    ### ANSWER:\n",
         " 1.Devil's Advocate "
        ],
        [
         "41",
         "\n\n    ### CANDIDATE MOVIE SET: Natural Born Killers, Serial Mom, Brazil, Nightmare on Elm Street, Star Wars, American Werewolf in London, Twister, Clockwork Orange, Raiders of the Lost Ark, Interview with the Vampire, Independence Day (ID4), Aliens, Chasing Amy, Alien 3, One Flew Over the Cuckoo's Nest, Evil Dead II, Bram Stoker's Dracula, Blade Runner, Nosferatu (Nosferatu, eine Symphonie des Grauens).\n\n    ### MY WATCHED MOVIES LIST: Carrie, Wes Craven's New Nightmare, Birds, Army of Darkness, Body Snatchers, Scream, Candyman, Amityville Horror, Howling, Omen, Shining, Copycat, Cape Fear, Heavenly Creatures, Abyss, Tales from the Crypt Presents: Bordello of Blood, Psycho, Blob, Silence of the Lambs, Twelve Monkeys, Fargo, Pulp Fiction, Jaws, Alien, Godfather, Hoop Dreams.\n\n    ### MY MOVIE PREFERENCES: You seem drawn to dark, genre-bending films with strong visuals, themes of societal critique, and a mix of horror, sci-fi, and action..\n\n    ### MY FIVE MOST FEATURED MOVIES: Here’s your top 5 based on your preferences:\n\n1.  Godfather\n2.  Fargo\n3.  Raiders of the Lost Ark\n4.  People vs. Larry Flynt\n5.  Bottle Rocket.\n\n    ### INSTRUCTIONS:\n    Recommend exactly **1 movie** from the \"Candidate Movie Set\" that are most similar to my \"Five Most Featured Movies\".\n    The output must be **STRICTLY formatted** as follows:\n\n    1. Movie Title\n\n    Do not include any extra text before or after the list\n\n    ### QUESTION:\n    What are your top 1 movie recommendations?\n\n    ### ANSWER:\n",
         " 1.Evil Dead II "
        ],
        [
         "42",
         "\n\n    ### CANDIDATE MOVIE SET: Game, Heat, Sleepers, Mars Attacks!, Star Trek: First Contact, Tin Cup, Chasing Amy, River Wild, Nutty Professor, Liar Liar, Contact, Executive Decision, Rock, Scream, That Thing You Do!, Happy Gilmore, Trainspotting, Star Wars, Toy Story.\n\n    ### MY WATCHED MOVIES LIST: Things to Do in Denver when You're Dead, Long Kiss Goodnight, Mighty Aphrodite, Family Thing, Fargo, Courage Under Fire, Twelve Monkeys, Shiloh, Freeway, 2 Days in the Valley, Mr. Wrong, Escape from L.A., Zeus and Roxanne, Absolute Power, Phenomenon, Last Man Standing, Twister, People vs. Larry Flynt, Sudden Death, Eraser, Jerry Maguire, Muppet Treasure Island, Independence Day (ID4), American Buffalo, Broken Arrow, Leaving Las Vegas, Fan, Hunchback of Notre Dame, City Hall, Beautiful Girls, First Wives Club, Feeling Minnesota, Truth About Cats & Dogs, Rumble in the Bronx, Time to Kill, Birdcage, Mr. Holland's Opus, Primal Fear, Lone Star, Down Periscope, Multiplicity, Mission: Impossible, Willy Wonka and the Chocolate Factory, Bound, Ransom, Dead Man Walking.\n\n    ### MY MOVIE PREFERENCES: You seem to enjoy a mix of action, sci-fi, comedy, and dramas with some iconic classics – leaning towards entertaining and memorable films..\n\n    ### MY FIVE MOST FEATURED MOVIES: Here’s your top 5 based on your preferences:\n\n1.  Raiders of the Lost Ark\n2.  Godfather\n3.  Return of the Jedi\n4.  Fargo\n5.  Apollo 13.\n\n    ### INSTRUCTIONS:\n    Recommend exactly **1 movie** from the \"Candidate Movie Set\" that are most similar to my \"Five Most Featured Movies\".\n    The output must be **STRICTLY formatted** as follows:\n\n    1. Movie Title\n\n    Do not include any extra text before or after the list\n\n    ### QUESTION:\n    What are your top 1 movie recommendations?\n\n    ### ANSWER:\n",
         " 1.Toy Story "
        ],
        [
         "43",
         "\n\n    ### CANDIDATE MOVIE SET: Ice Storm, Starship Troopers, Ulee's Gold, Wag the Dog, Kull the Conqueror, L.A. Confidential, Devil's Advocate, In & Out, Edge, Desperate Measures, Eve's Bayou, Evita, Conspiracy Theory, Gattaca, English Patient, Money Talks, Cop Land, Murder at 1600, Chasing Amy.\n\n    ### MY WATCHED MOVIES LIST: Mighty, Shooting Fish, Incognito, Boogie Nights, Wonderland, Hurricane Streets, Dark City, Tango Lesson, Ma vie en rose (My Life in Pink), Truman Show, Men of Means, Hugo Pool, Kolya, Welcome To Sarajevo, House of Yes, Mrs. Dalloway, In the Company of Men, FairyTale: A True Story, Bent, Washington Square, Nénette et Boni, Sliding Doors, Four Days in September, Legal Deceit, Full Monty, Apt Pupil, Sweet Hereafter, Blues Brothers 2000, Afterglow, Jackie Brown, Palmetto, Amistad, Swept from the Sea, Rocket Man, MatchMaker, Assignment, Fast, Cheap & Out of Control, Ill Gotten Gains, Kundun, 3 Ninjas: High Noon At Mega Mountain, Playing God, Anna Karenina, Saint, Volcano, Picture Perfect, Dante's Peak, Alien: Resurrection, Scream 2, Event Horizon, Devil's Own, G.I. Jane, I Know What You Did Last Summer, Seven Years in Tibet, Liar Liar, Deceiver, Rainmaker, Kiss the Girls, Contact, Good Will Hunting, Air Force One, Titanic, Scream, Game.\n\n    ### MY MOVIE PREFERENCES: You seem drawn to character-driven dramas and thrillers with strong narratives, alongside some action and sci-fi elements – a mix of serious and thought-provoking films..\n\n    ### MY FIVE MOST FEATURED MOVIES: Here’s your top 5 based on your preferences:\n\n1.  Godfather\n2.  Fargo\n3.  Bottle Rocket\n4.  Return of the Jedi\n5.  Shawshank Redemption.\n\n    ### INSTRUCTIONS:\n    Recommend exactly **1 movie** from the \"Candidate Movie Set\" that are most similar to my \"Five Most Featured Movies\".\n    The output must be **STRICTLY formatted** as follows:\n\n    1. Movie Title\n\n    Do not include any extra text before or after the list\n\n    ### QUESTION:\n    What are your top 1 movie recommendations?\n\n    ### ANSWER:\n",
         " 1.L.A. Confidential "
        ],
        [
         "44",
         "\n\n    ### CANDIDATE MOVIE SET: Pulp Fiction, Empire Strikes Back, Sound of Music, Raising Arizona, Return of the Jedi, Terminator, Sabrina, Jerry Maguire, Jaws, Star Wars, Contact, Terminator 2: Judgment Day, Usual Suspects, Aliens, Cape Fear, Fargo, Indiana Jones and the Last Crusade, Back to the Future, Shawshank Redemption.\n\n    ### MY WATCHED MOVIES LIST: My Best Friend's Wedding, Sleepless in Seattle, While You Were Sleeping, Godfather, Casablanca, Monty Python and the Holy Grail, Fish Called Wanda, Third Man, Liar Liar, Picture Perfect, Fugitive, Silence of the Lambs, Home Alone 3, Pretty Woman, Blues Brothers, Butch Cassidy and the Sundance Kid, Apocalypse Now, Great Escape, Raiders of the Lost Ark, Leaving Las Vegas, As Good As It Gets, Saint, Air Force One, Full Monty, Apt Pupil.\n\n    ### MY MOVIE PREFERENCES: You enjoy a mix of action, sci-fi, and critically acclaimed dramas with some classic musical elements – leaning towards iconic stories and memorable characters..\n\n    ### MY FIVE MOST FEATURED MOVIES: Here’s a list of 5 films aligning with your preferences, based on your watch history:\n\n1.  Raiders of the Lost Ark (Action & Iconic Story)\n2.  Godfather (Critically Acclaimed Drama)\n3.  Return of the Jedi (Sci-Fi & Memorable Characters)\n4.  Fargo (Critically Acclaimed Drama)\n5.  Apollo 13 (Action & Iconic Story).\n\n    ### INSTRUCTIONS:\n    Recommend exactly **1 movie** from the \"Candidate Movie Set\" that are most similar to my \"Five Most Featured Movies\".\n    The output must be **STRICTLY formatted** as follows:\n\n    1. Movie Title\n\n    Do not include any extra text before or after the list\n\n    ### QUESTION:\n    What are your top 1 movie recommendations?\n\n    ### ANSWER:\n",
         " 1.Fargo "
        ],
        [
         "45",
         "\n\n    ### CANDIDATE MOVIE SET: Return of the Jedi, Sabrina, Graduate, Terminator, Groundhog Day, Jaws, Fugitive, Forrest Gump, Bonnie and Clyde, Body Snatchers, Pulp Fiction, Duck Soup, Star Wars, Wizard of Oz, Being There, Dances with Wolves, Cape Fear, Dead Poets Society, Get Shorty.\n\n    ### MY WATCHED MOVIES LIST: Immortal Beloved, Raise the Red Lantern, Highlander, Aliens, Psycho, Star Trek: The Wrath of Khan, Birds, Unforgiven, Mighty Morphin Power Rangers: The Movie, Flintstones, NeverEnding Story III, Adventures of Pinocchio, Secret Garden, James and the Giant Peach, Swiss Family Robinson, Alice in Wonderland, Bedknobs and Broomsticks, Pinocchio, Mary Poppins, Willy Wonka and the Chocolate Factory, Dumbo, Aristocats, Snow White and the Seven Dwarfs, Sound of Music, Robin Hood: Prince of Thieves, Jurassic Park, E.T. the Extra-Terrestrial, Beauty and the Beast, Sword in the Stone, Jungle Book, Winnie the Pooh and the Blustery Day, Beavis and Butt-head Do America, Grease, Muppet Treasure Island, Three Musketeers, Brothers McMullen, Butch Cassidy and the Sundance Kid, Young Frankenstein, Raising Arizona, Back to the Future, Sting, When Harry Met Sally..., Harold and Maude, Blues Brothers, Return of the Pink Panther, Strictly Ballroom, Muriel's Wedding, Fish Called Wanda, This Is Spinal Tap, Much Ado About Nothing, Welcome to the Dollhouse, Indiana Jones and the Last Crusade, Stand by Me, Fantasia, Twelve Monkeys, Rebel Without a Cause, Monty Python's Life of Brian, Alien, Annie Hall, Patton, My Fair Lady, M*A*S*H, Return of Martin Guerre, The (Retour de Martin Guerre, Le), Maltese Falcon, Bridge on the River Kwai, Streetcar Named Desire, Field of Dreams, Ran, Diva, Searching for Bobby Fischer, Right Stuff, Silence of the Lambs, It's a Wonderful Life, One Flew Over the Cuckoo's Nest, Rear Window, Some Like It Hot, Henry V, Philadelphia Story, North by Northwest, Citizen Kane, Vertigo, Man Who Would Be King, Princess Bride, Arsenic and Old Lace, Amadeus, Monty Python and the Holy Grail, Dr. Strangelove or: How I Learned to Stop Worrying and Love the Bomb, Casablanca, Empire Strikes Back, Raiders of the Lost Ark, To Kill a Mockingbird, Gay Divorcee, Blade Runner, Hamlet, Top Hat, Good Will Hunting, Titanic.\n\n    ### MY MOVIE PREFERENCES: You seem to enjoy a mix of action/sci-fi classics (Star Wars, Terminator), character-driven dramas (Forrest Gump, Being There), and thought-provoking films with unique concepts (Groundhog Day, Body Snatchers, Pulp Fiction)..\n\n    ### MY FIVE MOST FEATURED MOVIES: Here’s a list of 5 movies from your watch list that align with your preferences:\n\n1.  Godfather\n2.  Raiders of the Lost Ark\n3.  Apollo 13\n4.  Fargo\n5.  Shawshank Redemption.\n\n    ### INSTRUCTIONS:\n    Recommend exactly **1 movie** from the \"Candidate Movie Set\" that are most similar to my \"Five Most Featured Movies\".\n    The output must be **STRICTLY formatted** as follows:\n\n    1. Movie Title\n\n    Do not include any extra text before or after the list\n\n    ### QUESTION:\n    What are your top 1 movie recommendations?\n\n    ### ANSWER:\n",
         " 1.Graduate "
        ],
        [
         "46",
         "\n\n    ### CANDIDATE MOVIE SET: Broken Arrow, Jurassic Park, Fargo, Twelve Monkeys, True Lies, Back to the Future, Braveheart, GoldenEye, Top Gun, Fish Called Wanda, Pulp Fiction, Schindler's List, Cape Fear, Speed, Chasing Amy, E.T. the Extra-Terrestrial, Shawshank Redemption, Seven (Se7en), Stand by Me.\n\n    ### MY WATCHED MOVIES LIST: Ben-Hur, Jumanji, Dances with Wolves, Groundhog Day, Glory, Man Without a Face, Rear Window, Gone with the Wind, Empire Strikes Back, Star Trek: The Wrath of Khan, Arsenic and Old Lace, Raiders of the Lost Ark, Princess Bride, Somewhere in Time, Dead Poets Society, American President, While You Were Sleeping, Wizard of Oz, Babe, Searching for Bobby Fischer, Indiana Jones and the Last Crusade, Maltese Falcon, Henry V, Flubber, George of the Jungle, Anastasia, Titanic, Junior, Timecop, Supercop, Sound of Music, Mary Poppins, Little Big League, Little Rascals, Star Trek: First Contact, First Knight, First Kid, Star Wars, Star Trek IV: The Voyage Home, Star Trek: Generations, Star Trek VI: The Undiscovered Country, Clueless, Leaving Las Vegas, Journey of August King, Kid in King Arthur's Court, Kingpin, Lion King, Aladdin and the King of Thieves, Batman & Robin, Robin Hood: Men in Tights, Forrest Gump, Psycho, Mr. Smith Goes to Washington, Mask, Sting, Don Juan DeMarco, Fugitive, Field of Dreams, Terminator 2: Judgment Day, Preacher's Wife, Quest, Cable Guy, Associate, Ed, Space Jam, Black Sheep, Happy Gilmore, Beautiful Girls, Screamers, Grumpier Old Men, Harriet the Spy, Wild America, Nutty Professor, Lost World: Jurassic Park, Truth About Cats & Dogs, Rumble in the Bronx, Dragonheart, Multiplicity, Willy Wonka and the Chocolate Factory, Sabrina, Tin Cup, One Fine Day, Adventures of Pinocchio, Men in Black, Long Kiss Goodnight, Courage Under Fire, Mission: Impossible, Phenomenon, Birdcage, White Squall, Independence Day (ID4), Time to Kill, Sense and Sensibility, Beavis and Butt-head Do America, Mr. Holland's Opus, That Thing You Do!, Toy Story, Up Close and Personal, Jerry Maguire, Con Air, Return of the Jedi, Volcano, Dante's Peak, Fly Away Home, Murder at 1600, Devil's Own, Liar Liar, Conspiracy Theory, Scream.\n\n    ### MY MOVIE PREFERENCES: You seem to enjoy a mix of action, sci-fi/thrillers (like *Jurassic Park*, *Twelve Monkeys*, *Seven*) alongside critically acclaimed dramas and classics (*Schindler's List*, *Shawshank Redemption*)..\n\n    ### MY FIVE MOST FEATURED MOVIES: Here’s a list of 5 films aligning with your preferences, based on your watch history:\n\n1.  Godfather\n2.  Raiders of the Lost Ark\n3.  Apollo 13\n4.  Fargo\n5.  Shawshank Redemption.\n\n    ### INSTRUCTIONS:\n    Recommend exactly **1 movie** from the \"Candidate Movie Set\" that are most similar to my \"Five Most Featured Movies\".\n    The output must be **STRICTLY formatted** as follows:\n\n    1. Movie Title\n\n    Do not include any extra text before or after the list\n\n    ### QUESTION:\n    What are your top 1 movie recommendations?\n\n    ### ANSWER:\n",
         " 1.Jurassic Park "
        ],
        [
         "47",
         "\n\n    ### CANDIDATE MOVIE SET: Eve's Bayou, Dante's Peak, Saint, Liar Liar, Chasing Amy, Wag the Dog, Rosewood, Tomorrow Never Dies, Amistad, Ulee's Gold, Murder at 1600, Volcano, L.A. Confidential, Scream, Money Talks, Evita, Devil's Advocate, Mimic, Rainmaker.\n\n    ### MY WATCHED MOVIES LIST: Titanic, Game, Apt Pupil, Jackie Brown, Contact, Kiss the Girls, Good Will Hunting, As Good As It Gets, English Patient, Great Expectations, Alien: Resurrection, Event Horizon, Spawn, Postman, Starship Troopers, G.I. Jane, Cop Land, Devil's Own, Gattaca, Air Force One, Conspiracy Theory, In & Out, Edge, Boogie Nights.\n\n    ### MY MOVIE PREFERENCES: You seem drawn to dramas and thrillers with strong character stories, some action elements, and a mix of historical and contemporary settings..\n\n    ### MY FIVE MOST FEATURED MOVIES: Here’s your top 5 based on your preferences:\n\n1.  Godfather\n2.  Fargo\n3.  Raiders of the Lost Ark\n4.  Return of the Jedi\n5.  Shawshank Redemption.\n\n    ### INSTRUCTIONS:\n    Recommend exactly **1 movie** from the \"Candidate Movie Set\" that are most similar to my \"Five Most Featured Movies\".\n    The output must be **STRICTLY formatted** as follows:\n\n    1. Movie Title\n\n    Do not include any extra text before or after the list\n\n    ### QUESTION:\n    What are your top 1 movie recommendations?\n\n    ### ANSWER:\n",
         " 1.Amistad "
        ],
        [
         "48",
         "\n\n    ### CANDIDATE MOVIE SET: Duck Soup, Maltese Falcon, Monty Python and the Holy Grail, Raising Arizona, Dr. Strangelove or: How I Learned to Stop Worrying and Love the Bomb, Terminator, Fugitive, Graduate, Cape Fear, Raiders of the Lost Ark, When Harry Met Sally..., Bonnie and Clyde, Silence of the Lambs, High Noon, Pulp Fiction, Amadeus, 2001: A Space Odyssey, Sabrina, Psycho.\n\n    ### MY WATCHED MOVIES LIST: Birds, Jaws, Cat on a Hot Tin Roof, In the Line of Fire, Room with a View, Singin' in the Rain, Godfather, Bridge on the River Kwai, Back to the Future, It Happened One Night, Empire Strikes Back, Around the World in 80 Days, Return of the Jedi, Big Sleep, Star Wars, Citizen Kane, Day the Earth Stood Still, Casablanca, M*A*S*H, Some Like It Hot, Gone with the Wind, Rear Window, African Queen, All About Eve, North by Northwest, Event Horizon, Rocket Man, Jungle2Jungle, Mother, FairyTale: A True Story, Anastasia, Peacemaker, In & Out, Contact, Air Force One, Edge.\n\n    ### MY MOVIE PREFERENCES: You seem to enjoy a mix of dark comedy, thrillers, and classics with elements of satire and adventure..\n\n    ### MY FIVE MOST FEATURED MOVIES: Here’s your top 5 based on your preferences:\n\n1.  Godfather\n2.  Fargo\n3.  Raiders of the Lost Ark\n4.  Return of the Jedi\n5.  Bottle Rocket.\n\n    ### INSTRUCTIONS:\n    Recommend exactly **1 movie** from the \"Candidate Movie Set\" that are most similar to my \"Five Most Featured Movies\".\n    The output must be **STRICTLY formatted** as follows:\n\n    1. Movie Title\n\n    Do not include any extra text before or after the list\n\n    ### QUESTION:\n    What are your top 1 movie recommendations?\n\n    ### ANSWER:\n",
         " 1.Raiders of the Lost Ark "
        ],
        [
         "49",
         "\n\n    ### CANDIDATE MOVIE SET: Ulee's Gold, Twister, Conspiracy Theory, Beautiful Girls, Phenomenon, Star Wars, Star Trek: First Contact, Full Monty, Ransom, L.A. Confidential, Mr. Holland's Opus, Courage Under Fire, Heat, Nutty Professor, Eraser, Chasing Amy, Primal Fear, Contact, Game.\n\n    ### MY WATCHED MOVIES LIST: Juror, Glimmer Man, Father of the Bride Part II, Vegas Vacation, Cable Guy, Get on the Bus, Mission: Impossible, English Patient, Liar Liar, First Wives Club, Marvin's Room, Mars Attacks!, Kingpin, Dragonheart, Independence Day (ID4), Addicted to Love, Birdcage, Rock, Long Kiss Goodnight, River Wild, Nixon, Once Upon a Time... When We Were Colored, Leaving Las Vegas, Jerry Maguire, Twelve Monkeys, Spitfire Grill, Donnie Brasco, My Best Friend's Wedding, Stealing Beauty, Fargo, People vs. Larry Flynt, Postino, Il, Toy Story, Dead Man Walking, When We Were Kings, Broken Arrow, Evita, Scream.\n\n    ### MY MOVIE PREFERENCES: You seem drawn to character-driven stories with a blend of drama, action, and perhaps a touch of quirky or unusual elements – like thrillers, sci-fi, and films exploring human relationships..\n\n    ### MY FIVE MOST FEATURED MOVIES: Here’s your top 5 based on your preferences:\n\n1.  Godfather\n2.  Fargo\n3.  Raiders of the Lost Ark\n4.  Return of the Jedi\n5.  Shawshank Redemption.\n\n    ### INSTRUCTIONS:\n    Recommend exactly **1 movie** from the \"Candidate Movie Set\" that are most similar to my \"Five Most Featured Movies\".\n    The output must be **STRICTLY formatted** as follows:\n\n    1. Movie Title\n\n    Do not include any extra text before or after the list\n\n    ### QUESTION:\n    What are your top 1 movie recommendations?\n\n    ### ANSWER:\n",
         " 1.Nutty Professor "
        ]
       ],
       "shape": {
        "columns": 2,
        "rows": 121
       }
      },
      "text/html": [
       "<div>\n",
       "<style scoped>\n",
       "    .dataframe tbody tr th:only-of-type {\n",
       "        vertical-align: middle;\n",
       "    }\n",
       "\n",
       "    .dataframe tbody tr th {\n",
       "        vertical-align: top;\n",
       "    }\n",
       "\n",
       "    .dataframe thead th {\n",
       "        text-align: right;\n",
       "    }\n",
       "</style>\n",
       "<table border=\"1\" class=\"dataframe\">\n",
       "  <thead>\n",
       "    <tr style=\"text-align: right;\">\n",
       "      <th></th>\n",
       "      <th>input</th>\n",
       "      <th>output</th>\n",
       "    </tr>\n",
       "  </thead>\n",
       "  <tbody>\n",
       "    <tr>\n",
       "      <th>0</th>\n",
       "      <td>\\n\\n    ### CANDIDATE MOVIE SET: Starship Troo...</td>\n",
       "      <td>1.Chasing Amy</td>\n",
       "    </tr>\n",
       "    <tr>\n",
       "      <th>1</th>\n",
       "      <td>\\n\\n    ### CANDIDATE MOVIE SET: Absolute Powe...</td>\n",
       "      <td>1.Cape Fear</td>\n",
       "    </tr>\n",
       "    <tr>\n",
       "      <th>2</th>\n",
       "      <td>\\n\\n    ### CANDIDATE MOVIE SET: Eraser, Volca...</td>\n",
       "      <td>1.Jerry Maguire</td>\n",
       "    </tr>\n",
       "    <tr>\n",
       "      <th>3</th>\n",
       "      <td>\\n\\n    ### CANDIDATE MOVIE SET: Phenomenon, E...</td>\n",
       "      <td>1.River Wild</td>\n",
       "    </tr>\n",
       "    <tr>\n",
       "      <th>4</th>\n",
       "      <td>\\n\\n    ### CANDIDATE MOVIE SET: Omen, 20,000 ...</td>\n",
       "      <td>1.Grifters</td>\n",
       "    </tr>\n",
       "    <tr>\n",
       "      <th>...</th>\n",
       "      <td>...</td>\n",
       "      <td>...</td>\n",
       "    </tr>\n",
       "    <tr>\n",
       "      <th>116</th>\n",
       "      <td>\\n\\n    ### CANDIDATE MOVIE SET: L.A. Confiden...</td>\n",
       "      <td>1.Conspiracy Theory</td>\n",
       "    </tr>\n",
       "    <tr>\n",
       "      <th>117</th>\n",
       "      <td>\\n\\n    ### CANDIDATE MOVIE SET: Starship Troo...</td>\n",
       "      <td>1.Full Monty</td>\n",
       "    </tr>\n",
       "    <tr>\n",
       "      <th>118</th>\n",
       "      <td>\\n\\n    ### CANDIDATE MOVIE SET: Jaws, Godfath...</td>\n",
       "      <td>1.Godfather: Part II</td>\n",
       "    </tr>\n",
       "    <tr>\n",
       "      <th>119</th>\n",
       "      <td>\\n\\n    ### CANDIDATE MOVIE SET: Godfather, Fa...</td>\n",
       "      <td>1.Silence of the Lambs</td>\n",
       "    </tr>\n",
       "    <tr>\n",
       "      <th>120</th>\n",
       "      <td>\\n\\n    ### CANDIDATE MOVIE SET: Fugitive, Goo...</td>\n",
       "      <td>1.Hunt for Red October</td>\n",
       "    </tr>\n",
       "  </tbody>\n",
       "</table>\n",
       "<p>121 rows × 2 columns</p>\n",
       "</div>"
      ],
      "text/plain": [
       "                                                 input  \\\n",
       "0    \\n\\n    ### CANDIDATE MOVIE SET: Starship Troo...   \n",
       "1    \\n\\n    ### CANDIDATE MOVIE SET: Absolute Powe...   \n",
       "2    \\n\\n    ### CANDIDATE MOVIE SET: Eraser, Volca...   \n",
       "3    \\n\\n    ### CANDIDATE MOVIE SET: Phenomenon, E...   \n",
       "4    \\n\\n    ### CANDIDATE MOVIE SET: Omen, 20,000 ...   \n",
       "..                                                 ...   \n",
       "116  \\n\\n    ### CANDIDATE MOVIE SET: L.A. Confiden...   \n",
       "117  \\n\\n    ### CANDIDATE MOVIE SET: Starship Troo...   \n",
       "118  \\n\\n    ### CANDIDATE MOVIE SET: Jaws, Godfath...   \n",
       "119  \\n\\n    ### CANDIDATE MOVIE SET: Godfather, Fa...   \n",
       "120  \\n\\n    ### CANDIDATE MOVIE SET: Fugitive, Goo...   \n",
       "\n",
       "                       output  \n",
       "0              1.Chasing Amy   \n",
       "1                1.Cape Fear   \n",
       "2            1.Jerry Maguire   \n",
       "3               1.River Wild   \n",
       "4                 1.Grifters   \n",
       "..                        ...  \n",
       "116      1.Conspiracy Theory   \n",
       "117             1.Full Monty   \n",
       "118     1.Godfather: Part II   \n",
       "119   1.Silence of the Lambs   \n",
       "120   1.Hunt for Red October   \n",
       "\n",
       "[121 rows x 2 columns]"
      ]
     },
     "execution_count": 9,
     "metadata": {},
     "output_type": "execute_result"
    }
   ],
   "source": [
    "df_train = pd.DataFrame(train_dataset)\n",
    "df_train\n",
    "\n"
   ]
  },
  {
   "cell_type": "code",
   "execution_count": 10,
   "metadata": {},
   "outputs": [],
   "source": [
    "df_train.to_pickle('Data/ML100K_train.pkl')"
   ]
  },
  {
   "cell_type": "code",
   "execution_count": 12,
   "metadata": {},
   "outputs": [
    {
     "data": {
      "application/vnd.microsoft.datawrangler.viewer.v0+json": {
       "columns": [
        {
         "name": "index",
         "rawType": "int64",
         "type": "integer"
        },
        {
         "name": "user_id",
         "rawType": "int64",
         "type": "integer"
        },
        {
         "name": "candidate_items",
         "rawType": "object",
         "type": "unknown"
        },
        {
         "name": "ground_truth",
         "rawType": "object",
         "type": "string"
        },
        {
         "name": "watched_movies",
         "rawType": "object",
         "type": "unknown"
        }
       ],
       "conversionMethod": "pd.DataFrame",
       "ref": "a6a5e72a-d8a4-441c-a0b1-311419a48237",
       "rows": [
        [
         "0",
         "507",
         "['Right Stuff', 'Braveheart', 'GoodFellas', 'Platoon', 'Get Shorty', 'Twelve Monkeys', 'Fargo', 'Blade Runner', 'Sting', 'Mrs. Doubtfire', 'Abyss', 'Butch Cassidy and the Sundance Kid', 'Star Trek: The Wrath of Khan', 'Sound of Music', 'Dances with Wolves', 'Clueless', 'Pulp Fiction', 'Groundhog Day', 'Casablanca']",
         "Star Trek: The Wrath of Khan",
         "['Star Wars', 'Miracle on 34th Street', 'E.T. the Extra-Terrestrial', 'Psycho', 'Dr. Strangelove or: How I Learned to Stop Worrying and Love the Bomb', 'Killing Fields', 'Rebel Without a Cause', 'Heavy Metal', 'Toy Story', 'Doors', 'Mighty Aphrodite', 'Star Trek III: The Search for Spock', 'Fish Called Wanda', 'Maverick', 'Sleepless in Seattle', 'Grease', 'Star Trek: First Contact', 'Ed Wood', 'Sneakers', 'Cape Fear', 'Speed', 'Jurassic Park', 'Indiana Jones and the Last Crusade', 'Blues Brothers', 'Young Guns', 'American Werewolf in London', 'Better Off Dead...', 'Birds', 'Madness of King George', 'M*A*S*H', 'Field of Dreams', 'Bananas', 'Young Frankenstein', 'Four Weddings and a Funeral', 'Forrest Gump', 'Dead Poets Society', 'Gandhi', 'Victor/Victoria', 'Pink Floyd - The Wall', 'Philadelphia', 'Terminator 2: Judgment Day', 'Willy Wonka and the Chocolate Factory', 'When Harry Met Sally...', 'Mystery Science Theater 3000: The Movie', 'Return of the Pink Panther', 'Shining', 'Backbeat', 'Star Trek IV: The Voyage Home', 'Raiders of the Lost Ark', 'Die Hard', \"Schindler's List\", \"Monty Python's Life of Brian\", 'Bottle Rocket', 'Nightmare on Elm Street', 'Great Dictator', 'Alien', 'Aliens', 'Apocalypse Now', 'Terminator', 'Fugitive', 'Stand by Me', 'Back to the Future', 'Brazil', 'Clockwork Orange', 'Jaws', 'Amadeus', 'Haunted World of Edward D. Wood Jr.', 'Taxi Driver', 'Sling Blade', 'Raising Arizona', 'This Is Spinal Tap', 'Swingers', 'Full Metal Jacket', 'Annie Hall', 'Wizard of Oz', 'Nightmare Before Christmas', \"One Flew Over the Cuckoo's Nest\", 'Lawrence of Arabia', 'In the Name of the Father', 'Monty Python and the Holy Grail', 'Empire Strikes Back', 'Silence of the Lambs', 'Princess Bride', 'Independence Day (ID4)', 'Return of the Jedi', 'Full Monty']"
        ],
        [
         "1",
         "210",
         "['Jerry Maguire', 'Back to the Future', 'Contact', 'Raiders of the Lost Ark', 'GoodFellas', 'Fargo', 'Silence of the Lambs', 'Return of the Jedi', 'When Harry Met Sally...', 'Star Wars', 'Wizard of Oz', 'Four Weddings and a Funeral', 'Indiana Jones and the Last Crusade', 'Cape Fear', 'North by Northwest', 'Jaws', 'Pulp Fiction', 'Monty Python and the Holy Grail', 'Empire Strikes Back']",
         "Return of the Jedi",
         "['Rock', \"Jackie Chan's First Strike\", 'Men in Black', 'Godfather', 'Mortal Kombat: Annihilation', 'Truman Show', 'Money Talks', 'Steel', 'Air Force One', 'Fire Down Below', 'Rainmaker', 'Volcano', 'Field of Dreams', 'Hunchback of Notre Dame', 'Star Trek IV: The Voyage Home', 'Shawshank Redemption', 'Forrest Gump', 'Dead Man Walking', \"One Flew Over the Cuckoo's Nest\", 'Birds', 'An Unforgettable Summer', 'Sense and Sensibility', 'Like Water For Chocolate (Como agua para chocolate)', 'Great Escape', 'Star Trek: The Wrath of Khan', 'Bridge on the River Kwai', \"Singin' in the Rain\", 'Patton', 'Ben-Hur', 'Adventures of Robin Hood', 'E.T. the Extra-Terrestrial', 'Killing Fields', 'Free Willy 3: The Rescue', \"Ulee's Gold\", 'English Patient', \"McHale's Navy\"]"
        ],
        [
         "2",
         "47",
         "['Glory', 'Stand by Me', \"Schindler's List\", 'Godfather', 'Sabrina', 'Cape Fear', 'Body Snatchers', 'Silence of the Lambs', 'Blade Runner', 'GoodFellas', 'Taxi Driver', 'Dead Poets Society', 'Shawshank Redemption', 'Seven (Se7en)', 'M*A*S*H', 'Bonnie and Clyde', 'Braveheart', 'Graduate', 'Full Metal Jacket']",
         "Silence of the Lambs",
         "['L.A. Confidential', 'Amadeus', 'This Is Spinal Tap', 'Killing Fields', 'Return of the Jedi', 'Terminator', 'Lawrence of Arabia', 'Godfather: Part II', 'High Noon', 'Wizard of Oz', 'Cinema Paradiso', 'Down by Law', 'Indiana Jones and the Last Crusade', 'My Life as a Dog (Mitt liv som hund)', 'Bob Roberts', 'Lion King', 'Seventh Seal, The (Sjunde inseglet, Det)', 'Sting', 'Psycho', 'Ran', 'Father of the Bride', 'Koyaanisqatsi', 'Star Trek: The Wrath of Khan', 'Chinatown', \"It's a Wonderful Life\", 'Empire Strikes Back', 'Heathers', 'Groundhog Day', 'E.T. the Extra-Terrestrial', 'Right Stuff', 'Field of Dreams', 'Great Dictator', 'Pulp Fiction', 'Vertigo', 'Star Wars', 'Raiders of the Lost Ark', 'Mr. Smith Goes to Washington', 'Cool Hand Luke', 'Treasure of the Sierra Madre', 'M', 'Crossfire', 'Little Princess', 'Gandhi', \"One Flew Over the Cuckoo's Nest\", 'North by Northwest', 'Apollo 13', 'To Kill a Mockingbird', 'Harold and Maude', 'Alien', 'Casablanca', 'Rear Window', 'Kull the Conqueror', 'Beautician and the Beast', 'Jungle2Jungle', 'Kull the Conqueror', 'FairyTale: A True Story', 'George of the Jungle', 'Evita', 'Liar Liar', 'Mrs. Brown (Her Majesty, Mrs. Brown)', 'Seven Years in Tibet', \"Dante's Peak\", 'English Patient', 'Deceiver', 'Full Monty']"
        ],
        [
         "3",
         "365",
         "['Chasing Amy', 'Clockwork Orange', 'Tales From the Crypt Presents: Demon Knight', 'Alien', \"One Flew Over the Cuckoo's Nest\", 'Amityville Horror', 'Brazil', \"Wes Craven's New Nightmare\", 'Candyman', 'Fargo', \"Stephen King's The Langoliers\", 'Blade Runner', 'Alien 3', 'Wolf', 'Star Wars', 'Godfather', 'Aliens', 'Jaws 2', 'Raiders of the Lost Ark']",
         "Candyman",
         "['Howling', 'Mute Witness', \"Mary Shelley's Frankenstein\", 'Interview with the Vampire', 'Body Snatchers', 'Believers', 'Shining', 'Natural Born Killers', 'Bride of Frankenstein', \"Bram Stoker's Dracula\", 'Carrie', 'Omen', 'Body Snatcher', 'Nightmare on Elm Street', 'Abyss', 'American Werewolf in London', 'From Dusk Till Dawn', 'Nosferatu (Nosferatu, eine Symphonie des Grauens)', 'Evil Dead II', 'Army of Darkness', 'Birds', 'Cape Fear', 'Jaws', 'Silence of the Lambs', 'Bad Taste', 'Pulp Fiction', 'Psycho', 'Braindead', 'Lawnmower Man 2: Beyond Cyberspace', 'Scream', 'Tales from the Crypt Presents: Bordello of Blood', 'Twelve Monkeys']"
        ],
        [
         "4",
         "426",
         "['George of the Jungle', 'Evita', 'Mother', 'Liar Liar', 'Seven Years in Tibet', 'Scream', 'Event Horizon', 'Ice Storm', 'Desperate Measures', \"Dante's Peak\", 'Volcano', 'Peacemaker', 'Cop Land', 'Saint', 'In & Out', 'Game', 'G.I. Jane', 'Full Monty', 'Mimic']",
         "Evita",
         "['U Turn', 'Anna Karenina', 'Wishmaster', 'Thousand Acres', 'Leave It to Beaver', \"Devil's Own\", 'Career Girls', 'Kull the Conqueror', 'I Know What You Did Last Summer', 'Money Talks', 'Chasing Amy', 'Kiss the Girls', 'Assignment', \"Ulee's Gold\", 'Star Maps', \"Cats Don't Dance\", 'Steel', 'Critical Care', 'Smile Like Yours', 'Indian Summer', 'Rosewood', 'Murder at 1600', 'Conspiracy Theory', 'Air Force One', 'Edge', 'Fly Away Home', 'English Patient', 'Contact', 'L.A. Confidential', 'Everyone Says I Love You']"
        ],
        [
         "5",
         "601",
         "['Truth About Cats & Dogs', 'Courage Under Fire', 'Conspiracy Theory', 'Contact', 'Fargo', 'Scream', \"Dante's Peak\", 'Star Trek: First Contact', 'Twister', 'Chasing Amy', 'Twelve Monkeys', 'Leaving Las Vegas', 'River Wild', 'Ransom', 'Long Kiss Goodnight', 'Game', 'Money Talks', 'Titanic', 'Mission: Impossible']",
         "Twister",
         "['Rock', 'Phenomenon', 'People vs. Larry Flynt', 'Men in Black', 'Vegas Vacation', 'Jerry Maguire', 'Toy Story', 'Return of the Jedi', 'Ghost and the Darkness', 'Godfather', 'Dead Man Walking', 'Star Wars', 'Independence Day (ID4)', 'Free Willy 3: The Rescue', 'Jungle2Jungle', 'Air Bud', 'Beautician and the Beast', 'Volcano', 'George of the Jungle', 'Saint', 'Anastasia', 'Alien: Resurrection', 'Fly Away Home', 'Liar Liar', 'Spawn', 'Soul Food', 'Scream 2', 'Air Force One']"
        ],
        [
         "6",
         "17",
         "['Omen', 'Lawrence of Arabia', 'Hunt for Red October', 'Alien', 'Manchurian Candidate', 'Shawshank Redemption', 'Terminator 2: Judgment Day', 'Searching for Bobby Fischer', 'Aliens', 'Clear and Present Danger', 'Patton', 'Cape Fear', 'Heathers', 'Seven (Se7en)', 'Scream', 'Stand by Me', 'True Lies', 'Big Sleep', 'Streetcar Named Desire']",
         "Shawshank Redemption",
         "['Three Colors: Red', 'Raise the Red Lantern', 'Thin Man', 'Big Night', 'Some Folks Call It a Sling Blade', 'Raising Arizona', 'Wizard of Oz', 'Farewell My Concubine', \"Schindler's List\", 'My Fair Lady', 'E.T. the Extra-Terrestrial', 'First Wives Club', 'Affair to Remember', 'Mask', 'Month by the Lake', 'Benny & Joon', 'Ghost', 'Pushing Hands', 'French Kiss', 'Great Race', 'Get Shorty', 'Crumb', 'Batman', 'Beautiful Girls', 'Pink Floyd - The Wall', 'Circle of Friends', 'Sirens', 'Three Colors: Blue', 'Pinocchio', 'Funny Face', 'House of the Spirits', 'Nutty Professor', 'Addams Family Values', 'Robin Hood: Prince of Thieves', 'Little Lord Fauntleroy', 'Unstrung Heroes', 'Mary Poppins', 'It Could Happen to You', 'Something to Talk About', 'Mediterraneo', 'Platoon', 'Orlando', 'Tin Cup', 'Miracle on 34th Street', 'Willy Wonka and the Chocolate Factory', 'Pretty Woman', 'Shining', 'Rebecca', 'While You Were Sleeping', 'Blues Brothers', 'Dave', 'Night on Earth', 'Home for the Holidays', 'Home Alone', 'Ruby in Paradise', 'Truth About Cats & Dogs', 'Return of the Jedi', 'Lost Horizon', 'Once Upon a Time in America', 'Hear My Song', 'Birdcage', 'How to Make an American Quilt', 'Sabrina', 'Fantasia', \"Nobody's Fool\", 'Last of the Mohicans', 'Dances with Wolves', 'Mighty Aphrodite', 'His Girl Friday', \"Muriel's Wedding\", 'Sound of Music', 'Dazed and Confused', 'Piano', 'Enchanted April', 'Fugitive', 'Wings of Desire', 'Back to the Future', 'Barcelona', 'Tin Drum, The (Blechtrommel, Die)', 'Ben-Hur', 'American in Paris', 'Cold Comfort Farm', 'Christmas Carol', 'Manhattan Murder Mystery', 'M*A*S*H', 'Bringing Up Baby', 'Right Stuff', \"Monty Python's Life of Brian\", 'On Golden Pond', 'Harold and Maude', 'Forbidden Planet', 'Aladdin', 'Good, The Bad and The Ugly', 'Grease', 'Dead Poets Society', 'Ed Wood', 'That Thing You Do!', 'Terminator', 'Lion King', 'Jurassic Park', 'Nell', 'Room with a View', 'Beauty and the Beast', 'Bedknobs and Broomsticks', 'Rob Roy', 'In the Name of the Father', \"Marvin's Room\", 'Old Yeller', 'Secret of Roan Inish', 'Winnie the Pooh and the Blustery Day', 'Jaws', 'Bullets Over Broadway', 'Citizen Ruth', 'Don Juan DeMarco', \"Mr. Holland's Opus\", 'Indiana Jones and the Last Crusade', 'East of Eden', 'My Favorite Year', 'Shadowlands', 'Strictly Ballroom', 'Young Frankenstein', 'Phenomenon', \"Breakfast at Tiffany's\", 'Naked', 'Mrs. Doubtfire', 'American President', 'Fried Green Tomatoes', 'Field of Dreams', 'Priest', 'Sleepless in Seattle', 'Hudsucker Proxy', 'Butch Cassidy and the Sundance Kid', 'Local Hero', 'Giant', 'Gigi', 'This Is Spinal Tap', 'Snow White and the Seven Dwarfs', 'Leaving Las Vegas', 'Three Colors: White', 'Babe', 'Toy Story', 'Little Women', 'Clueless', 'Shanghai Triad (Yao a yao yao dao waipo qiao)', 'Georgia', 'Eat Drink Man Woman', 'Ridicule', 'Gone with the Wind', 'Clerks', 'Smoke', 'Bob Roberts', 'Father of the Bride', 'Before Sunrise', 'Magnificent Seven', 'Madness of King George', 'Spitfire Grill', 'Garden of Finzi-Contini, The (Giardino dei Finzi-Contini, Il)', 'Braveheart', \"Singin' in the Rain\", 'Unzipped', 'GoodFellas', 'Raiders of the Lost Ark', 'Nikita (La Femme Nikita)', 'Quiz Show', 'Blue in the Face', 'Some Like It Hot', 'Philadelphia', \"Antonia's Line\", 'Empire Strikes Back', 'Emma', 'Fish Called Wanda', 'Dead Man Walking', 'Cinderella', 'Hoop Dreams', 'My Life as a Dog (Mitt liv som hund)', 'Passion Fish', 'Sleeper', 'Victor/Victoria', 'Cinema Paradiso', 'Groundhog Day', \"It's a Wonderful Life\", 'Brazil', 'Monty Python and the Holy Grail', 'Postino, Il', 'Godfather: Part II', 'Nightmare Before Christmas', 'Cool Hand Luke', 'Carrington', 'Secrets & Lies', \"What's Eating Gilbert Grape\", 'Wrong Trousers', 'Apocalypse Now', 'Man Without a Face', 'Amadeus', 'Birds', 'Star Wars', 'Duck Soup', 'Inspector General', 'Boot, Das', 'Henry V', 'Age of Innocence', 'Chinatown', 'Graduate', 'Gandhi', 'Fargo', 'Taxi Driver', '2001: A Space Odyssey', 'Blade Runner', 'Like Water For Chocolate (Como agua para chocolate)', 'Sunset Blvd.', 'Treasure of the Sierra Madre', 'Jerry Maguire', 'Usual Suspects', 'Unbearable Lightness of Being', 'Annie Hall', 'Bonnie and Clyde', 'My Left Foot', 'Casablanca', 'African Queen', 'Much Ado About Nothing', 'Citizen Kane', 'Clockwork Orange', 'Man Who Would Be King', 'Great Dictator', 'Breaking the Waves', 'Grand Day Out', 'Burnt By the Sun', 'Sting', 'Notorious', 'My Man Godfrey', 'Vertigo', 'Third Man', 'Bridge on the River Kwai', 'It Happened One Night', 'To Live (Huozhe)', 'Sling Blade', 'Dr. Strangelove or: How I Learned to Stop Worrying and Love the Bomb', 'Remains of the Day', 'Brothers McMullen', 'Crying Game', 'Philadelphia Story', 'Godfather', 'Four Weddings and a Funeral', '12 Angry Men', 'Horseman on the Roof, The (Hussard sur le toit, Le)', 'Close Shave', 'Adventures of Priscilla, Queen of the Desert', 'Sex, Lies, and Videotape', 'Grateful Dead', 'Manon of the Spring (Manon des sources)', 'North by Northwest', 'Indian in the Cupboard', 'Great Escape', 'Ran', 'Apollo 13', 'When Harry Met Sally...', 'Silence of the Lambs', 'Jean de Florette', 'Forrest Gump', 'Killing Fields', 'Arsenic and Old Lace', 'Pulp Fiction', 'Being There', 'Roman Holiday', \"One Flew Over the Cuckoo's Nest\", 'To Kill a Mockingbird', 'Sense and Sensibility', 'Mr. Smith Goes to Washington', 'Rear Window', 'Manhattan', 'Full Metal Jacket', 'Psycho', 'Kolya', 'Full Monty', 'Everyone Says I Love You', 'English Patient']"
        ],
        [
         "7",
         "919",
         "[\"Eve's Bayou\", 'Volcano', 'Apt Pupil', 'Alien: Resurrection', 'Kull the Conqueror', 'Saint', \"Dante's Peak\", 'Liar Liar', 'Scream 2', 'Murder at 1600', 'Starship Troopers', \"Ulee's Gold\", 'Money Talks', 'Cop Land', 'Evita', 'Chasing Amy', 'Amistad', 'Full Monty', 'Mimic']",
         "Chasing Amy",
         "['Hoodlum', \"Devil's Own\", 'Wag the Dog', 'Contact', 'Edge', 'In & Out', 'Rosewood', 'Conspiracy Theory', 'I Know What You Did Last Summer', 'Air Force One', 'Boogie Nights', \"Devil's Advocate\", 'Game', 'Gattaca', 'English Patient', 'Fallen', 'Leading Man', 'Kiss the Girls', 'Scream', 'Rainmaker', 'Jackie Brown', 'Good Will Hunting', 'Wings of the Dove', 'Titanic', 'L.A. Confidential']"
        ],
        [
         "8",
         "198",
         "['Big Night', 'Jerry Maguire', 'Truth About Cats & Dogs', 'Evita', 'L.A. Confidential', 'Star Wars', 'Bound', 'That Thing You Do!', 'Mighty Aphrodite', 'Primal Fear', 'Lone Star', 'Independence Day (ID4)', 'Game', 'Cop Land', 'Birdcage', 'Scream', \"Ulee's Gold\", 'Everyone Says I Love You', 'Ice Storm']",
         "Truth About Cats & Dogs",
         "['Postino, Il', 'Mission: Impossible', 'James and the Giant Peach', 'Venice/Venice', 'Boys', 'Trainspotting', 'People vs. Larry Flynt', 'Secrets & Lies', 'Leaving Las Vegas', 'Rock', 'Twelve Monkeys', 'Toy Story', 'Breaking the Waves', 'Dead Man Walking', 'Welcome to the Dollhouse', 'Celluloid Closet', 'Fargo', 'Cold Comfort Farm', 'Close Shave', \"Dante's Peak\", \"McHale's Navy\", 'Booty Call', 'Beautician and the Beast', 'Jungle2Jungle', 'Liar Liar', 'Volcano', 'Murder at 1600', 'George of the Jungle', 'Tomorrow Never Dies', 'Titanic', 'Mouse Hunt', \"Cats Don't Dance\", 'Lost Highway', 'Chasing Amy', 'Flubber', 'English Patient', 'Kolya', 'Full Monty', 'Contact']"
        ],
        [
         "9",
         "579",
         "['Jerry Maguire', 'Mars Attacks!', 'Multiplicity', 'Rock', \"My Best Friend's Wedding\", 'Kingpin', 'Ransom', 'Con Air', 'Face/Off', 'River Wild', 'Volcano', \"Devil's Own\", 'Money Talks', 'Conspiracy Theory', 'Chasing Amy', 'Game', 'Leaving Las Vegas', 'Absolute Power', 'Rumble in the Bronx']",
         "River Wild",
         "['Fled', 'Willy Wonka and the Chocolate Factory', 'Eraser', 'Saint', 'Broken Arrow', 'Mission: Impossible', 'Four Rooms', 'Michael', 'Lost World: Jurassic Park', 'Grumpier Old Men', 'Ghost and the Darkness', 'Scream', 'Long Kiss Goodnight', \"Jackie Chan's First Strike\", 'Birdcage', 'Independence Day (ID4)', 'Phenomenon', \"Mr. Holland's Opus\", 'Arrival', 'Time to Kill', 'Star Trek: First Contact', 'Men in Black', 'Toy Story', 'Austin Powers: International Man of Mystery', 'Frighteners', 'Extreme Measures', 'Vegas Vacation', \"Romy and Michele's High School Reunion\", 'Fifth Element', 'Return of the Jedi', 'Courage Under Fire', 'Star Wars', 'Fargo', 'Twelve Monkeys', 'English Patient', \"McHale's Navy\", 'Spawn', \"Dante's Peak\", 'Desperate Measures', 'Evita', 'Liar Liar', 'Alien: Resurrection', 'Starship Troopers', 'Desperate Measures', 'Contact', 'Air Force One']"
        ],
        [
         "10",
         "39",
         "['Murder at 1600', 'Seven Years in Tibet', \"Devil's Advocate\", 'Evita', 'Contact', 'In & Out', 'Kiss the Girls', 'Midnight in the Garden of Good and Evil', 'Volcano', 'Titanic', 'Cop Land', 'Rosewood', 'Apt Pupil', \"Eve's Bayou\", 'Saint', 'Edge', 'G.I. Jane', 'Scream', 'Everyone Says I Love You']",
         "Contact",
         "['Alien: Resurrection', 'Red Corner', 'Switchback', 'Spawn', 'Money Talks', 'Jungle2Jungle', \"Devil's Own\", 'Liar Liar', 'Deconstructing Harry', 'George of the Jungle', 'As Good As It Gets', 'Soul Food', 'Conspiracy Theory', 'Peacemaker', 'Air Force One', 'Mother', 'House of Yes', 'Amistad', 'Starship Troopers', 'Gattaca', 'Boogie Nights', 'English Patient', 'Ice Storm', 'Chasing Amy', 'Sweet Hereafter', 'Game', 'Jackie Brown', 'Kolya', 'L.A. Confidential', 'Rainmaker', 'Good Will Hunting', 'Full Monty', 'Wag the Dog', \"Ulee's Gold\"]"
        ],
        [
         "11",
         "549",
         "['English Patient', 'Jerry Maguire', 'Face/Off', 'Fifth Element', 'Kiss the Girls', 'Courage Under Fire', 'Fargo', 'Game', 'Chasing Amy', 'Murder at 1600', 'Ransom', 'Volcano', 'Twelve Monkeys', 'Rock', 'Wag the Dog', 'Money Talks', \"Devil's Own\", 'Broken Arrow', 'Desperate Measures']",
         "Jerry Maguire",
         "['Jungle2Jungle', 'Hunchback of Notre Dame', 'Liar Liar', 'Lost World: Jurassic Park', 'In & Out', 'To Gillian on Her 37th Birthday', 'Batman & Robin', 'Flubber', 'George of the Jungle', \"Mr. Holland's Opus\", 'White Squall', 'Independence Day (ID4)', 'Mission: Impossible', 'Star Trek: First Contact', 'Scream', 'Sense and Sensibility', 'Phenomenon', 'Toy Story', 'Anastasia', 'I Know What You Did Last Summer', 'Leave It to Beaver', 'Fly Away Home', 'Excess Baggage', 'Starship Troopers', 'Conspiracy Theory', 'Air Force One', 'Rainmaker', 'Titanic', 'Speed 2: Cruise Control', \"Dante's Peak\", 'Sixth Man', 'Hercules', 'Contact', 'Austin Powers: International Man of Mystery', \"My Best Friend's Wedding\", 'Saint', 'Men in Black', 'Return of the Jedi', 'Star Wars']"
        ],
        [
         "12",
         "760",
         "['Independence Day (ID4)', 'Chasing Amy', 'Money Talks', 'Fargo', 'Game', 'Leaving Las Vegas', 'L.A. Confidential', 'Phenomenon', 'Conspiracy Theory', 'Twister', \"Ulee's Gold\", 'Lone Star', 'Primal Fear', 'Executive Decision', 'River Wild', 'Eraser', 'Mission: Impossible', 'Trainspotting', 'Cape Fear']",
         "Phenomenon",
         "['Absolute Power', 'Last Man Standing', 'Time to Kill', 'Portrait of a Lady', 'Set It Off', 'White Squall', 'Sleepers', 'In Love and War', 'Nixon', 'Evil Dead II', 'Aparajito', 'Patton', 'Transformers: The Movie', 'Pink Floyd - The Wall', 'First Wives Club', 'Broken Arrow', \"Jackie Chan's First Strike\", 'Private Parts', 'Jerry Maguire', 'Willy Wonka and the Chocolate Factory', 'Ransom', 'Long Kiss Goodnight', 'Bed of Roses', 'My Fellow Americans', 'Courage Under Fire', 'Rock', \"Mr. Holland's Opus\", \"Romy and Michele's High School Reunion\", 'Matilda', 'Dead Man Walking', 'People vs. Larry Flynt', 'Twelve Monkeys', 'Mars Attacks!', 'Emma', 'Frighteners', 'Talking About Sex', 'Sense and Sensibility', 'Donnie Brasco', 'Breakdown', 'Toy Story', 'Ed', 'Return of the Jedi', 'Godfather', 'Star Trek: First Contact', 'Family Thing', 'Steel', 'Free Willy 3: The Rescue', 'Excess Baggage', 'Leave It to Beaver', 'Air Bud', 'Evita', 'Ghost', 'Ghost and the Darkness', 'Star Wars', 'Relic', 'Jungle2Jungle', \"Devil's Own\", 'Beautician and the Beast', 'G.I. Jane', 'Spawn', 'Volcano', 'Liar Liar', 'Saint', 'Scream', 'Contact']"
        ],
        [
         "13",
         "1",
         "['Cape Fear', 'Independence Day (ID4)', 'Conspiracy Theory', 'Everyone Says I Love You', 'Game', 'Lone Star', 'That Thing You Do!', 'Primal Fear', 'Twelve Monkeys', 'Rock', 'Usual Suspects', 'Big Night', 'Mission: Impossible', 'Courage Under Fire', 'Sleepers', 'Chasing Amy', 'River Wild', 'Murder at 1600', 'Trainspotting']",
         "River Wild",
         "['3 Ninjas: High Noon At Mega Mountain', 'Deceiver', 'FairyTale: A True Story', 'As Good As It Gets', 'Evita', 'Fly Away Home', 'Air Force One', 'Good Will Hunting', 'Rainmaker', 'L.A. Confidential', 'Secrets & Lies', 'Godfather', 'Fargo', 'Wings of the Dove', 'Emma', 'Kolya', 'Titanic', 'Star Wars', 'Shall We Dance?', 'Jerry Maguire', 'Tin Cup', 'Time to Kill', 'Mighty Aphrodite', 'Richard III', 'Postino, Il', 'Truth About Cats & Dogs', 'Once Upon a Time... When We Were Colored', 'Birdcage', 'Liar Liar', 'Bed of Roses', 'Heat', 'Absolute Power', 'Leaving Las Vegas', 'Sabrina', 'Face/Off', 'Up Close and Personal', 'Fierce Creatures', \"My Best Friend's Wedding\", \"Marvin's Room\", 'Restoration', 'Breakdown', 'Men in Black', 'Sense and Sensibility', 'Donnie Brasco', 'Promesse, La', 'Toy Story', \"Antonia's Line\", \"Ulee's Gold\", 'Full Monty', 'Mrs. Brown (Her Majesty, Mrs. Brown)', 'Hoodlum', 'Apt Pupil', \"Ulee's Gold\", 'Rosewood', 'In & Out', 'Midnight in the Garden of Good and Evil', 'Scream', \"Devil's Advocate\", 'Ice Storm', 'Contact', 'English Patient']"
        ],
        [
         "14",
         "568",
         "['Time to Kill', 'Evita', 'Primal Fear', '2 Days in the Valley', 'Swingers', 'That Thing You Do!', 'Ice Storm', 'Sleepers', 'Long Kiss Goodnight', 'Ransom', 'City of Lost Children', \"Ulee's Gold\", 'Full Monty', 'Everyone Says I Love You', 'Secrets & Lies', 'Welcome to the Dollhouse', 'Chasing Amy', 'Mars Attacks!', 'Fly Away Home']",
         "Chasing Amy",
         "[\"Romy and Michele's High School Reunion\", 'Lost World: Jurassic Park', \"Marvin's Room\", 'Four Rooms', 'Before and After', 'Sabrina', 'Beautiful Girls', 'James and the Giant Peach', 'Independence Day (ID4)', 'Father of the Bride Part II', 'Phantom', 'Mission: Impossible', 'Nixon', '101 Dalmatians', 'Restoration', 'Absolute Power', 'French Twist (Gazon maudit)', 'Phenomenon', 'Broken Arrow', 'Men in Black', 'Twister', \"Jackie Chan's First Strike\", \"Mr. Holland's Opus\", 'Star Trek: First Contact', \"Antonia's Line\", 'Executive Decision', 'Breakdown', 'Postino, Il', 'Trigger Effect', 'Willy Wonka and the Chocolate Factory', 'Truth About Cats & Dogs', 'Twelve Monkeys', 'Spitfire Grill', 'Lone Star', 'Tin Cup', 'Mighty Aphrodite', 'Rock', 'Crucible', 'Emma', 'Heat', 'People vs. Larry Flynt', 'Birdcage', 'Fargo', 'Face/Off', 'White Squall', 'Grosse Pointe Blank', 'Citizen Ruth', 'Jerry Maguire', 'Trainspotting', 'Star Wars', 'Dead Man Walking', 'Leaving Las Vegas', 'Courage Under Fire', 'River Wild', 'Family Thing', 'Toy Story', 'Conspiracy Theory', 'Scream', 'Saint', 'In & Out', 'Crash', 'Liar Liar', 'Mother', 'Boogie Nights', 'Game', 'Air Force One', 'Contact', 'English Patient', 'L.A. Confidential']"
        ],
        [
         "15",
         "864",
         "['Braveheart', 'Get Shorty', 'Men in Black', 'Ransom', 'Back to the Future', 'Money Talks', 'Shawshank Redemption', 'Monty Python and the Holy Grail', 'Return of the Jedi', 'Austin Powers: International Man of Mystery', 'Mystery Science Theater 3000: The Movie', 'Pulp Fiction', 'Kingpin', 'Scream', 'Fifth Element', 'Apollo 13', 'Cape Fear', 'Usual Suspects', 'Liar Liar']",
         "Liar Liar",
         "[\"Devil's Own\", 'Sword in the Stone', 'Cinderella', 'Fox and the Hound', 'Ghost in the Shell (Kokaku kidotai)', 'Heavy Metal', 'Snow White and the Seven Dwarfs', 'Beauty and the Beast', 'Dumbo', 'Robin Hood: Prince of Thieves', 'Aladdin', 'Lion King', 'Fantasia', 'Grand Day Out', 'Nightmare Before Christmas', 'Wrong Trousers', 'Cable Guy', 'Harriet the Spy', 'Crow: City of Angels', 'Very Brady Sequel', 'Escape from L.A.', 'Down Periscope', 'Beverly Hills Ninja', '2 Days in the Valley', 'Stealing Beauty', 'Eraser', 'Craft', 'Multiplicity', 'Twister', 'Muppet Treasure Island', 'Dragonheart', 'Mission: Impossible', 'James and the Giant Peach', 'Ghost and the Darkness', 'Nutty Professor', 'Crucible', 'Truth About Cats & Dogs', 'That Thing You Do!', 'Arrival', 'Executive Decision', 'Michael Collins', 'Independence Day (ID4)', 'Grumpier Old Men', 'Broken Arrow', 'Rock', 'City of Lost Children', 'Happy Gilmore', 'Kids in the Hall: Brain Candy', 'Beavis and Butt-head Do America', 'Courage Under Fire', \"Jackie Chan's First Strike\", 'Rumble in the Bronx', 'Star Trek: First Contact', 'Trainspotting', 'Twelve Monkeys', 'Toy Story', 'Looking for Richard', 'Close Shave', \"Young Poisoner's Handbook\", 'Fargo', 'Conspiracy Theory', 'Starship Troopers', 'Contact', 'Chasing Amy', 'L.A. Confidential']"
        ],
        [
         "16",
         "913",
         "['Empire Strikes Back', 'Fugitive', 'Ghost', 'Forrest Gump', 'Shining', 'Silence of the Lambs', 'Jurassic Park', 'Quiz Show', 'Return of the Jedi', \"Schindler's List\", 'Cape Fear', 'Sound of Music', 'Field of Dreams', 'Amadeus', 'Back to the Future', 'Star Wars', 'Dances with Wolves', 'Mrs. Doubtfire', 'Raising Arizona']",
         "Ghost",
         "['Pretty Woman', 'Something to Talk About', 'Dirty Dancing', 'Age of Innocence', 'Sleepless in Seattle', 'Truth About Cats & Dogs', 'Pie in the Sky', 'When Night Is Falling', 'The Innocent', 'Infinity', 'Dave', 'Shadowlands', 'French Kiss', 'Circle of Friends', \"Muriel's Wedding\", 'When Harry Met Sally...', 'American President', 'Don Juan DeMarco', 'Grease', 'Bridges of Madison County', 'Graduate', 'Titanic']"
        ],
        [
         "17",
         "826",
         "['Ice Storm', 'Money Talks', 'Rainmaker', 'Edge', 'Apt Pupil', 'Cop Land', 'Jackie Brown', 'Peacemaker', 'Murder at 1600', \"Devil's Advocate\", 'Kull the Conqueror', 'Starship Troopers', 'Boogie Nights', 'Volcano', \"Dante's Peak\", 'Conspiracy Theory', \"Ulee's Gold\", \"Eve's Bayou\", 'Mimic']",
         "Edge",
         "['Wag the Dog', 'Smile Like Yours', 'As Good As It Gets', 'Game', 'Titanic', 'Amistad', 'Good Will Hunting', 'Midnight in the Garden of Good and Evil', 'Spawn', 'Saint', 'Desperate Measures', 'Liar Liar', \"Devil's Own\", 'Evita', 'G.I. Jane', 'Seven Years in Tibet', 'Kiss the Girls', 'Scream', 'In & Out', 'Jackal', 'English Patient', 'Air Force One', 'Alien: Resurrection', 'Full Monty', 'L.A. Confidential', 'Chasing Amy', 'Contact']"
        ],
        [
         "18",
         "901",
         "['Apollo 13', 'Stand by Me', 'Forrest Gump', 'Rock', 'Cape Fear', 'Raiders of the Lost Ark', 'When Harry Met Sally...', 'Silence of the Lambs', 'Braveheart', 'Fugitive', 'Raising Arizona', 'Fargo', 'Jerry Maguire', \"Ulee's Gold\", 'To Kill a Mockingbird', 'Alien', 'Independence Day (ID4)', 'Mission: Impossible', 'Usual Suspects']",
         "Fugitive",
         "['Back to the Future', 'Die Hard', 'Sense and Sensibility', 'Bringing Up Baby', 'Godfather: Part II', 'Aladdin', 'Searching for Bobby Fischer', 'Star Trek: The Wrath of Khan', 'Aliens', 'Babe', 'E.T. the Extra-Terrestrial', 'North by Northwest', 'Toy Story', 'Amadeus', 'Vertigo', 'Citizen Kane', 'Empire Strikes Back', \"Schindler's List\", 'Casablanca', \"Cats Don't Dance\", 'Hercules', 'Breakdown', 'Chasing Amy', 'Fifth Element', 'Face/Off', 'Men in Black', 'Con Air', 'Return of the Jedi', 'Godfather', 'Boot, Das', 'Star Wars', 'Fly Away Home', \"Devil's Advocate\", 'Peacemaker', 'Starship Troopers', 'Evita', 'In & Out', 'Chasing Amy', 'Air Force One', 'Cop Land', 'Red Corner', 'G.I. Jane', 'Game', 'Conspiracy Theory', 'Mrs. Brown (Her Majesty, Mrs. Brown)', 'Liar Liar', 'L.A. Confidential', 'Contact']"
        ],
        [
         "19",
         "716",
         "['Nutty Professor', 'Twister', 'Frighteners', 'Heat', 'Kingpin', 'Money Talks', 'Toy Story', 'Cape Fear', 'Lone Star', 'Godfather', 'Leaving Las Vegas', 'Kiss the Girls', 'Con Air', 'Return of the Jedi', 'Men in Black', 'People vs. Larry Flynt', 'Extreme Measures', 'That Thing You Do!', 'Ice Storm']",
         "Godfather",
         "['Face/Off', 'Fifth Element', 'Chasing Amy', 'Star Wars', 'Donnie Brasco', 'Sleepers', '2 Days in the Valley', 'Multiplicity', 'Ghost and the Darkness', 'Kansas City', 'Escape from L.A.', 'River Wild', 'Broken Arrow', 'Michael', 'Diabolique', 'First Wives Club', 'Associate', 'Beavis and Butt-head Do America', 'Phantom', 'Fear', 'One Fine Day', 'Time to Kill', 'Independence Day (ID4)', 'Grass Harp', 'Mars Attacks!', 'Up Close and Personal', 'Mission: Impossible', 'Fierce Creatures', 'Eraser', 'Birdcage', 'Dragonheart', 'Executive Decision', 'Sabrina', 'Spitfire Grill', 'Beautiful Thing', 'Arrival', \"Marvin's Room\", \"Jackie Chan's First Strike\", 'Truth About Cats & Dogs', 'Absolute Power', 'Ransom', 'Courage Under Fire', 'Jerry Maguire', 'Phenomenon', 'To Gillian on Her 37th Birthday', 'Rock', 'Swingers', 'Primal Fear', 'Long Kiss Goodnight', 'Rumble in the Bronx', 'Mother Night', 'Fargo', 'Star Trek: First Contact', 'Secrets & Lies', 'Trainspotting', 'Twelve Monkeys', 'Contact', \"Eve's Bayou\", 'Titanic', 'Midnight in the Garden of Good and Evil', 'Full Monty', 'One Night Stand', \"Devil's Advocate\", 'Murder at 1600', 'Chasing Amy', 'Kiss Me, Guido', 'Mortal Kombat: Annihilation', 'Spawn', 'Tomorrow Never Dies', 'Alien: Resurrection', 'Event Horizon', 'Evita', 'Saint', \"Devil's Own\", 'Volcano', 'Starship Troopers', 'Liar Liar', 'Conspiracy Theory', 'Lost Highway', 'Air Force One', 'Hoodlum', 'Scream', 'In & Out', 'Cop Land', 'Game', 'Edge', \"Ulee's Gold\", 'English Patient', 'G.I. Jane', 'In the Company of Men', 'Boogie Nights', 'L.A. Confidential']"
        ],
        [
         "20",
         "773",
         "['Beauty and the Beast', 'Rob Roy', 'When Harry Met Sally...', 'Alien 3', 'Wizard of Oz', 'Strange Days', 'Hot Shots! Part Deux', 'Seven (Se7en)', 'Scream', 'Fantasia', 'Lion King', 'Robin Hood: Prince of Thieves', 'True Romance', 'Maverick', 'Heathers', 'Amadeus', 'Princess Bride', 'Chasing Amy', 'Usual Suspects']",
         "Usual Suspects",
         "['Two Bits', 'Batman & Robin', 'Fifth Element', 'Con Air', 'Donnie Brasco', 'Lawnmower Man 2: Beyond Cyberspace', 'Tales from the Crypt Presents: Bordello of Blood', 'Thinner', 'Halloween: The Curse of Michael Myers', 'Down Periscope', 'Sgt. Bilko', 'Very Brady Sequel', 'Cable Guy', \"Joe's Apartment\", 'Vegas Vacation', 'Michael', 'Nutty Professor', 'Trees Lounge', 'Grumpier Old Men', 'Mars Attacks!', 'Swingers', 'Beavis and Butt-head Do America', 'Kingpin', 'Last Supper', 'Fargo', 'People vs. Larry Flynt', 'Rock', 'Barb Wire', 'Crow: City of Angels', 'Phantom', 'Last Man Standing', 'Escape from L.A.', 'Turbulence', 'Twister', 'Broken Arrow', 'Eraser', 'Independence Day (ID4)', 'Heat', 'Star Trek: First Contact', 'Twelve Monkeys', 'Mission: Impossible', 'Unforgiven', 'Sliver', 'Dolores Claiborne', 'Big Sleep', 'Chinatown', 'Crimson Tide', 'Pretty Woman', \"William Shakespeare's Romeo and Juliet\", 'NeverEnding Story III', \"Pete's Dragon\", 'Dumbo', 'Cinderella', 'Heavy Metal', 'Nightmare Before Christmas', 'Grand Day Out', 'Prophecy', \"Stephen King's The Langoliers\", 'Wolf', 'Jaws 2', 'Jaws 3-D', 'Body Snatchers', \"Bram Stoker's Dracula\", \"Mary Shelley's Frankenstein\", \"Wes Craven's New Nightmare\", 'Blob', 'Candyman', 'Nightmare on Elm Street', 'Cape Fear', 'American Werewolf in London', 'Carrie', 'Omen', 'Shining', 'Interview with the Vampire', 'Cat People', 'Jaws', 'Psycho', 'Silence of the Lambs', 'Robocop 3', 'Star Trek V: The Final Frontier', 'Judge Dredd', 'Under Siege 2: Dark Territory', 'Waterworld', 'Last Action Hero', 'Stargate', 'Cliffhanger', 'Batman Forever', 'Tank Girl', 'Super Mario Bros.', 'Star Trek: The Motion Picture', 'Days of Thunder', 'Program', 'Top Gun', 'Highlander III: The Sorcerer', 'Conan the Barbarian', 'Batman Returns', 'Natural Born Killers', 'Under Siege', 'Star Trek VI: The Undiscovered Country', 'GoldenEye', 'Die Hard 2', 'True Lies', 'Speed', 'Full Metal Jacket', 'In the Line of Fire', 'Highlander', 'Crow', 'Star Trek III: The Search for Spock', 'Jurassic Park', 'Good, The Bad and The Ugly', 'Clear and Present Danger', 'Die Hard: With a Vengeance', 'Terminator 2: Judgment Day', 'Big Blue, The (Grand bleu, Le)', 'Hunt for Red October', 'Star Trek: The Wrath of Khan', 'Last of the Mohicans', 'Star Trek IV: The Voyage Home', 'Return of the Jedi', 'Fugitive', 'Terminator', 'Star Wars', 'Raiders of the Lost Ark', 'Alien', 'Aliens', 'Godfather', 'Empire Strikes Back', 'Blade Runner', 'Man Who Would Be King', 'Powder', 'Star Trek: Generations', 'Rudy', 'Firm', 'Ghost', 'Sex, Lies, and Videotape', 'Seventh Seal, The (Sjunde inseglet, Det)', 'My Own Private Idaho', 'Walk in the Clouds', 'Dave', 'Once Upon a Time in America', 'Outbreak', 'Batman', 'Thin Blue Line', 'Right Stuff', \"Miller's Crossing\", 'Graduate', 'Dead Poets Society', 'Quiz Show', 'Day the Earth Stood Still', 'Killing Fields', 'Apollo 13', 'Gandhi', 'Madness of King George', 'Apocalypse Now', 'Taxi Driver', 'E.T. the Extra-Terrestrial', 'Clockwork Orange', 'Dances with Wolves', 'Ben-Hur', '2001: A Space Odyssey', 'Braveheart', 'Cape Fear', 'Forrest Gump', 'Shawshank Redemption', 'Bridge on the River Kwai', 'Pink Floyd - The Wall', 'Field of Dreams', 'Magnificent Seven', 'Godfather: Part II', \"Schindler's List\", '12 Angry Men', 'Deer Hunter', 'Lawrence of Arabia', 'Treasure of the Sierra Madre', 'Patton', \"One Flew Over the Cuckoo's Nest\", 'GoodFellas', 'Boot, Das', 'Great Escape', 'Back to the Future', 'Coneheads', 'Cops and Robbersons', 'Home Alone', 'Son in Law', 'Addams Family Values', 'Sleepless in Seattle', 'Three Musketeers', 'Grease', 'Brady Bunch Movie', 'Friday', 'Tin Men', 'Mask', 'Young Guns', 'American President', 'Babe', 'Mrs. Doubtfire', 'Harold and Maude', 'Evil Dead II', 'Get Shorty', 'Up in Smoke', 'Clueless', 'Blues Brothers', 'Don Juan DeMarco', 'Stand by Me', 'Sting', 'Annie Hall', 'Cool Hand Luke', 'Groundhog Day', 'Indiana Jones and the Last Crusade', 'Monty Python and the Holy Grail', 'Pulp Fiction', 'Raising Arizona', 'M*A*S*H', 'Brazil', 'Young Frankenstein', 'Arsenic and Old Lace', 'Vampire in Brooklyn', 'Richie Rich', \"National Lampoon's Senior Trip\", \"Devil's Advocate\", 'Contact', 'Air Force One', 'Liar Liar']"
        ],
        [
         "21",
         "363",
         "['Conspiracy Theory', 'Event Horizon', 'Game', 'Air Force One', 'Murder at 1600', 'George of the Jungle', 'Jungle2Jungle', 'Cop Land', 'Rosewood', \"Dante's Peak\", 'Contact', 'Kull the Conqueror', 'Spawn', 'In & Out', \"She's So Lovely\", 'Saint', 'Mimic', 'Money Talks', \"Ulee's Gold\"]",
         "She's So Lovely",
         "[\"She's the One\", \"McHale's Navy\", 'Booty Call', 'Beautician and the Beast', 'Volcano', 'Anna Karenina', 'Mother', 'Crash', 'Air Bud', 'In the Company of Men', 'Liar Liar', 'Scream', 'Evita', 'Chasing Amy', 'L.A. Confidential', 'English Patient', 'Everyone Says I Love You', 'Full Monty', 'Seven Years in Tibet']"
        ],
        [
         "22",
         "940",
         "['Mars Attacks!', 'Fifth Element', 'Mission: Impossible', 'Toy Story', 'Scream', 'Chasing Amy', \"Devil's Own\", 'Cape Fear', 'Independence Day (ID4)', 'Broken Arrow', 'Money Talks', 'Game', 'Volcano', 'Fargo', 'Rumble in the Bronx', 'Austin Powers: International Man of Mystery', 'Sleepers', 'Star Wars', 'Jerry Maguire']",
         "Toy Story",
         "[\"Mr. Holland's Opus\", 'Waiting for Guffman', 'Long Kiss Goodnight', 'Heat', 'Star Trek: First Contact', \"Jackie Chan's First Strike\", 'Trainspotting', 'Happy Gilmore', 'Hercules', 'Lone Star', 'Men in Black', 'Twelve Monkeys', 'City of Lost Children', 'Face/Off', 'Return of the Jedi', 'Close Shave', 'Rock', 'Spawn', 'Liar Liar', 'Air Force One', 'Contact']"
        ],
        [
         "23",
         "849",
         "['Cape Fear', 'Sabrina', 'Braveheart', 'Terminator', 'Duck Soup', \"One Flew Over the Cuckoo's Nest\", 'Birdcage', 'Sting', 'Hunt for Red October', 'E.T. the Extra-Terrestrial', 'Alien', 'Godfather', 'Apocalypse Now', 'When Harry Met Sally...', 'Snow White and the Seven Dwarfs', 'Lawrence of Arabia', 'Sound of Music', 'Casablanca', 'Aliens']",
         "Braveheart",
         "['Quiet Man', 'Sleepless in Seattle', 'Forrest Gump', 'Monty Python and the Holy Grail', 'Return of the Jedi', 'Raiders of the Lost Ark', 'Mary Poppins', 'Star Trek: The Wrath of Khan', 'On Golden Pond', 'Aladdin', 'Empire Strikes Back', 'Indiana Jones and the Last Crusade', 'Secret Garden', \"Mr. Holland's Opus\", 'Clear and Present Danger', 'Terminator 2: Judgment Day', 'Wizard of Oz', 'Apollo 13', 'Ransom', 'Fugitive', 'Silence of the Lambs', 'My Fair Lady', 'Treasure of the Sierra Madre', 'Dances with Wolves', 'His Girl Friday', 'Star Wars', 'Lion King', 'True Lies', \"It's a Wonderful Life\", 'Independence Day (ID4)', 'Babe', \"Singin' in the Rain\", 'Pulp Fiction', 'Princess Bride', 'Young Frankenstein', 'Jurassic Park', 'Winnie the Pooh and the Blustery Day', 'Butch Cassidy and the Sundance Kid', 'To Catch a Thief', 'Back to the Future', 'North by Northwest', 'Fish Called Wanda', 'Dead Poets Society', 'Speed', 'Being There', \"Schindler's List\", 'Groundhog Day', 'Arsenic and Old Lace', 'Liar Liar', 'Air Force One']"
        ],
        [
         "24",
         "707",
         "['Forrest Gump', 'Cape Fear', 'Time to Kill', \"Ulee's Gold\", 'Groundhog Day', 'First Wives Club', 'Game', 'Fargo', 'Primal Fear', 'Heat', 'Net', 'Sense and Sensibility', 'L.A. Confidential', 'Scream', 'Twelve Monkeys', 'Mulholland Falls', 'Mighty Aphrodite', 'Ice Storm', 'English Patient']",
         "First Wives Club",
         "[\"Joe's Apartment\", 'Ransom', 'Chain Reaction', 'Emma', 'Spitfire Grill', 'Tin Cup', 'Dangerous Ground', 'That Thing You Do!', 'Surviving Picasso', 'To Gillian on Her 37th Birthday', 'Sleepers', 'Jude', 'Swingers', 'Long Kiss Goodnight', 'Ghost and the Darkness', 'Looking for Richard', 'Willy Wonka and the Chocolate Factory', 'People vs. Larry Flynt', 'Associate', 'Star Trek: First Contact', 'Crucible', '101 Dalmatians', 'My Fellow Americans', \"Preacher's Wife\", 'Jerry Maguire', 'In Love and War', 'Michael', 'Evening Star', 'Vegas Vacation', 'Evita', \"McHale's Navy\", 'Everyone Says I Love You', 'Murder at 1600', 'Liar Liar', 'Saint', 'Volcano', 'Contact', 'Spawn', 'G.I. Jane', 'Free Willy 3: The Rescue', 'Picture Perfect', 'Hoodlum', 'Conspiracy Theory', 'Air Force One', 'Soul Food', 'Seven Years in Tibet', 'Smile Like Yours', 'Fly Away Home', 'Chasing Amy', 'Full Monty', 'Playing God', \"Eve's Bayou\", 'Gang Related', 'Starship Troopers', 'Anastasia', 'Titanic', 'Tomorrow Never Dies', 'Wag the Dog', 'Spice World', 'Blues Brothers 2000', 'Eraser', 'Grumpier Old Men', 'Very Brady Sequel', 'Mr. Wrong', 'Executive Decision', 'Hunchback of Notre Dame', 'Happy Gilmore', \"Fathers' Day\", 'House Arrest', 'Sabrina', 'Father of the Bride Part II', 'Two if by Sea', 'River Wild', 'Bed of Roses', 'Flipper', 'If Lucy Fell', 'Leaving Las Vegas', 'Mission: Impossible', 'Beautiful Girls', 'Birdcage', 'Addicted to Love', 'Multiplicity', 'Jane Eyre', 'James and the Giant Peach', 'Broken Arrow', 'Phenomenon', \"My Best Friend's Wedding\", 'Truth About Cats & Dogs', 'Twister', 'Down Periscope', 'Courage Under Fire', \"Mr. Holland's Opus\", 'Toy Story', 'Eddie', 'Hercules', 'Independence Day (ID4)', 'Othello', 'Muppet Treasure Island', 'Up Close and Personal', 'Return of the Jedi', 'Rock', 'Godfather', 'Star Wars', 'Dead Man Walking']"
        ],
        [
         "25",
         "650",
         "['Courage Under Fire', \"Dante's Peak\", 'Money Talks', 'Evita', 'Conspiracy Theory', 'Everyone Says I Love You', 'Scream', \"She's So Lovely\", 'Game', 'Jerry Maguire', 'Big Night', 'Ice Storm', \"Devil's Advocate\", 'In the Company of Men', 'In & Out', 'Volcano', \"Ulee's Gold\", 'Air Force One', 'Contact']",
         "In & Out",
         "['Deceiver', 'Murder at 1600', 'Kiss Me, Guido', 'Seven Years in Tibet', 'Cop Land', 'Chasing Amy', 'Mrs. Brown (Her Majesty, Mrs. Brown)', 'Kolya', 'Full Monty', 'Rocket Man', 'Leaving Las Vegas', 'Boot, Das', 'Cold Comfort Farm', 'Secrets & Lies', 'Godfather', 'Rosewood', 'Kiss the Girls', 'L.A. Confidential', 'Liar Liar', 'English Patient']"
        ],
        [
         "26",
         "679",
         "['Back to the Future', 'Groundhog Day', 'Apollo 13', 'Mission: Impossible', 'Fugitive', 'Contact', 'Shawshank Redemption', 'Jerry Maguire', 'Raiders of the Lost Ark', 'Usual Suspects', 'Raising Arizona', 'Pulp Fiction', 'Godfather', 'Sabrina', 'Ice Storm', 'Chasing Amy', \"Ulee's Gold\", 'Cape Fear', 'Forrest Gump']",
         "Sabrina",
         "['Rock', 'One Fine Day', 'Grosse Pointe Blank', 'Men in Black', 'Angels and Insects', 'That Thing You Do!', 'Rumble in the Bronx', 'Heat', 'Fargo', 'Speed 2: Cruise Control', 'Private Parts', 'Willy Wonka and the Chocolate Factory', 'Leaving Las Vegas', 'Swingers', 'Postino, Il', 'Secrets & Lies', \"Mr. Holland's Opus\", 'Twelve Monkeys', 'Big Night', 'Star Wars', 'Birdcage', 'Boot, Das', 'Independence Day (ID4)', 'Close Shave', 'Toy Story', 'Sound of Music', 'Silence of the Lambs', 'Manhattan', 'Unforgiven', 'Wrong Trousers', \"Schindler's List\", 'Terminator', 'Dead Man Walking', 'Liar Liar', 'Kolya', 'Full Monty', 'English Patient']"
        ],
        [
         "27",
         "942",
         "['Jaws', 'Grease', 'Heathers', 'Jurassic Park', 'This Is Spinal Tap', 'Sleepless in Seattle', 'American President', 'Alien', 'Babe', 'Chasing Amy', 'Aliens', 'Lion King', 'Batman Forever', 'Real Genius', 'Get Shorty', 'Philadelphia', 'Scream', 'Die Hard: With a Vengeance', 'Last of the Mohicans']",
         "Jaws",
         "['Star Trek: The Wrath of Khan', 'Star Trek IV: The Voyage Home', 'Star Trek III: The Search for Spock', 'Star Trek: The Motion Picture', 'Star Trek VI: The Undiscovered Country', 'Star Trek V: The Final Frontier', 'Last Man Standing', 'Willy Wonka and the Chocolate Factory', 'An Unforgettable Summer', 'Jerry Maguire', 'Speechless', 'Last Action Hero', 'Under Siege 2: Dark Territory', 'Judge Dredd', 'Billy Madison', 'Son in Law', 'Young Guns II', 'Reality Bites', 'Boomerang', 'Net', 'Nine Months', 'Addams Family Values', 'Wolf', 'Batman Returns', 'Candyman: Farewell to the Flesh', 'Ace Ventura: Pet Detective', 'It Could Happen to You', 'Candyman', 'Wyatt Earp', 'Cliffhanger', 'Only You', 'Legends of the Fall', \"Bram Stoker's Dracula\", 'Natural Born Killers', 'Hot Shots! Part Deux', 'First Knight', 'Apple Dumpling Gang', 'Love Bug', 'Transformers: The Movie', 'Stargate', 'Outbreak', 'Mortal Kombat', 'Bad Boys', 'GoldenEye', 'Pretty Woman', 'Cape Fear', 'Home Alone', 'Paper', 'Clear and Present Danger', 'Three Musketeers', 'Program', 'Brady Bunch Movie', 'Sneakers', 'Young Guns', 'Tombstone', 'Mask', 'Kalifornia', 'Dave', 'Top Gun', 'Rob Roy', 'Batman', 'Birds', 'With Honors', 'Highlander', 'Father of the Bride', 'Ghost', 'Clueless', 'True Romance', 'Mallrats', 'Die Hard 2', 'Mrs. Doubtfire', 'Interview with the Vampire', 'Killing Zoe', 'Maverick', 'Client', 'Nightmare on Elm Street', 'Rudy', 'Ben-Hur', 'My Fair Lady', \"Carlito's Way\", 'Crow', 'Circle of Friends', 'Patton', 'Blues Brothers', 'Dances with Wolves', 'Forrest Gump', 'Sword in the Stone', 'Terminator', 'Shining', 'Psycho', 'Evil Dead II', 'Giant', \"William Shakespeare's Romeo and Juliet\", 'When Harry Met Sally...', 'Under Siege', 'True Lies', 'Pulp Fiction', 'Full Metal Jacket', 'Stand by Me', 'Army of Darkness', 'E.T. the Extra-Terrestrial', 'Dead Poets Society', 'Sting', 'Groundhog Day', 'To Kill a Mockingbird', 'Godfather: Part II', 'Indiana Jones and the Last Crusade', 'Professional', 'Quiz Show', 'Back to the Future', 'Right Stuff', 'Wizard of Oz', \"Schindler's List\", 'Usual Suspects', 'Crimson Tide', 'GoodFellas', 'Speed', 'Braveheart', 'Clerks', 'Fugitive', 'Field of Dreams', 'Seven (Se7en)', 'Silence of the Lambs', 'Princess Bride', 'Empire Strikes Back', 'Mary Poppins', 'Terminator 2: Judgment Day', 'Monty Python and the Holy Grail', 'Taxi Driver', 'Thinner', 'Fan', 'Cable Guy', '2 Days in the Valley', 'Great White Hype', 'River Wild', 'Arrival', 'Escape from L.A.', 'Time to Kill', 'Broken Arrow', 'Tin Cup', 'Truth About Cats & Dogs', 'Multiplicity', 'Father of the Bride Part II', 'Juror', 'Grumpier Old Men', 'Independence Day (ID4)', 'Sabrina', 'Rumble in the Bronx', 'Craft', 'Mission: Impossible', 'Courage Under Fire', 'Executive Decision', 'Lone Star', 'Dead Man Walking', 'Rock', 'Trainspotting', 'Very Brady Sequel', 'Star Wars', 'Happy Gilmore', 'People vs. Larry Flynt', 'Godfather', 'Bottle Rocket', 'Fargo', 'Raiders of the Lost Ark', 'Apollo 13', 'Return of the Jedi', 'Shawshank Redemption']"
        ],
        [
         "28",
         "557",
         "['Kolya', 'Bound', 'Independence Day (ID4)', 'Leaving Las Vegas', 'Secrets & Lies', 'L.A. Confidential', 'Primal Fear', 'Rock', 'Mighty Aphrodite', 'Chasing Amy', \"Ulee's Gold\", 'Breaking the Waves', 'Contact', 'Scream', 'Ice Storm', 'Welcome to the Dollhouse', 'Twelve Monkeys', 'Jerry Maguire', 'Everyone Says I Love You']",
         "Secrets & Lies",
         "['Full Monty', 'Fargo', 'Angels and Insects', 'Pillow Book', 'Looking for Richard', \"Antonia's Line\", 'People vs. Larry Flynt', 'Brassed Off', 'Cold Comfort Farm', \"Mr. Holland's Opus\", 'Emma', 'Postino, Il', 'Dead Man Walking', 'Michael Collins', 'Big Night', 'Sense and Sensibility', \"Star Maker, The (Uomo delle stelle, L')\", 'Lone Star', 'English Patient']"
        ],
        [
         "29",
         "794",
         "['Star Trek VI: The Undiscovered Country', 'Conan the Barbarian', 'Scream', 'Star Trek IV: The Voyage Home', 'Alien', 'Star Trek III: The Search for Spock', 'Cape Fear', 'Aliens', 'Mission: Impossible', 'Lion King', 'Terminator', 'Chasing Amy', 'Seven (Se7en)', 'Pulp Fiction', 'Jurassic Park', 'Rumble in the Bronx', 'True Lies', 'Star Trek: The Wrath of Khan', 'Maverick']",
         "Mission: Impossible",
         "['Sgt. Bilko', 'Tales from the Hood', 'Pretty Woman', 'Interview with the Vampire', 'Species', 'Craft', \"Bram Stoker's Dracula\", \"Muriel's Wedding\", 'American Werewolf in London', 'Beavis and Butt-head Do America', 'Toy Story', 'High School High', 'Swingers', 'Drop Dead Fred', 'Dracula: Dead and Loving It', 'Striptease', 'Beverly Hillbillies', 'Johnny Mnemonic', 'Cabin Boy', 'Robin Hood: Men in Tights', 'Street Fighter', 'Coneheads', 'Ghost', 'Batman Returns', 'Waterworld', 'Forget Paris', 'Cliffhanger', 'Timecop', 'Very Brady Sequel', 'Canadian Bacon', 'Addams Family Values', 'Jumanji', 'Stargate', 'Private Benjamin', 'Twister', 'Hot Shots! Part Deux', \"Wes Craven's New Nightmare\", 'Strange Days', 'Escape from New York', 'Four Weddings and a Funeral', 'Abyss', 'Kalifornia', 'Highlander', 'Crow', 'Casper', 'From Dusk Till Dawn', 'Jungle Book', 'Benny & Joon', 'GoldenEye', 'Sound of Music', 'Clueless', 'Nightmare on Elm Street', 'Die Hard: With a Vengeance', 'Mask', 'Tank Girl', 'Die Hard 2', 'Pump Up the Volume', 'Speed', 'Nosferatu (Nosferatu, eine Symphonie des Grauens)', 'Shining', 'Bananas', 'Cook the Thief His Wife & Her Lover', 'Jaws', \"Singin' in the Rain\", 'Batman', 'Annie Hall', 'Romeo Is Bleeding', 'Hudsucker Proxy', 'Amadeus', 'Secret Adventures of Tom Thumb', 'Wizard of Oz', 'Bob Roberts', 'Blues Brothers', 'Terminator 2: Judgment Day', 'Immortal Beloved', 'Unforgiven', 'Stand by Me', '2001: A Space Odyssey', 'GoodFellas', \"Monty Python's Life of Brian\", 'Real Genius', 'Groundhog Day', 'Aladdin', 'Dances with Wolves', 'Adventures of Priscilla, Queen of the Desert', 'Six Degrees of Separation', 'Monty Python and the Holy Grail', 'Raising Arizona', 'E.T. the Extra-Terrestrial', 'Better Off Dead...', 'Die Hard', 'Nightmare Before Christmas', 'Hunt for Red October', 'Pink Floyd - The Wall', 'Grand Day Out', 'Ed Wood', 'Brazil', 'Sleeper', 'Usual Suspects', 'Quiz Show', 'Fantasia', 'Get Shorty', 'Young Frankenstein', 'Clerks', 'Men in Black', 'Heathers', 'Army of Darkness', 'Beauty and the Beast', 'This Is Spinal Tap', 'Back to the Future', 'Empire Strikes Back', 'Home for the Holidays', 'Evil Dead II', 'Forbidden Planet', 'Raiders of the Lost Ark', 'Mary Poppins', 'Apollo 13', 'Babe', 'Blade Runner', 'Fish Called Wanda', 'Day the Earth Stood Still', 'Fugitive', 'Wrong Trousers', 'Princess Bride', 'Indiana Jones and the Last Crusade', 'James and the Giant Peach', 'Down Periscope', 'Four Rooms', 'Escape from L.A.', 'Phantom', 'Space Jam', 'Spy Hard', 'Mars Attacks!', 'Island of Dr. Moreau', 'Father of the Bride Part II', 'Dragonheart', 'Kids in the Hall: Brain Candy', 'Broken Arrow', 'Kingpin', 'Arrival', 'Willy Wonka and the Chocolate Factory', 'Matilda', 'Frighteners', 'Star Trek: First Contact', 'Rock', 'Independence Day (ID4)', 'Muppet Treasure Island', 'Cemetery Man (Dellamorte Dellamore)', 'City of Lost Children', 'Twelve Monkeys', 'Mystery Science Theater 3000: The Movie', 'Star Wars', 'Return of the Jedi', 'Ransom', 'Richard III', 'Birdcage', 'Fargo', 'Everyone Says I Love You']"
        ],
        [
         "30",
         "179",
         "['Mrs. Doubtfire', 'American President', 'Silence of the Lambs', 'Braveheart', 'Raiders of the Lost Ark', 'Chasing Amy', 'GoodFellas', 'Terminator 2: Judgment Day', 'Star Wars', 'Shawshank Redemption', 'Empire Strikes Back', 'Terminator', 'Quiz Show', 'Clockwork Orange', 'Fly Away Home', 'Indiana Jones and the Last Crusade', 'Cape Fear', 'Seven (Se7en)', 'Raising Arizona']",
         "Silence of the Lambs",
         "['Orlando', 'Crying Game', 'Like Water For Chocolate (Como agua para chocolate)', 'Natural Born Killers', 'Malice', 'Highlander', 'Client', 'In the Line of Fire', 'Fugitive', 'Safe', 'Short Cuts', 'Amadeus', 'Fried Green Tomatoes', 'Batman', 'Dead Poets Society', 'Pump Up the Volume', 'Nell', 'Usual Suspects', 'E.T. the Extra-Terrestrial', 'Apollo 13', 'Forrest Gump', 'Murder in the First', 'Philadelphia', \"Schindler's List\", 'Only You', 'Go Fish', 'Don Juan DeMarco', 'Princess Bride', 'Persuasion', 'When Harry Met Sally...', \"William Shakespeare's Romeo and Juliet\", 'Room with a View', 'Much Ado About Nothing', 'Groundhog Day', 'Sirens', 'Benny & Joon', 'Pretty Woman', 'Some Kind of Wonderful', 'Dave', 'Home for the Holidays', 'Independence Day (ID4)', 'Star Trek: First Contact', 'Star Trek: Generations', 'Mars Attacks!', 'Reservoir Dogs', 'Truth About Cats & Dogs', 'Crow', 'Ace Ventura: Pet Detective', 'Tommy Boy', 'Clueless', 'To Wong Foo, Thanks for Everything! Julie Newmar', 'Heathers', 'Jeffrey', 'Evil Dead II', 'Blues Brothers', 'Stand by Me', 'Back to the Future', 'Pulp Fiction', 'Beautiful Girls', 'Fish Called Wanda', 'Return of the Jedi', 'Contact']"
        ]
       ],
       "shape": {
        "columns": 4,
        "rows": 31
       }
      },
      "text/html": [
       "<div>\n",
       "<style scoped>\n",
       "    .dataframe tbody tr th:only-of-type {\n",
       "        vertical-align: middle;\n",
       "    }\n",
       "\n",
       "    .dataframe tbody tr th {\n",
       "        vertical-align: top;\n",
       "    }\n",
       "\n",
       "    .dataframe thead th {\n",
       "        text-align: right;\n",
       "    }\n",
       "</style>\n",
       "<table border=\"1\" class=\"dataframe\">\n",
       "  <thead>\n",
       "    <tr style=\"text-align: right;\">\n",
       "      <th></th>\n",
       "      <th>user_id</th>\n",
       "      <th>candidate_items</th>\n",
       "      <th>ground_truth</th>\n",
       "      <th>watched_movies</th>\n",
       "    </tr>\n",
       "  </thead>\n",
       "  <tbody>\n",
       "    <tr>\n",
       "      <th>0</th>\n",
       "      <td>507</td>\n",
       "      <td>[Right Stuff, Braveheart, GoodFellas, Platoon,...</td>\n",
       "      <td>Star Trek: The Wrath of Khan</td>\n",
       "      <td>[Star Wars, Miracle on 34th Street, E.T. the E...</td>\n",
       "    </tr>\n",
       "    <tr>\n",
       "      <th>1</th>\n",
       "      <td>210</td>\n",
       "      <td>[Jerry Maguire, Back to the Future, Contact, R...</td>\n",
       "      <td>Return of the Jedi</td>\n",
       "      <td>[Rock, Jackie Chan's First Strike, Men in Blac...</td>\n",
       "    </tr>\n",
       "    <tr>\n",
       "      <th>2</th>\n",
       "      <td>47</td>\n",
       "      <td>[Glory, Stand by Me, Schindler's List, Godfath...</td>\n",
       "      <td>Silence of the Lambs</td>\n",
       "      <td>[L.A. Confidential, Amadeus, This Is Spinal Ta...</td>\n",
       "    </tr>\n",
       "    <tr>\n",
       "      <th>3</th>\n",
       "      <td>365</td>\n",
       "      <td>[Chasing Amy, Clockwork Orange, Tales From the...</td>\n",
       "      <td>Candyman</td>\n",
       "      <td>[Howling, Mute Witness, Mary Shelley's Franken...</td>\n",
       "    </tr>\n",
       "    <tr>\n",
       "      <th>4</th>\n",
       "      <td>426</td>\n",
       "      <td>[George of the Jungle, Evita, Mother, Liar Lia...</td>\n",
       "      <td>Evita</td>\n",
       "      <td>[U Turn, Anna Karenina, Wishmaster, Thousand A...</td>\n",
       "    </tr>\n",
       "    <tr>\n",
       "      <th>5</th>\n",
       "      <td>601</td>\n",
       "      <td>[Truth About Cats &amp; Dogs, Courage Under Fire, ...</td>\n",
       "      <td>Twister</td>\n",
       "      <td>[Rock, Phenomenon, People vs. Larry Flynt, Men...</td>\n",
       "    </tr>\n",
       "    <tr>\n",
       "      <th>6</th>\n",
       "      <td>17</td>\n",
       "      <td>[Omen, Lawrence of Arabia, Hunt for Red Octobe...</td>\n",
       "      <td>Shawshank Redemption</td>\n",
       "      <td>[Three Colors: Red, Raise the Red Lantern, Thi...</td>\n",
       "    </tr>\n",
       "    <tr>\n",
       "      <th>7</th>\n",
       "      <td>919</td>\n",
       "      <td>[Eve's Bayou, Volcano, Apt Pupil, Alien: Resur...</td>\n",
       "      <td>Chasing Amy</td>\n",
       "      <td>[Hoodlum, Devil's Own, Wag the Dog, Contact, E...</td>\n",
       "    </tr>\n",
       "    <tr>\n",
       "      <th>8</th>\n",
       "      <td>198</td>\n",
       "      <td>[Big Night, Jerry Maguire, Truth About Cats &amp; ...</td>\n",
       "      <td>Truth About Cats &amp; Dogs</td>\n",
       "      <td>[Postino, Il, Mission: Impossible, James and t...</td>\n",
       "    </tr>\n",
       "    <tr>\n",
       "      <th>9</th>\n",
       "      <td>579</td>\n",
       "      <td>[Jerry Maguire, Mars Attacks!, Multiplicity, R...</td>\n",
       "      <td>River Wild</td>\n",
       "      <td>[Fled, Willy Wonka and the Chocolate Factory, ...</td>\n",
       "    </tr>\n",
       "    <tr>\n",
       "      <th>10</th>\n",
       "      <td>39</td>\n",
       "      <td>[Murder at 1600, Seven Years in Tibet, Devil's...</td>\n",
       "      <td>Contact</td>\n",
       "      <td>[Alien: Resurrection, Red Corner, Switchback, ...</td>\n",
       "    </tr>\n",
       "    <tr>\n",
       "      <th>11</th>\n",
       "      <td>549</td>\n",
       "      <td>[English Patient, Jerry Maguire, Face/Off, Fif...</td>\n",
       "      <td>Jerry Maguire</td>\n",
       "      <td>[Jungle2Jungle, Hunchback of Notre Dame, Liar ...</td>\n",
       "    </tr>\n",
       "    <tr>\n",
       "      <th>12</th>\n",
       "      <td>760</td>\n",
       "      <td>[Independence Day (ID4), Chasing Amy, Money Ta...</td>\n",
       "      <td>Phenomenon</td>\n",
       "      <td>[Absolute Power, Last Man Standing, Time to Ki...</td>\n",
       "    </tr>\n",
       "    <tr>\n",
       "      <th>13</th>\n",
       "      <td>1</td>\n",
       "      <td>[Cape Fear, Independence Day (ID4), Conspiracy...</td>\n",
       "      <td>River Wild</td>\n",
       "      <td>[3 Ninjas: High Noon At Mega Mountain, Deceive...</td>\n",
       "    </tr>\n",
       "    <tr>\n",
       "      <th>14</th>\n",
       "      <td>568</td>\n",
       "      <td>[Time to Kill, Evita, Primal Fear, 2 Days in t...</td>\n",
       "      <td>Chasing Amy</td>\n",
       "      <td>[Romy and Michele's High School Reunion, Lost ...</td>\n",
       "    </tr>\n",
       "    <tr>\n",
       "      <th>15</th>\n",
       "      <td>864</td>\n",
       "      <td>[Braveheart, Get Shorty, Men in Black, Ransom,...</td>\n",
       "      <td>Liar Liar</td>\n",
       "      <td>[Devil's Own, Sword in the Stone, Cinderella, ...</td>\n",
       "    </tr>\n",
       "    <tr>\n",
       "      <th>16</th>\n",
       "      <td>913</td>\n",
       "      <td>[Empire Strikes Back, Fugitive, Ghost, Forrest...</td>\n",
       "      <td>Ghost</td>\n",
       "      <td>[Pretty Woman, Something to Talk About, Dirty ...</td>\n",
       "    </tr>\n",
       "    <tr>\n",
       "      <th>17</th>\n",
       "      <td>826</td>\n",
       "      <td>[Ice Storm, Money Talks, Rainmaker, Edge, Apt ...</td>\n",
       "      <td>Edge</td>\n",
       "      <td>[Wag the Dog, Smile Like Yours, As Good As It ...</td>\n",
       "    </tr>\n",
       "    <tr>\n",
       "      <th>18</th>\n",
       "      <td>901</td>\n",
       "      <td>[Apollo 13, Stand by Me, Forrest Gump, Rock, C...</td>\n",
       "      <td>Fugitive</td>\n",
       "      <td>[Back to the Future, Die Hard, Sense and Sensi...</td>\n",
       "    </tr>\n",
       "    <tr>\n",
       "      <th>19</th>\n",
       "      <td>716</td>\n",
       "      <td>[Nutty Professor, Twister, Frighteners, Heat, ...</td>\n",
       "      <td>Godfather</td>\n",
       "      <td>[Face/Off, Fifth Element, Chasing Amy, Star Wa...</td>\n",
       "    </tr>\n",
       "    <tr>\n",
       "      <th>20</th>\n",
       "      <td>773</td>\n",
       "      <td>[Beauty and the Beast, Rob Roy, When Harry Met...</td>\n",
       "      <td>Usual Suspects</td>\n",
       "      <td>[Two Bits, Batman &amp; Robin, Fifth Element, Con ...</td>\n",
       "    </tr>\n",
       "    <tr>\n",
       "      <th>21</th>\n",
       "      <td>363</td>\n",
       "      <td>[Conspiracy Theory, Event Horizon, Game, Air F...</td>\n",
       "      <td>She's So Lovely</td>\n",
       "      <td>[She's the One, McHale's Navy, Booty Call, Bea...</td>\n",
       "    </tr>\n",
       "    <tr>\n",
       "      <th>22</th>\n",
       "      <td>940</td>\n",
       "      <td>[Mars Attacks!, Fifth Element, Mission: Imposs...</td>\n",
       "      <td>Toy Story</td>\n",
       "      <td>[Mr. Holland's Opus, Waiting for Guffman, Long...</td>\n",
       "    </tr>\n",
       "    <tr>\n",
       "      <th>23</th>\n",
       "      <td>849</td>\n",
       "      <td>[Cape Fear, Sabrina, Braveheart, Terminator, D...</td>\n",
       "      <td>Braveheart</td>\n",
       "      <td>[Quiet Man, Sleepless in Seattle, Forrest Gump...</td>\n",
       "    </tr>\n",
       "    <tr>\n",
       "      <th>24</th>\n",
       "      <td>707</td>\n",
       "      <td>[Forrest Gump, Cape Fear, Time to Kill, Ulee's...</td>\n",
       "      <td>First Wives Club</td>\n",
       "      <td>[Joe's Apartment, Ransom, Chain Reaction, Emma...</td>\n",
       "    </tr>\n",
       "    <tr>\n",
       "      <th>25</th>\n",
       "      <td>650</td>\n",
       "      <td>[Courage Under Fire, Dante's Peak, Money Talks...</td>\n",
       "      <td>In &amp; Out</td>\n",
       "      <td>[Deceiver, Murder at 1600, Kiss Me, Guido, Sev...</td>\n",
       "    </tr>\n",
       "    <tr>\n",
       "      <th>26</th>\n",
       "      <td>679</td>\n",
       "      <td>[Back to the Future, Groundhog Day, Apollo 13,...</td>\n",
       "      <td>Sabrina</td>\n",
       "      <td>[Rock, One Fine Day, Grosse Pointe Blank, Men ...</td>\n",
       "    </tr>\n",
       "    <tr>\n",
       "      <th>27</th>\n",
       "      <td>942</td>\n",
       "      <td>[Jaws, Grease, Heathers, Jurassic Park, This I...</td>\n",
       "      <td>Jaws</td>\n",
       "      <td>[Star Trek: The Wrath of Khan, Star Trek IV: T...</td>\n",
       "    </tr>\n",
       "    <tr>\n",
       "      <th>28</th>\n",
       "      <td>557</td>\n",
       "      <td>[Kolya, Bound, Independence Day (ID4), Leaving...</td>\n",
       "      <td>Secrets &amp; Lies</td>\n",
       "      <td>[Full Monty, Fargo, Angels and Insects, Pillow...</td>\n",
       "    </tr>\n",
       "    <tr>\n",
       "      <th>29</th>\n",
       "      <td>794</td>\n",
       "      <td>[Star Trek VI: The Undiscovered Country, Conan...</td>\n",
       "      <td>Mission: Impossible</td>\n",
       "      <td>[Sgt. Bilko, Tales from the Hood, Pretty Woman...</td>\n",
       "    </tr>\n",
       "    <tr>\n",
       "      <th>30</th>\n",
       "      <td>179</td>\n",
       "      <td>[Mrs. Doubtfire, American President, Silence o...</td>\n",
       "      <td>Silence of the Lambs</td>\n",
       "      <td>[Orlando, Crying Game, Like Water For Chocolat...</td>\n",
       "    </tr>\n",
       "  </tbody>\n",
       "</table>\n",
       "</div>"
      ],
      "text/plain": [
       "    user_id                                    candidate_items  \\\n",
       "0       507  [Right Stuff, Braveheart, GoodFellas, Platoon,...   \n",
       "1       210  [Jerry Maguire, Back to the Future, Contact, R...   \n",
       "2        47  [Glory, Stand by Me, Schindler's List, Godfath...   \n",
       "3       365  [Chasing Amy, Clockwork Orange, Tales From the...   \n",
       "4       426  [George of the Jungle, Evita, Mother, Liar Lia...   \n",
       "5       601  [Truth About Cats & Dogs, Courage Under Fire, ...   \n",
       "6        17  [Omen, Lawrence of Arabia, Hunt for Red Octobe...   \n",
       "7       919  [Eve's Bayou, Volcano, Apt Pupil, Alien: Resur...   \n",
       "8       198  [Big Night, Jerry Maguire, Truth About Cats & ...   \n",
       "9       579  [Jerry Maguire, Mars Attacks!, Multiplicity, R...   \n",
       "10       39  [Murder at 1600, Seven Years in Tibet, Devil's...   \n",
       "11      549  [English Patient, Jerry Maguire, Face/Off, Fif...   \n",
       "12      760  [Independence Day (ID4), Chasing Amy, Money Ta...   \n",
       "13        1  [Cape Fear, Independence Day (ID4), Conspiracy...   \n",
       "14      568  [Time to Kill, Evita, Primal Fear, 2 Days in t...   \n",
       "15      864  [Braveheart, Get Shorty, Men in Black, Ransom,...   \n",
       "16      913  [Empire Strikes Back, Fugitive, Ghost, Forrest...   \n",
       "17      826  [Ice Storm, Money Talks, Rainmaker, Edge, Apt ...   \n",
       "18      901  [Apollo 13, Stand by Me, Forrest Gump, Rock, C...   \n",
       "19      716  [Nutty Professor, Twister, Frighteners, Heat, ...   \n",
       "20      773  [Beauty and the Beast, Rob Roy, When Harry Met...   \n",
       "21      363  [Conspiracy Theory, Event Horizon, Game, Air F...   \n",
       "22      940  [Mars Attacks!, Fifth Element, Mission: Imposs...   \n",
       "23      849  [Cape Fear, Sabrina, Braveheart, Terminator, D...   \n",
       "24      707  [Forrest Gump, Cape Fear, Time to Kill, Ulee's...   \n",
       "25      650  [Courage Under Fire, Dante's Peak, Money Talks...   \n",
       "26      679  [Back to the Future, Groundhog Day, Apollo 13,...   \n",
       "27      942  [Jaws, Grease, Heathers, Jurassic Park, This I...   \n",
       "28      557  [Kolya, Bound, Independence Day (ID4), Leaving...   \n",
       "29      794  [Star Trek VI: The Undiscovered Country, Conan...   \n",
       "30      179  [Mrs. Doubtfire, American President, Silence o...   \n",
       "\n",
       "                    ground_truth  \\\n",
       "0   Star Trek: The Wrath of Khan   \n",
       "1             Return of the Jedi   \n",
       "2           Silence of the Lambs   \n",
       "3                       Candyman   \n",
       "4                          Evita   \n",
       "5                        Twister   \n",
       "6           Shawshank Redemption   \n",
       "7                    Chasing Amy   \n",
       "8        Truth About Cats & Dogs   \n",
       "9                     River Wild   \n",
       "10                       Contact   \n",
       "11                 Jerry Maguire   \n",
       "12                    Phenomenon   \n",
       "13                    River Wild   \n",
       "14                   Chasing Amy   \n",
       "15                     Liar Liar   \n",
       "16                         Ghost   \n",
       "17                          Edge   \n",
       "18                      Fugitive   \n",
       "19                     Godfather   \n",
       "20                Usual Suspects   \n",
       "21               She's So Lovely   \n",
       "22                     Toy Story   \n",
       "23                    Braveheart   \n",
       "24              First Wives Club   \n",
       "25                      In & Out   \n",
       "26                       Sabrina   \n",
       "27                          Jaws   \n",
       "28                Secrets & Lies   \n",
       "29           Mission: Impossible   \n",
       "30          Silence of the Lambs   \n",
       "\n",
       "                                       watched_movies  \n",
       "0   [Star Wars, Miracle on 34th Street, E.T. the E...  \n",
       "1   [Rock, Jackie Chan's First Strike, Men in Blac...  \n",
       "2   [L.A. Confidential, Amadeus, This Is Spinal Ta...  \n",
       "3   [Howling, Mute Witness, Mary Shelley's Franken...  \n",
       "4   [U Turn, Anna Karenina, Wishmaster, Thousand A...  \n",
       "5   [Rock, Phenomenon, People vs. Larry Flynt, Men...  \n",
       "6   [Three Colors: Red, Raise the Red Lantern, Thi...  \n",
       "7   [Hoodlum, Devil's Own, Wag the Dog, Contact, E...  \n",
       "8   [Postino, Il, Mission: Impossible, James and t...  \n",
       "9   [Fled, Willy Wonka and the Chocolate Factory, ...  \n",
       "10  [Alien: Resurrection, Red Corner, Switchback, ...  \n",
       "11  [Jungle2Jungle, Hunchback of Notre Dame, Liar ...  \n",
       "12  [Absolute Power, Last Man Standing, Time to Ki...  \n",
       "13  [3 Ninjas: High Noon At Mega Mountain, Deceive...  \n",
       "14  [Romy and Michele's High School Reunion, Lost ...  \n",
       "15  [Devil's Own, Sword in the Stone, Cinderella, ...  \n",
       "16  [Pretty Woman, Something to Talk About, Dirty ...  \n",
       "17  [Wag the Dog, Smile Like Yours, As Good As It ...  \n",
       "18  [Back to the Future, Die Hard, Sense and Sensi...  \n",
       "19  [Face/Off, Fifth Element, Chasing Amy, Star Wa...  \n",
       "20  [Two Bits, Batman & Robin, Fifth Element, Con ...  \n",
       "21  [She's the One, McHale's Navy, Booty Call, Bea...  \n",
       "22  [Mr. Holland's Opus, Waiting for Guffman, Long...  \n",
       "23  [Quiet Man, Sleepless in Seattle, Forrest Gump...  \n",
       "24  [Joe's Apartment, Ransom, Chain Reaction, Emma...  \n",
       "25  [Deceiver, Murder at 1600, Kiss Me, Guido, Sev...  \n",
       "26  [Rock, One Fine Day, Grosse Pointe Blank, Men ...  \n",
       "27  [Star Trek: The Wrath of Khan, Star Trek IV: T...  \n",
       "28  [Full Monty, Fargo, Angels and Insects, Pillow...  \n",
       "29  [Sgt. Bilko, Tales from the Hood, Pretty Woman...  \n",
       "30  [Orlando, Crying Game, Like Water For Chocolat...  "
      ]
     },
     "execution_count": 12,
     "metadata": {},
     "output_type": "execute_result"
    }
   ],
   "source": [
    "test_dataset = []\n",
    "\n",
    "for id in test_ids:\n",
    "    filtered = df[df['user_id'] == id]\n",
    "    if not filtered.empty:\n",
    "        candidate_items = filtered['candidate_items'].iloc[0]\n",
    "        ground_truth = filtered['ground_truth'].iloc[0]\n",
    "        watched_movies = filtered['watched_movies'].iloc[0]\n",
    "    else:\n",
    "        continue \n",
    "    \n",
    "    test_dataset.append({\n",
    "        'user_id': id,\n",
    "        'candidate_items': candidate_items,\n",
    "        'ground_truth': ground_truth,\n",
    "        'watched_movies': watched_movies\n",
    "    })\n",
    "df_test = pd.DataFrame(test_dataset)\n",
    "df_test.to_pickle('Data/ML100K_test.pkl')\n",
    "df_test"
   ]
  }
 ],
 "metadata": {
  "kernelspec": {
   "display_name": ".venv",
   "language": "python",
   "name": "python3"
  },
  "language_info": {
   "codemirror_mode": {
    "name": "ipython",
    "version": 3
   },
   "file_extension": ".py",
   "mimetype": "text/x-python",
   "name": "python",
   "nbconvert_exporter": "python",
   "pygments_lexer": "ipython3",
   "version": "3.12.3"
  }
 },
 "nbformat": 4,
 "nbformat_minor": 2
}
