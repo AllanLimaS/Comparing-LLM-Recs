{
 "cells": [
  {
   "cell_type": "markdown",
   "metadata": {},
   "source": [
    "## Configuração inicial"
   ]
  },
  {
   "cell_type": "code",
   "execution_count": 2,
   "metadata": {},
   "outputs": [],
   "source": [
    "import pickle\n",
    "import pandas as pd\n",
    "\n",
    "from Utils import templates, utils, recommender, models_config"
   ]
  },
  {
   "cell_type": "code",
   "execution_count": 12,
   "metadata": {},
   "outputs": [
    {
     "name": "stdout",
     "output_type": "stream",
     "text": [
      "Quantidade de Usuários: 943\n"
     ]
    }
   ],
   "source": [
    "## Configurações base\n",
    "\n",
    "config = {\n",
    "    #\"runtime\": \"ROCm llama.cpp v1.23.0\", \n",
    "    #\"runtime\": \"CPU llama.cpp v1.22.2\", # performance ruim\n",
    "    \"LLM_runtime\": \"Vulkan llama.cpp v1.23.0\", # melhor opção\n",
    "    \"dataset\": \"ml_100k\",\n",
    "    \"nsu\" : 12,     # número de usuários para filtragem colaborativa        | SSBD :12  | Default :18   |            | Best = 19\n",
    "    \"nci\" :19,      # número de itens para filtragem colaborativa           | SSBD :19  | Default :24   | Max : 1682 |\n",
    "    \"lenlimit\" : 8,  # limite de tamanho para a lista filmes assistidos     | SSBD : 8  | Default :24   | Max : 1682 | Best = 8\n",
    "    \"lenlimit_option\" : 'ultimos', # define qual a abordagem                | opções : 'ultimos', 'primeiros', 'aleatorio' | Default : 'ultimos'\n",
    "    \"test_run\" : 100, # define a quantidade de recomendações,                 |           | Default :0    | Max : 943 \n",
    "    \"obs\": \"testando opcoes de ordem de filmes\"\n",
    "}\n",
    "\n",
    "## define o prompt template\n",
    "prompt_template = templates.PROMPT_TEMPLATE_3\n",
    "config.update({\"prompt_template\": prompt_template})\n",
    "\n",
    "## define o prompt para formatar a resposta final \n",
    "#prompt_format = templates.PROMPT_TEMPLATE_ESTRUCTURE\n",
    "prompt_format = \"\" # para não utilizar \n",
    "config.update({\"prompt_format\": prompt_format})\n",
    "\n",
    "# load movie lens 100k dataset\n",
    "dataset = utils.read_json(\"Data/ML100K_clean.json\")\n",
    "print(f'Quantidade de Usuários: {len(dataset)}')"
   ]
  },
  {
   "cell_type": "code",
   "execution_count": 13,
   "metadata": {},
   "outputs": [],
   "source": [
    "config.update(models_config.qwen_2_5_7b_instruct_1m())"
   ]
  },
  {
   "cell_type": "markdown",
   "metadata": {},
   "source": [
    "## Execução unitária"
   ]
  },
  {
   "cell_type": "code",
   "execution_count": null,
   "metadata": {},
   "outputs": [
    {
     "data": {
      "text/plain": [
       "{'LLM_runtime': 'Vulkan llama.cpp v1.23.0',\n",
       " 'dataset': 'ml_100k',\n",
       " 'nsu': 12,\n",
       " 'nci': 19,\n",
       " 'lenlimit': 8,\n",
       " 'lenlimit_option': 'ultimos',\n",
       " 'test_run': 100,\n",
       " 'obs': 'teste modelo novos',\n",
       " 'prompt_template': {'System_prompt': \"You are a movie expert provide the answer for the question based on the given context. If you don't know the answer to a question, please don't share false information.\",\n",
       "  'Preference': '\\n    ### MY RECENTLY WATCHED MOVIES (FROM OLDEST TO NEWEST): {}.\\n\\n    ### QUESTION: Based on my watched movies list. Tell me what features are most important to me when selecting movies (Summarize my preferences briefly)?\\n\\n    ### ANSWER:\\n    ',\n",
       "  'Featured_movies': '\\n\\n    ### MY RECENTLY WATCHED MOVIES (FROM OLDEST TO NEWEST): {}.\\n\\n    ### MY MOVIE PREFERENCES: {}.\\n\\n    ### QUESTION: Create an enumerated list selecting the five most featured movies from the watched movies according to my movie preferences.\\n\\n    ### ANSWER:\\n    ',\n",
       "  'Recommendation': '\\n\\n    ### CANDIDATE MOVIE SET: {}.\\n\\n    ### MY RECENTLY WATCHED MOVIES (FROM OLDEST TO NEWEST): {}.\\n\\n    ### MY MOVIE PREFERENCES: {}.\\n\\n    ### MY FIVE MOST FEATURED MOVIES: {}.\\n\\n    ### INSTRUCTIONS:\\n    Recommend exactly **10 movies** from the \"Candidate Movie Set\" that are most similar to my \"Five Most Featured Movies\".  \\n    The output must be **STRICTLY formatted** as follows:\\n\\n    1. Movie Title  \\n    2. Movie Title  \\n    3. Movie Title  \\n    4. Movie Title  \\n    5. Movie Title  \\n    6. Movie Title  \\n    7. Movie Title  \\n    8. Movie Title  \\n    9. Movie Title  \\n    10. Movie Title  \\n\\n    Do not include any extra text before or after the list \\n    \\n    ### QUESTION:  \\n    What are your top 10 movie recommendations?  \\n\\n    ### ANSWER:\\n'},\n",
       " 'prompt_format': '',\n",
       " 'model_name': 'llama-3.2-1b-instruct-f16',\n",
       " 'Arch': 'llama',\n",
       " 'Quantization': 'F16',\n",
       " 'Temperature': 0.0,\n",
       " 'max_tokens': -1,\n",
       " 'GPU Offload': 16,\n",
       " 'CPU Thread Pool Size': 6,\n",
       " 'Evaluation Batch Size': 512,\n",
       " 'Flash Attention': False}"
      ]
     },
     "execution_count": 11,
     "metadata": {},
     "output_type": "execute_result"
    }
   ],
   "source": [
    "result_pkl = recommender.recommendation_workflow(config         = config,\n",
    "                                                 dataset        = dataset,\n",
    "                                                 prompt_template= prompt_template,\n",
    "                                                 prompt_format  = prompt_format)"
   ]
  },
  {
   "cell_type": "markdown",
   "metadata": {},
   "source": [
    "## Execução multipla "
   ]
  },
  {
   "cell_type": "code",
   "execution_count": null,
   "metadata": {},
   "outputs": [],
   "source": [
    "config_list = []\n",
    "\n",
    "config1 = config.copy()\n",
    "config_list.append(config1)\n",
    "\n",
    "config2 = config.copy()\n",
    "config2.update({\"lenlimit_option\": \"primeiros\"})\n",
    "config_list.append(config2)\n",
    "\n",
    "config3 = config.copy()\n",
    "config3.update({\"lenlimit_option\": \"aleatorio\"})\n",
    "config_list.append(config3)\n",
    "\n",
    "\n",
    "for i in range(0, len(config_list)):\n",
    "    config = config_list[i]\n",
    "    print(f'Rodando configuração {i} de {len(config_list)}')\n",
    "    try:\n",
    "        result_pkl = recommender.recommendation_workflow(config         = config,\n",
    "                                                         dataset        = dataset,\n",
    "                                                        prompt_template= prompt_template,\n",
    "                                                        prompt_format  = prompt_format)\n",
    "        print(f'Configuração {i} de {len(config_list)} finalizada')\n",
    "    except Exception as e:\n",
    "        print(f'Erro na configuração {i} de {len(config_list)}')\n",
    "        print(e)\n",
    "        continue\n"
   ]
  },
  {
   "cell_type": "markdown",
   "metadata": {},
   "source": [
    "# outros"
   ]
  },
  {
   "cell_type": "code",
   "execution_count": null,
   "metadata": {},
   "outputs": [],
   "source": [
    "# retorna apenas o usuários que tem o gt no candidatos.\n",
    "# implementar sobre o pipeline do projeto \n",
    "\n",
    "def get_candidate_ids_list(data, id_list, user_matrix_sim, num_u, num_i):\n",
    "    cand_ids = []\n",
    "    for i in id_list:\n",
    "        watched_movies = data[i][0].split(' | ')\n",
    "        candidate_items = utils.sort_user_filtering_items(data, watched_movies, user_matrix_sim[i], num_u, num_i)\n",
    "        if data[i][-1] in candidate_items:\n",
    "            cand_ids.append(i)\n",
    "    return cand_ids"
   ]
  },
  {
   "cell_type": "code",
   "execution_count": null,
   "metadata": {},
   "outputs": [],
   "source": [
    "id_list = list(range(0, len(dataset)))\n",
    "#assert(len(id_list) == 943) # aqui é verificado se a lista possue exatamente essa quantidade\n",
    "\n",
    "# Building indexes and similarity matrices for users and movies.\n",
    "movie_idx = utils.build_moviename_index_dict(dataset)\n",
    "user_sim_matrix = utils.build_user_similarity_matrix(dataset, movie_idx)\n",
    "\n",
    "\n",
    "# para fazer a filtragem sobre os filmes \n",
    "#pop_dict = utils.build_movie_popularity_dict(dataset) \n",
    "#item_sim_matrix = utils.build_item_similarity_matrix(dataset)"
   ]
  },
  {
   "cell_type": "markdown",
   "metadata": {},
   "source": [
    "## Execução"
   ]
  },
  {
   "cell_type": "code",
   "execution_count": 30,
   "metadata": {},
   "outputs": [
    {
     "data": {
      "application/vnd.jupyter.widget-view+json": {
       "model_id": "41b9ef026c6c439cabf748320f852060",
       "version_major": 2,
       "version_minor": 0
      },
      "text/plain": [
       "Processando:   0%|          | 0/100 [00:00<?, ?it/s]"
      ]
     },
     "metadata": {},
     "output_type": "display_data"
    }
   ],
   "source": [
    "result_pkl = recommender.recommendation_workflow(config         = config,\n",
    "                                                 dataset        = dataset,\n",
    "                                                 prompt_template= prompt_template,\n",
    "                                                 prompt_format  = prompt_format)"
   ]
  },
  {
   "cell_type": "markdown",
   "metadata": {},
   "source": [
    "## execução varias configs"
   ]
  },
  {
   "cell_type": "code",
   "execution_count": null,
   "metadata": {},
   "outputs": [],
   "source": [
    "import pickle\n",
    "import pandas as pd\n",
    "\n",
    "from Utils import templates, utils, recommender\n",
    "\n",
    "## PROMPT 2 \n",
    "\n",
    "config = {}\n",
    "\n",
    "## define o prompt template\n",
    "prompt_template = templates.PROMPT_TEMPLATE_2\n",
    "config.update({\"prompt_template\": prompt_template})\n",
    "\n",
    "## define o prompt para formatar a resposta final \n",
    "#prompt_format = templates.PROMPT_TEMPLATE_ESTRUCTURE\n",
    "prompt_format = \"\" # para não utilizar \n",
    "config.update({\"prompt_format\": prompt_format})\n",
    "\n",
    "# load movie lens 100k dataset\n",
    "dataset = utils.read_json(\"Data/ML100K_clean.json\")\n",
    "print(f'Quantidade de Usuários: {len(dataset)}')\n",
    "\n",
    "config.update({\n",
    "    #\"runtime\": \"ROCm llama.cpp v1.23.0\", \n",
    "    #\"runtime\": \"CPU llama.cpp v1.22.2\", # performance ruim\n",
    "    \"LLM_runtime\": \"Vulkan llama.cpp v1.23.0\", # melhor opção\n",
    "    \"dataset\": \"ml_100k\",\n",
    "    \"nsu\" : 19,     # número de usuários para filtragem colaborativa        | SSBD :12  | Default :18   | \n",
    "    \"nci\" :19,      # número de itens para filtragem colaborativa           | SSBD :19  | Default :24   | Max : 1682\n",
    "    \"lenlimit\" : 8,  # limite de tamanho para a lista filmes assistidos    | SSBD : 8  | Default :24   | Max : 1682\n",
    "    \"test_run\" : 0, # define a quantidade de recomendações,                 |           | Default :0    | Max : 943 \n",
    "    \"obs\": \"testando prompt novo - prompt2\"\n",
    "})\n",
    "\n",
    "config.update({\n",
    "    \"model_name\" :\"gemma-3-4b-it\",\n",
    "    \"Arch\" : \"gemma3\",\n",
    "    \"Quantization\" : \"Q4_K_M\",\n",
    "    \"Temperature\": 0.1,\n",
    "    \"max_tokens\" : -1,  # Default : 4096\n",
    "    \"GPU Offload\": 34,\n",
    "    \"CPU Thread Pool Size\": 6,\n",
    "    \"Evaluation Batch Size\": 512,\n",
    "    \"Flash Attention\": False, # não vi vantagem no uso \n",
    "})\n",
    "\n",
    "config_list = []\n",
    "\n",
    "config1 = config.copy()\n",
    "config_list.append(config1)\n",
    "\n",
    "for i in range(0, len(config_list)):\n",
    "    config = config_list[i]\n",
    "    print(f'Rodando configuração {i} de {len(config_list)}')\n",
    "    try:\n",
    "        result_pkl = recommender.recommendation_workflow(config         = config,\n",
    "                                                         dataset        = dataset,\n",
    "                                                        prompt_template= prompt_template,\n",
    "                                                        prompt_format  = prompt_format)\n",
    "        print(f'Configuração {i} de {len(config_list)} finalizada')\n",
    "    except Exception as e:\n",
    "        print(f'Erro na configuração {i} de {len(config_list)}')\n",
    "        print(e)\n",
    "        continue\n",
    "\n",
    "## PROMPT 3 \n",
    "\n",
    "config = {}\n",
    "\n",
    "## define o prompt template\n",
    "prompt_template = templates.PROMPT_TEMPLATE_3\n",
    "config.update({\"prompt_template\": prompt_template})\n",
    "\n",
    "## define o prompt para formatar a resposta final \n",
    "#prompt_format = templates.PROMPT_TEMPLATE_ESTRUCTURE\n",
    "prompt_format = \"\" # para não utilizar \n",
    "config.update({\"prompt_format\": prompt_format})\n",
    "\n",
    "# load movie lens 100k dataset\n",
    "dataset = utils.read_json(\"Data/ML100K_clean.json\")\n",
    "print(f'Quantidade de Usuários: {len(dataset)}')\n",
    "\n",
    "config.update({\n",
    "    #\"runtime\": \"ROCm llama.cpp v1.23.0\", \n",
    "    #\"runtime\": \"CPU llama.cpp v1.22.2\", # performance ruim\n",
    "    \"LLM_runtime\": \"Vulkan llama.cpp v1.23.0\", # melhor opção\n",
    "    \"dataset\": \"ml_100k\",\n",
    "    \"nsu\" : 12,     # número de usuários para filtragem colaborativa        | SSBD :12  | Default :18   | \n",
    "    \"nci\" :19,      # número de itens para filtragem colaborativa           | SSBD :19  | Default :24   | Max : 1682\n",
    "    \"lenlimit\" : 8,  # limite de tamanho para a lista filmes assistidos    | SSBD : 8  | Default :24   | Max : 1682\n",
    "    \"test_run\" : 0, # define a quantidade de recomendações,                 |           | Default :0    | Max : 943 \n",
    "    \"obs\": \"testando prompt novo - prompt3\"\n",
    "})\n",
    "\n",
    "config.update({\n",
    "    \"model_name\" :\"gemma-3-4b-it\",\n",
    "    \"Arch\" : \"gemma3\",\n",
    "    \"Quantization\" : \"Q4_K_M\",\n",
    "    \"Temperature\": 0.1,\n",
    "    \"max_tokens\" : -1,  # Default : 4096\n",
    "    \"GPU Offload\": 34,\n",
    "    \"CPU Thread Pool Size\": 6,\n",
    "    \"Evaluation Batch Size\": 512,\n",
    "    \"Flash Attention\": False, # não vi vantagem no uso \n",
    "})\n",
    "\n",
    "config_list = []\n",
    "\n",
    "config1 = config.copy()\n",
    "config_list.append(config1)\n",
    "\n",
    "for i in range(0, len(config_list)):\n",
    "    config = config_list[i]\n",
    "    print(f'Rodando configuração {i} de {len(config_list)}')\n",
    "    try:\n",
    "        result_pkl = recommender.recommendation_workflow(config         = config,\n",
    "                                                         dataset        = dataset,\n",
    "                                                        prompt_template= prompt_template,\n",
    "                                                        prompt_format  = prompt_format)\n",
    "        print(f'Configuração {i} de {len(config_list)} finalizada')\n",
    "    except Exception as e:\n",
    "        print(f'Erro na configuração {i} de {len(config_list)}')\n",
    "        print(e)\n",
    "        continue"
   ]
  },
  {
   "cell_type": "code",
   "execution_count": null,
   "metadata": {},
   "outputs": [],
   "source": [
    "for i in range(0, len(config_list)):\n",
    "    config = config_list[i]\n",
    "    print(config)"
   ]
  },
  {
   "cell_type": "markdown",
   "metadata": {},
   "source": [
    "## Resultados"
   ]
  },
  {
   "cell_type": "code",
   "execution_count": null,
   "metadata": {},
   "outputs": [],
   "source": [
    "with open(f'{result_pkl}', 'rb') as f:\n",
    "    data = pickle.load(f)"
   ]
  },
  {
   "cell_type": "code",
   "execution_count": null,
   "metadata": {},
   "outputs": [],
   "source": [
    "results = []\n",
    "for key, value in data.items():\n",
    "    if isinstance(key, int) and isinstance(value, dict):  # Pegando apenas os experimentos\n",
    "        results.append({\n",
    "            'Candidates': value.get('candidate_set', ''),\n",
    "            'Ground Truth': value.get('ground_truth', ''),\n",
    "            'gt_in_candidate_set': value.get('gt_in_candidate_set', ''),\n",
    "            #'Input 1': value.get('input_1', ''),\n",
    "            #'Predictions 1': value.get('predictions_1', ''),\n",
    "            #'Input 2': value.get('input_2', ''),\n",
    "            #'Predictions 2': value.get('predictions_2', ''),\n",
    "            'Input 3': value.get('input_3', ''),\n",
    "            'Predictions 3': value.get('predictions_3', ''),\n",
    "            #'Recommendations': value.get('recommendations', ''),\n",
    "            'rec_HitRate@10': value.get('rec_HitRate@10', ''),\n",
    "            #'Precision': value.get('precision', ''),\n",
    "            #'Recall': value.get('recall', ''),\n",
    "            'rec_NDCG@10': value.get('rec_NDCG@10', '')\n",
    "        })\n",
    "\n",
    "df_results = pd.DataFrame(results)\n",
    "\n",
    "df_results"
   ]
  },
  {
   "cell_type": "markdown",
   "metadata": {},
   "source": [
    "# Preparar dataset / dividir em treino e teste"
   ]
  },
  {
   "cell_type": "markdown",
   "metadata": {},
   "source": [
    "## Cria uma lista dos usuários com GT na lista de candidatos"
   ]
  },
  {
   "cell_type": "code",
   "execution_count": 1,
   "metadata": {},
   "outputs": [
    {
     "name": "stdout",
     "output_type": "stream",
     "text": [
      "nsu: 12 \n",
      "nci: 19 \n",
      "Qnt de usuários do dataset: 943 \n",
      "Qnt de usuários com gt no candidate: 152\n"
     ]
    }
   ],
   "source": [
    "import random\n",
    "import pandas as pd\n",
    "from Utils import templates, utils\n",
    "\n",
    "nsu = 12\n",
    "nci = 19\n",
    "lenlimit = 8 \n",
    "\n",
    "dataset = utils.read_json(\"Data/ML100K_clean.json\")\n",
    "movie_idx = utils.build_moviename_index_dict(dataset)\n",
    "user_sim_matrix = utils.build_user_similarity_matrix(dataset, movie_idx)\n",
    "id_list = list(range(0, len(dataset)))\n",
    "\n",
    "data_list = []\n",
    "id_list_com_gt_no_candidate=[]\n",
    "\n",
    "for i in id_list:\n",
    "\n",
    "  watched_mv = dataset[i][0].split(' | ')[::-1]\n",
    "  watched_mv = watched_mv[-lenlimit:]\n",
    "  \n",
    "  groundTruth = dataset[i][-1]\n",
    "  candidate_items = utils.sort_collaborative_user_filtering(target_user_id=i,\n",
    "                                                                    dataset=dataset,\n",
    "                                                                    user_similarity_matrix=user_sim_matrix,\n",
    "                                                                    num_users=nsu,\n",
    "                                                                    num_items=nci,\n",
    "                                                                    include_similar_user_GT=False,\n",
    "                                                                    debug=False)\n",
    "  random.shuffle(candidate_items)\n",
    "\n",
    "  # verifica se o ground_truth está no candidate_set\n",
    "  gt_in_candidate_set = True if any(groundTruth.lower() in candidate.lower() for candidate in candidate_items) else False\n",
    "\n",
    "  if gt_in_candidate_set == True:\n",
    "    id_list_com_gt_no_candidate.append(i)\n",
    "\n",
    "  data_list.append({\n",
    "        'user_id': i,\n",
    "        'watched_movies': watched_mv,\n",
    "        'ground_truth': groundTruth,\n",
    "        'candidate_items': candidate_items,\n",
    "        'gt_in_candidate_set': gt_in_candidate_set\n",
    "  })\n",
    "\n",
    "df = pd.DataFrame(data_list)\n",
    "\n",
    "print(f'nsu: {nsu} \\nnci: {nci} \\nQnt de usuários do dataset: {len(dataset)} \\nQnt de usuários com gt no candidate: {len(id_list_com_gt_no_candidate)}')"
   ]
  },
  {
   "cell_type": "markdown",
   "metadata": {},
   "source": [
    "## Realiza a divisão de treino e teste"
   ]
  },
  {
   "cell_type": "code",
   "execution_count": 2,
   "metadata": {},
   "outputs": [
    {
     "name": "stdout",
     "output_type": "stream",
     "text": [
      "Tamanho do conjunto de treino: 121\n",
      "Tamanho do conjunto de teste: 31\n"
     ]
    }
   ],
   "source": [
    "# Define a proporção de divisão\n",
    "train_ratio = 0.8\n",
    "test_ratio = 0.2\n",
    "\n",
    "# Embaralha os IDs para garantir aleatoriedade\n",
    "random.shuffle(id_list_com_gt_no_candidate)\n",
    "\n",
    "# Calcula o tamanho de cada conjunto\n",
    "total_ids = len(id_list_com_gt_no_candidate)\n",
    "train_size = int(train_ratio * total_ids)\n",
    "test_size = total_ids - train_size\n",
    "\n",
    "# Separa os IDs em conjuntos\n",
    "train_ids = id_list_com_gt_no_candidate[:train_size]\n",
    "test_ids = id_list_com_gt_no_candidate[train_size:]\n",
    "\n",
    "# Imprime o tamanho de cada conjunto para verificação\n",
    "print(f\"Tamanho do conjunto de treino: {len(train_ids)}\")\n",
    "print(f\"Tamanho do conjunto de teste: {len(test_ids)}\")"
   ]
  },
  {
   "cell_type": "markdown",
   "metadata": {},
   "source": [
    "## Ajusta o dataset de treino, adicionando as instruções necessárias"
   ]
  },
  {
   "cell_type": "code",
   "execution_count": 3,
   "metadata": {},
   "outputs": [],
   "source": [
    "train_dataset = []\n",
    "\n",
    "# configs \n",
    "model_name = \"gemma-3-4b-it\"\n",
    "temperature = 0\n",
    "prompt_template = templates.PROMPT_TEMPLATE_3\n",
    "system_prompt = \"You are a movie expert provide the answer for the question based on the given context. Your answer must be short \" \n",
    "max_tokens = -1\n",
    "lenlimit = 8\n",
    "\n",
    "for id in train_ids:\n",
    "    filtered = df[df['user_id'] == id]\n",
    "    if not filtered.empty:\n",
    "        candidate_items = filtered['candidate_items'].iloc[0]\n",
    "        ground_truth = filtered['ground_truth'].iloc[0]\n",
    "        watched_movies = filtered['watched_movies'].iloc[0]\n",
    "    else:\n",
    "        continue \n",
    "\n",
    "    input_prompt = prompt_template['Preference'].format(', '.join(candidate_items),', '.join(watched_movies))\n",
    "    response = utils.query_lm_studio(model_name,0.0,system_prompt,input_prompt,max_tokens)\n",
    "    movie_preference = response\n",
    "\n",
    "    input_prompt = prompt_template['Featured_movies'].format(', '.join(watched_mv), movie_preference)\n",
    "    response = utils.query_lm_studio(model_name,0.0,system_prompt,input_prompt,max_tokens)\n",
    "    most_featured = response\n",
    "\n",
    "    input = templates.TRAIN_TEMPLATE_2['INPUT'].format(', '.join(candidate_items),', '.join(watched_movies),movie_preference,most_featured )\n",
    "    output= templates.TRAIN_TEMPLATE_2['OUTPUT'].format(ground_truth)\n",
    "\n",
    "    train_dataset.append({\n",
    "        'input': input,\n",
    "        'output': output\n",
    "  })\n",
    "\n"
   ]
  },
  {
   "cell_type": "code",
   "execution_count": 4,
   "metadata": {},
   "outputs": [
    {
     "data": {
      "application/vnd.microsoft.datawrangler.viewer.v0+json": {
       "columns": [
        {
         "name": "index",
         "rawType": "int64",
         "type": "integer"
        },
        {
         "name": "input",
         "rawType": "object",
         "type": "string"
        },
        {
         "name": "output",
         "rawType": "object",
         "type": "string"
        }
       ],
       "conversionMethod": "pd.DataFrame",
       "ref": "1265e214-62c1-4580-ba19-5ae2de26bbd3",
       "rows": [
        [
         "0",
         "\n\n    ### CANDIDATE MOVIE SET: Saint, Peacemaker, L.A. Confidential, Amistad, Ulee's Gold, Evita, Kiss the Girls, In & Out, Money Talks, Full Monty, Chasing Amy, Gattaca, Boogie Nights, Volcano, Ice Storm, Starship Troopers, Eve's Bayou, Jackie Brown, Dante's Peak.\n\n    ### MY RECENTLY WATCHED MOVIES (FROM OLDEST TO NEWEST): Ayn Rand: A Sense of Life, English Patient, Rainmaker, Good Will Hunting, Titanic, Edge, Wag the Dog, Apt Pupil.\n\n    ### MY MOVIE PREFERENCES: You seem drawn to character-driven dramas and thrillers with strong narratives, alongside some action and period pieces – a mix of serious and entertaining stories..\n\n    ### MY FIVE MOST FEATURED MOVIES: Here’s your top 5 based on your preferences:\n\n1.  Godfather\n2.  Shawshank Redemption\n3.  Fargo\n4.  People vs. Larry Flynt\n5.  Raiders of the Lost Ark.\n\n    ### INSTRUCTIONS:\n    Recommend exactly **1 movie** from the \"Candidate Movie Set\" that are most similar to my \"Five Most Featured Movies\".\n    The output must be **STRICTLY formatted** as follows:\n\n    1. Movie Title\n\n    Do not include any extra text before or after the list\n\n    ### QUESTION:\n    What are your top 1 movie recommendations?\n\n    ### ANSWER:\n",
         " 1.Saint "
        ],
        [
         "1",
         "\n\n    ### CANDIDATE MOVIE SET: G.I. Jane, Ulee's Gold, Chasing Amy, Kull the Conqueror, Event Horizon, I Know What You Did Last Summer, Desperate Measures, Rosewood, Kiss the Girls, Spawn, Volcano, Mother, Devil's Advocate, Ice Storm, Excess Baggage, Game, Picture Perfect, Saint, MatchMaker.\n\n    ### MY RECENTLY WATCHED MOVIES (FROM OLDEST TO NEWEST): Money Talks, English Patient, Rainmaker, Thousand Acres, Full Monty, Air Force One, Seven Years in Tibet, Liar Liar.\n\n    ### MY MOVIE PREFERENCES: You seem drawn to character-driven stories with elements of suspense, thriller, and drama, often exploring intense situations and human relationships..\n\n    ### MY FIVE MOST FEATURED MOVIES: Here’s a list of five films from your watch list that align with your preference for character-driven stories with suspense and drama:\n\n1.  Godfather\n2.  People vs. Larry Flynt\n3.  Fargo\n4.  Shawshank Redemption\n5.  Bottle Rocket.\n\n    ### INSTRUCTIONS:\n    Recommend exactly **1 movie** from the \"Candidate Movie Set\" that are most similar to my \"Five Most Featured Movies\".\n    The output must be **STRICTLY formatted** as follows:\n\n    1. Movie Title\n\n    Do not include any extra text before or after the list\n\n    ### QUESTION:\n    What are your top 1 movie recommendations?\n\n    ### ANSWER:\n",
         " 1.Saint "
        ],
        [
         "2",
         "\n\n    ### CANDIDATE MOVIE SET: Ice Storm, Twelve Monkeys, Truth About Cats & Dogs, Heat, Liar Liar, Postino, Il, Welcome to the Dollhouse, Full Monty, Contact, That Thing You Do!, Rock, L.A. Confidential, Phenomenon, Ulee's Gold, Dead Man Walking, English Patient, Game, Mr. Holland's Opus, Lone Star.\n\n    ### MY RECENTLY WATCHED MOVIES (FROM OLDEST TO NEWEST): Toy Story, Fargo, Midnight in the Garden of Good and Evil, Peacemaker, Conspiracy Theory, Evita, Tomorrow Never Dies, Chasing Amy.\n\n    ### MY MOVIE PREFERENCES: You appreciate character-driven dramas and stories exploring complex themes – often with a focus on relationships, human emotion, and historical settings..\n\n    ### MY FIVE MOST FEATURED MOVIES: Here’s your top 5 based on your preferences:\n\n1.  Godfather\n2.  People vs. Larry Flynt\n3.  Shawshank Redemption\n4.  Fargo\n5.  Bottle Rocket.\n\n    ### INSTRUCTIONS:\n    Recommend exactly **1 movie** from the \"Candidate Movie Set\" that are most similar to my \"Five Most Featured Movies\".\n    The output must be **STRICTLY formatted** as follows:\n\n    1. Movie Title\n\n    Do not include any extra text before or after the list\n\n    ### QUESTION:\n    What are your top 1 movie recommendations?\n\n    ### ANSWER:\n",
         " 1.Dead Man Walking "
        ],
        [
         "3",
         "\n\n    ### CANDIDATE MOVIE SET: Contact, Cape Fear, Primal Fear, Game, Ghost and the Darkness, Beavis and Butt-head Do America, Long Kiss Goodnight, Conspiracy Theory, Mars Attacks!, Extreme Measures, Executive Decision, River Wild, Devil's Own, Money Talks, Full Monty, Phenomenon, Saint, Cable Guy, Eraser.\n\n    ### MY RECENTLY WATCHED MOVIES (FROM OLDEST TO NEWEST): People vs. Larry Flynt, Swingers, Face/Off, Donnie Brasco, Welcome to the Dollhouse, Titanic, Air Force One, Apt Pupil.\n\n    ### MY MOVIE PREFERENCES: You enjoy a mix of thrillers, action, and darkly comedic films with elements of suspense and sometimes outlandish concepts..\n\n    ### MY FIVE MOST FEATURED MOVIES: Here’s your top 5 based on your preferences:\n\n1.  Godfather\n2.  Fargo\n3.  Raiders of the Lost Ark\n4.  Return of the Jedi\n5.  People vs. Larry Flynt.\n\n    ### INSTRUCTIONS:\n    Recommend exactly **1 movie** from the \"Candidate Movie Set\" that are most similar to my \"Five Most Featured Movies\".\n    The output must be **STRICTLY formatted** as follows:\n\n    1. Movie Title\n\n    Do not include any extra text before or after the list\n\n    ### QUESTION:\n    What are your top 1 movie recommendations?\n\n    ### ANSWER:\n",
         " 1.Contact "
        ],
        [
         "4",
         "\n\n    ### CANDIDATE MOVIE SET: Terminator, Star Trek: The Wrath of Khan, Mission: Impossible, Star Trek IV: The Voyage Home, Aliens, Conan the Barbarian, Chasing Amy, Cape Fear, Pulp Fiction, Alien, True Lies, Maverick, Seven (Se7en), Star Trek VI: The Undiscovered Country, Star Trek III: The Search for Spock, Scream, Jurassic Park, Lion King, Rumble in the Bronx.\n\n    ### MY RECENTLY WATCHED MOVIES (FROM OLDEST TO NEWEST): Mystery Science Theater 3000: The Movie, Star Wars, Return of the Jedi, Ransom, Richard III, Birdcage, Fargo, Everyone Says I Love You.\n\n    ### MY MOVIE PREFERENCES: You enjoy a mix of action, sci-fi adventure (Star Trek), horror/thrillers (Alien, Scream), and classic genre films (Terminator, Conan)..\n\n    ### MY FIVE MOST FEATURED MOVIES: Here’s a list of 5 movies from your watch list that best align with your preferences:\n\n1.  Raiders of the Lost Ark (Action/Adventure)\n2.  Return of the Jedi (Sci-Fi Adventure)\n3.  Fargo (Thriller)\n4.  Godfather (Classic Crime)\n5.  Apollo 13 (Action/Thriller).\n\n    ### INSTRUCTIONS:\n    Recommend exactly **1 movie** from the \"Candidate Movie Set\" that are most similar to my \"Five Most Featured Movies\".\n    The output must be **STRICTLY formatted** as follows:\n\n    1. Movie Title\n\n    Do not include any extra text before or after the list\n\n    ### QUESTION:\n    What are your top 1 movie recommendations?\n\n    ### ANSWER:\n",
         " 1.Mission: Impossible "
        ],
        [
         "5",
         "\n\n    ### CANDIDATE MOVIE SET: Cape Fear, Jerry Maguire, Fugitive, Star Wars, Seven (Se7en), Ice Storm, Ulee's Gold, Fargo, Conspiracy Theory, Chasing Amy, Usual Suspects, Godfather, Psycho, Silence of the Lambs, Birds, Pulp Fiction, Rock, Return of the Jedi, Fly Away Home.\n\n    ### MY RECENTLY WATCHED MOVIES (FROM OLDEST TO NEWEST): Mrs. Brown (Her Majesty, Mrs. Brown), Washington Square, In & Out, L.A. Confidential, Full Monty, Titanic, Apt Pupil, Wag the Dog.\n\n    ### MY MOVIE PREFERENCES: You appreciate a mix of crime thrillers, dramas exploring complex characters and relationships, sci-fi classics, and critically acclaimed films with strong narratives – leaning towards darker themes..\n\n    ### MY FIVE MOST FEATURED MOVIES: Here’s a list of 5 movies from your watch list that best align with your preferences:\n\n1.  Godfather\n2.  Fargo\n3.  People vs. Larry Flynt\n4.  Shawshank Redemption\n5.  Raiders of the Lost Ark.\n\n    ### INSTRUCTIONS:\n    Recommend exactly **1 movie** from the \"Candidate Movie Set\" that are most similar to my \"Five Most Featured Movies\".\n    The output must be **STRICTLY formatted** as follows:\n\n    1. Movie Title\n\n    Do not include any extra text before or after the list\n\n    ### QUESTION:\n    What are your top 1 movie recommendations?\n\n    ### ANSWER:\n",
         " 1.Silence of the Lambs "
        ],
        [
         "6",
         "\n\n    ### CANDIDATE MOVIE SET: Truth About Cats & Dogs, Fly Away Home, Kolya, Jerry Maguire, Conspiracy Theory, Breaking the Waves, Ice Storm, Evita, Primal Fear, Devil's Advocate, Postino, Il, That Thing You Do!, Eve's Bayou, L.A. Confidential, Independence Day (ID4), Twelve Monkeys, Rock, Angels and Insects, Trainspotting.\n\n    ### MY RECENTLY WATCHED MOVIES (FROM OLDEST TO NEWEST): Kundun, In the Company of Men, Ulee's Gold, Boogie Nights, Thousand Acres, Big Lebowski, Game, Titanic.\n\n    ### MY MOVIE PREFERENCES: You seem drawn to dramas with strong character studies, exploring themes of identity, relationships, and societal issues – alongside some action/thrillers like *Independence Day*..\n\n    ### MY FIVE MOST FEATURED MOVIES: Here’s a list of five films from your watch list that align with your preference for character-driven dramas and strong themes:\n\n1.  Godfather\n2.  People vs. Larry Flynt\n3.  Shawshank Redemption\n4.  Fargo\n5.  Bottle Rocket.\n\n    ### INSTRUCTIONS:\n    Recommend exactly **1 movie** from the \"Candidate Movie Set\" that are most similar to my \"Five Most Featured Movies\".\n    The output must be **STRICTLY formatted** as follows:\n\n    1. Movie Title\n\n    Do not include any extra text before or after the list\n\n    ### QUESTION:\n    What are your top 1 movie recommendations?\n\n    ### ANSWER:\n",
         " 1.Twelve Monkeys "
        ],
        [
         "7",
         "\n\n    ### CANDIDATE MOVIE SET: Broken Arrow, Eraser, Star Trek: First Contact, Primal Fear, Jerry Maguire, Chasing Amy, Dragonheart, Long Kiss Goodnight, Multiplicity, Independence Day (ID4), Money Talks, Executive Decision, Happy Gilmore, Conspiracy Theory, Mission: Impossible, Volcano, River Wild, Saint, Time to Kill.\n\n    ### MY RECENTLY WATCHED MOVIES (FROM OLDEST TO NEWEST): Dante's Peak, I Know What You Did Last Summer, Crash, Liar Liar, Scream, Edge, Game, Devil's Own.\n\n    ### MY MOVIE PREFERENCES: You enjoy a mix of action, suspense, and thrillers with some comedic elements – particularly those featuring strong characters and high-stakes situations like disaster or crime..\n\n    ### MY FIVE MOST FEATURED MOVIES: Here’s a list of 5 films from your watch list that best align with your preferences:\n\n1.  Godfather\n2.  Fargo\n3.  Raiders of the Lost Ark\n4.  Apollo 13\n5.  Return of the Jedi.\n\n    ### INSTRUCTIONS:\n    Recommend exactly **1 movie** from the \"Candidate Movie Set\" that are most similar to my \"Five Most Featured Movies\".\n    The output must be **STRICTLY formatted** as follows:\n\n    1. Movie Title\n\n    Do not include any extra text before or after the list\n\n    ### QUESTION:\n    What are your top 1 movie recommendations?\n\n    ### ANSWER:\n",
         " 1.Jerry Maguire "
        ],
        [
         "8",
         "\n\n    ### CANDIDATE MOVIE SET: William Shakespeare's Romeo and Juliet, Liar Liar, Titanic, Sneakers, Parent Trap, Chasing Amy, Conspiracy Theory, Beauty and the Beast, Ghost, L.A. Confidential, Godfather: Part II, Heavenly Creatures, Bullets Over Broadway, Field of Dreams, 2001: A Space Odyssey, Courage Under Fire, Die Hard, Grease, Dumbo.\n\n    ### MY RECENTLY WATCHED MOVIES (FROM OLDEST TO NEWEST): Jerry Maguire, Raising Arizona, Cinema Paradiso, Silence of the Lambs, Princess Bride, Free Willy 3: The Rescue, Mother, Devil's Advocate.\n\n    ### MY MOVIE PREFERENCES: You enjoy a mix of classic dramas, romantic stories, action thrillers, and films exploring complex themes – with a leaning towards iconic and critically acclaimed titles..\n\n    ### MY FIVE MOST FEATURED MOVIES: Here’s your top 5 based on your preferences:\n\n1.  Godfather\n2.  Fargo\n3.  Raiders of the Lost Ark\n4.  Shawshank Redemption\n5.  People vs. Larry Flynt.\n\n    ### INSTRUCTIONS:\n    Recommend exactly **1 movie** from the \"Candidate Movie Set\" that are most similar to my \"Five Most Featured Movies\".\n    The output must be **STRICTLY formatted** as follows:\n\n    1. Movie Title\n\n    Do not include any extra text before or after the list\n\n    ### QUESTION:\n    What are your top 1 movie recommendations?\n\n    ### ANSWER:\n",
         " 1.Die Hard "
        ],
        [
         "9",
         "\n\n    ### CANDIDATE MOVIE SET: Fugitive, Star Wars, From Dusk Till Dawn, Raiders of the Lost Ark, Usual Suspects, Shawshank Redemption, Happy Gilmore, Aliens, Return of the Jedi, Dead Man Walking, Nutty Professor, Braveheart, Chasing Amy, Terminator 2: Judgment Day, Spawn, Game, Empire Strikes Back, Toy Story, Terminator.\n\n    ### MY RECENTLY WATCHED MOVIES (FROM OLDEST TO NEWEST): How to Be a Player, Saint, Kiss the Girls, Lost Highway, Starship Troopers, Liar Liar, Contact, Air Force One.\n\n    ### MY MOVIE PREFERENCES: You enjoy a mix of action, suspense, and character-driven stories with elements of dark themes and some comedic relief..\n\n    ### MY FIVE MOST FEATURED MOVIES: Here’s your top 5 based on your preferences:\n\n1.  Godfather\n2.  Fargo\n3.  Raiders of the Lost Ark\n4.  Return of the Jedi\n5.  Shawshank Redemption.\n\n    ### INSTRUCTIONS:\n    Recommend exactly **1 movie** from the \"Candidate Movie Set\" that are most similar to my \"Five Most Featured Movies\".\n    The output must be **STRICTLY formatted** as follows:\n\n    1. Movie Title\n\n    Do not include any extra text before or after the list\n\n    ### QUESTION:\n    What are your top 1 movie recommendations?\n\n    ### ANSWER:\n",
         " 1.Happy Gilmore "
        ],
        [
         "10",
         "\n\n    ### CANDIDATE MOVIE SET: Money Talks, Fly Away Home, 2 Days in the Valley, Last Man Standing, Chasing Amy, Frighteners, Rumble in the Bronx, Austin Powers: International Man of Mystery, Sabrina, Extreme Measures, Long Kiss Goodnight, Murder at 1600, Things to Do in Denver when You're Dead, Full Monty, Liar Liar, Sleepers, Chain Reaction, Time to Kill, Lone Star.\n\n    ### MY RECENTLY WATCHED MOVIES (FROM OLDEST TO NEWEST): Picture Perfect, Alien: Resurrection, Event Horizon, Spawn, Scream, Contact, Air Force One, Titanic.\n\n    ### MY MOVIE PREFERENCES: You seem to enjoy a mix of action, comedy, and thrillers with some character-driven stories – leaning towards entertaining and engaging narratives..\n\n    ### MY FIVE MOST FEATURED MOVIES: Here’s your top 5 based on your preferences:\n\n1.  Raiders of the Lost Ark (Action & Engaging)\n2.  Godfather (Character-Driven Thriller)\n3.  Fargo (Thriller & Narrative)\n4.  Return of the Jedi (Action & Entertainment)\n5.  Apollo 13 (Thrill & Engaging Story).\n\n    ### INSTRUCTIONS:\n    Recommend exactly **1 movie** from the \"Candidate Movie Set\" that are most similar to my \"Five Most Featured Movies\".\n    The output must be **STRICTLY formatted** as follows:\n\n    1. Movie Title\n\n    Do not include any extra text before or after the list\n\n    ### QUESTION:\n    What are your top 1 movie recommendations?\n\n    ### ANSWER:\n",
         " 1.Last Man Standing "
        ],
        [
         "11",
         "\n\n    ### CANDIDATE MOVIE SET: Chasing Amy, Evita, G.I. Jane, Rainmaker, Eve's Bayou, Ice Storm, Starship Troopers, Alien: Resurrection, Jackie Brown, Money Talks, Liar Liar, Devil's Advocate, Gattaca, Rosewood, Edge, Murder at 1600, Kiss the Girls, Game, Full Monty.\n\n    ### MY RECENTLY WATCHED MOVIES (FROM OLDEST TO NEWEST): Boogie Nights, Conspiracy Theory, Ulee's Gold, Good Will Hunting, Wag the Dog, Contact, Amistad, Titanic.\n\n    ### MY MOVIE PREFERENCES: You seem drawn to dramas and thrillers with strong character studies, exploring themes of morality, relationships, and societal issues – alongside some action/sci-fi elements like *Starship Troopers* and *Alien*..\n\n    ### MY FIVE MOST FEATURED MOVIES: Here’s a list of 5 films from your watch list that align with your preferences:\n\n1.  Godfather\n2.  People vs. Larry Flynt\n3.  Fargo\n4.  Shawshank Redemption\n5.  Raiders of the Lost Ark.\n\n    ### INSTRUCTIONS:\n    Recommend exactly **1 movie** from the \"Candidate Movie Set\" that are most similar to my \"Five Most Featured Movies\".\n    The output must be **STRICTLY formatted** as follows:\n\n    1. Movie Title\n\n    Do not include any extra text before or after the list\n\n    ### QUESTION:\n    What are your top 1 movie recommendations?\n\n    ### ANSWER:\n",
         " 1.Full Monty "
        ],
        [
         "12",
         "\n\n    ### CANDIDATE MOVIE SET: Psycho, Terminator, Independence Day (ID4), Aliens, Twister, Usual Suspects, Clockwork Orange, E.T. the Extra-Terrestrial, Birds, Chasing Amy, Contact, Brazil, Star Wars, Stephen King's The Langoliers, Shining, Alien 3, Raiders of the Lost Ark, Jaws 2, One Flew Over the Cuckoo's Nest.\n\n    ### MY RECENTLY WATCHED MOVIES (FROM OLDEST TO NEWEST): Pulp Fiction, Omen, Twelve Monkeys, Jaws, Abyss, Paradise Lost: The Child Murders at Robin Hood Hills, Rosewood, Titanic.\n\n    ### MY MOVIE PREFERENCES: You enjoy a mix of suspenseful thrillers, sci-fi classics, and thought-provoking dramas with strong storytelling..\n\n    ### MY FIVE MOST FEATURED MOVIES: Here’s your top 5 based on your preferences:\n\n1.  Godfather\n2.  Fargo\n3.  Raiders of the Lost Ark\n4.  Apollo 13\n5.  Return of the Jedi.\n\n    ### INSTRUCTIONS:\n    Recommend exactly **1 movie** from the \"Candidate Movie Set\" that are most similar to my \"Five Most Featured Movies\".\n    The output must be **STRICTLY formatted** as follows:\n\n    1. Movie Title\n\n    Do not include any extra text before or after the list\n\n    ### QUESTION:\n    What are your top 1 movie recommendations?\n\n    ### ANSWER:\n",
         " 1.Star Wars "
        ],
        [
         "13",
         "\n\n    ### CANDIDATE MOVIE SET: Die Hard 2, Star Trek IV: The Voyage Home, Mars Attacks!, Raising Arizona, Young Guns, Shining, Rear Window, Cape Fear, Godfather, Batman, Clockwork Orange, Independence Day (ID4), Get Shorty, Four Weddings and a Funeral, Heat, Contact, Mrs. Doubtfire, True Romance, Interview with the Vampire.\n\n    ### MY RECENTLY WATCHED MOVIES (FROM OLDEST TO NEWEST): Return of the Jedi, Twelve Monkeys, Aladdin, Usual Suspects, Fantasia, Alien, One Flew Over the Cuckoo's Nest, Schindler's List.\n\n    ### MY MOVIE PREFERENCES: You enjoy a mix of action, sci-fi, and dark thrillers with some comedic elements – classics like *Godfather* alongside more contemporary blockbusters..\n\n    ### MY FIVE MOST FEATURED MOVIES: Here’s your top 5 based on your preferences:\n\n1.  Raiders of the Lost Ark (Action, Classic)\n2.  Godfather (Dark Thriller, Classic)\n3.  Return of the Jedi (Sci-Fi, Action)\n4.  Apollo 13 (Thriller, Blockbuster)\n5.  Fargo (Dark Thriller, Crime).\n\n    ### INSTRUCTIONS:\n    Recommend exactly **1 movie** from the \"Candidate Movie Set\" that are most similar to my \"Five Most Featured Movies\".\n    The output must be **STRICTLY formatted** as follows:\n\n    1. Movie Title\n\n    Do not include any extra text before or after the list\n\n    ### QUESTION:\n    What are your top 1 movie recommendations?\n\n    ### ANSWER:\n",
         " 1.Contact "
        ],
        [
         "14",
         "\n\n    ### CANDIDATE MOVIE SET: Fargo, Mighty Aphrodite, English Patient, Heat, Groundhog Day, L.A. Confidential, Time to Kill, Ice Storm, First Wives Club, Forrest Gump, Scream, Twelve Monkeys, Ulee's Gold, Mulholland Falls, Game, Primal Fear, Net, Sense and Sensibility, Cape Fear.\n\n    ### MY RECENTLY WATCHED MOVIES (FROM OLDEST TO NEWEST): Othello, Muppet Treasure Island, Up Close and Personal, Return of the Jedi, Rock, Godfather, Star Wars, Dead Man Walking.\n\n    ### MY MOVIE PREFERENCES: You appreciate a mix of crime thrillers, character-driven dramas, and films with strong narratives – leaning towards intelligent and sometimes dark stories..\n\n    ### MY FIVE MOST FEATURED MOVIES: Here’s your top 5 based on your preferences:\n\n1.  Godfather\n2.  Fargo\n3.  People vs. Larry Flynt\n4.  Shawshank Redemption\n5.  Bottle Rocket.\n\n    ### INSTRUCTIONS:\n    Recommend exactly **1 movie** from the \"Candidate Movie Set\" that are most similar to my \"Five Most Featured Movies\".\n    The output must be **STRICTLY formatted** as follows:\n\n    1. Movie Title\n\n    Do not include any extra text before or after the list\n\n    ### QUESTION:\n    What are your top 1 movie recommendations?\n\n    ### ANSWER:\n",
         " 1.First Wives Club "
        ],
        [
         "15",
         "\n\n    ### CANDIDATE MOVIE SET: Edge, Conspiracy Theory, Kull the Conqueror, Hoodlum, Volcano, English Patient, L.A. Confidential, Desperate Measures, Eve's Bayou, Murder at 1600, Ice Storm, Full Monty, Evita, Mother, Ulee's Gold, In & Out, Liar Liar, Kiss the Girls, Chasing Amy.\n\n    ### MY RECENTLY WATCHED MOVIES (FROM OLDEST TO NEWEST): Good Will Hunting, Devil's Advocate, Game, Contact, Saint, Titanic, Air Force One, Everyone Says I Love You.\n\n    ### MY MOVIE PREFERENCES: You seem drawn to character-driven dramas and thrillers with strong narratives, spanning genres like crime, romance, and historical pieces..\n\n    ### MY FIVE MOST FEATURED MOVIES: Here’s a list of five films from your watch history aligning with your preference for character-driven dramas and strong narratives:\n\n1.  Godfather\n2.  People vs. Larry Flynt\n3.  Shawshank Redemption\n4.  Fargo\n5.  Bottle Rocket.\n\n    ### INSTRUCTIONS:\n    Recommend exactly **1 movie** from the \"Candidate Movie Set\" that are most similar to my \"Five Most Featured Movies\".\n    The output must be **STRICTLY formatted** as follows:\n\n    1. Movie Title\n\n    Do not include any extra text before or after the list\n\n    ### QUESTION:\n    What are your top 1 movie recommendations?\n\n    ### ANSWER:\n",
         " 1.Murder at 1600 "
        ],
        [
         "16",
         "\n\n    ### CANDIDATE MOVIE SET: Get Shorty, M*A*S*H, Right Stuff, Sabrina, Cape Fear, Wizard of Oz, Indiana Jones and the Last Crusade, Clear and Present Danger, Dead Poets Society, Blues Brothers, Forrest Gump, Full Metal Jacket, Shining, Return of the Jedi, Four Weddings and a Funeral, Raising Arizona, When Harry Met Sally..., Field of Dreams, E.T. the Extra-Terrestrial.\n\n    ### MY RECENTLY WATCHED MOVIES (FROM OLDEST TO NEWEST): Raging Bull, Citizen Kane, Braveheart, Patton, Empire Strikes Back, Hoop Dreams, Hoodlum, Cop Land.\n\n    ### MY MOVIE PREFERENCES: You enjoy a mix of comedies, dramas, and action/adventure with strong storytelling and iconic moments – classics alongside more contemporary hits..\n\n    ### MY FIVE MOST FEATURED MOVIES: Here’s your top 5 based on your preferences:\n\n1.  Godfather\n2.  Raiders of the Lost Ark\n3.  Fargo\n4.  Shawshank Redemption\n5.  Return of the Jedi.\n\n    ### INSTRUCTIONS:\n    Recommend exactly **1 movie** from the \"Candidate Movie Set\" that are most similar to my \"Five Most Featured Movies\".\n    The output must be **STRICTLY formatted** as follows:\n\n    1. Movie Title\n\n    Do not include any extra text before or after the list\n\n    ### QUESTION:\n    What are your top 1 movie recommendations?\n\n    ### ANSWER:\n",
         " 1.Return of the Jedi "
        ],
        [
         "17",
         "\n\n    ### CANDIDATE MOVIE SET: Murder at 1600, Ice Storm, In & Out, Liar Liar, Conspiracy Theory, Evita, Game, Volcano, Kiss the Girls, Scream, Full Monty, Kull the Conqueror, Cop Land, Desperate Measures, Mimic, L.A. Confidential, Money Talks, Saint, Chasing Amy.\n\n    ### MY RECENTLY WATCHED MOVIES (FROM OLDEST TO NEWEST): Peacemaker, Seven Years in Tibet, Indian Summer, Fly Away Home, Kolya, Ulee's Gold, Contact, Air Force One.\n\n    ### MY MOVIE PREFERENCES: You seem drawn to thrillers, dramas, and films with strong character studies – particularly those exploring darker themes and complex relationships..\n\n    ### MY FIVE MOST FEATURED MOVIES: Here’s a list of five movies from your watchlist aligning with your preference for thrillers, dramas, and character studies:\n\n1.  Godfather\n2.  People vs. Larry Flynt\n3.  Fargo\n4.  Shawshank Redemption\n5.  Bottle Rocket.\n\n    ### INSTRUCTIONS:\n    Recommend exactly **1 movie** from the \"Candidate Movie Set\" that are most similar to my \"Five Most Featured Movies\".\n    The output must be **STRICTLY formatted** as follows:\n\n    1. Movie Title\n\n    Do not include any extra text before or after the list\n\n    ### QUESTION:\n    What are your top 1 movie recommendations?\n\n    ### ANSWER:\n",
         " 1.Game "
        ],
        [
         "18",
         "\n\n    ### CANDIDATE MOVIE SET: M*A*S*H, North by Northwest, Lawrence of Arabia, English Patient, Annie Hall, Butch Cassidy and the Sundance Kid, This Is Spinal Tap, Nikita (La Femme Nikita), Mediterraneo, Star Wars, Dances with Wolves, Sense and Sensibility, Eat Drink Man Woman, Raiders of the Lost Ark, My Life as a Dog (Mitt liv som hund), Graduate, Silence of the Lambs, Schindler's List, Postino, Il.\n\n    ### MY RECENTLY WATCHED MOVIES (FROM OLDEST TO NEWEST): Cyrano de Bergerac, Raise the Red Lantern, Stonewall, Tin Drum, The (Blechtrommel, Die), Cinema Paradiso, Delicatessen, Jean de Florette, Manon of the Spring (Manon des sources).\n\n    ### MY MOVIE PREFERENCES: You appreciate a blend of historical epics, character-driven dramas, and comedies with strong storytelling – favoring both grand scale and intimate moments..\n\n    ### MY FIVE MOST FEATURED MOVIES: Here’s your top 5 based on your preferences:\n\n1.  Godfather\n2.  Fargo\n3.  Raiders of the Lost Ark\n4.  Shawshank Redemption\n5.  People vs. Larry Flynt.\n\n    ### INSTRUCTIONS:\n    Recommend exactly **1 movie** from the \"Candidate Movie Set\" that are most similar to my \"Five Most Featured Movies\".\n    The output must be **STRICTLY formatted** as follows:\n\n    1. Movie Title\n\n    Do not include any extra text before or after the list\n\n    ### QUESTION:\n    What are your top 1 movie recommendations?\n\n    ### ANSWER:\n",
         " 1.Mediterraneo "
        ],
        [
         "19",
         "\n\n    ### CANDIDATE MOVIE SET: Top Gun, Jerry Maguire, Field of Dreams, Birdcage, Mrs. Doubtfire, Pulp Fiction, Terminator 2: Judgment Day, True Lies, Batman, Back to the Future, Shawshank Redemption, Groundhog Day, Get Shorty, Terminator, Amadeus, Cape Fear, Lion King, Fargo, Monty Python and the Holy Grail.\n\n    ### MY RECENTLY WATCHED MOVIES (FROM OLDEST TO NEWEST): Toy Story, Mr. Holland's Opus, Star Wars, Return of the Jedi, Jungle2Jungle, Dante's Peak, Volcano, Scream.\n\n    ### MY MOVIE PREFERENCES: You enjoy a mix of action, comedy, and critically acclaimed dramas with a preference for iconic films and memorable stories..\n\n    ### MY FIVE MOST FEATURED MOVIES: Here’s your top 5 based on your preferences:\n\n1.  Raiders of the Lost Ark (Action & Iconic)\n2.  Godfather (Critically Acclaimed Drama)\n3.  Return of the Jedi (Iconic & Action)\n4.  Fargo (Critically Acclaimed Drama)\n5.  Shawshank Redemption (Memorable Story & Drama).\n\n    ### INSTRUCTIONS:\n    Recommend exactly **1 movie** from the \"Candidate Movie Set\" that are most similar to my \"Five Most Featured Movies\".\n    The output must be **STRICTLY formatted** as follows:\n\n    1. Movie Title\n\n    Do not include any extra text before or after the list\n\n    ### QUESTION:\n    What are your top 1 movie recommendations?\n\n    ### ANSWER:\n",
         " 1.Back to the Future "
        ],
        [
         "20",
         "\n\n    ### CANDIDATE MOVIE SET: G.I. Jane, In & Out, Edge, Contact, Liar Liar, Murder at 1600, I Know What You Did Last Summer, Conspiracy Theory, Full Monty, Devil's Advocate, Ulee's Gold, Kull the Conqueror, Volcano, Money Talks, Ice Storm, Game, Titanic, Chasing Amy, Amistad.\n\n    ### MY RECENTLY WATCHED MOVIES (FROM OLDEST TO NEWEST): George of the Jungle, Seven Years in Tibet, Anna Karenina, Wings of the Dove, English Patient, Cop Land, L.A. Confidential, Scream.\n\n    ### MY MOVIE PREFERENCES: You seem drawn to character-driven dramas and thrillers with strong themes – action, suspense, and stories exploring complex ideas like identity, morality, and societal issues..\n\n    ### MY FIVE MOST FEATURED MOVIES: Here’s a list of five films from your watch list that align with your preference for character-driven dramas and thrillers:\n\n1.  Godfather\n2.  People vs. Larry Flynt\n3.  Shawshank Redemption\n4.  Fargo\n5.  Bottle Rocket.\n\n    ### INSTRUCTIONS:\n    Recommend exactly **1 movie** from the \"Candidate Movie Set\" that are most similar to my \"Five Most Featured Movies\".\n    The output must be **STRICTLY formatted** as follows:\n\n    1. Movie Title\n\n    Do not include any extra text before or after the list\n\n    ### QUESTION:\n    What are your top 1 movie recommendations?\n\n    ### ANSWER:\n",
         " 1.Titanic "
        ],
        [
         "21",
         "\n\n    ### CANDIDATE MOVIE SET: Outbreak, Princess Bride, Cape Fear, Executive Decision, Crimson Tide, Usual Suspects, Chasing Amy, Pulp Fiction, Empire Strikes Back, Contact, Seven (Se7en), Beavis and Butt-head Do America, Broken Arrow, Terminator, Shawshank Redemption, Dead Man Walking, Fugitive, Fargo, Liar Liar.\n\n    ### MY RECENTLY WATCHED MOVIES (FROM OLDEST TO NEWEST): Rock, Up Close and Personal, Toy Story, Twelve Monkeys, Star Wars, To Gillian on Her 37th Birthday, Time to Kill, Fly Away Home.\n\n    ### MY MOVIE PREFERENCES: You enjoy a mix of action thrillers, crime dramas, and critically acclaimed films with strong narratives – leaning towards suspenseful and thought-provoking stories..\n\n    ### MY FIVE MOST FEATURED MOVIES: Here’s a list of five movies from your watch list that align with your preferences:\n\n1.  Godfather\n2.  Fargo\n3.  Raiders of the Lost Ark\n4.  Apollo 13\n5.  Shawshank Redemption.\n\n    ### INSTRUCTIONS:\n    Recommend exactly **1 movie** from the \"Candidate Movie Set\" that are most similar to my \"Five Most Featured Movies\".\n    The output must be **STRICTLY formatted** as follows:\n\n    1. Movie Title\n\n    Do not include any extra text before or after the list\n\n    ### QUESTION:\n    What are your top 1 movie recommendations?\n\n    ### ANSWER:\n",
         " 1.Broken Arrow "
        ],
        [
         "22",
         "\n\n    ### CANDIDATE MOVIE SET: Tin Cup, Star Trek: First Contact, Heat, That Thing You Do!, Mars Attacks!, River Wild, Rock, Liar Liar, Game, Contact, Happy Gilmore, Scream, Executive Decision, Chasing Amy, Toy Story, Trainspotting, Star Wars, Sleepers, Nutty Professor.\n\n    ### MY RECENTLY WATCHED MOVIES (FROM OLDEST TO NEWEST): Lone Star, Down Periscope, Multiplicity, Mission: Impossible, Willy Wonka and the Chocolate Factory, Bound, Ransom, Dead Man Walking.\n\n    ### MY MOVIE PREFERENCES: You enjoy a mix of action, sci-fi, comedy, and coming-of-age stories with some classic and nostalgic elements..\n\n    ### MY FIVE MOST FEATURED MOVIES: Here’s your top 5 based on your preferences:\n\n1.  Raiders of the Lost Ark (Action, Nostalgic)\n2.  Return of the Jedi (Sci-Fi, Classic)\n3.  Apollo 13 (Action, Sci-Fi)\n4.  Fargo (Crime/Drama - fits varied tastes)\n5.  The Godfather (Classic, Drama).\n\n    ### INSTRUCTIONS:\n    Recommend exactly **1 movie** from the \"Candidate Movie Set\" that are most similar to my \"Five Most Featured Movies\".\n    The output must be **STRICTLY formatted** as follows:\n\n    1. Movie Title\n\n    Do not include any extra text before or after the list\n\n    ### QUESTION:\n    What are your top 1 movie recommendations?\n\n    ### ANSWER:\n",
         " 1.Toy Story "
        ],
        [
         "23",
         "\n\n    ### CANDIDATE MOVIE SET: I Know What You Did Last Summer, Fly Away Home, Game, Picture Perfect, She's So Lovely, Scream, Devil's Advocate, Eve's Bayou, Mimic, Gattaca, Excess Baggage, Rosewood, Spawn, Leave It to Beaver, Kull the Conqueror, Saint, Jungle2Jungle, Life Less Ordinary, 187.\n\n    ### MY RECENTLY WATCHED MOVIES (FROM OLDEST TO NEWEST): Mrs. Brown (Her Majesty, Mrs. Brown), L.A. Confidential, Ice Storm, Full Monty, Chasing Amy, Kolya, English Patient, Contact.\n\n    ### MY MOVIE PREFERENCES: You seem to enjoy a mix of suspense/thrillers (Scream, Mimic), dramas with strong characters (Eve's Bayou, She’s So Lovely), and films exploring sci-fi or unique concepts (Gattaca, Kull the Conqueror)..\n\n    ### MY FIVE MOST FEATURED MOVIES: Here are five movies from your list aligning with your preferences:\n\n1.  Godfather \n2.  Fargo\n3.  Apollo 13\n4.  Return of the Jedi\n5.  Shawshank Redemption.\n\n    ### INSTRUCTIONS:\n    Recommend exactly **1 movie** from the \"Candidate Movie Set\" that are most similar to my \"Five Most Featured Movies\".\n    The output must be **STRICTLY formatted** as follows:\n\n    1. Movie Title\n\n    Do not include any extra text before or after the list\n\n    ### QUESTION:\n    What are your top 1 movie recommendations?\n\n    ### ANSWER:\n",
         " 1.Rosewood "
        ],
        [
         "24",
         "\n\n    ### CANDIDATE MOVIE SET: Air Bud, Desperate Measures, Eve's Bayou, Saint, Evita, 187, Hoodlum, Jungle2Jungle, L.A. Confidential, Mimic, Volcano, Ulee's Gold, George of the Jungle, U Turn, Ice Storm, Peacemaker, Spawn, Excess Baggage, Kull the Conqueror.\n\n    ### MY RECENTLY WATCHED MOVIES (FROM OLDEST TO NEWEST): Air Force One, Jackal, Kiss the Girls, Game, Devil's Advocate, English Patient, Rainmaker, Full Monty.\n\n    ### MY MOVIE PREFERENCES: You seem drawn to a mix of dramas, biopics, and character-driven stories with some action/thriller elements – exploring themes of ambition, relationships, and societal issues..\n\n    ### MY FIVE MOST FEATURED MOVIES: Here’s a list of five films from your watch list that align with your preferences:\n\n1.  Godfather \n2.  People vs. Larry Flynt\n3.  Fargo\n4.  Shawshank Redemption\n5.  Raiders of the Lost Ark.\n\n    ### INSTRUCTIONS:\n    Recommend exactly **1 movie** from the \"Candidate Movie Set\" that are most similar to my \"Five Most Featured Movies\".\n    The output must be **STRICTLY formatted** as follows:\n\n    1. Movie Title\n\n    Do not include any extra text before or after the list\n\n    ### QUESTION:\n    What are your top 1 movie recommendations?\n\n    ### ANSWER:\n",
         " 1.Mimic "
        ],
        [
         "25",
         "\n\n    ### CANDIDATE MOVIE SET: Snow White and the Seven Dwarfs, Cape Fear, Sabrina, Birdcage, Lawrence of Arabia, Godfather, Sting, Apocalypse Now, Sound of Music, Terminator, E.T. the Extra-Terrestrial, Casablanca, Aliens, Hunt for Red October, Alien, Duck Soup, Braveheart, When Harry Met Sally..., One Flew Over the Cuckoo's Nest.\n\n    ### MY RECENTLY WATCHED MOVIES (FROM OLDEST TO NEWEST): Dead Poets Society, Speed, Being There, Schindler's List, Groundhog Day, Arsenic and Old Lace, Liar Liar, Air Force One.\n\n    ### MY MOVIE PREFERENCES: You appreciate a mix of classic storytelling, epic scope, and impactful genre films – spanning musicals, dramas, thrillers, and sci-fi..\n\n    ### MY FIVE MOST FEATURED MOVIES: Here’s a list of five movies from your watch list that align with your preferences:\n\n1.  Godfather\n2.  Fargo\n3.  Raiders of the Lost Ark\n4.  Return of the Jedi\n5.  Shawshank Redemption.\n\n    ### INSTRUCTIONS:\n    Recommend exactly **1 movie** from the \"Candidate Movie Set\" that are most similar to my \"Five Most Featured Movies\".\n    The output must be **STRICTLY formatted** as follows:\n\n    1. Movie Title\n\n    Do not include any extra text before or after the list\n\n    ### QUESTION:\n    What are your top 1 movie recommendations?\n\n    ### ANSWER:\n",
         " 1.Braveheart "
        ],
        [
         "26",
         "\n\n    ### CANDIDATE MOVIE SET: Gone with the Wind, Clockwork Orange, Amadeus, Maverick, Sting, Batman, Die Hard: With a Vengeance, Magnificent Seven, Shining, Godfather: Part II, Dragonheart, Graduate, Godfather, Get Shorty, North by Northwest, Rear Window, Sabrina, Fargo, Die Hard 2.\n\n    ### MY RECENTLY WATCHED MOVIES (FROM OLDEST TO NEWEST): Rock, Sneakers, Beavis and Butt-head Do America, Homeward Bound: The Incredible Journey, Liar Liar, Kull the Conqueror, Fly Away Home, Kull the Conqueror.\n\n    ### MY MOVIE PREFERENCES: You enjoy a mix of classic epics, action thrillers, and dark dramas with strong narratives – favoring both historical and contemporary settings..\n\n    ### MY FIVE MOST FEATURED MOVIES: Here’s your top 5 based on your preferences:\n\n1.  Godfather\n2.  Raiders of the Lost Ark\n3.  Fargo\n4.  Return of the Jedi\n5.  Shawshank Redemption.\n\n    ### INSTRUCTIONS:\n    Recommend exactly **1 movie** from the \"Candidate Movie Set\" that are most similar to my \"Five Most Featured Movies\".\n    The output must be **STRICTLY formatted** as follows:\n\n    1. Movie Title\n\n    Do not include any extra text before or after the list\n\n    ### QUESTION:\n    What are your top 1 movie recommendations?\n\n    ### ANSWER:\n",
         " 1.Fargo "
        ],
        [
         "27",
         "\n\n    ### CANDIDATE MOVIE SET: Silence of the Lambs, Seven (Se7en), Fugitive, Pulp Fiction, When Harry Met Sally..., Cape Fear, Psycho, Mission: Impossible, Jerry Maguire, Trainspotting, Contact, Clockwork Orange, Rock, Chasing Amy, Ulee's Gold, Amadeus, Star Wars, Usual Suspects, Apt Pupil.\n\n    ### MY RECENTLY WATCHED MOVIES (FROM OLDEST TO NEWEST): Mrs. Brown (Her Majesty, Mrs. Brown), Tomorrow Never Dies, Jackie Brown, L.A. Confidential, Titanic, Wings of the Dove, English Patient, Ice Storm.\n\n    ### MY MOVIE PREFERENCES: You appreciate suspenseful thrillers with dark themes (Silence of the Lambs, Seven, Cape Fear, Psycho) alongside critically acclaimed and innovative films (Pulp Fiction, Usual Suspects, Trainspotting) and some classics (Star Wars, Amadeus)..\n\n    ### MY FIVE MOST FEATURED MOVIES: Here’s a list of 5 films from your watch list that align with your preferences:\n\n1.  Godfather\n2.  Fargo\n3.  Seven\n4.  Return of the Jedi\n5.  Bottle Rocket.\n\n    ### INSTRUCTIONS:\n    Recommend exactly **1 movie** from the \"Candidate Movie Set\" that are most similar to my \"Five Most Featured Movies\".\n    The output must be **STRICTLY formatted** as follows:\n\n    1. Movie Title\n\n    Do not include any extra text before or after the list\n\n    ### QUESTION:\n    What are your top 1 movie recommendations?\n\n    ### ANSWER:\n",
         " 1.Amadeus "
        ],
        [
         "28",
         "\n\n    ### CANDIDATE MOVIE SET: Evita, Money Talks, Gattaca, Eve's Bayou, Tomorrow Never Dies, Murder at 1600, G.I. Jane, Fly Away Home, Saint, English Patient, Sphere, Kull the Conqueror, Conspiracy Theory, Peacemaker, Liar Liar, Desperate Measures, Kiss the Girls, Chasing Amy, Rosewood.\n\n    ### MY RECENTLY WATCHED MOVIES (FROM OLDEST TO NEWEST): As Good As It Gets, Wild Things, L.A. Confidential, Wag the Dog, Lost in Space, Big Lebowski, Boogie Nights, Full Monty.\n\n    ### MY MOVIE PREFERENCES: You seem drawn to dramas with strong characters and historical/biographical elements alongside action thrillers and quirky comedies..\n\n    ### MY FIVE MOST FEATURED MOVIES: Here’s a list of 5 films aligning with your preferences, based on your watch history:\n\n1.  Godfather\n2.  Raiders of the Lost Ark\n3.  Fargo\n4.  People vs. Larry Flynt\n5.  Shawshank Redemption.\n\n    ### INSTRUCTIONS:\n    Recommend exactly **1 movie** from the \"Candidate Movie Set\" that are most similar to my \"Five Most Featured Movies\".\n    The output must be **STRICTLY formatted** as follows:\n\n    1. Movie Title\n\n    Do not include any extra text before or after the list\n\n    ### QUESTION:\n    What are your top 1 movie recommendations?\n\n    ### ANSWER:\n",
         " 1.Tomorrow Never Dies "
        ],
        [
         "29",
         "\n\n    ### CANDIDATE MOVIE SET: Desperate Measures, Ulee's Gold, Full Monty, Air Force One, Titanic, Murder at 1600, Devil's Advocate, Evita, Wag the Dog, In & Out, Peacemaker, Game, L.A. Confidential, Picture Perfect, Volcano, Edge, Kull the Conqueror, Chasing Amy, Money Talks.\n\n    ### MY RECENTLY WATCHED MOVIES (FROM OLDEST TO NEWEST): Rainmaker, Anastasia, Contact, Welcome To Sarajevo, Postman, Amistad, Gattaca, English Patient.\n\n    ### MY MOVIE PREFERENCES: You seem drawn to character-driven dramas and action films with strong narratives, spanning genres from historical to contemporary..\n\n    ### MY FIVE MOST FEATURED MOVIES: Here’s a list of five movies aligning with your preferences:\n\n1.  Godfather\n2.  People vs. Larry Flynt\n3.  Fargo\n4.  Shawshank Redemption\n5.  Raiders of the Lost Ark.\n\n    ### INSTRUCTIONS:\n    Recommend exactly **1 movie** from the \"Candidate Movie Set\" that are most similar to my \"Five Most Featured Movies\".\n    The output must be **STRICTLY formatted** as follows:\n\n    1. Movie Title\n\n    Do not include any extra text before or after the list\n\n    ### QUESTION:\n    What are your top 1 movie recommendations?\n\n    ### ANSWER:\n",
         " 1.Evita "
        ],
        [
         "30",
         "\n\n    ### CANDIDATE MOVIE SET: Rear Window, Scream, One Flew Over the Cuckoo's Nest, Hunt for Red October, Glory, Shining, Birdcage, Taxi Driver, Cape Fear, Searching for Bobby Fischer, When Harry Met Sally..., Sabrina, Wizard of Oz, Clockwork Orange, Psycho, Shawshank Redemption, Right Stuff, Four Weddings and a Funeral, Twelve Monkeys.\n\n    ### MY RECENTLY WATCHED MOVIES (FROM OLDEST TO NEWEST): Schindler's List, Alien, Indiana Jones and the Last Crusade, Amadeus, Raiders of the Lost Ark, Liar Liar, Evita, Contact.\n\n    ### MY MOVIE PREFERENCES: You enjoy suspenseful thrillers, character-driven dramas, and classics with strong narratives – leaning towards psychological and intense stories..\n\n    ### MY FIVE MOST FEATURED MOVIES: Here’s a list of 5 films from your watch list that align with your preferences:\n\n1.  Godfather\n2.  Fargo\n3.  People vs. Larry Flynt\n4.  Shawshank Redemption\n5.  Bottle Rocket.\n\n    ### INSTRUCTIONS:\n    Recommend exactly **1 movie** from the \"Candidate Movie Set\" that are most similar to my \"Five Most Featured Movies\".\n    The output must be **STRICTLY formatted** as follows:\n\n    1. Movie Title\n\n    Do not include any extra text before or after the list\n\n    ### QUESTION:\n    What are your top 1 movie recommendations?\n\n    ### ANSWER:\n",
         " 1.When Harry Met Sally... "
        ],
        [
         "31",
         "\n\n    ### CANDIDATE MOVIE SET: Forrest Gump, Chasing Amy, Stand by Me, This Is Spinal Tap, Get Shorty, Pulp Fiction, Twelve Monkeys, Dances with Wolves, E.T. the Extra-Terrestrial, Apollo 13, Taxi Driver, GoodFellas, Cape Fear, Return of the Jedi, 2001: A Space Odyssey, Back to the Future, Brazil, Toy Story, Clockwork Orange.\n\n    ### MY RECENTLY WATCHED MOVIES (FROM OLDEST TO NEWEST): Dead Poets Society, Trainspotting, Reservoir Dogs, Fargo, Blade Runner, Delicatessen, Wrong Trousers, Apocalypse Now.\n\n    ### MY MOVIE PREFERENCES: You appreciate a mix of iconic classics, character-driven dramas, and genre films – particularly those with strong storytelling and memorable moments..\n\n    ### MY FIVE MOST FEATURED MOVIES: Here’s your top 5 based on your preferences:\n\n1.  Godfather\n2.  Fargo\n3.  Shawshank Redemption\n4.  Raiders of the Lost Ark\n5.  People vs. Larry Flynt.\n\n    ### INSTRUCTIONS:\n    Recommend exactly **1 movie** from the \"Candidate Movie Set\" that are most similar to my \"Five Most Featured Movies\".\n    The output must be **STRICTLY formatted** as follows:\n\n    1. Movie Title\n\n    Do not include any extra text before or after the list\n\n    ### QUESTION:\n    What are your top 1 movie recommendations?\n\n    ### ANSWER:\n",
         " 1.Brazil "
        ],
        [
         "32",
         "\n\n    ### CANDIDATE MOVIE SET: Aliens, Clear and Present Danger, Scream, Lawrence of Arabia, Seven (Se7en), True Lies, Omen, Big Sleep, Stand by Me, Heathers, Hunt for Red October, Searching for Bobby Fischer, Streetcar Named Desire, Cape Fear, Terminator 2: Judgment Day, Alien, Shawshank Redemption, Patton, Manchurian Candidate.\n\n    ### MY RECENTLY WATCHED MOVIES (FROM OLDEST TO NEWEST): Rear Window, Manhattan, Full Metal Jacket, Psycho, Kolya, Full Monty, Everyone Says I Love You, English Patient.\n\n    ### MY MOVIE PREFERENCES: You enjoy a mix of suspenseful thrillers (like *Seven*, *Scream*, *Cape Fear*), epic historical dramas (*Lawrence of Arabia*), and action/sci-fi classics (*Aliens*, *Terminator 2*) with some character-driven stories (*Stand by Me*, *Streetcar Named Desire*)..\n\n    ### MY FIVE MOST FEATURED MOVIES: Here’s a list of five films from your watch list that align with your preferences:\n\n1.  Godfather (Epic historical drama)\n2.  Fargo (Suspenseful thriller)\n3.  Raiders of the Lost Ark (Action/sci-fi classic)\n4.  Apollo 13 (Suspenseful thriller)\n5.  Shawshank Redemption (Character-driven story).\n\n    ### INSTRUCTIONS:\n    Recommend exactly **1 movie** from the \"Candidate Movie Set\" that are most similar to my \"Five Most Featured Movies\".\n    The output must be **STRICTLY formatted** as follows:\n\n    1. Movie Title\n\n    Do not include any extra text before or after the list\n\n    ### QUESTION:\n    What are your top 1 movie recommendations?\n\n    ### ANSWER:\n",
         " 1.Shawshank Redemption "
        ],
        [
         "33",
         "\n\n    ### CANDIDATE MOVIE SET: Return of the Jedi, Sound of Music, Shawshank Redemption, Cape Fear, Alien, Pulp Fiction, Jaws, Forrest Gump, M*A*S*H, African Queen, Lawrence of Arabia, Clockwork Orange, Bonnie and Clyde, When Harry Met Sally..., Raising Arizona, To Kill a Mockingbird, Twelve Monkeys, Blues Brothers, Sabrina.\n\n    ### MY RECENTLY WATCHED MOVIES (FROM OLDEST TO NEWEST): Patton, North by Northwest, Star Wars, Tin Cup, Godfather, Fargo, Toy Story, Boot, Das.\n\n    ### MY MOVIE PREFERENCES: You appreciate a blend of classic storytelling, suspenseful thrillers, and emotionally resonant dramas with some comedic elements..\n\n    ### MY FIVE MOST FEATURED MOVIES: Here’s your top 5 based on your preferences:\n\n1.  Godfather\n2.  Fargo\n3.  Shawshank Redemption\n4.  Raiders of the Lost Ark\n5.  People vs. Larry Flynt.\n\n    ### INSTRUCTIONS:\n    Recommend exactly **1 movie** from the \"Candidate Movie Set\" that are most similar to my \"Five Most Featured Movies\".\n    The output must be **STRICTLY formatted** as follows:\n\n    1. Movie Title\n\n    Do not include any extra text before or after the list\n\n    ### QUESTION:\n    What are your top 1 movie recommendations?\n\n    ### ANSWER:\n",
         " 1.Pulp Fiction "
        ],
        [
         "34",
         "\n\n    ### CANDIDATE MOVIE SET: Full Monty, Star Trek: First Contact, Eraser, Conspiracy Theory, Liar Liar, Ulee's Gold, Phenomenon, That Thing You Do!, Nixon, L.A. Confidential, Swingers, River Wild, Game, Frighteners, Godfather, Trainspotting, Mars Attacks!, Chasing Amy, Scream.\n\n    ### MY RECENTLY WATCHED MOVIES (FROM OLDEST TO NEWEST): Leaving Las Vegas, Fargo, Lone Star, Chungking Express, Courage Under Fire, Twelve Monkeys, Big Night, Dead Man Walking.\n\n    ### MY MOVIE PREFERENCES: You seem drawn to character-driven stories with emotional depth, exploring themes of struggle, redemption, and human connection – alongside some action and sci-fi elements..\n\n    ### MY FIVE MOST FEATURED MOVIES: Here’s a list of five films aligning with your preferences:\n\n1.  *Godfather* (Character drama, struggle)\n2.  *Fargo* (Crime, character-driven)\n3.  *Shawshank Redemption* (Redemption, human connection)\n4.  *Raiders of the Lost Ark* (Action, adventure – with a hero’s journey)\n5.  *People vs. Larry Flynt* (Character study, struggle).\n\n    ### INSTRUCTIONS:\n    Recommend exactly **1 movie** from the \"Candidate Movie Set\" that are most similar to my \"Five Most Featured Movies\".\n    The output must be **STRICTLY formatted** as follows:\n\n    1. Movie Title\n\n    Do not include any extra text before or after the list\n\n    ### QUESTION:\n    What are your top 1 movie recommendations?\n\n    ### ANSWER:\n",
         " 1.L.A. Confidential "
        ],
        [
         "35",
         "\n\n    ### CANDIDATE MOVIE SET: Absolute Power, Game, Conspiracy Theory, Mars Attacks!, Jerry Maguire, Kingpin, My Best Friend's Wedding, Devil's Own, Multiplicity, Ransom, Rock, Volcano, Face/Off, Con Air, Money Talks, River Wild, Rumble in the Bronx, Leaving Las Vegas, Chasing Amy.\n\n    ### MY RECENTLY WATCHED MOVIES (FROM OLDEST TO NEWEST): Desperate Measures, Evita, Liar Liar, Alien: Resurrection, Starship Troopers, Desperate Measures, Contact, Air Force One.\n\n    ### MY MOVIE PREFERENCES: You seem drawn to thrillers, action, and dark comedies with a focus on suspense, conflict, and often flawed characters..\n\n    ### MY FIVE MOST FEATURED MOVIES: Here’s your top 5 based on your preferences:\n\n1.  People vs. Larry Flynt (Dark comedy, conflict)\n2.  Godfather (Suspense, flawed characters)\n3.  Fargo (Thriller, suspense)\n4.  Raiders of the Lost Ark (Action, conflict)\n5.  Apollo 13 (Thriller, suspense).\n\n    ### INSTRUCTIONS:\n    Recommend exactly **1 movie** from the \"Candidate Movie Set\" that are most similar to my \"Five Most Featured Movies\".\n    The output must be **STRICTLY formatted** as follows:\n\n    1. Movie Title\n\n    Do not include any extra text before or after the list\n\n    ### QUESTION:\n    What are your top 1 movie recommendations?\n\n    ### ANSWER:\n",
         " 1.River Wild "
        ],
        [
         "36",
         "\n\n    ### CANDIDATE MOVIE SET: Air Force One, Nutty Professor, Time to Kill, Independence Day (ID4), Long Kiss Goodnight, Scream, Cape Fear, Mars Attacks!, Fifth Element, Jerry Maguire, Mission: Impossible, Ulee's Gold, Phenomenon, Broken Arrow, People vs. Larry Flynt, Primal Fear, Liar Liar, Conspiracy Theory, Money Talks.\n\n    ### MY RECENTLY WATCHED MOVIES (FROM OLDEST TO NEWEST): Star Wars, Mimic, Boogie Nights, Contact, Cop Land, Chasing Amy, Full Monty, L.A. Confidential.\n\n    ### MY MOVIE PREFERENCES: Action, suspense, and thrillers with a touch of sci-fi/disaster elements seem to be your favorites..\n\n    ### MY FIVE MOST FEATURED MOVIES: Here’s your top 5 based on your preferences:\n\n1.  Raiders of the Lost Ark (Action/Adventure)\n2.  Apollo 13 (Suspense/Disaster)\n3.  Return of the Jedi (Sci-Fi/Thriller)\n4.  Fargo (Crime Thriller)\n5.  People vs. Larry Flynt (Drama/Thriller).\n\n    ### INSTRUCTIONS:\n    Recommend exactly **1 movie** from the \"Candidate Movie Set\" that are most similar to my \"Five Most Featured Movies\".\n    The output must be **STRICTLY formatted** as follows:\n\n    1. Movie Title\n\n    Do not include any extra text before or after the list\n\n    ### QUESTION:\n    What are your top 1 movie recommendations?\n\n    ### ANSWER:\n",
         " 1.Scream "
        ],
        [
         "37",
         "\n\n    ### CANDIDATE MOVIE SET: Forrest Gump, Terminator, Usual Suspects, Cape Fear, Seven (Se7en), Indiana Jones and the Last Crusade, Dead Poets Society, Empire Strikes Back, Birdcage, Alien, Shawshank Redemption, Back to the Future, Chasing Amy, Braveheart, This Is Spinal Tap, Aliens, Star Trek: The Wrath of Khan, Fugitive, Fargo.\n\n    ### MY RECENTLY WATCHED MOVIES (FROM OLDEST TO NEWEST): Star Trek: First Contact, Star Wars, Raiders of the Lost Ark, Wrong Trousers, Princess Bride, Glory, Apollo 13, Return of the Jedi.\n\n    ### MY MOVIE PREFERENCES: You enjoy a mix of action, suspense, and character-driven stories with elements of adventure and historical drama..\n\n    ### MY FIVE MOST FEATURED MOVIES: Here’s your top 5 based on your preferences:\n\n1.  Raiders of the Lost Ark (Action, Adventure)\n2.  Godfather (Character-driven, Drama)\n3.  Fargo (Suspense, Crime, Drama)\n4.  Apollo 13 (Suspense, Action)\n5.  Return of the Jedi (Adventure, Sci-Fi).\n\n    ### INSTRUCTIONS:\n    Recommend exactly **1 movie** from the \"Candidate Movie Set\" that are most similar to my \"Five Most Featured Movies\".\n    The output must be **STRICTLY formatted** as follows:\n\n    1. Movie Title\n\n    Do not include any extra text before or after the list\n\n    ### QUESTION:\n    What are your top 1 movie recommendations?\n\n    ### ANSWER:\n",
         " 1.Fugitive "
        ],
        [
         "38",
         "\n\n    ### CANDIDATE MOVIE SET: Kiss the Girls, Good Will Hunting, Amistad, Volcano, Wag the Dog, Kull the Conqueror, Hoodlum, Ulee's Gold, Cop Land, Money Talks, Edge, Full Monty, Murder at 1600, G.I. Jane, Peacemaker, Rosewood, Starship Troopers, Contact, Liar Liar.\n\n    ### MY RECENTLY WATCHED MOVIES (FROM OLDEST TO NEWEST): Kolya, L.A. Confidential, Titanic, Washington Square, Eve's Bayou, Ice Storm, Wings of the Dove, Air Force One.\n\n    ### MY MOVIE PREFERENCES: You seem drawn to character-driven dramas and thrillers with strong performances, alongside some action and sci-fi elements – a mix of serious stories and entertaining spectacle..\n\n    ### MY FIVE MOST FEATURED MOVIES: Here’s your top 5 based on your preferences:\n\n1.  Godfather\n2.  Shawshank Redemption\n3.  Fargo\n4.  People vs. Larry Flynt\n5.  Raiders of the Lost Ark.\n\n    ### INSTRUCTIONS:\n    Recommend exactly **1 movie** from the \"Candidate Movie Set\" that are most similar to my \"Five Most Featured Movies\".\n    The output must be **STRICTLY formatted** as follows:\n\n    1. Movie Title\n\n    Do not include any extra text before or after the list\n\n    ### QUESTION:\n    What are your top 1 movie recommendations?\n\n    ### ANSWER:\n",
         " 1.Volcano "
        ],
        [
         "39",
         "\n\n    ### CANDIDATE MOVIE SET: Long Kiss Goodnight, Star Trek: First Contact, Return of the Jedi, River Wild, Aliens, Broken Arrow, E.T. the Extra-Terrestrial, Raiders of the Lost Ark, Usual Suspects, Chasing Amy, Leaving Las Vegas, Primal Fear, Scream, Silence of the Lambs, Eraser, Face/Off, Fargo, Liar Liar, Twelve Monkeys.\n\n    ### MY RECENTLY WATCHED MOVIES (FROM OLDEST TO NEWEST): Jerry Maguire, Time to Kill, Contact, Star Wars, English Patient, Dead Man Walking, Boot, Das, Godfather.\n\n    ### MY MOVIE PREFERENCES: You enjoy a mix of action, sci-fi thrillers, suspenseful mysteries, and character-driven dramas with strong performances..\n\n    ### MY FIVE MOST FEATURED MOVIES: Here’s your top 5 based on your preferences:\n\n1.  Raiders of the Lost Ark (Action/Adventure)\n2.  Godfather (Character Drama)\n3.  Fargo (Suspenseful Mystery)\n4.  Apollo 13 (Sci-Fi Thriller)\n5.  Return of the Jedi (Sci-Fi/Drama).\n\n    ### INSTRUCTIONS:\n    Recommend exactly **1 movie** from the \"Candidate Movie Set\" that are most similar to my \"Five Most Featured Movies\".\n    The output must be **STRICTLY formatted** as follows:\n\n    1. Movie Title\n\n    Do not include any extra text before or after the list\n\n    ### QUESTION:\n    What are your top 1 movie recommendations?\n\n    ### ANSWER:\n",
         " 1.Broken Arrow "
        ],
        [
         "40",
         "\n\n    ### CANDIDATE MOVIE SET: Eraser, Game, Primal Fear, Executive Decision, Phenomenon, Independence Day (ID4), Ulee's Gold, Cape Fear, Fargo, River Wild, Chasing Amy, Lone Star, Twister, Leaving Las Vegas, Money Talks, Trainspotting, Mission: Impossible, L.A. Confidential, Conspiracy Theory.\n\n    ### MY RECENTLY WATCHED MOVIES (FROM OLDEST TO NEWEST): Beautician and the Beast, G.I. Jane, Spawn, Volcano, Liar Liar, Saint, Scream, Contact.\n\n    ### MY MOVIE PREFERENCES: You seem drawn to character-driven dramas and thrillers with strong suspense elements, alongside some action and ensemble casts – particularly those exploring intense human experiences and/or high-stakes situations..\n\n    ### MY FIVE MOST FEATURED MOVIES: Here’s a list of five films from your watch list that align with your preferences:\n\n1.  Godfather\n2.  Fargo\n3.  Shawshank Redemption\n4.  People vs. Larry Flynt \n5.  Raiders of the Lost Ark.\n\n    ### INSTRUCTIONS:\n    Recommend exactly **1 movie** from the \"Candidate Movie Set\" that are most similar to my \"Five Most Featured Movies\".\n    The output must be **STRICTLY formatted** as follows:\n\n    1. Movie Title\n\n    Do not include any extra text before or after the list\n\n    ### QUESTION:\n    What are your top 1 movie recommendations?\n\n    ### ANSWER:\n",
         " 1.Phenomenon "
        ],
        [
         "41",
         "\n\n    ### CANDIDATE MOVIE SET: Starship Troopers, Air Force One, Courage Under Fire, Big Night, Sleepers, Cape Fear, That Thing You Do!, City of Lost Children, Devil's Advocate, Toy Story, Game, Postino, Il, Full Monty, Lone Star, Leaving Las Vegas, Long Kiss Goodnight, In & Out, L.A. Confidential, Independence Day (ID4).\n\n    ### MY RECENTLY WATCHED MOVIES (FROM OLDEST TO NEWEST): Contact, Deconstructing Harry, Boogie Nights, Chasing Amy, Everyone Says I Love You, English Patient, Tomorrow Never Dies, Scream.\n\n    ### MY MOVIE PREFERENCES: Action, suspense, and character-driven stories with a blend of drama and entertainment seem to be your preference..\n\n    ### MY FIVE MOST FEATURED MOVIES: Here’s a list of 5 films from your watch list that best align with your preferences:\n\n1.  Raiders of the Lost Ark (Action, Adventure)\n2.  Godfather (Character-driven Drama)\n3.  Fargo (Suspense, Crime Drama)\n4.  Apollo 13 (Suspense, Character-Driven)\n5.  Return of the Jedi (Action, Sci-Fi).\n\n    ### INSTRUCTIONS:\n    Recommend exactly **1 movie** from the \"Candidate Movie Set\" that are most similar to my \"Five Most Featured Movies\".\n    The output must be **STRICTLY formatted** as follows:\n\n    1. Movie Title\n\n    Do not include any extra text before or after the list\n\n    ### QUESTION:\n    What are your top 1 movie recommendations?\n\n    ### ANSWER:\n",
         " 1.City of Lost Children "
        ],
        [
         "42",
         "\n\n    ### CANDIDATE MOVIE SET: Scream 2, Apostle, In & Out, Starship Troopers, Money Talks, Amistad, Devil's Advocate, Kundun, Murder at 1600, Evita, Air Force One, Conspiracy Theory, Tomorrow Never Dies, Everyone Says I Love You, Kiss the Girls, Wag the Dog, Game, Liar Liar, Saint.\n\n    ### MY RECENTLY WATCHED MOVIES (FROM OLDEST TO NEWEST): Oscar & Lucinda, Chasing Amy, In the Company of Men, Scream, Wedding Singer, Ice Storm, Mrs. Brown (Her Majesty, Mrs. Brown), L.A. Confidential.\n\n    ### MY MOVIE PREFERENCES: You enjoy a mix of thrillers, dramas with social commentary, and action/sci-fi films – leaning towards suspenseful and thought-provoking stories..\n\n    ### MY FIVE MOST FEATURED MOVIES: Here’s your top 5 based on your preferences:\n\n1.  Godfather\n2.  Fargo\n3.  People vs. Larry Flynt\n4.  Apollo 13\n5.  Raiders of the Lost Ark.\n\n    ### INSTRUCTIONS:\n    Recommend exactly **1 movie** from the \"Candidate Movie Set\" that are most similar to my \"Five Most Featured Movies\".\n    The output must be **STRICTLY formatted** as follows:\n\n    1. Movie Title\n\n    Do not include any extra text before or after the list\n\n    ### QUESTION:\n    What are your top 1 movie recommendations?\n\n    ### ANSWER:\n",
         " 1.Apostle "
        ],
        [
         "43",
         "\n\n    ### CANDIDATE MOVIE SET: Ice Storm, In & Out, Starship Troopers, Cop Land, Ulee's Gold, Desperate Measures, Wag the Dog, L.A. Confidential, Murder at 1600, Edge, Gattaca, English Patient, Kull the Conqueror, Conspiracy Theory, Money Talks, Evita, Devil's Advocate, Eve's Bayou, Chasing Amy.\n\n    ### MY RECENTLY WATCHED MOVIES (FROM OLDEST TO NEWEST): Rainmaker, Kiss the Girls, Contact, Good Will Hunting, Air Force One, Titanic, Scream, Game.\n\n    ### MY MOVIE PREFERENCES: You seem drawn to character-driven dramas and thrillers with strong narratives, exploring themes of morality, deception, and complex relationships – alongside some action and sci-fi elements..\n\n    ### MY FIVE MOST FEATURED MOVIES: Here’s a list of 5 films from your watch list aligning with your preferences:\n\n1.  Godfather\n2.  People vs. Larry Flynt\n3.  Fargo\n4.  Shawshank Redemption\n5.  Bottle Rocket.\n\n    ### INSTRUCTIONS:\n    Recommend exactly **1 movie** from the \"Candidate Movie Set\" that are most similar to my \"Five Most Featured Movies\".\n    The output must be **STRICTLY formatted** as follows:\n\n    1. Movie Title\n\n    Do not include any extra text before or after the list\n\n    ### QUESTION:\n    What are your top 1 movie recommendations?\n\n    ### ANSWER:\n",
         " 1.L.A. Confidential "
        ],
        [
         "44",
         "\n\n    ### CANDIDATE MOVIE SET: Contact, Cape Fear, Shawshank Redemption, Die Hard, Speed, Liar Liar, Toy Story, Terminator 2: Judgment Day, Terminator, Silence of the Lambs, Empire Strikes Back, Broken Arrow, Back to the Future, Seven (Se7en), Usual Suspects, Chasing Amy, Face/Off, Jaws, Scream.\n\n    ### MY RECENTLY WATCHED MOVIES (FROM OLDEST TO NEWEST): Speed 2: Cruise Control, Independence Day (ID4), Men in Black, Twelve Monkeys, Rock, Heat, Star Wars, Con Air.\n\n    ### MY MOVIE PREFERENCES: You enjoy a mix of action, suspense, and critically acclaimed thrillers – with a leaning towards iconic sci-fi and memorable stories..\n\n    ### MY FIVE MOST FEATURED MOVIES: Here’s your top 5 based on your preferences:\n\n1.  Raiders of the Lost Ark (Action, Iconic Sci-Fi)\n2.  Return of the Jedi (Sci-Fi, Memorable Story)\n3.  Apollo 13 (Suspense, Thriller)\n4.  Fargo (Critically Acclaimed Thriller)\n5.  Godfather (Critically Acclaimed Thriller).\n\n    ### INSTRUCTIONS:\n    Recommend exactly **1 movie** from the \"Candidate Movie Set\" that are most similar to my \"Five Most Featured Movies\".\n    The output must be **STRICTLY formatted** as follows:\n\n    1. Movie Title\n\n    Do not include any extra text before or after the list\n\n    ### QUESTION:\n    What are your top 1 movie recommendations?\n\n    ### ANSWER:\n",
         " 1.Die Hard "
        ],
        [
         "45",
         "\n\n    ### CANDIDATE MOVIE SET: Raiders of the Lost Ark, Cape Fear, When Harry Met Sally..., Dr. Strangelove or: How I Learned to Stop Worrying and Love the Bomb, Amadeus, Psycho, Bonnie and Clyde, Fugitive, Pulp Fiction, Duck Soup, Silence of the Lambs, 2001: A Space Odyssey, Sabrina, Raising Arizona, Terminator, Monty Python and the Holy Grail, High Noon, Graduate, Maltese Falcon.\n\n    ### MY RECENTLY WATCHED MOVIES (FROM OLDEST TO NEWEST): Mother, FairyTale: A True Story, Anastasia, Peacemaker, In & Out, Contact, Air Force One, Edge.\n\n    ### MY MOVIE PREFERENCES: You appreciate a mix of classic adventure, dark thrillers, comedies with substance, and thought-provoking sci-fi/historical dramas..\n\n    ### MY FIVE MOST FEATURED MOVIES: Here’s your top 5 based on your preferences:\n\n1.  Godfather\n2.  Fargo\n3.  Raiders of the Lost Ark\n4.  Return of the Jedi\n5.  Shawshank Redemption.\n\n    ### INSTRUCTIONS:\n    Recommend exactly **1 movie** from the \"Candidate Movie Set\" that are most similar to my \"Five Most Featured Movies\".\n    The output must be **STRICTLY formatted** as follows:\n\n    1. Movie Title\n\n    Do not include any extra text before or after the list\n\n    ### QUESTION:\n    What are your top 1 movie recommendations?\n\n    ### ANSWER:\n",
         " 1.Raiders of the Lost Ark "
        ],
        [
         "46",
         "\n\n    ### CANDIDATE MOVIE SET: Twelve Monkeys, Rock, Mission: Impossible, Primal Fear, Heat, Evita, Lone Star, Truth About Cats & Dogs, Cape Fear, Executive Decision, First Wives Club, Ransom, Toy Story, Star Trek: First Contact, River Wild, Liar Liar, 2 Days in the Valley, Phenomenon, Time to Kill.\n\n    ### MY RECENTLY WATCHED MOVIES (FROM OLDEST TO NEWEST): Angels and Insects, Spitfire Grill, Cry, the Beloved Country, Richard III, Courage Under Fire, Secrets & Lies, Dead Man Walking, Crash.\n\n    ### MY MOVIE PREFERENCES: You seem to enjoy a mix of suspenseful thrillers (Heat, Cape Fear, Mission: Impossible), character-driven dramas (Evita, Lone Star, First Wives Club), and thought-provoking sci-fi/action (Twelve Monkeys, Star Trek: First Contact)..\n\n    ### MY FIVE MOST FEATURED MOVIES: Here’s a list of 5 films from your watch list aligning with your preferences:\n\n1.  Godfather (Character-driven drama)\n2.  Fargo (Suspenseful thriller)\n3.  Raiders of the Lost Ark (Sci-fi/action)\n4.  Apollo 13 (Suspenseful thriller)\n5.  Return of the Jedi (Sci-fi/action).\n\n    ### INSTRUCTIONS:\n    Recommend exactly **1 movie** from the \"Candidate Movie Set\" that are most similar to my \"Five Most Featured Movies\".\n    The output must be **STRICTLY formatted** as follows:\n\n    1. Movie Title\n\n    Do not include any extra text before or after the list\n\n    ### QUESTION:\n    What are your top 1 movie recommendations?\n\n    ### ANSWER:\n",
         " 1.Phenomenon "
        ],
        [
         "47",
         "\n\n    ### CANDIDATE MOVIE SET: Star Wars, Graduate, Ice Storm, Cape Fear, Vertigo, Twelve Monkeys, Evita, Usual Suspects, Return of the Jedi, Pulp Fiction, Clockwork Orange, Lone Star, Ulee's Gold, Apollo 13, Secrets & Lies, Amadeus, Silence of the Lambs, Citizen Kane, When Harry Met Sally....\n\n    ### MY RECENTLY WATCHED MOVIES (FROM OLDEST TO NEWEST): Cinema Paradiso, Room with a View, Henry V, Boot, Das, Cold Comfort Farm, Kingpin, Mighty Aphrodite, Fargo.\n\n    ### MY MOVIE PREFERENCES: You appreciate a mix of classic and contemporary films with strong narratives, character studies, suspense, and diverse genres – from sci-fi epics to dramas and crime thrillers..\n\n    ### MY FIVE MOST FEATURED MOVIES: Here’s a list of 5 films from your watch list that best align with your preferences:\n\n1.  Godfather\n2.  Fargo\n3.  Raiders of the Lost Ark\n4.  Shawshank Redemption\n5.  People vs. Larry Flynt.\n\n    ### INSTRUCTIONS:\n    Recommend exactly **1 movie** from the \"Candidate Movie Set\" that are most similar to my \"Five Most Featured Movies\".\n    The output must be **STRICTLY formatted** as follows:\n\n    1. Movie Title\n\n    Do not include any extra text before or after the list\n\n    ### QUESTION:\n    What are your top 1 movie recommendations?\n\n    ### ANSWER:\n",
         " 1.Lone Star "
        ],
        [
         "48",
         "\n\n    ### CANDIDATE MOVIE SET: Raiders of the Lost Ark, Sound of Music, Fugitive, Wizard of Oz, Pulp Fiction, Raising Arizona, M*A*S*H, Psycho, Forrest Gump, Apollo 13, Terminator, Usual Suspects, Shining, Cape Fear, Get Shorty, Rear Window, One Flew Over the Cuckoo's Nest, E.T. the Extra-Terrestrial, Indiana Jones and the Last Crusade.\n\n    ### MY RECENTLY WATCHED MOVIES (FROM OLDEST TO NEWEST): Big Night, Citizen Ruth, Antonia's Line, Sense and Sensibility, Mother, Seven Years in Tibet, Full Monty, English Patient.\n\n    ### MY MOVIE PREFERENCES: You enjoy a mix of adventure, suspense, classics, and critically acclaimed films with diverse genres – action, drama, and thriller..\n\n    ### MY FIVE MOST FEATURED MOVIES: Here’s your top 5 based on your preferences:\n\n1.  Raiders of the Lost Ark (Adventure & Action)\n2.  Godfather (Classic & Drama)\n3.  Fargo (Thriller & Crime)\n4.  Return of the Jedi (Action & Sci-Fi)\n5.  Apollo 13 (Suspense & Drama).\n\n    ### INSTRUCTIONS:\n    Recommend exactly **1 movie** from the \"Candidate Movie Set\" that are most similar to my \"Five Most Featured Movies\".\n    The output must be **STRICTLY formatted** as follows:\n\n    1. Movie Title\n\n    Do not include any extra text before or after the list\n\n    ### QUESTION:\n    What are your top 1 movie recommendations?\n\n    ### ANSWER:\n",
         " 1.Raiders of the Lost Ark "
        ],
        [
         "49",
         "\n\n    ### CANDIDATE MOVIE SET: Chasing Amy, Independence Day (ID4), Natural Born Killers, Nosferatu (Nosferatu, eine Symphonie des Grauens), Raiders of the Lost Ark, Serial Mom, Evil Dead II, Nightmare on Elm Street, Interview with the Vampire, Brazil, Star Wars, One Flew Over the Cuckoo's Nest, Twister, American Werewolf in London, Aliens, Alien 3, Blade Runner, Clockwork Orange, Bram Stoker's Dracula.\n\n    ### MY RECENTLY WATCHED MOVIES (FROM OLDEST TO NEWEST): Silence of the Lambs, Twelve Monkeys, Fargo, Pulp Fiction, Jaws, Alien, Godfather, Hoop Dreams.\n\n    ### MY MOVIE PREFERENCES: You seem to enjoy a mix of classic horror, action-adventure, sci-fi, and thought-provoking dramas – leaning towards darker themes and visually striking films..\n\n    ### MY FIVE MOST FEATURED MOVIES: Here’s a list of 5 movies from your watch list aligning with your preferences:\n\n1.  Godfather\n2.  Fargo\n3.  Raiders of the Lost Ark\n4.  Return of the Jedi\n5.  Shawshank Redemption.\n\n    ### INSTRUCTIONS:\n    Recommend exactly **1 movie** from the \"Candidate Movie Set\" that are most similar to my \"Five Most Featured Movies\".\n    The output must be **STRICTLY formatted** as follows:\n\n    1. Movie Title\n\n    Do not include any extra text before or after the list\n\n    ### QUESTION:\n    What are your top 1 movie recommendations?\n\n    ### ANSWER:\n",
         " 1.Evil Dead II "
        ]
       ],
       "shape": {
        "columns": 2,
        "rows": 121
       }
      },
      "text/html": [
       "<div>\n",
       "<style scoped>\n",
       "    .dataframe tbody tr th:only-of-type {\n",
       "        vertical-align: middle;\n",
       "    }\n",
       "\n",
       "    .dataframe tbody tr th {\n",
       "        vertical-align: top;\n",
       "    }\n",
       "\n",
       "    .dataframe thead th {\n",
       "        text-align: right;\n",
       "    }\n",
       "</style>\n",
       "<table border=\"1\" class=\"dataframe\">\n",
       "  <thead>\n",
       "    <tr style=\"text-align: right;\">\n",
       "      <th></th>\n",
       "      <th>input</th>\n",
       "      <th>output</th>\n",
       "    </tr>\n",
       "  </thead>\n",
       "  <tbody>\n",
       "    <tr>\n",
       "      <th>0</th>\n",
       "      <td>\\n\\n    ### CANDIDATE MOVIE SET: Saint, Peacem...</td>\n",
       "      <td>1.Saint</td>\n",
       "    </tr>\n",
       "    <tr>\n",
       "      <th>1</th>\n",
       "      <td>\\n\\n    ### CANDIDATE MOVIE SET: G.I. Jane, Ul...</td>\n",
       "      <td>1.Saint</td>\n",
       "    </tr>\n",
       "    <tr>\n",
       "      <th>2</th>\n",
       "      <td>\\n\\n    ### CANDIDATE MOVIE SET: Ice Storm, Tw...</td>\n",
       "      <td>1.Dead Man Walking</td>\n",
       "    </tr>\n",
       "    <tr>\n",
       "      <th>3</th>\n",
       "      <td>\\n\\n    ### CANDIDATE MOVIE SET: Contact, Cape...</td>\n",
       "      <td>1.Contact</td>\n",
       "    </tr>\n",
       "    <tr>\n",
       "      <th>4</th>\n",
       "      <td>\\n\\n    ### CANDIDATE MOVIE SET: Terminator, S...</td>\n",
       "      <td>1.Mission: Impossible</td>\n",
       "    </tr>\n",
       "    <tr>\n",
       "      <th>...</th>\n",
       "      <td>...</td>\n",
       "      <td>...</td>\n",
       "    </tr>\n",
       "    <tr>\n",
       "      <th>116</th>\n",
       "      <td>\\n\\n    ### CANDIDATE MOVIE SET: Alien: Resurr...</td>\n",
       "      <td>1.Air Bud</td>\n",
       "    </tr>\n",
       "    <tr>\n",
       "      <th>117</th>\n",
       "      <td>\\n\\n    ### CANDIDATE MOVIE SET: Field of Drea...</td>\n",
       "      <td>1.Raiders of the Lost Ark</td>\n",
       "    </tr>\n",
       "    <tr>\n",
       "      <th>118</th>\n",
       "      <td>\\n\\n    ### CANDIDATE MOVIE SET: Chasing Amy, ...</td>\n",
       "      <td>1.Natural Born Killers</td>\n",
       "    </tr>\n",
       "    <tr>\n",
       "      <th>119</th>\n",
       "      <td>\\n\\n    ### CANDIDATE MOVIE SET: When Harry Me...</td>\n",
       "      <td>1.Return of the Jedi</td>\n",
       "    </tr>\n",
       "    <tr>\n",
       "      <th>120</th>\n",
       "      <td>\\n\\n    ### CANDIDATE MOVIE SET: Return of the...</td>\n",
       "      <td>1.Graduate</td>\n",
       "    </tr>\n",
       "  </tbody>\n",
       "</table>\n",
       "<p>121 rows × 2 columns</p>\n",
       "</div>"
      ],
      "text/plain": [
       "                                                 input  \\\n",
       "0    \\n\\n    ### CANDIDATE MOVIE SET: Saint, Peacem...   \n",
       "1    \\n\\n    ### CANDIDATE MOVIE SET: G.I. Jane, Ul...   \n",
       "2    \\n\\n    ### CANDIDATE MOVIE SET: Ice Storm, Tw...   \n",
       "3    \\n\\n    ### CANDIDATE MOVIE SET: Contact, Cape...   \n",
       "4    \\n\\n    ### CANDIDATE MOVIE SET: Terminator, S...   \n",
       "..                                                 ...   \n",
       "116  \\n\\n    ### CANDIDATE MOVIE SET: Alien: Resurr...   \n",
       "117  \\n\\n    ### CANDIDATE MOVIE SET: Field of Drea...   \n",
       "118  \\n\\n    ### CANDIDATE MOVIE SET: Chasing Amy, ...   \n",
       "119  \\n\\n    ### CANDIDATE MOVIE SET: When Harry Me...   \n",
       "120  \\n\\n    ### CANDIDATE MOVIE SET: Return of the...   \n",
       "\n",
       "                          output  \n",
       "0                       1.Saint   \n",
       "1                       1.Saint   \n",
       "2            1.Dead Man Walking   \n",
       "3                     1.Contact   \n",
       "4         1.Mission: Impossible   \n",
       "..                           ...  \n",
       "116                   1.Air Bud   \n",
       "117   1.Raiders of the Lost Ark   \n",
       "118      1.Natural Born Killers   \n",
       "119        1.Return of the Jedi   \n",
       "120                  1.Graduate   \n",
       "\n",
       "[121 rows x 2 columns]"
      ]
     },
     "execution_count": 4,
     "metadata": {},
     "output_type": "execute_result"
    }
   ],
   "source": [
    "df_train = pd.DataFrame(train_dataset)\n",
    "df_train\n",
    "\n"
   ]
  },
  {
   "cell_type": "markdown",
   "metadata": {},
   "source": [
    "## Salva arquivo de treino"
   ]
  },
  {
   "cell_type": "code",
   "execution_count": 5,
   "metadata": {},
   "outputs": [],
   "source": [
    "df_train.to_pickle('Data/ML100K_train.pkl')"
   ]
  },
  {
   "cell_type": "markdown",
   "metadata": {},
   "source": [
    "## Salva arquivo de teste"
   ]
  },
  {
   "cell_type": "code",
   "execution_count": 6,
   "metadata": {},
   "outputs": [
    {
     "data": {
      "application/vnd.microsoft.datawrangler.viewer.v0+json": {
       "columns": [
        {
         "name": "index",
         "rawType": "int64",
         "type": "integer"
        },
        {
         "name": "user_id",
         "rawType": "int64",
         "type": "integer"
        },
        {
         "name": "candidate_items",
         "rawType": "object",
         "type": "unknown"
        },
        {
         "name": "ground_truth",
         "rawType": "object",
         "type": "string"
        },
        {
         "name": "watched_movies",
         "rawType": "object",
         "type": "unknown"
        }
       ],
       "conversionMethod": "pd.DataFrame",
       "ref": "b7828182-fdee-46b8-963a-4b86269dd75d",
       "rows": [
        [
         "0",
         "399",
         "['Murder at 1600', 'Desperate Measures', 'Amistad', 'Chasing Amy', 'L.A. Confidential', 'Kull the Conqueror', \"Ulee's Gold\", 'G.I. Jane', 'Peacemaker', 'Mimic', 'Evita', \"Dante's Peak\", 'Game', 'Money Talks', 'Good Will Hunting', 'Edge', 'Ice Storm', 'Rainmaker', 'Volcano']",
         "Dante's Peak",
         "['Scream', 'Titanic', 'Contact', 'Jackal', 'Full Monty', 'Mrs. Brown (Her Majesty, Mrs. Brown)', 'English Patient', 'Air Force One']"
        ],
        [
         "1",
         "237",
         "['Mars Attacks!', 'Eraser', 'Rock', 'Leaving Las Vegas', 'Primal Fear', 'Ransom', \"Mr. Holland's Opus\", 'Birdcage', 'Time to Kill', 'Chasing Amy', 'Grosse Pointe Blank', 'Godfather', 'First Wives Club', 'Twelve Monkeys', 'Fargo', \"Dante's Peak\", 'Star Wars', 'Conspiracy Theory', 'Toy Story']",
         "First Wives Club",
         "['Men in Black', 'Phenomenon', 'In & Out', 'Air Force One', 'Liar Liar', 'Anastasia', 'Contact', 'English Patient']"
        ],
        [
         "2",
         "569",
         "['Volcano', 'Rosewood', 'Full Monty', 'Edge', 'Murder at 1600', \"Devil's Advocate\", 'Liar Liar', 'Game', 'Money Talks', \"Dante's Peak\", 'Mimic', 'Event Horizon', \"Eve's Bayou\", 'Air Force One', 'Peacemaker', 'Everyone Says I Love You', 'Kull the Conqueror', 'Conspiracy Theory', 'Kiss the Girls']",
         "Peacemaker",
         "['Seven Years in Tibet', 'Scream', 'Starship Troopers', 'Ice Storm', \"Ulee's Gold\", 'Contact', 'Boogie Nights', 'L.A. Confidential']"
        ],
        [
         "3",
         "251",
         "['Ice Storm', 'Cold Comfort Farm', 'Scream', 'Mission: Impossible', 'Mighty Aphrodite', \"Ulee's Gold\", 'Big Night', 'Contact', 'L.A. Confidential', 'Secrets & Lies', 'Lone Star', \"Marvin's Room\", 'Independence Day (ID4)', 'Primal Fear', 'Rock', 'Jerry Maguire', 'Breaking the Waves', 'People vs. Larry Flynt', 'Emma']",
         "Lone Star",
         "['Ridicule', 'Jane Eyre', 'Sense and Sensibility', 'Twelve Monkeys', 'Ransom', 'Chasing Amy', 'English Patient', 'Air Force One']"
        ],
        [
         "4",
         "389",
         "[\"Ulee's Gold\", 'Leaving Las Vegas', 'Chasing Amy', 'Twelve Monkeys', 'Scream', 'Star Wars', 'Cop Land', 'Jerry Maguire', 'Rock', 'Courage Under Fire', 'Cape Fear', 'Full Monty', 'Game', 'Mighty Aphrodite', 'Birdcage', 'Ice Storm', 'Big Night', 'Truth About Cats & Dogs', 'Secrets & Lies']",
         "Mighty Aphrodite",
         "['Desperate Measures', 'Anna Karenina', 'Red Corner', 'Everyone Says I Love You', 'Fly Away Home', 'Contact', 'English Patient', 'L.A. Confidential']"
        ],
        [
         "5",
         "613",
         "[\"Mr. Holland's Opus\", 'Chasing Amy', 'L.A. Confidential', 'Contact', 'Courage Under Fire', 'Game', 'Twister', 'Eraser', 'Ransom', 'Star Wars', 'Star Trek: First Contact', 'Conspiracy Theory', 'Nutty Professor', 'Primal Fear', \"Ulee's Gold\", 'Beautiful Girls', 'Heat', 'Full Monty', 'Phenomenon']",
         "Nutty Professor",
         "['People vs. Larry Flynt', 'Postino, Il', 'Toy Story', 'Dead Man Walking', 'When We Were Kings', 'Broken Arrow', 'Evita', 'Scream']"
        ],
        [
         "6",
         "425",
         "['Return of the Jedi', 'Get Shorty', 'Apollo 13', 'Terminator', 'American in Paris', 'Empire Strikes Back', 'My Fair Lady', 'Mary Poppins', 'Godfather: Part II', 'Streetcar Named Desire', 'Alien', 'Duck Soup', 'Aliens', 'Forrest Gump', 'Rebel Without a Cause', 'African Queen', 'Raising Arizona', 'Blues Brothers', 'Jaws']",
         "Duck Soup",
         "['Paths of Glory', 'Father of the Bride', 'Quiet Man', \"Singin' in the Rain\", 'East of Eden', 'Kiss the Girls', 'Evita', 'Red Corner']"
        ],
        [
         "7",
         "383",
         "['Seven Years in Tibet', 'Scream', 'G.I. Jane', 'Boogie Nights', 'Rainmaker', 'Amistad', 'In & Out', 'Evita', 'Kiss the Girls', 'Volcano', \"Ulee's Gold\", 'Chasing Amy', 'Murder at 1600', 'Edge', 'Apt Pupil', 'Full Monty', 'Money Talks', \"Dante's Peak\", \"Devil's Advocate\"]",
         "Evita",
         "['Alien: Resurrection', 'Contact', 'Titanic', 'English Patient', 'L.A. Confidential', 'Game', 'Wag the Dog', 'Good Will Hunting']"
        ],
        [
         "8",
         "650",
         "['In & Out', 'Air Force One', 'Scream', 'Big Night', \"She's So Lovely\", 'Courage Under Fire', 'In the Company of Men', 'Volcano', \"Ulee's Gold\", \"Dante's Peak\", 'Conspiracy Theory', 'Ice Storm', 'Evita', 'Jerry Maguire', 'Contact', 'Everyone Says I Love You', \"Devil's Advocate\", 'Game', 'Money Talks']",
         "In & Out",
         "['Cold Comfort Farm', 'Secrets & Lies', 'Godfather', 'Rosewood', 'Kiss the Girls', 'L.A. Confidential', 'Liar Liar', 'English Patient']"
        ],
        [
         "9",
         "890",
         "['Toy Story', 'Liar Liar', 'Courage Under Fire', 'Star Trek: First Contact', 'Executive Decision', 'Twelve Monkeys', 'Fly Away Home', 'Dead Man Walking', 'Tin Cup', 'That Thing You Do!', 'Scream', 'Heat', 'Contact', 'Murder at 1600', 'Multiplicity', 'Cape Fear', 'City Hall', 'Phenomenon', 'Nutty Professor']",
         "Courage Under Fire",
         "[\"Heaven's Prisoners\", 'Broken Arrow', 'Rock', 'Godfather', 'Shine', 'Funeral', 'Father of the Bride Part II', 'Sabrina']"
        ],
        [
         "10",
         "334",
         "['Tomorrow Never Dies', 'Gattaca', 'Liar Liar', 'In & Out', 'English Patient', 'Amistad', 'Jackie Brown', 'Edge', 'L.A. Confidential', 'Good Will Hunting', 'Volcano', 'Money Talks', 'Apt Pupil', 'Peacemaker', 'Evita', 'Kiss the Girls', 'Chasing Amy', \"Ulee's Gold\", 'Alien: Resurrection']",
         "Volcano",
         "['Scream', 'Conspiracy Theory', 'Ice Storm', 'Boogie Nights', 'Big Lebowski', 'Titanic', 'Contact', 'Full Monty']"
        ],
        [
         "11",
         "102",
         "['Get Shorty', 'Cape Fear', 'Face/Off', 'Twelve Monkeys', 'Shawshank Redemption', 'Speed', 'Raiders of the Lost Ark', 'Alien', 'Back to the Future', 'Fargo', 'Empire Strikes Back', 'Fugitive', 'Quiz Show', 'Chasing Amy', 'Contact', 'Dead Poets Society', 'Aliens', 'Seven (Se7en)', 'Phenomenon']",
         "Back to the Future",
         "['Rock', 'Gandhi', 'Fifth Element', 'Men in Black', 'Return of the Jedi', 'Star Trek: First Contact', 'Rumble in the Bronx', 'Independence Day (ID4)']"
        ],
        [
         "12",
         "485",
         "[\"Dante's Peak\", 'Titanic', 'Twister', 'Cape Fear', 'G.I. Jane', \"She's So Lovely\", \"Schindler's List\", 'Money Talks', 'Good Will Hunting', 'One Fine Day', 'Rumble in the Bronx', 'Fargo', 'Amistad', 'Midnight in the Garden of Good and Evil', 'Wag the Dog', 'Usual Suspects', 'Four Weddings and a Funeral', 'Boogie Nights', 'Cold Comfort Farm']",
         "Fargo",
         "['Washington Square', 'In the Company of Men', 'L.A. Confidential', 'Conspiracy Theory', 'Tango Lesson', 'Game', 'English Patient', 'Seven Years in Tibet']"
        ],
        [
         "13",
         "271",
         "['Stand by Me', 'Dead Poets Society', 'GoodFellas', 'Shawshank Redemption', 'Bonnie and Clyde', 'North by Northwest', 'Lawrence of Arabia', 'Psycho', 'Sabrina', 'Clockwork Orange', 'Wizard of Oz', 'Graduate', 'Body Snatchers', 'Usual Suspects', 'Cape Fear', 'Amadeus', 'To Kill a Mockingbird', 'Blade Runner', \"Schindler's List\"]",
         "Usual Suspects",
         "['Alien', 'Patton', \"One Flew Over the Cuckoo's Nest\", 'African Queen', 'Taxi Driver', 'Godfather', 'Scream', 'Stag']"
        ],
        [
         "14",
         "398",
         "['Executive Decision', 'Birdcage', 'Hudsucker Proxy', 'GoldenEye', 'Contact', 'Sleepless in Seattle', 'Amadeus', 'Get Shorty', 'Shining', 'Twelve Monkeys', 'When Harry Met Sally...', 'Alien', 'Psycho', 'True Romance', 'Clueless', 'Robin Hood: Prince of Thieves', \"One Flew Over the Cuckoo's Nest\", 'Groundhog Day', 'American President']",
         "GoldenEye",
         "['Evita', 'Chasing Amy', \"Devil's Advocate\", 'Kiss the Girls', 'Red Corner', 'In & Out', 'Scream', 'L.A. Confidential']"
        ],
        [
         "15",
         "930",
         "['Toy Story', 'Everyone Says I Love You', 'Scream', 'Leaving Las Vegas', \"Devil's Advocate\", 'Conspiracy Theory', 'Ice Storm', 'Heat', 'Chasing Amy', 'Secrets & Lies', 'Mission: Impossible', 'Trainspotting', 'Sleepers', 'Mighty Aphrodite', 'Rock', 'Apt Pupil', 'Lone Star', 'Twelve Monkeys', 'Con Air']",
         "Apt Pupil",
         "['Wag the Dog', 'Kundun', 'Apostle', \"Ulee's Gold\", 'L.A. Confidential', 'Titanic', 'Full Monty', 'Rainmaker']"
        ],
        [
         "16",
         "819",
         "['Money Talks', 'Liar Liar', 'Good Will Hunting', 'Peacemaker', 'Full Monty', \"Devil's Advocate\", 'Kull the Conqueror', 'Murder at 1600', 'Edge', 'Volcano', 'Jackie Brown', \"Ulee's Gold\", 'Amistad', 'Air Force One', 'G.I. Jane', 'Alien: Resurrection', 'Kiss the Girls', 'Boogie Nights', 'Chasing Amy']",
         "Alien: Resurrection",
         "['Scream', 'L.A. Confidential', 'Anastasia', 'Game', 'Contact', 'Wag the Dog', 'English Patient', 'Apt Pupil']"
        ],
        [
         "17",
         "445",
         "['Mimic', 'In the Company of Men', 'Game', 'Edge', 'Fly Away Home', 'Love Jones', 'Desperate Measures', 'George of the Jungle', 'I Know What You Did Last Summer', 'Kull the Conqueror', 'Spawn', 'Volcano', 'Ice Storm', \"Dante's Peak\", 'Contact', 'Money Talks', 'Event Horizon', 'Everyone Says I Love You', \"Ulee's Gold\"]",
         "Ulee's Gold",
         "['Gattaca', 'In & Out', 'Rosewood', 'Scream', 'Telling Lies in America', 'Boogie Nights', 'Peacemaker', 'Mrs. Brown (Her Majesty, Mrs. Brown)']"
        ],
        [
         "18",
         "427",
         "['Jackie Brown', 'Gattaca', 'Jackal', 'Starship Troopers', 'I Know What You Did Last Summer', 'Volcano', 'Saint', 'Game', 'Conspiracy Theory', 'Mad City', 'Kull the Conqueror', 'Cop Land', 'Contact', 'Everyone Says I Love You', 'Scream 2', 'Rosewood', 'Mimic', \"Eve's Bayou\", 'Money Talks']",
         "Starship Troopers",
         "['Spice World', 'L.A. Confidential', 'Liar Liar', 'Life Less Ordinary', 'Mrs. Dalloway', 'Good Will Hunting', 'Amistad', 'Seven Years in Tibet']"
        ],
        [
         "19",
         "589",
         "['Sense and Sensibility', 'Mission: Impossible', 'Scream', '2 Days in the Valley', 'Bound', 'That Thing You Do!', \"Ulee's Gold\", 'Welcome to the Dollhouse', 'Ice Storm', 'Independence Day (ID4)', 'Twelve Monkeys', 'L.A. Confidential', 'Rock', 'Contact', 'Chasing Amy', 'Full Monty', 'Sleepers', 'Toy Story', 'Emma']",
         "Sense and Sensibility",
         "['Postino, Il', 'Fargo', 'Michael Collins', 'Lone Star', \"Antonia's Line\", 'Chungking Express', 'Secrets & Lies', 'Red Corner']"
        ],
        [
         "20",
         "315",
         "['African Queen', 'GoodFellas', 'Young Frankenstein', 'Field of Dreams', 'Clockwork Orange', 'Cool Hand Luke', 'Jerry Maguire', 'Pulp Fiction', 'Dead Poets Society', 'Sound of Music', 'Right Stuff', 'Usual Suspects', '2001: A Space Odyssey', 'Taxi Driver', 'Birdcage', 'M*A*S*H', 'Sabrina', 'Chinatown', 'Amadeus']",
         "Amadeus",
         "['Volcano', 'Evita', 'Fly Away Home', \"Dante's Peak\", 'Beautician and the Beast', 'Rosewood', 'Mrs. Brown (Her Majesty, Mrs. Brown)', 'English Patient']"
        ],
        [
         "21",
         "66",
         "['Star Trek: First Contact', 'Ransom', 'Chasing Amy', 'Twelve Monkeys', 'River Wild', 'Eraser', 'Cape Fear', 'Happy Gilmore', 'Tin Cup', 'Jerry Maguire', 'Time to Kill', 'Space Jam', 'Nutty Professor', 'Monty Python and the Holy Grail', 'Executive Decision', 'Scream', 'Money Talks', 'Liar Liar', 'Fargo']",
         "Twelve Monkeys",
         "['Live Nude Girls', 'Long Kiss Goodnight', 'Frighteners', 'Daylight', 'Heat', 'Broken Arrow', 'High School High', 'Shawshank Redemption']"
        ],
        [
         "22",
         "866",
         "['Sound of Music', 'Sabrina', 'Jaws', 'Clockwork Orange', 'Body Snatchers', 'Fugitive', 'Four Weddings and a Funeral', 'Cape Fear', 'Psycho', 'Field of Dreams', 'Get Shorty', \"One Flew Over the Cuckoo's Nest\", 'Dances with Wolves', 'Raising Arizona', 'Birdcage', 'Fargo', 'Bonnie and Clyde', 'To Kill a Mockingbird', 'Right Stuff']",
         "Fugitive",
         "['Evita', 'Conspiracy Theory', 'Liar Liar', 'Gattaca', 'Seven Years in Tibet', 'Air Force One', 'Contact', 'English Patient']"
        ],
        [
         "23",
         "179",
         "['Raising Arizona', 'American President', 'Seven (Se7en)', 'Raiders of the Lost Ark', 'GoodFellas', 'Chasing Amy', 'Indiana Jones and the Last Crusade', 'Star Wars', 'Silence of the Lambs', 'Shawshank Redemption', 'Cape Fear', 'Mrs. Doubtfire', 'Clockwork Orange', 'Terminator', 'Empire Strikes Back', 'Fly Away Home', 'Terminator 2: Judgment Day', 'Quiz Show', 'Braveheart']",
         "Silence of the Lambs",
         "['Blues Brothers', 'Stand by Me', 'Back to the Future', 'Pulp Fiction', 'Beautiful Girls', 'Fish Called Wanda', 'Return of the Jedi', 'Contact']"
        ],
        [
         "24",
         "231",
         "['Raising Arizona', 'Psycho', 'Chinatown', 'When Harry Met Sally...', 'Sabrina', 'Apollo 13', 'Birdcage', 'Jerry Maguire', 'Usual Suspects', 'Cape Fear', 'Seven (Se7en)', 'Rock', 'Four Weddings and a Funeral', 'Dances with Wolves', 'M*A*S*H', 'Right Stuff', 'Fugitive', 'Searching for Bobby Fischer', 'Aliens']",
         "Rock",
         "['Return of the Jedi', 'Star Wars', 'Toy Story', 'English Patient', 'Liar Liar', 'Seven Years in Tibet', 'Evita', 'Gattaca']"
        ],
        [
         "25",
         "809",
         "['Ice Storm', 'Good Will Hunting', 'L.A. Confidential', 'G.I. Jane', 'Saint', 'Mimic', 'I Know What You Did Last Summer', 'Seven Years in Tibet', 'Desperate Measures', 'George of the Jungle', 'Murder at 1600', 'Contact', 'Chasing Amy', \"Devil's Advocate\", 'Kull the Conqueror', 'MatchMaker', \"Ulee's Gold\", 'Kiss the Girls', 'Cop Land']",
         "G.I. Jane",
         "['Evita', 'Picture Perfect', 'Money Talks', 'Jungle2Jungle', \"Dante's Peak\", 'Mother', 'Scream', 'Liar Liar']"
        ],
        [
         "26",
         "712",
         "['Scream', 'Ice Storm', \"Ulee's Gold\", 'Kiss the Girls', 'Evita', 'Wag the Dog', 'G.I. Jane', 'Contact', \"Eve's Bayou\", 'Game', 'Saint', 'Jackie Brown', 'Conspiracy Theory', 'Chasing Amy', 'Edge', 'In & Out', 'Starship Troopers', 'Tomorrow Never Dies', 'Liar Liar']",
         "Wag the Dog",
         "['Apt Pupil', 'Washington Square', 'Air Force One', 'Good Will Hunting', 'Amistad', 'English Patient', 'Deconstructing Harry', 'Legal Deceit']"
        ],
        [
         "27",
         "208",
         "['Air Force One', 'Twelve Monkeys', 'L.A. Confidential', 'Ice Storm', 'Scream', 'Liar Liar', 'Big Night', 'Chasing Amy', 'Evita', 'Lone Star', 'Everyone Says I Love You', 'Conspiracy Theory', 'Rock', 'Trainspotting', 'Contact', 'People vs. Larry Flynt', 'Volcano', 'Jerry Maguire', \"Ulee's Gold\"]",
         "Contact",
         "['Godfather', 'Star Wars', 'Dead Man Walking', 'Postino, Il', 'Close Shave', 'Return of the Jedi', 'Beautiful Thing', 'English Patient']"
        ],
        [
         "28",
         "601",
         "['Long Kiss Goodnight', 'Twelve Monkeys', \"Dante's Peak\", 'Leaving Las Vegas', 'Truth About Cats & Dogs', 'Star Trek: First Contact', 'Titanic', 'Fargo', 'Contact', 'Twister', 'Conspiracy Theory', 'Money Talks', 'Courage Under Fire', 'Chasing Amy', 'Mission: Impossible', 'Scream', 'River Wild', 'Ransom', 'Game']",
         "Twister",
         "['Anastasia', 'Alien: Resurrection', 'Fly Away Home', 'Liar Liar', 'Spawn', 'Soul Food', 'Scream 2', 'Air Force One']"
        ],
        [
         "29",
         "716",
         "['Twister', 'Ice Storm', 'Lone Star', 'Heat', 'People vs. Larry Flynt', 'Cape Fear', 'Kingpin', 'Godfather', 'Frighteners', 'Money Talks', 'Toy Story', 'Men in Black', 'Leaving Las Vegas', 'Kiss the Girls', 'Con Air', 'Extreme Measures', 'That Thing You Do!', 'Return of the Jedi', 'Nutty Professor']",
         "Godfather",
         "['Game', 'Edge', \"Ulee's Gold\", 'English Patient', 'G.I. Jane', 'In the Company of Men', 'Boogie Nights', 'L.A. Confidential']"
        ],
        [
         "30",
         "610",
         "['Conspiracy Theory', 'Scream 2', 'Murder at 1600', 'Rainmaker', 'Cop Land', 'Evita', 'G.I. Jane', 'Alien: Resurrection', 'Edge', 'Saint', 'Gattaca', 'Money Talks', 'Kiss the Girls', 'Starship Troopers', 'Big Lebowski', 'Rosewood', 'Fallen', 'Liar Liar', 'Contact']",
         "Fallen",
         "['Tomorrow Never Dies', 'L.A. Confidential', 'Wings of the Dove', 'Scream', 'Apostle', 'Game', \"Ulee's Gold\", 'Full Monty']"
        ]
       ],
       "shape": {
        "columns": 4,
        "rows": 31
       }
      },
      "text/html": [
       "<div>\n",
       "<style scoped>\n",
       "    .dataframe tbody tr th:only-of-type {\n",
       "        vertical-align: middle;\n",
       "    }\n",
       "\n",
       "    .dataframe tbody tr th {\n",
       "        vertical-align: top;\n",
       "    }\n",
       "\n",
       "    .dataframe thead th {\n",
       "        text-align: right;\n",
       "    }\n",
       "</style>\n",
       "<table border=\"1\" class=\"dataframe\">\n",
       "  <thead>\n",
       "    <tr style=\"text-align: right;\">\n",
       "      <th></th>\n",
       "      <th>user_id</th>\n",
       "      <th>candidate_items</th>\n",
       "      <th>ground_truth</th>\n",
       "      <th>watched_movies</th>\n",
       "    </tr>\n",
       "  </thead>\n",
       "  <tbody>\n",
       "    <tr>\n",
       "      <th>0</th>\n",
       "      <td>399</td>\n",
       "      <td>[Murder at 1600, Desperate Measures, Amistad, ...</td>\n",
       "      <td>Dante's Peak</td>\n",
       "      <td>[Scream, Titanic, Contact, Jackal, Full Monty,...</td>\n",
       "    </tr>\n",
       "    <tr>\n",
       "      <th>1</th>\n",
       "      <td>237</td>\n",
       "      <td>[Mars Attacks!, Eraser, Rock, Leaving Las Vega...</td>\n",
       "      <td>First Wives Club</td>\n",
       "      <td>[Men in Black, Phenomenon, In &amp; Out, Air Force...</td>\n",
       "    </tr>\n",
       "    <tr>\n",
       "      <th>2</th>\n",
       "      <td>569</td>\n",
       "      <td>[Volcano, Rosewood, Full Monty, Edge, Murder a...</td>\n",
       "      <td>Peacemaker</td>\n",
       "      <td>[Seven Years in Tibet, Scream, Starship Troope...</td>\n",
       "    </tr>\n",
       "    <tr>\n",
       "      <th>3</th>\n",
       "      <td>251</td>\n",
       "      <td>[Ice Storm, Cold Comfort Farm, Scream, Mission...</td>\n",
       "      <td>Lone Star</td>\n",
       "      <td>[Ridicule, Jane Eyre, Sense and Sensibility, T...</td>\n",
       "    </tr>\n",
       "    <tr>\n",
       "      <th>4</th>\n",
       "      <td>389</td>\n",
       "      <td>[Ulee's Gold, Leaving Las Vegas, Chasing Amy, ...</td>\n",
       "      <td>Mighty Aphrodite</td>\n",
       "      <td>[Desperate Measures, Anna Karenina, Red Corner...</td>\n",
       "    </tr>\n",
       "    <tr>\n",
       "      <th>5</th>\n",
       "      <td>613</td>\n",
       "      <td>[Mr. Holland's Opus, Chasing Amy, L.A. Confide...</td>\n",
       "      <td>Nutty Professor</td>\n",
       "      <td>[People vs. Larry Flynt, Postino, Il, Toy Stor...</td>\n",
       "    </tr>\n",
       "    <tr>\n",
       "      <th>6</th>\n",
       "      <td>425</td>\n",
       "      <td>[Return of the Jedi, Get Shorty, Apollo 13, Te...</td>\n",
       "      <td>Duck Soup</td>\n",
       "      <td>[Paths of Glory, Father of the Bride, Quiet Ma...</td>\n",
       "    </tr>\n",
       "    <tr>\n",
       "      <th>7</th>\n",
       "      <td>383</td>\n",
       "      <td>[Seven Years in Tibet, Scream, G.I. Jane, Boog...</td>\n",
       "      <td>Evita</td>\n",
       "      <td>[Alien: Resurrection, Contact, Titanic, Englis...</td>\n",
       "    </tr>\n",
       "    <tr>\n",
       "      <th>8</th>\n",
       "      <td>650</td>\n",
       "      <td>[In &amp; Out, Air Force One, Scream, Big Night, S...</td>\n",
       "      <td>In &amp; Out</td>\n",
       "      <td>[Cold Comfort Farm, Secrets &amp; Lies, Godfather,...</td>\n",
       "    </tr>\n",
       "    <tr>\n",
       "      <th>9</th>\n",
       "      <td>890</td>\n",
       "      <td>[Toy Story, Liar Liar, Courage Under Fire, Sta...</td>\n",
       "      <td>Courage Under Fire</td>\n",
       "      <td>[Heaven's Prisoners, Broken Arrow, Rock, Godfa...</td>\n",
       "    </tr>\n",
       "    <tr>\n",
       "      <th>10</th>\n",
       "      <td>334</td>\n",
       "      <td>[Tomorrow Never Dies, Gattaca, Liar Liar, In &amp;...</td>\n",
       "      <td>Volcano</td>\n",
       "      <td>[Scream, Conspiracy Theory, Ice Storm, Boogie ...</td>\n",
       "    </tr>\n",
       "    <tr>\n",
       "      <th>11</th>\n",
       "      <td>102</td>\n",
       "      <td>[Get Shorty, Cape Fear, Face/Off, Twelve Monke...</td>\n",
       "      <td>Back to the Future</td>\n",
       "      <td>[Rock, Gandhi, Fifth Element, Men in Black, Re...</td>\n",
       "    </tr>\n",
       "    <tr>\n",
       "      <th>12</th>\n",
       "      <td>485</td>\n",
       "      <td>[Dante's Peak, Titanic, Twister, Cape Fear, G....</td>\n",
       "      <td>Fargo</td>\n",
       "      <td>[Washington Square, In the Company of Men, L.A...</td>\n",
       "    </tr>\n",
       "    <tr>\n",
       "      <th>13</th>\n",
       "      <td>271</td>\n",
       "      <td>[Stand by Me, Dead Poets Society, GoodFellas, ...</td>\n",
       "      <td>Usual Suspects</td>\n",
       "      <td>[Alien, Patton, One Flew Over the Cuckoo's Nes...</td>\n",
       "    </tr>\n",
       "    <tr>\n",
       "      <th>14</th>\n",
       "      <td>398</td>\n",
       "      <td>[Executive Decision, Birdcage, Hudsucker Proxy...</td>\n",
       "      <td>GoldenEye</td>\n",
       "      <td>[Evita, Chasing Amy, Devil's Advocate, Kiss th...</td>\n",
       "    </tr>\n",
       "    <tr>\n",
       "      <th>15</th>\n",
       "      <td>930</td>\n",
       "      <td>[Toy Story, Everyone Says I Love You, Scream, ...</td>\n",
       "      <td>Apt Pupil</td>\n",
       "      <td>[Wag the Dog, Kundun, Apostle, Ulee's Gold, L....</td>\n",
       "    </tr>\n",
       "    <tr>\n",
       "      <th>16</th>\n",
       "      <td>819</td>\n",
       "      <td>[Money Talks, Liar Liar, Good Will Hunting, Pe...</td>\n",
       "      <td>Alien: Resurrection</td>\n",
       "      <td>[Scream, L.A. Confidential, Anastasia, Game, C...</td>\n",
       "    </tr>\n",
       "    <tr>\n",
       "      <th>17</th>\n",
       "      <td>445</td>\n",
       "      <td>[Mimic, In the Company of Men, Game, Edge, Fly...</td>\n",
       "      <td>Ulee's Gold</td>\n",
       "      <td>[Gattaca, In &amp; Out, Rosewood, Scream, Telling ...</td>\n",
       "    </tr>\n",
       "    <tr>\n",
       "      <th>18</th>\n",
       "      <td>427</td>\n",
       "      <td>[Jackie Brown, Gattaca, Jackal, Starship Troop...</td>\n",
       "      <td>Starship Troopers</td>\n",
       "      <td>[Spice World, L.A. Confidential, Liar Liar, Li...</td>\n",
       "    </tr>\n",
       "    <tr>\n",
       "      <th>19</th>\n",
       "      <td>589</td>\n",
       "      <td>[Sense and Sensibility, Mission: Impossible, S...</td>\n",
       "      <td>Sense and Sensibility</td>\n",
       "      <td>[Postino, Il, Fargo, Michael Collins, Lone Sta...</td>\n",
       "    </tr>\n",
       "    <tr>\n",
       "      <th>20</th>\n",
       "      <td>315</td>\n",
       "      <td>[African Queen, GoodFellas, Young Frankenstein...</td>\n",
       "      <td>Amadeus</td>\n",
       "      <td>[Volcano, Evita, Fly Away Home, Dante's Peak, ...</td>\n",
       "    </tr>\n",
       "    <tr>\n",
       "      <th>21</th>\n",
       "      <td>66</td>\n",
       "      <td>[Star Trek: First Contact, Ransom, Chasing Amy...</td>\n",
       "      <td>Twelve Monkeys</td>\n",
       "      <td>[Live Nude Girls, Long Kiss Goodnight, Frighte...</td>\n",
       "    </tr>\n",
       "    <tr>\n",
       "      <th>22</th>\n",
       "      <td>866</td>\n",
       "      <td>[Sound of Music, Sabrina, Jaws, Clockwork Oran...</td>\n",
       "      <td>Fugitive</td>\n",
       "      <td>[Evita, Conspiracy Theory, Liar Liar, Gattaca,...</td>\n",
       "    </tr>\n",
       "    <tr>\n",
       "      <th>23</th>\n",
       "      <td>179</td>\n",
       "      <td>[Raising Arizona, American President, Seven (S...</td>\n",
       "      <td>Silence of the Lambs</td>\n",
       "      <td>[Blues Brothers, Stand by Me, Back to the Futu...</td>\n",
       "    </tr>\n",
       "    <tr>\n",
       "      <th>24</th>\n",
       "      <td>231</td>\n",
       "      <td>[Raising Arizona, Psycho, Chinatown, When Harr...</td>\n",
       "      <td>Rock</td>\n",
       "      <td>[Return of the Jedi, Star Wars, Toy Story, Eng...</td>\n",
       "    </tr>\n",
       "    <tr>\n",
       "      <th>25</th>\n",
       "      <td>809</td>\n",
       "      <td>[Ice Storm, Good Will Hunting, L.A. Confidenti...</td>\n",
       "      <td>G.I. Jane</td>\n",
       "      <td>[Evita, Picture Perfect, Money Talks, Jungle2J...</td>\n",
       "    </tr>\n",
       "    <tr>\n",
       "      <th>26</th>\n",
       "      <td>712</td>\n",
       "      <td>[Scream, Ice Storm, Ulee's Gold, Kiss the Girl...</td>\n",
       "      <td>Wag the Dog</td>\n",
       "      <td>[Apt Pupil, Washington Square, Air Force One, ...</td>\n",
       "    </tr>\n",
       "    <tr>\n",
       "      <th>27</th>\n",
       "      <td>208</td>\n",
       "      <td>[Air Force One, Twelve Monkeys, L.A. Confident...</td>\n",
       "      <td>Contact</td>\n",
       "      <td>[Godfather, Star Wars, Dead Man Walking, Posti...</td>\n",
       "    </tr>\n",
       "    <tr>\n",
       "      <th>28</th>\n",
       "      <td>601</td>\n",
       "      <td>[Long Kiss Goodnight, Twelve Monkeys, Dante's ...</td>\n",
       "      <td>Twister</td>\n",
       "      <td>[Anastasia, Alien: Resurrection, Fly Away Home...</td>\n",
       "    </tr>\n",
       "    <tr>\n",
       "      <th>29</th>\n",
       "      <td>716</td>\n",
       "      <td>[Twister, Ice Storm, Lone Star, Heat, People v...</td>\n",
       "      <td>Godfather</td>\n",
       "      <td>[Game, Edge, Ulee's Gold, English Patient, G.I...</td>\n",
       "    </tr>\n",
       "    <tr>\n",
       "      <th>30</th>\n",
       "      <td>610</td>\n",
       "      <td>[Conspiracy Theory, Scream 2, Murder at 1600, ...</td>\n",
       "      <td>Fallen</td>\n",
       "      <td>[Tomorrow Never Dies, L.A. Confidential, Wings...</td>\n",
       "    </tr>\n",
       "  </tbody>\n",
       "</table>\n",
       "</div>"
      ],
      "text/plain": [
       "    user_id                                    candidate_items  \\\n",
       "0       399  [Murder at 1600, Desperate Measures, Amistad, ...   \n",
       "1       237  [Mars Attacks!, Eraser, Rock, Leaving Las Vega...   \n",
       "2       569  [Volcano, Rosewood, Full Monty, Edge, Murder a...   \n",
       "3       251  [Ice Storm, Cold Comfort Farm, Scream, Mission...   \n",
       "4       389  [Ulee's Gold, Leaving Las Vegas, Chasing Amy, ...   \n",
       "5       613  [Mr. Holland's Opus, Chasing Amy, L.A. Confide...   \n",
       "6       425  [Return of the Jedi, Get Shorty, Apollo 13, Te...   \n",
       "7       383  [Seven Years in Tibet, Scream, G.I. Jane, Boog...   \n",
       "8       650  [In & Out, Air Force One, Scream, Big Night, S...   \n",
       "9       890  [Toy Story, Liar Liar, Courage Under Fire, Sta...   \n",
       "10      334  [Tomorrow Never Dies, Gattaca, Liar Liar, In &...   \n",
       "11      102  [Get Shorty, Cape Fear, Face/Off, Twelve Monke...   \n",
       "12      485  [Dante's Peak, Titanic, Twister, Cape Fear, G....   \n",
       "13      271  [Stand by Me, Dead Poets Society, GoodFellas, ...   \n",
       "14      398  [Executive Decision, Birdcage, Hudsucker Proxy...   \n",
       "15      930  [Toy Story, Everyone Says I Love You, Scream, ...   \n",
       "16      819  [Money Talks, Liar Liar, Good Will Hunting, Pe...   \n",
       "17      445  [Mimic, In the Company of Men, Game, Edge, Fly...   \n",
       "18      427  [Jackie Brown, Gattaca, Jackal, Starship Troop...   \n",
       "19      589  [Sense and Sensibility, Mission: Impossible, S...   \n",
       "20      315  [African Queen, GoodFellas, Young Frankenstein...   \n",
       "21       66  [Star Trek: First Contact, Ransom, Chasing Amy...   \n",
       "22      866  [Sound of Music, Sabrina, Jaws, Clockwork Oran...   \n",
       "23      179  [Raising Arizona, American President, Seven (S...   \n",
       "24      231  [Raising Arizona, Psycho, Chinatown, When Harr...   \n",
       "25      809  [Ice Storm, Good Will Hunting, L.A. Confidenti...   \n",
       "26      712  [Scream, Ice Storm, Ulee's Gold, Kiss the Girl...   \n",
       "27      208  [Air Force One, Twelve Monkeys, L.A. Confident...   \n",
       "28      601  [Long Kiss Goodnight, Twelve Monkeys, Dante's ...   \n",
       "29      716  [Twister, Ice Storm, Lone Star, Heat, People v...   \n",
       "30      610  [Conspiracy Theory, Scream 2, Murder at 1600, ...   \n",
       "\n",
       "             ground_truth                                     watched_movies  \n",
       "0            Dante's Peak  [Scream, Titanic, Contact, Jackal, Full Monty,...  \n",
       "1        First Wives Club  [Men in Black, Phenomenon, In & Out, Air Force...  \n",
       "2              Peacemaker  [Seven Years in Tibet, Scream, Starship Troope...  \n",
       "3               Lone Star  [Ridicule, Jane Eyre, Sense and Sensibility, T...  \n",
       "4        Mighty Aphrodite  [Desperate Measures, Anna Karenina, Red Corner...  \n",
       "5         Nutty Professor  [People vs. Larry Flynt, Postino, Il, Toy Stor...  \n",
       "6               Duck Soup  [Paths of Glory, Father of the Bride, Quiet Ma...  \n",
       "7                   Evita  [Alien: Resurrection, Contact, Titanic, Englis...  \n",
       "8                In & Out  [Cold Comfort Farm, Secrets & Lies, Godfather,...  \n",
       "9      Courage Under Fire  [Heaven's Prisoners, Broken Arrow, Rock, Godfa...  \n",
       "10                Volcano  [Scream, Conspiracy Theory, Ice Storm, Boogie ...  \n",
       "11     Back to the Future  [Rock, Gandhi, Fifth Element, Men in Black, Re...  \n",
       "12                  Fargo  [Washington Square, In the Company of Men, L.A...  \n",
       "13         Usual Suspects  [Alien, Patton, One Flew Over the Cuckoo's Nes...  \n",
       "14              GoldenEye  [Evita, Chasing Amy, Devil's Advocate, Kiss th...  \n",
       "15              Apt Pupil  [Wag the Dog, Kundun, Apostle, Ulee's Gold, L....  \n",
       "16    Alien: Resurrection  [Scream, L.A. Confidential, Anastasia, Game, C...  \n",
       "17            Ulee's Gold  [Gattaca, In & Out, Rosewood, Scream, Telling ...  \n",
       "18      Starship Troopers  [Spice World, L.A. Confidential, Liar Liar, Li...  \n",
       "19  Sense and Sensibility  [Postino, Il, Fargo, Michael Collins, Lone Sta...  \n",
       "20                Amadeus  [Volcano, Evita, Fly Away Home, Dante's Peak, ...  \n",
       "21         Twelve Monkeys  [Live Nude Girls, Long Kiss Goodnight, Frighte...  \n",
       "22               Fugitive  [Evita, Conspiracy Theory, Liar Liar, Gattaca,...  \n",
       "23   Silence of the Lambs  [Blues Brothers, Stand by Me, Back to the Futu...  \n",
       "24                   Rock  [Return of the Jedi, Star Wars, Toy Story, Eng...  \n",
       "25              G.I. Jane  [Evita, Picture Perfect, Money Talks, Jungle2J...  \n",
       "26            Wag the Dog  [Apt Pupil, Washington Square, Air Force One, ...  \n",
       "27                Contact  [Godfather, Star Wars, Dead Man Walking, Posti...  \n",
       "28                Twister  [Anastasia, Alien: Resurrection, Fly Away Home...  \n",
       "29              Godfather  [Game, Edge, Ulee's Gold, English Patient, G.I...  \n",
       "30                 Fallen  [Tomorrow Never Dies, L.A. Confidential, Wings...  "
      ]
     },
     "execution_count": 6,
     "metadata": {},
     "output_type": "execute_result"
    }
   ],
   "source": [
    "test_dataset = []\n",
    "\n",
    "for id in test_ids:\n",
    "    filtered = df[df['user_id'] == id]\n",
    "    if not filtered.empty:\n",
    "        candidate_items = filtered['candidate_items'].iloc[0]\n",
    "        ground_truth = filtered['ground_truth'].iloc[0]\n",
    "        watched_movies = filtered['watched_movies'].iloc[0]\n",
    "    else:\n",
    "        continue \n",
    "    \n",
    "    test_dataset.append({\n",
    "        'user_id': id,\n",
    "        'candidate_items': candidate_items,\n",
    "        'ground_truth': ground_truth,\n",
    "        'watched_movies': watched_movies\n",
    "    })\n",
    "df_test = pd.DataFrame(test_dataset)\n",
    "df_test.to_pickle('Data/ML100K_test.pkl')\n",
    "df_test"
   ]
  }
 ],
 "metadata": {
  "kernelspec": {
   "display_name": ".venv",
   "language": "python",
   "name": "python3"
  },
  "language_info": {
   "codemirror_mode": {
    "name": "ipython",
    "version": 3
   },
   "file_extension": ".py",
   "mimetype": "text/x-python",
   "name": "python",
   "nbconvert_exporter": "python",
   "pygments_lexer": "ipython3",
   "version": "3.12.3"
  }
 },
 "nbformat": 4,
 "nbformat_minor": 2
}
